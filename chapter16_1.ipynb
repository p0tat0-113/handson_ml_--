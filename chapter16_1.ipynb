{
 "cells": [
  {
   "metadata": {},
   "cell_type": "markdown",
   "source": "# 허깅페이스 트랜스포머스 라이브러리",
   "id": "2e719320c5757fe8"
  },
  {
   "cell_type": "code",
   "id": "initial_id",
   "metadata": {
    "collapsed": true,
    "ExecuteTime": {
     "end_time": "2025-02-22T14:55:19.033010Z",
     "start_time": "2025-02-22T14:55:19.026578Z"
    }
   },
   "source": [
    "# from transformers import pipeline\n",
    "#\n",
    "# # 사전훈련된 모델을 가져와서 감성 분석\n",
    "# classifier = pipeline(\"sentiment-analysis\")"
   ],
   "outputs": [],
   "execution_count": 173
  },
  {
   "metadata": {
    "ExecuteTime": {
     "end_time": "2025-02-22T14:55:19.052434Z",
     "start_time": "2025-02-22T14:55:19.050663Z"
    }
   },
   "cell_type": "code",
   "source": [
    "# result = classifier(\"I love you\")\n",
    "# result"
   ],
   "id": "c2544fcfaef1b000",
   "outputs": [],
   "execution_count": 174
  },
  {
   "metadata": {},
   "cell_type": "markdown",
   "source": "# 트랜스포머 구현",
   "id": "d7d4e4518526dde3"
  },
  {
   "metadata": {},
   "cell_type": "markdown",
   "source": "그냥 씩씩하게 트랜스포머 한 번 구현하고 훈련시켜 보자. 그냥 내가 코드 짤 수 있는 대로 투박하게 작성해보자.",
   "id": "9fe2645d1cef0590"
  },
  {
   "metadata": {
    "ExecuteTime": {
     "end_time": "2025-02-22T14:55:19.072106Z",
     "start_time": "2025-02-22T14:55:19.069970Z"
    }
   },
   "cell_type": "code",
   "source": [
    "import tensorflow as tf\n",
    "import numpy as np"
   ],
   "id": "b0809f8c409a952",
   "outputs": [],
   "execution_count": 175
  },
  {
   "metadata": {},
   "cell_type": "markdown",
   "source": "## Positional Encoding",
   "id": "a7d8f55256f4849"
  },
  {
   "metadata": {},
   "cell_type": "markdown",
   "source": [
    "어텐션 메커니즘은 그 특성상 RNN과 달리 시퀀스의 순서를 고려하지 않는다. 그래서 단어 임베딩에 시퀀스의 순서에 대한 정보를 넣어줘야 한다.\n",
    "\n",
    "단어 임베딩과 같은 크기의 위치 인코딩 층을 만들어서 간단하게 더해주기만 하면 된다.\n",
    "\n",
    "학습 가능한 위치 임베딩 층을 사용하는 경우도 있고, 사인, 코사인 주기함수를 이용한 위치 임베딩 층을 사용하는 경우도 있는데, 일단 둘 다 구현해보자.\n",
    "\n",
    "파라미터 수를 줄이려면 주기함수를 이용한 위치 임베딩 층을 쓰는게 좋을 듯. 지금은 내 m4맥에서 훈련해야 해서..."
   ],
   "id": "4e8a2cfd0e50517"
  },
  {
   "metadata": {},
   "cell_type": "markdown",
   "source": [
    "1. Sinusoidal Positional Encoding\n",
    "\n",
    "원래 \"Attention is All You Need\" 논문에서는 고정된 sinusoidal 함수를 사용하여 각 위치를 인코딩했습니다.\n",
    "\n",
    "각 위치 pos와 임베딩 차원 i에 대해 다음과 같은 식을 사용합니다:\n",
    "\n",
    " <img src=\"image/Screenshot 2025-02-20 at 7.34.51 PM.png\" width=\"300\"/>\n",
    "\n",
    "<img src=\"image/sinusoidal.png\" width=\"300\"/>\n",
    "\n",
    "이 방식의 장점은 다음과 같습니다:\n",
    "- 주기성 및 다양성: 서로 다른 주파수의 사인과 코사인 함수 조합으로 각 위치마다 고유의 패턴을 생성합니다.\n",
    "- 상대적 위치 정보: 사인과 코사인 함수의 선형적 성질 덕분에, 모델은 두 위치 간의 상대적 거리를 어느 정도 추론할 수 있습니다. 예를 들어,\n",
    "pos+k와 pos 사이의 차이는 주기적인 성질을 유지하므로, 모델이 문맥 내에서 단어 간의 관계를 파악하는 데 도움을 줍니다.\n",
    "- 일반화: 고정된 함수를 사용하기 때문에 학습 과정에서 별도의 순서 정보를 위한 파라미터를 학습할 필요가 없으며, 입력 길이가 학습 시 사용된 최대 길이를 초과해도 일반화할 수 있습니다.\n",
    "\n",
    "2. 학습 가능한 Positional Embedding\n",
    "\n",
    "또 다른 방법으로, 위치마다 고유의 임베딩 벡터를 학습 가능한 파라미터로 두어 단어 임베딩과 더합니다. 이 경우:\n",
    "- 직접적인 순서 부여: 각 위치에 대해 독립적인 벡터를 학습함으로써, 모델은 입력 시퀀스 내에서 각 단어의 위치 정보를 인위적으로 부여받습니다.\n",
    "- 유연성: 데이터에 맞춰 순서 정보를 더 최적화할 수 있지만, 고정된 방법에 비해 일반화 능력이 떨어질 수 있습니다.\n",
    "\n",
    "이 방식의 경우 보통 모델 설계 시 정해진 최대 시퀀스 길이에 맞춰 임베딩 벡터를 미리 정의합니다. 예를 들어, 최대 시퀀스 길이를 512로 설정했다면, 512개의 위치마다 각각의 학습 가능한 벡터가 존재하게 됩니다\n",
    "따라서, 입력 시퀀스가 이 최대 길이를 초과하면, 추가적인 위치에 대한 임베딩이 없기 때문에 에러가 발생하거나 모델이 기대하는 동작을 하지 않게 됩니다.\n",
    "\n",
    "결합 방식\n",
    "\n",
    "두 방식 모두 단어 임베딩과 위치 임베딩을 단순히 요소별 덧셈(element-wise addition)으로 결합합니다. 이렇게 함으로써, 임베딩 벡터는 단어의 의미 정보와 위치 정보를 동시에 포함하게 되고, 이후의 self-attention 계산에서 순서 정보를 반영할 수 있게 됩니다. 특히 self-attention 메커니즘은 입력 토큰 간의 내적(dot-product)을 통해 상관관계를 파악하는데, 여기에 위치 정보가 더해짐으로써 단어 간의 상대적 순서나 거리를 고려할 수 있게 됩니다."
   ],
   "id": "b6f4c1703ca1b140"
  },
  {
   "metadata": {},
   "cell_type": "markdown",
   "source": "### Sinusoidal Positional Encoding",
   "id": "63551c35c308fb5d"
  },
  {
   "metadata": {},
   "cell_type": "markdown",
   "source": "학습되는 위치 임베딩과 동일한 성능을 내면서 모델에 파라미터를 추가하지 않고, 임의의 긴 문장으로 확장할 수 있다.",
   "id": "47ed513d3abadb02"
  },
  {
   "metadata": {
    "ExecuteTime": {
     "end_time": "2025-02-22T14:55:19.088205Z",
     "start_time": "2025-02-22T14:55:19.083015Z"
    }
   },
   "cell_type": "code",
   "source": [
    "import math\n",
    "\n",
    "class SinusoidalPositionalEncoding(tf.keras.layers.Layer):\n",
    "    '''\n",
    "    생성자 함수에서 `모델의 최대 입력 시퀀스` X `임베딩 차원` 크기의 위치 인코딩 행렬을 미리 계산한다.\n",
    "    이러면 훈련 가능한 위치 인코딩 처럼 최대 시퀀스 길이가 미리 딱 정해져 있는 꼴이긴 한데, 효율성을 위해서 생성자에서 딱 한 번만 계산하는게 좋음.\n",
    "    '''\n",
    "    def __init__(self, max_seq_len, embed_size, **kwargs):\n",
    "        super().__init__(**kwargs)\n",
    "        \n",
    "        # 임베딩 차원히 홀수면 예외를 발생시킴. 왜지?\n",
    "        if embed_size % 2 != 0:\n",
    "            raise ValueError(\"embed_size must be even.\")\n",
    "\n",
    "        # 이제 행렬을 만들고, 위 식대로 값을 채워넣으면 됨.\n",
    "        pos_emb = np.empty((1, max_seq_len, embed_size)) # 생각해보니까 3차원 배치가 입력으로 들어오기 때문에 이렇게 3차원 행렬로 만들어줘야 해야함.\n",
    "\n",
    "        for pos in range(max_seq_len):\n",
    "            for i in range(0, embed_size, 2): # 짝수\n",
    "                pos_emb[0][pos][i] = math.sin(pos / (10000 ** (i / embed_size)))\n",
    "\n",
    "        for pos in range(max_seq_len):\n",
    "            for i in range(1, embed_size, 2): # 홀수\n",
    "                pos_emb[0][pos][i] = math.cos(pos / (10000 ** ((i-1) / embed_size))) # 홀수 부분 잘못된 계산식 수정\n",
    "\n",
    "        self.pos_emb = tf.constant(pos_emb) # 텐서로 변환\n",
    "        self.pos_emb = tf.cast(self.pos_emb, dtype=tf.float32) # 명시적으로 float32로 변환. 입력 텐서는 float32인데, 이 층에서는 pos_emb를 float_64로 만들고 있었다.\n",
    "\n",
    "        self.support_masking = True # 입력 마스크를 다음 층으로 전파하게 함.\n",
    "        # print(pos_emb)\n",
    "\n",
    "    def call(self, inputs):\n",
    "        batch_max_seq_len = tf.shape(inputs)[1] # 인코더로 입력된 시퀀스의 길이를 동적으로 계산한다. [batch_size, sequence_length, embed_size]\n",
    "        return inputs + self.pos_emb[:, :batch_max_seq_len]"
   ],
   "id": "7e7ab2f84a13af0d",
   "outputs": [],
   "execution_count": 176
  },
  {
   "metadata": {
    "ExecuteTime": {
     "end_time": "2025-02-22T14:55:19.112252Z",
     "start_time": "2025-02-22T14:55:19.103071Z"
    }
   },
   "cell_type": "code",
   "source": [
    "layer = SinusoidalPositionalEncoding(5,10)\n",
    "print(layer.pos_emb)"
   ],
   "id": "4b69238d13cf9265",
   "outputs": [
    {
     "name": "stdout",
     "output_type": "stream",
     "text": [
      "tf.Tensor(\n",
      "[[[ 0.0000000e+00  1.0000000e+00  0.0000000e+00  1.0000000e+00\n",
      "    0.0000000e+00  1.0000000e+00  0.0000000e+00  1.0000000e+00\n",
      "    0.0000000e+00  1.0000000e+00]\n",
      "  [ 8.4147096e-01  5.4030228e-01  1.5782665e-01  9.8746681e-01\n",
      "    2.5116222e-02  9.9968451e-01  3.9810613e-03  9.9999207e-01\n",
      "    6.3095731e-04  9.9999982e-01]\n",
      "  [ 9.0929741e-01 -4.1614684e-01  3.1169716e-01  9.5018148e-01\n",
      "    5.0216600e-02  9.9873835e-01  7.9620592e-03  9.9996829e-01\n",
      "    1.2619144e-03  9.9999923e-01]\n",
      "  [ 1.4112000e-01 -9.8999250e-01  4.5775455e-01  8.8907862e-01\n",
      "    7.5285293e-02  9.9716204e-01  1.1942931e-02  9.9992865e-01\n",
      "    1.8928709e-03  9.9999821e-01]\n",
      "  [-7.5680250e-01 -6.5364361e-01  5.9233773e-01  8.0568975e-01\n",
      "    1.0030649e-01  9.9495661e-01  1.5923614e-02  9.9987322e-01\n",
      "    2.5238267e-03  9.9999684e-01]]], shape=(1, 5, 10), dtype=float32)\n"
     ]
    }
   ],
   "execution_count": 177
  },
  {
   "metadata": {},
   "cell_type": "markdown",
   "source": "대강 만들었는데 잘 작동하는 것 같다... 아마도...?",
   "id": "b51d6010f21b2dcf"
  },
  {
   "metadata": {},
   "cell_type": "markdown",
   "source": "### 학습 가능한 Positional Embedding",
   "id": "9eabe09b942e6e87"
  },
  {
   "metadata": {},
   "cell_type": "markdown",
   "source": "이건 진짜 별거 없다. 그냥 '최대 시퀀스 길이' X '임베딩 차원' 크기의 Embedding 레이어 하나 생성해서 입력으로 들어온 임베딩에 더해주기만 하면 됨. 알아서 훈련되면서 각 위치에 대한 임베딩 표현을 학습하게 될 것이다.",
   "id": "d9cfde9625f491b5"
  },
  {
   "metadata": {
    "ExecuteTime": {
     "end_time": "2025-02-22T14:55:19.127494Z",
     "start_time": "2025-02-22T14:55:19.125064Z"
    }
   },
   "cell_type": "code",
   "source": [
    "max_seq_len = 50 # 예시\n",
    "embed_size = 128\n",
    "\n",
    "layer = tf.keras.layers.Embedding(max_seq_len, embed_size)"
   ],
   "id": "c4854bb211f6e18b",
   "outputs": [],
   "execution_count": 178
  },
  {
   "metadata": {},
   "cell_type": "markdown",
   "source": "## 마스킹",
   "id": "d97b74581d0ff2ac"
  },
  {
   "metadata": {},
   "cell_type": "markdown",
   "source": [
    "인코더 레이어까지 다 구현해 놓은 상태에서 추가함.\n",
    "\n",
    "패딩 토큰 마스킹에 대한 고려가 필요하다. TextVectorization층이 문장을 토큰ID 시퀀스로 변환할 때 시퀀스의 길이가 서로 다르기 때문에 짧은 시퀀스를 패딩 토큰(ID 0)으로 패딩해서 배치에서 가장 긴 시퀀스만큼 길게 만든다. 트랜스포머에서 패딩 마스크는 매우 중요하다. 패딩 토큰은 실제 정보가 아닌 단순 채움값이기 때문에 어텐션 연산 시에 이들에 대한 영향을 제거해야 한다. 모델이 패팅 토큰을 무시하게 만드는 것은 케라스에서 간단한데 Embedding층을 만들 때 `mask_zero=True`매개변수를 추가하면 된다. 이렇게 하면 이어지는 모든 층에서 패딩 토큰을 무시한다.\n",
    "\n",
    "```\n",
    "구체적으로 Embedding 층이 tf.math.not_equal(inputs, 0)과 같은 \"마스크 텐서\"를 만듭니다. 이 텐서는 입력과 크기가 같은 \"불리언 텐서\"입니다. ID가 0인 위치는 False이고 나머지는 True입니다. 이 마스크 텐서는 모델에 의해 다음 층에 자동으로 전파됩니다. 해당 층의 call() 메서드에 mask 매개변수가 있으면 자동으로 마스크를 받습니다. 이를 통해 층이 적절한 타임 스텝을 무시할 수 있습니다. 층마다 마스크 텐서를 다르게 다룰 수 있지만 일반적으로 마스킹된 타임 스텝을 무시합니다. <- RNN부분에서 설명하는 것을 가져와서 타임 스텝에 대한 얘기가 있음.\n",
    "```\n",
    "\n",
    "`supports_masking=True`이면 마스크가 자동으로 다음 층으로 전파된다.\n",
    "\n",
    "마스킹을 지원하는 사용자 정의 층을 구성하려면 `call()`메서드에 `mask`매개변수를 추가하고, 이 메서드에서 마스크를 사용해야 한다. 또한 마스크를 다음 층으로 전파해야 하는 경우, 생성자에서 `self.supports_masking=True`로 지정하면 된다.\n",
    "\n",
    "그래서 지금 뭘 바꿔줘야 하냐면 어텐션 연산하는 부분을 수정해줘야 한다. 디코더에서 미래에 대한 정보까지 포함해서 어텐션 연산을 하는 것을 막기 위해서 마스크드 셀프 어텐션을 하는 것과 똑같이 점곱 결과에 `극단적인 음수값`을 주는 식으로 구현하면 된다. 그러면 Softmax 함수를 통과했을 때 그 부분의 energy는 0에 수렴하게 된다."
   ],
   "id": "b4ed00fb9ad9d608"
  },
  {
   "metadata": {},
   "cell_type": "markdown",
   "source": "## Scaled Dot-Product Attention",
   "id": "643130da9b9beda2"
  },
  {
   "metadata": {},
   "cell_type": "markdown",
   "source": [
    "<img src=\"https://wikidocs.net/images/page/159310/mha_img_original.png\" width=\"300\"/>\n",
    "\n",
    "셀프 어텐션 층을 구현해보자. 실제로 구현하려니까 좀 막막하네. 일단 실제로는 입력으로 여러 개의 시퀀스들이 묶인 배치 형태의 3차원 텐서가 들어오겠지....? 그런데 내가 이제까지 본 자료들에서는 하나같이 다 하나의 시퀀스만 가지고 연산을 하던데 이건 어떻게 해결해야 하지?\n",
    "\n",
    "```\n",
    "맞습니다. 실제 구현에서는 입력이 (batch_size, seq_len, embedding_dim)과 같이 3차원 텐서로 들어옵니다. 많은 자료들이 단일 시퀀스(예: (seq_len, embedding_dim))로 예제를 보여주는 이유는 개념을 단순화해서 설명하기 위해서인데, 실제로는 벡터 연산 함수(예: tf.matmul, torch.matmul)들이 배치 차원을 자연스럽게 처리해 줍니다.\n",
    "예를 들어, PyTorch의 torch.matmul은 3차원 텐서들을 입력받으면 자동으로 배치 차원을 고려하여 연산합니다. 또한 마스크를 적용할 때도 배치 차원을 포함하여 올바른 shape로 확장(unsqueeze, expand 또는 repeat)해야 합니다.\n",
    "따라서 코드를 작성할 때는 **항상 입력의 첫 번째 차원이 배치 크기임을 염두**에 두고, 모든 연산(FC 레이어, 어텐션 계산 등)이 이 3차원 구조에서 올바르게 작동하도록 구현하면 됩니다.\n",
    "```\n",
    "아하... 알아서 잘 해봐야겠네.\n",
    "\n",
    "<img src=\"image/Screenshot 2025-02-20 at 8.43.14 PM.png\" width=\"500\"/>\n",
    "\n",
    "아무튼 일단 자료들에서 본 것대로 생각을 해보자면 Q,K,V 행렬이 들어오면 각각 편향이 없는 Wq Wk Wv 가중치를 거치면서 선형변환된다. 그렇게 Q와 K의 전치를 행렬곱해서 문맥에 대한 정보를 담은 행렬을 얻고, $\\sqrt{K의 차원}$ 으로 나누고 softmax함수에 통과시킨다. 그리고 V와 행렬곱해서 weighted sum한다. 입력과 출력의 차원이 같아야 한다.\n",
    "\n",
    "```\n",
    "즉, 별도로 각 head마다 독립적인 선형 변환 층을 만드는 대신, 하나의 선형 변환 층으로 전체 Q, K, V를 생성하고, 이를 head 수(num_heads)만큼 나눠서 사용합니다. 이 방법은 구현과 학습 파라미터 측면에서 더 효율적입니다.\n",
    "이런 방식은 Transformer 논문에서도 사용된 방식으로, 하나의 FC 레이어에서 d_model 차원의 출력을 얻은 후, 이를 num_heads로 나눈 d_k 차원의 여러 벡터들로 분할하는 것으로 요약할 수 있습니다.\n",
    "```\n",
    "이렇다고 한다. 각 셀프 어텐션, 그러니까 각 헤드마다 선형 변환 층을 두어야 하는건가 고민했는데, 그렇지는 않네."
   ],
   "id": "1215f3bf9a70a22b"
  },
  {
   "metadata": {
    "ExecuteTime": {
     "end_time": "2025-02-22T14:55:19.147011Z",
     "start_time": "2025-02-22T14:55:19.143501Z"
    }
   },
   "cell_type": "code",
   "source": [
    "class ScaledDotProductAttention(tf.keras.layers.Layer):\n",
    "    def __init__(self, **kwargs):\n",
    "        super().__init__(**kwargs)\n",
    "        self.support_masking = True # 입력 마스크를 다음 층으로 전파하게 함.\n",
    "\n",
    "    def call(self, q, k, v, mask=None):\n",
    "        # 점곱으로 어텐션 스코어 계산\n",
    "        attention_score = tf.matmul(q, tf.transpose(k, perm=[0,1,3,2])) # 중요!!!!! 전치할 때 좀 신경을 써야한다. 처음에는 벡터 시퀀스 간의 연산만을 나타낸 여러 자료들에 익숙해져 있다 보니까 그냥 tf.transpose(k)를 했다. 그런데 이러면 텐서플로우가 모든 차원을 역순으로 뒤집는다. 여기에서는 마지막 2차원만 뒤집어야 한다! 현재 이 레이어가 멀티 헤드 어텐션에서 사용되기 떄문에 입력으로 들어오는 q,k의 shape가 [batch, n_heads, seq_len, depth]다. 여기에서 마지막 2차원만 전치해야 한다. 같은 배치, 같은 헤드의 쿼리와 키끼리 어텐션 연산을 수행하는 것이기 때문. `tf.matmul(q, k, transpose_b=True)` 이렇게 쓸 수도 있따.\n",
    "\n",
    "        # 패딩 토큰 부분에 극단적인 음수값 부여\n",
    "        if mask is not None:\n",
    "            # mask의 shape는 [batch, 1, 1, key_seq_len] 또는 브로드캐스팅 가능한 형태여야 함\n",
    "            # ID가 0인 위치가 False다.\n",
    "            attention_score += ((mask - 1) * 1e9)\n",
    "\n",
    "        # 스케일\n",
    "        dim_k = tf.cast(tf.shape(k)[-1], dtype=tf.float32) # 마지막 차원의 크기로 스케일링, tf.shape(k)[-1]를 하면 정수값이 나오는데, 이걸로 바로 attention_score를 스케일링 하려니까 타입 문제가 발생하고 있었다. 그래서 float32로 캐스팅 함.\n",
    "        attention_score = attention_score / tf.math.sqrt(dim_k)\n",
    "\n",
    "        # 소프트맥스 함수 통과\n",
    "        attention_weight = tf.keras.activations.softmax(attention_score)\n",
    "\n",
    "        # weighted sum\n",
    "        output = tf.matmul(attention_weight, v)\n",
    "\n",
    "        return output"
   ],
   "id": "9fde3067e8af93e3",
   "outputs": [],
   "execution_count": 179
  },
  {
   "metadata": {},
   "cell_type": "markdown",
   "source": "이 정도면 된걸까....?",
   "id": "67113db2959530f4"
  },
  {
   "metadata": {},
   "cell_type": "markdown",
   "source": "## 멀티 헤드 어텐션",
   "id": "9c8d92021b02a5bd"
  },
  {
   "metadata": {},
   "cell_type": "markdown",
   "source": "이제 점곱 어텐션 층을 묶어서 하나의 멀티 헤드 어텐션 층을 만들어야 한다.",
   "id": "e86776ba43b75ea1"
  },
  {
   "metadata": {
    "ExecuteTime": {
     "end_time": "2025-02-22T14:55:19.205205Z",
     "start_time": "2025-02-22T14:55:19.156633Z"
    }
   },
   "cell_type": "code",
   "source": [
    "# 선형 변환하는 부분 테스트, 3d 텐서를 어떻게 Dense층에 통과시키는지 잘 이해가 안됐었음.\n",
    "pos_emb = np.ones((5, 5, 5))\n",
    "tensor = tf.constant(pos_emb)\n",
    "linear_layer = tf.keras.layers.Dense(5)\n",
    "output = linear_layer(tensor)\n",
    "print(tf.shape(output))\n",
    "# print(output)\n",
    "\n",
    "'''\n",
    "Dense 레이어의 작동 방식을 자세히 설명해드리겠습니다.\n",
    "Dense 레이어는 입력의 **마지막 차원에 대해서만** 연산을 수행합니다. 이 경우:\n",
    "1. **입력 텐서 (5, 5, 5)**\n",
    "    - 첫 번째 5: 배치 크기처럼 처리\n",
    "    - 두 번째 5: 시퀀스 길이처럼 처리\n",
    "    - 마지막 5: 실제 특징 차원\n",
    "\n",
    "2. **Dense 레이어의 연산**\n",
    "``` python\n",
    "# 실제로는 이런 식으로 작동합니다\n",
    "# 각각의 (5,5) 위치에 대해 독립적으로 Dense 연산 수행\n",
    "for i in range(5):  # 첫 번째 차원\n",
    "    for j in range(5):  # 두 번째 차원\n",
    "        # (5,) -> Dense(5) -> (5,)\n",
    "        output[i, j, :] = Dense(입력[i, j, :])\n",
    "```\n",
    "3. **결과적으로**:\n",
    "\n",
    "- 5x5개의 위치 각각에 대해 독립적으로 Dense 연산이 적용됨\n",
    "- 각 위치의 5차원 벡터가 새로운 5차원 벡터로 변환됨\n",
    "- 따라서 출력 shape도 (5, 5, 5)를 유지\n",
    "\n",
    "이것은 마치 각 위치에 같은 Dense 레이어를 반복 적용하는 것과 같습니다. 이런 특성을 \"브로드캐스팅(broadcasting)\"이라고 부르며, 딥러닝에서 매우 유용하게 사용됩니다.\n",
    "\n",
    "https://bcho.tistory.com/1153 이 글을 참고하는게 좋을 듯. 텐서플로우 행렬 연산에 대해서 자세하게 설명함.\n",
    "'''"
   ],
   "id": "4a279fe6ad2f97a5",
   "outputs": [
    {
     "name": "stdout",
     "output_type": "stream",
     "text": [
      "tf.Tensor([5 5 5], shape=(3,), dtype=int32)\n"
     ]
    },
    {
     "data": {
      "text/plain": [
       "'\\nDense 레이어의 작동 방식을 자세히 설명해드리겠습니다.\\nDense 레이어는 입력의 **마지막 차원에 대해서만** 연산을 수행합니다. 이 경우:\\n1. **입력 텐서 (5, 5, 5)**\\n    - 첫 번째 5: 배치 크기처럼 처리\\n    - 두 번째 5: 시퀀스 길이처럼 처리\\n    - 마지막 5: 실제 특징 차원\\n\\n2. **Dense 레이어의 연산**\\n``` python\\n# 실제로는 이런 식으로 작동합니다\\n# 각각의 (5,5) 위치에 대해 독립적으로 Dense 연산 수행\\nfor i in range(5):  # 첫 번째 차원\\n    for j in range(5):  # 두 번째 차원\\n        # (5,) -> Dense(5) -> (5,)\\n        output[i, j, :] = Dense(입력[i, j, :])\\n```\\n3. **결과적으로**:\\n\\n- 5x5개의 위치 각각에 대해 독립적으로 Dense 연산이 적용됨\\n- 각 위치의 5차원 벡터가 새로운 5차원 벡터로 변환됨\\n- 따라서 출력 shape도 (5, 5, 5)를 유지\\n\\n이것은 마치 각 위치에 같은 Dense 레이어를 반복 적용하는 것과 같습니다. 이런 특성을 \"브로드캐스팅(broadcasting)\"이라고 부르며, 딥러닝에서 매우 유용하게 사용됩니다.\\n\\nhttps://bcho.tistory.com/1153 이 글을 참고하는게 좋을 듯. 텐서플로우 행렬 연산에 대해서 자세하게 설명함.\\n'"
      ]
     },
     "execution_count": 180,
     "metadata": {},
     "output_type": "execute_result"
    }
   ],
   "execution_count": 180
  },
  {
   "metadata": {},
   "cell_type": "markdown",
   "source": [
    "<p float=\"left\">\n",
    "  <img src=\"https://wikidocs.net/images/page/159310/mha_img_original.png\" width=\"500\"/>\n",
    "  <img src=\"https://wikidocs.net/images/page/159310/mha_visualization-930x1030.png\" width=\"300\"/>\n",
    "</p>\n",
    "멀티 헤드 어텐션 층은 여러개가 연결되기 때문에 입력과 출력의 차원 크기가 똑같아야 할거다. 아마...?"
   ],
   "id": "99add4023be11e17"
  },
  {
   "metadata": {
    "ExecuteTime": {
     "end_time": "2025-02-22T14:55:19.227954Z",
     "start_time": "2025-02-22T14:55:19.223127Z"
    }
   },
   "cell_type": "code",
   "source": [
    "class MultiHeadAttention(tf.keras.layers.Layer):\n",
    "    # n_heads 말고 뭐가 더 필요할까, 아 선형 변환 층을 위해 입력 차원 정보가 필요하다(n_heads로 쪼갤 때 한 헤드의 차원이 어떻게 되는지 계산하기 위해서도 필요). 그리고 몇 개의 헤드로 쪼갤지에 대한 정보를 담은 n_heads가 필요함.\n",
    "    def __init__(self, input_dim ,n_heads, **kwargs):\n",
    "        super().__init__(**kwargs)\n",
    "\n",
    "        # 다음 층으로 자동으로 마스킹 전파, 근데 여기에도 안 붙여도 되는 것 같기도 하고...?\n",
    "        self.supports_masking=True\n",
    "\n",
    "        # 생성자에서 Wq Wk Wv 선형 변환 층을 만들어야 한다.\n",
    "        # 입력 텐서가 이 선형 변환 층을 통과한 다음에 여러개의 헤드로 쪼개져야 한다.\n",
    "        self.Wq = tf.keras.layers.Dense(input_dim)\n",
    "        self.Wk = tf.keras.layers.Dense(input_dim)\n",
    "        self.Wv = tf.keras.layers.Dense(input_dim)\n",
    "\n",
    "        # 선형 변환된 q,k,v를 n_heads개의 헤드로 쪼개려면 하나당 몇 차원이 되어야 하는지 계산한다.\n",
    "        if input_dim % n_heads != 0 : # 딱 나누어 떨어지지 않으면 예외를 발생시킴\n",
    "            raise ValueError(f\"input_dim % n_heads should be 0 input_dim: {input_dim}, n_heads: {n_heads}\")\n",
    "\n",
    "        self.n_heads = n_heads # 밑에서 여러개의 헤드로 쪼갤 때 사용함.\n",
    "        self.input_dim = input_dim\n",
    "        self.depth = input_dim // n_heads # 한 헤드의 차원, 헤드별 차원\n",
    "\n",
    "        # concat layer 이거 여기에서 미리 만들어도 되겠지?\n",
    "        # self.concat_layer = tf.keras.layers.Concatenate() 필요없음. 이유는 아래 헤드를 쪼개는 부분 주석을 보면 앎.\n",
    "\n",
    "        # 마지막으로 concat된 헹렬을 통과시키는 선형변환 층, 입력과 출력의 크기가 똑같아야 한다는 점을 명심하자.\n",
    "        self.Wo = tf.keras.layers.Dense(input_dim)\n",
    "\n",
    "    # 입력으로 당연히 쿼리 키 밸류를 따로 받아야 한다. 처음에 inputs하나로 뭉뚱그려서 코드를 짰음. 디코더의 인코더-디코더 어텐션의 경우 쿼리는 디코더에서, 키와 밸류는 인코더에서 받는다.\n",
    "    def call(self, q, k, v, mask=None):\n",
    "        # 선형 변환\n",
    "        q = self.Wq(q)\n",
    "        k = self.Wk(k)\n",
    "        v = self.Wv(v)\n",
    "\n",
    "        # 그리고 여러개의 헤드로 쪼개야 한다. 나는 처음에 q,k,v를 진짜 완전 별개의 조각을 쪼개서 각각 셀프 어텐션 층에 넣어야 하나 생각을 했었는데,\n",
    "        # 그건 완전 멍청한 생각임. 계산은 반드시 `병렬적`으로 수행해야 한다. 한 번의 행렬곱으로 효율적으로 끝내야 한다.\n",
    "        # 책에서도 이에 대한 내용이 나오는데 어텐션 층은 배치에 있는 모든 문장에 대한 어텐션 점수를 tf.matmul(q,k) 한 번으로 끝내서 매우 효율적이라고 나온다.\n",
    "        # 그러면서 텐서플로우에서 텐서 A와 B의 그키가 [2,3,4,5] [2,3,5,6]같이 2차원 이상의 텐서인 경우 tf.matmul(A,B)는 이 텐서를\n",
    "        # 각 원소에 행렬이 들어있는 2X3 배열처럼 다루어서 해당하는 행렬을 곱한다고 한다. <- 이걸 보니까 이해가 되네.\n",
    "        # A에 있는 i번째 j번째 열의 행렬이 B에 있는 같은 자리의 행렬과 곱해진다. (4X5)X(5X6)=(4X6) 따라서 tf.matmul(A,B) 결과 행렬은 [2,3,4,6]이 됨.\n",
    "\n",
    "        # q,k,v의 shape를 변형 시켜서 쪼개야 한다.\n",
    "        # 현재는 [batch, sequence_length, input_dim]의 3차원 텐서다.\n",
    "        # 이걸  [batch, sequence_length, self.n_heads, self.depth]이런 4차원 텐서로 바꿔야 하는 것 같은데... 맞나? 아 잠깐만 아니지\n",
    "        # 앞에서 [2,3,4,5]이런 텐서는 각 원소에 행렬이 들어있는 2X3크기의 배열처럼 다룬다고 했다. 그렇다면...\n",
    "        # [batch, n_heads, sequence_length, self.depth] 이렇게 되어야 한다. 같은 배치, 같은 헤드의 쿼리와 키 끼리 행렬곱을 하는 것이다.\n",
    "\n",
    "        # batch 사이즈를 얻음.\n",
    "        batch_size = tf.shape(q)[0]\n",
    "\n",
    "        # 일단 reshape를 한다. 마지막 차원 input_dim을 (self.n_heads X self.depth) 형태로 분리함.\n",
    "        q = tf.reshape(q, [batch_size, -1, self.n_heads, self.depth])\n",
    "        k = tf.reshape(k, [batch_size, -1, self.n_heads, self.depth])\n",
    "        v = tf.reshape(v, [batch_size, -1, self.n_heads, self.depth])\n",
    "\n",
    "        # 차원 순서를 바꾼다. 같은 배치, 같은 헤드의 쿼리와 키 끼리 행렬곱 한다.\n",
    "        q = tf.transpose(q, [0,2,1,3])\n",
    "        k = tf.transpose(k, [0,2,1,3])\n",
    "        v = tf.transpose(v, [0,2,1,3])\n",
    "\n",
    "        # scaled dot-product attention층에 집어넣어서 어텐션 연산을 수행한다.\n",
    "        attention_layer = ScaledDotProductAttention()\n",
    "        scaled_attention = attention_layer(q,k,v,mask) # 어텐션 층에 마스크를 넣어줌\n",
    "\n",
    "        # 원래대로 concat, 헤드를 쪼갰던 과정을 반대로 해주면 된다.\n",
    "        scaled_attention = tf.transpose(scaled_attention, [0,2,1,3]) # 다시 [batch, seq_length, n_heads, depth]\n",
    "        scaled_attention = tf.reshape(scaled_attention, [batch_size, -1, self.input_dim]) # 다시 [batch, seq_length, input_dim]\n",
    "\n",
    "        # 마지막 선형 변환\n",
    "        output = self.Wo(scaled_attention)\n",
    "\n",
    "        return output\n",
    "\n"
   ],
   "id": "38a84d8961c8a0d7",
   "outputs": [],
   "execution_count": 181
  },
  {
   "metadata": {},
   "cell_type": "markdown",
   "source": [
    "멀티 헤드 어텐션 층도 만들었으니까 이제 인코더 만들면 되나...?\n",
    "\n",
    "디코더까지 구현해서 전체 트랜스포머를 구현하기 전에, 먼저 인코더부터 별도의 태스크로 훈련시켜보는 것도 좋을 것 같음.\n",
    "\n",
    "```\n",
    "인코더는 원본 텍스트의 문맥과 의미를 풍부하게 표현하는 역할을 하므로, 감성 분석 외에도 여러 NLP 태스크에 활용할 수 있어요. 예를 들어:\n",
    "\n",
    "- 문서/텍스트 분류: 뉴스 기사 분류나 스팸 메일 판별 등, 문서의 전반적인 의미를 파악해 카테고리화하는 데 효과적입니다.\n",
    "- 토픽 모델링 및 문장 임베딩: 인코더에서 생성된 벡터를 이용해 문장 간 유사도를 계산하거나, 검색·추천 시스템의 피처로 활용할 수 있습니다.\n",
    "- 개체명 인식(NER): 문맥 정보를 잘 반영하는 인코더를 사용하면, 문장에서 인물, 장소, 기관명 등 중요한 정보를 추출하는 작업에 도움이 됩니다.\n",
    "- 질의 응답(Question Answering): 인코더가 문서나 문장의 핵심 정보를 압축하므로, 질문에 맞는 답변을 찾는 데도 활용할 수 있어요.\n",
    "- 문서 요약: 긴 텍스트의 중요한 정보를 추출해 요약하는 태스크에서도 인코더의 역할이 매우 중요합니다.\n",
    "실제로 BERT와 같은 모델은 인코더만을 사용해 감성 분석, 문서 분류, 개체명 인식 등 다양한 태스크에서 우수한 성능을 보이고 있답니다.\n",
    "```\n",
    "\n",
    "https://wikidocs.net/103802 이거 참고하면 좋을 듯.\n"
   ],
   "id": "69177ee953702d0c"
  },
  {
   "metadata": {},
   "cell_type": "markdown",
   "source": "## 인코더 레이어 구현",
   "id": "c8761890af5d53cf"
  },
  {
   "metadata": {},
   "cell_type": "markdown",
   "source": [
    "<img src=\"https://wikidocs.net/images/page/159310/img_original_paper-726x1030.png\" width=\"300\"/>\n",
    "\n",
    "인코더는 N개의 레이어로 구성이 되는데,\n",
    "\n",
    "각 레이어의 아랫 부분은 멀티 헤드 어텐션 통과 후 CNN ResNet처럼 skip connection, residual connection을 더하고 layer normalization 층을 거친다.\n",
    "\n",
    "그리고 나서 FFN을 통과하고 다시 skip connection을 더한 다음, 다시 layer normalization층을 거친다.\n",
    "\n",
    "이렇게 어텐션과 정규화 과정을 진행하는 레이어를 N개 쌓아서 인코더를 구축한다. 이렇게 쌓을 수 있다는 것은 입력과 출력의 차원이 같다는 것을 의미한다.\n",
    "\n",
    "각 레이어는 서로 다른 파라미터 값을 가진다.\n",
    "\n",
    "https://moon-walker.medium.com/transformer-%EB%B6%84%EC%84%9D-2-transformer%EC%9D%98-encoder-%EC%9D%B4%ED%95%B4%ED%95%98%EA%B8%B0-1edecc2ad5d4\n",
    "https://nongnongai.tistory.com/67\n",
    "\n",
    "한가지 이걸 처음 접하면서 조금 유의깊게 봤던 점은 RNN과 마찬가지로 정규화하는데 LayerNomalization을 사용했다는 점이다. 그래서 이에 대해서 조금 찾아봤는데\n",
    "\n",
    "https://medium.com/@hugmanskj/mastering-llama-rmsnorm-%EC%9D%B4%ED%95%B4%ED%95%98%EA%B8%B0-701f8281ddbb\n",
    "이 문서에서 아주 자세하게 잘 설명해준다.\n",
    "\n",
    "```\n",
    "Layer Normalization은 2016년에 Jimmy Lei Ba, Jamie Ryan Kiros, 그리고 Geoffrey Hinton이 제안한 논문 “Layer Normalization”에서 처음 소개되었습니다. 이 논문은 Batch Normalization의 한계를 극복하기 위한 대안으로 LayerNorm을 제안하였으며, 특히 시퀀스 데이터나 RNN 모델에 적합하다는 점을 강조하였습니다.\n",
    "\n",
    "Layer Normalization은 각 샘플의 평균(μ)과 표준편차(σ)를 계산하여 데이터를 정규화하는 기법입니다. LayerNorm은 배치 크기와 상관없이 샘플 단위로 적용되기 때문에, 특히 시퀀스 데이터를 처리하는 모델에서 매우 유용합니다. 트랜스포머 모델은 시퀀스 데이터를 다루므로, LayerNorm은 트랜스포머에서 널리 사용됩니다.\n",
    "\n",
    "트랜스포머 모델에서 LayerNorm은 매우 중요한 역할을 합니다. 트랜스포머는 시퀀스 데이터를 다루는 구조로, 입력 데이터가 여러 토큰(token)으로 이루어져 있습니다. 트랜스포머 모델에서 LayerNorm이 다루는 ‘샘플’은 각각의 토큰 위치에서의 임베딩 벡터 또는 잠재변수값(hidden state)입니다.\n",
    "\n",
    "예를 들어, 문장이 “The cat sat on the mat”이라고 할 때, 트랜스포머 모델은 각 단어(토큰)에 대해 고유한 벡터(embedding)를 생성합니다. 이때, LayerNorm은 해당 토큰 위치에서의 임베딩 벡터나 히든 스테이트를 정규화합니다. 즉, 각 토큰 위치에서 계산된 임베딩 벡터가 일정한 범위 내에서 안정적으로 유지되도록 정규화하는 것이 LayerNorm 의 기본 개념입니다.\n",
    "```\n",
    "\n",
    "그리고 또 하나 궁금한 점은 각 레어에서 FFN을 거치는 이유가 뭘까?\n",
    "\n",
    "https://velog.io/@glad415/Transformer-6.-%ED%8F%AC%EC%A7%80%EC%85%98-%EC%99%80%EC%9D%B4%EC%A6%88-%ED%94%BC%EB%93%9C-%ED%8F%AC%EC%9B%8C%EB%93%9C-%EC%8B%A0%EA%B2%BD%EB%A7%9D-by-WikiDocs\n",
    "\n",
    "```\n",
    "1) Transformer에서 FFN(Feed-Forward Network)을 사용하는 이유\n",
    "\n",
    "Transformer는 크게 두 가지 주요 연산 블록으로 구성됩니다:\n",
    "\n",
    "여러 토큰(단어) 간 상호작용을 학습하기 위한 Multi-Head Self-Attention\n",
    "각 토큰(또는 위치)별 표현을 비선형적으로 변환하기 위한 Position-wise Feed-Forward Network(FFN)\n",
    "이 중 FFN을 사용하는 주된 이유는 다음과 같습니다.\n",
    "\n",
    "비선형성(Nonlinearity) 부여\n",
    "어텐션만으로는 선형 변환과 유사한 효과만 얻을 수 있기 때문에, 모델의 표현력을 강화하기 위해서는 중간에 비선형 활성화 함수를 도입해야 합니다. FFN은 이런 비선형성을 추가해 Transformer가 더 복잡한 패턴을 학습할 수 있도록 돕습니다.\n",
    "\n",
    "특징(Feature) 변환 및 확장\n",
    "일반적으로 Transformer에서 FFN은 임베딩 차원(d_model)을 더 큰 차원(d_ff)으로 확장했다가 다시 축소하는 구조(예: 512 → 2048 → 512)를 취합니다. 이렇게 중간 차원을 크게 확장함으로써 각 토큰 표현을 훨씬 풍부하게 재학습하고, 최종적으로 다시 필요한 크기로 줄여서 정보를 압축합니다.\n",
    "\n",
    "결과적으로 FFN 층은 **“단순히 어텐션의 결과로 얻은 각 위치별 벡터를 더욱 풍부하고 복잡한 특성 공간으로 변환해서 모델의 표현력을 높이는 역할”**을 합니다.\n",
    "\n",
    "2) “Position-wide(혹은 Position-wise) 네트워크”가 무슨 의미인가?\n",
    "\n",
    "Transformer의 FFN은 **각 토큰(각 위치)**에 대해 동일한 완전연결 신경망(MLP)을 독립적으로 적용합니다. 이를 가리켜 흔히 “Position-wise” FFN이라고 부릅니다.\n",
    "\n",
    "동일한 가중치 공유\n",
    "모든 위치(토큰)에 대해 같은 FFN 가중치를 사용합니다. 즉, 문장의 첫 번째 토큰이든 두 번째 토큰이든, FFN의 파라미터는 동일하며, 토큰의 임베딩 벡터만 달라질 뿐입니다.\n",
    "토큰 간 상호작용은 Attention에서 담당\n",
    "FFN은 말 그대로 위치 하나하나를 독립적으로 변환하므로, 서로 다른 위치의 정보가 섞이는 과정은 어텐션 메커니즘에서 이미 수행됩니다. 이 단계에서는 “토큰 간 상호작용”이 아니라, “각 토큰을 개별적으로 변환하는 과정”에 집중한다고 볼 수 있습니다.\n",
    "즉, Position-wise FFN이란\n",
    "\n",
    "“모든 시간 스텝/토큰/위치에 동일한 MLP를 독립적으로 적용한다”\n",
    "“토큰 사이의 결합은 어텐션에서 처리하고, FFN에서는 위치별 임베딩을 비선형적으로 풍부화한다”\n",
    "라는 특성을 나타내는 용어입니다.\n",
    "```\n",
    "\n",
    "음... 일단 오케이 구현부터 하자."
   ],
   "id": "89ca256a752e0d"
  },
  {
   "metadata": {
    "ExecuteTime": {
     "end_time": "2025-02-22T14:55:19.243564Z",
     "start_time": "2025-02-22T14:55:19.239194Z"
    }
   },
   "cell_type": "code",
   "source": [
    "class EncoderLayer(tf.keras.layers.Layer) :\n",
    "    def __init__(self, input_dim, n_heads,**kwargs):\n",
    "        super().__init__(**kwargs)\n",
    "\n",
    "        # layer_nomalization층 정의, layer normalization은 훈련 중에 따로 학습하는 건 없는 걸로 알고있는데... 그러면 이렇게 하나만 둬도 되나?\n",
    "        # 아닌 듯\n",
    "        self.attention_norm = tf.keras.layers.LayerNormalization(epsilon=1e-6)\n",
    "        self.ffn_norm = tf.keras.layers.LayerNormalization(epsilon=1e-6)\n",
    "\n",
    "\n",
    "        # FFN 층 정의, 큰 크기로 키웠다가 다시 원래의 축소할 것이다.\n",
    "        # self.ffn_layers = [\n",
    "        #     tf.keras.layers.Dense(2048), # FFN 뉴런 수 감소시킴\n",
    "        #     tf.keras.layers.Activation('relu'),\n",
    "        #     tf.keras.layers.Dense(512)\n",
    "        # ]\n",
    "        self.ffn_layer1 = tf.keras.layers.Dense(512, activation='relu')\n",
    "        self.ffn_layer2 = tf.keras.layers.Dense(128)\n",
    "\n",
    "        # 멀티 헤드 어텐션 층 정의\n",
    "        self.multi_head_attention_layer = MultiHeadAttention(input_dim, n_heads)\n",
    "\n",
    "        # 정규화를 위한 Dropout층 정의\n",
    "        self.dropout1 = tf.keras.layers.Dropout(0.1) # 드롭아웃 비율을 감소시킴. 과도한 드롭아웃으로 인해 학습 중에 너무 많은 정보가 삭제되어 모델이 효과적으로 학습하지 못할 수 있습니다. 특히 어휘량이 적고 단일 계층 제약이 있는 경우 더욱 그렇습니다.\n",
    "        self.dropout2 = tf.keras.layers.Dropout(0.1)\n",
    "\n",
    "        self.input_dim = input_dim\n",
    "        self.n_heads = n_heads\n",
    "\n",
    "    def call(self, inputs, mask=None):\n",
    "        skip = inputs\n",
    "\n",
    "        # 멀티 헤드 어텐션 연산\n",
    "        attention = self.multi_head_attention_layer(inputs, inputs, inputs, mask)\n",
    "\n",
    "        # Dropout\n",
    "        attention = self.dropout1(attention)\n",
    "\n",
    "        # skip connection\n",
    "        attention = attention + skip\n",
    "\n",
    "        # layer normalization\n",
    "        attention = self.attention_norm(attention)\n",
    "\n",
    "        skip = attention\n",
    "\n",
    "        # FFN 통과\n",
    "        ffn_output = self.ffn_layer1(attention)\n",
    "        ffn_output = self.ffn_layer2(ffn_output)\n",
    "\n",
    "        # Dropout\n",
    "        ffn_output = self.dropout2(ffn_output)\n",
    "\n",
    "        # skip connection\n",
    "        ffn_output = ffn_output + skip\n",
    "\n",
    "        # layer normalization\n",
    "        ffn_output = self.ffn_norm(ffn_output)\n",
    "\n",
    "        return ffn_output"
   ],
   "id": "1dd4f93c25320fb3",
   "outputs": [],
   "execution_count": 182
  },
  {
   "metadata": {},
   "cell_type": "markdown",
   "source": "## 인코더를 이용한 감성 분석",
   "id": "c00310ab44a62b3e"
  },
  {
   "metadata": {},
   "cell_type": "markdown",
   "source": "### 인코더 구현",
   "id": "2a89f1a8043219af"
  },
  {
   "metadata": {},
   "cell_type": "markdown",
   "source": [
    "이제 전체 인코더를 구현해보자. 그냥 시퀀셜 API로 구현해도 될 것 같음.\n",
    "\n",
    "잠깐만 문제가 있음. 처음에는 모델 코드를 아래와 같이 구현했다."
   ],
   "id": "151f81a64b0eb47b"
  },
  {
   "metadata": {
    "ExecuteTime": {
     "end_time": "2025-02-22T14:55:19.282973Z",
     "start_time": "2025-02-22T14:55:19.252946Z"
    }
   },
   "cell_type": "code",
   "source": [
    "vocab_size = 10000 # 어휘사전 크기\n",
    "max_seq_len = 300 # 최대 시퀀스 길이\n",
    "text_vec_layer = tf.keras.layers.TextVectorization(max_tokens=vocab_size)\n",
    "\n",
    "model = tf.keras.models.Sequential([\n",
    "    text_vec_layer,\n",
    "    tf.keras.layers.Embedding(vocab_size, 512, mask_zero=True),\n",
    "    SinusoidalPositionalEncoding(50, 512),\n",
    "    EncoderLayer(512, 8),\n",
    "    EncoderLayer(512, 8),\n",
    "    EncoderLayer(512, 8),\n",
    "    tf.keras.layers.Dense(10, activation='relu'),\n",
    "    tf.keras.layers.Dense(1, activation='sigmoid')\n",
    "])"
   ],
   "id": "2533ad97c7648033",
   "outputs": [],
   "execution_count": 183
  },
  {
   "metadata": {},
   "cell_type": "markdown",
   "source": [
    "그런데 인코더 레이어의 최종 출력은 [bathc, seq_len, hidden_dim]의 shape가 된다. 그런데 바로 Dense층으로 넘겨버리면 모델이 시퀀스 차원을 적절히 처리하지 못한다.\n",
    " Dense층이 바로 시퀀스 전체에 적용되어 각 시퀀스의 모든 타임스텝에 대해 출력을 내므로, 원하는 최종 문장 단위의 스칼라 예측(또는 확률 예측)을 얻기 어렵다.\n",
    "\n",
    "그래서 이런 경우 GlobalAveragePooling1D나 GlobalMaxPooling1D 또는, BERT같이 문장의 맨 앞에 [CLS] 토큰을 두고, 이것만 추출해서 전체 문장에 대한 표현으로 사용해야 한다. 이런 부분에 대해서는 제대로 생각을 못해봤음."
   ],
   "id": "f804e2651f08d140"
  },
  {
   "metadata": {
    "ExecuteTime": {
     "end_time": "2025-02-22T15:04:37.138961Z",
     "start_time": "2025-02-22T15:04:36.657990Z"
    }
   },
   "cell_type": "code",
   "source": [
    "# 함수형 API로 구성\n",
    "\n",
    "# 예시: [CLS] 토큰을 입력에 추가하는 전처리 과정은 데이터 전처리 단계에서 처리해야 함\n",
    "# 만약 텍스트에 [CLS] 토큰을 추가하는 로직이 없다면, 텍스트 데이터에 미리 \"[CLS] \"를 붙여주는 방식으로 구현할 수 있습니다.\n",
    "\n",
    "# 사용자 정의 전처리 함수: 문자를 모두 소문자로 바꾸고, 구두점을 제거, [CLS]토큰을 추가\n",
    "def custom_standardize(text):\n",
    "    text = tf.strings.lower(text)  # Lowercase\n",
    "    text = tf.strings.regex_replace(text, r\"[^\\w\\s]\", \"\")  # Remove punctuation\n",
    "    return tf.strings.join([\"[CLS]\", text], separator=\" \")\n",
    "\n",
    "vocab_size = 10000  # 어휘 사전 크기를 늘림\n",
    "max_seq_len = 500 # 최대 시퀀스 길이\n",
    "\n",
    "text_vec_layer = tf.keras.layers.TextVectorization(\n",
    "    max_tokens=vocab_size,\n",
    "    output_mode=\"int\",\n",
    "    output_sequence_length=max_seq_len,\n",
    "    standardize=custom_standardize  # 또는 별도로 [CLS] 토큰 추가 후 표준화를 진행\n",
    ")\n",
    "\n",
    "# 모델 정의\n",
    "inputs = tf.keras.Input(shape=(1,), dtype=tf.string)  # 입력은 문자열,  Keras의 Input 레이어에서 지정하는 shape 인자는 각 샘플의 shape을 나타내며, 배치 차원은 별도로 자동 추가\n",
    "\n",
    "# 텍스트 벡터화: [batch, seq_len] (정수 인덱스로 변환됨)\n",
    "x = text_vec_layer(inputs)\n",
    "\n",
    "# 임베딩, 패딩 토큰에 대해 마스킹 적용\n",
    "x = tf.keras.layers.Embedding(input_dim=vocab_size, output_dim=128, mask_zero=True)(x)\n",
    "\n",
    "# 위치 인코딩\n",
    "x = SinusoidalPositionalEncoding(max_seq_len, 128)(x)\n",
    "\n",
    "# 여러 EncoderLayer 적용\n",
    "x = EncoderLayer(128, 8)(x)\n",
    "x = EncoderLayer(128, 8)(x)\n",
    "#x = EncoderLayer(512, 8)(x)\n",
    "\n",
    "# [CLS] 토큰의 벡터만 추출 (시퀀스의 첫 번째 토큰)\n",
    "cls_token = tf.keras.layers.Lambda(lambda t: t[:, 0, :])(x)\n",
    "\n",
    "# 분류를 위한 Dense 층: 필요한 경우 중간 Dense 층과 활성화 함수 추가\n",
    "# x = tf.keras.layers.Dense(256, activation='relu')(cls_token) # 출력 층의 뉴런 수를 증가시키고, 여러 겹으로 쌓아서 점진적으로 차원을 축소시킴.\n",
    "# x = tf.keras.layers.Dense(128, activation='relu')(x)\n",
    "# x = tf.keras.layers.Dense(32, activation='relu')(x)\n",
    "# 최종 출력, 이진 분류라면 Sigmoid 활성화, 다중 클래스 분류라면 Softmax 등을 사용\n",
    "outputs = tf.keras.layers.Dense(1, activation='sigmoid')(cls_token)\n",
    "\n",
    "# 모델 생성\n",
    "model = tf.keras.Model(inputs=inputs, outputs=outputs)\n"
   ],
   "id": "3f40f628c34e878",
   "outputs": [
    {
     "name": "stderr",
     "output_type": "stream",
     "text": [
      "/Users/barrett11357/coding/pycharm/handson_ml_--/.venv/lib/python3.9/site-packages/keras/src/layers/layer.py:938: UserWarning: Layer 'sinusoidal_positional_encoding_3' (of type SinusoidalPositionalEncoding) was passed an input with a mask attached to it. However, this layer does not support masking and will therefore destroy the mask information. Downstream layers will not see the mask.\n",
      "  warnings.warn(\n"
     ]
    }
   ],
   "execution_count": 196
  },
  {
   "metadata": {
    "ExecuteTime": {
     "end_time": "2025-02-22T15:04:39.018576Z",
     "start_time": "2025-02-22T15:04:38.999558Z"
    }
   },
   "cell_type": "code",
   "source": "model.summary()",
   "id": "22e78178bff83227",
   "outputs": [
    {
     "data": {
      "text/plain": [
       "\u001B[1mModel: \"functional_1\"\u001B[0m\n"
      ],
      "text/html": [
       "<pre style=\"white-space:pre;overflow-x:auto;line-height:normal;font-family:Menlo,'DejaVu Sans Mono',consolas,'Courier New',monospace\"><span style=\"font-weight: bold\">Model: \"functional_1\"</span>\n",
       "</pre>\n"
      ]
     },
     "metadata": {},
     "output_type": "display_data"
    },
    {
     "data": {
      "text/plain": [
       "┏━━━━━━━━━━━━━━━━━━━━━━━━━━━━━━━━━┳━━━━━━━━━━━━━━━━━━━━━━━━┳━━━━━━━━━━━━━━━┓\n",
       "┃\u001B[1m \u001B[0m\u001B[1mLayer (type)                   \u001B[0m\u001B[1m \u001B[0m┃\u001B[1m \u001B[0m\u001B[1mOutput Shape          \u001B[0m\u001B[1m \u001B[0m┃\u001B[1m \u001B[0m\u001B[1m      Param #\u001B[0m\u001B[1m \u001B[0m┃\n",
       "┡━━━━━━━━━━━━━━━━━━━━━━━━━━━━━━━━━╇━━━━━━━━━━━━━━━━━━━━━━━━╇━━━━━━━━━━━━━━━┩\n",
       "│ input_layer_3 (\u001B[38;5;33mInputLayer\u001B[0m)      │ (\u001B[38;5;45mNone\u001B[0m, \u001B[38;5;34m1\u001B[0m)              │             \u001B[38;5;34m0\u001B[0m │\n",
       "├─────────────────────────────────┼────────────────────────┼───────────────┤\n",
       "│ text_vectorization_6            │ (\u001B[38;5;45mNone\u001B[0m, \u001B[38;5;34m500\u001B[0m)            │             \u001B[38;5;34m0\u001B[0m │\n",
       "│ (\u001B[38;5;33mTextVectorization\u001B[0m)             │                        │               │\n",
       "├─────────────────────────────────┼────────────────────────┼───────────────┤\n",
       "│ embedding_5 (\u001B[38;5;33mEmbedding\u001B[0m)         │ (\u001B[38;5;45mNone\u001B[0m, \u001B[38;5;34m500\u001B[0m, \u001B[38;5;34m128\u001B[0m)       │     \u001B[38;5;34m1,280,000\u001B[0m │\n",
       "├─────────────────────────────────┼────────────────────────┼───────────────┤\n",
       "│ sinusoidal_positional_encoding… │ (\u001B[38;5;45mNone\u001B[0m, \u001B[38;5;34m500\u001B[0m, \u001B[38;5;34m128\u001B[0m)       │             \u001B[38;5;34m0\u001B[0m │\n",
       "│ (\u001B[38;5;33mSinusoidalPositionalEncoding\u001B[0m)  │                        │               │\n",
       "├─────────────────────────────────┼────────────────────────┼───────────────┤\n",
       "│ encoder_layer_5 (\u001B[38;5;33mEncoderLayer\u001B[0m)  │ (\u001B[38;5;45mNone\u001B[0m, \u001B[38;5;34m500\u001B[0m, \u001B[38;5;34m128\u001B[0m)       │       \u001B[38;5;34m198,272\u001B[0m │\n",
       "├─────────────────────────────────┼────────────────────────┼───────────────┤\n",
       "│ encoder_layer_6 (\u001B[38;5;33mEncoderLayer\u001B[0m)  │ (\u001B[38;5;45mNone\u001B[0m, \u001B[38;5;34m500\u001B[0m, \u001B[38;5;34m128\u001B[0m)       │       \u001B[38;5;34m198,272\u001B[0m │\n",
       "├─────────────────────────────────┼────────────────────────┼───────────────┤\n",
       "│ lambda_1 (\u001B[38;5;33mLambda\u001B[0m)               │ (\u001B[38;5;45mNone\u001B[0m, \u001B[38;5;34m128\u001B[0m)            │             \u001B[38;5;34m0\u001B[0m │\n",
       "├─────────────────────────────────┼────────────────────────┼───────────────┤\n",
       "│ dense_46 (\u001B[38;5;33mDense\u001B[0m)                │ (\u001B[38;5;45mNone\u001B[0m, \u001B[38;5;34m1\u001B[0m)              │           \u001B[38;5;34m129\u001B[0m │\n",
       "└─────────────────────────────────┴────────────────────────┴───────────────┘\n"
      ],
      "text/html": [
       "<pre style=\"white-space:pre;overflow-x:auto;line-height:normal;font-family:Menlo,'DejaVu Sans Mono',consolas,'Courier New',monospace\">┏━━━━━━━━━━━━━━━━━━━━━━━━━━━━━━━━━┳━━━━━━━━━━━━━━━━━━━━━━━━┳━━━━━━━━━━━━━━━┓\n",
       "┃<span style=\"font-weight: bold\"> Layer (type)                    </span>┃<span style=\"font-weight: bold\"> Output Shape           </span>┃<span style=\"font-weight: bold\">       Param # </span>┃\n",
       "┡━━━━━━━━━━━━━━━━━━━━━━━━━━━━━━━━━╇━━━━━━━━━━━━━━━━━━━━━━━━╇━━━━━━━━━━━━━━━┩\n",
       "│ input_layer_3 (<span style=\"color: #0087ff; text-decoration-color: #0087ff\">InputLayer</span>)      │ (<span style=\"color: #00d7ff; text-decoration-color: #00d7ff\">None</span>, <span style=\"color: #00af00; text-decoration-color: #00af00\">1</span>)              │             <span style=\"color: #00af00; text-decoration-color: #00af00\">0</span> │\n",
       "├─────────────────────────────────┼────────────────────────┼───────────────┤\n",
       "│ text_vectorization_6            │ (<span style=\"color: #00d7ff; text-decoration-color: #00d7ff\">None</span>, <span style=\"color: #00af00; text-decoration-color: #00af00\">500</span>)            │             <span style=\"color: #00af00; text-decoration-color: #00af00\">0</span> │\n",
       "│ (<span style=\"color: #0087ff; text-decoration-color: #0087ff\">TextVectorization</span>)             │                        │               │\n",
       "├─────────────────────────────────┼────────────────────────┼───────────────┤\n",
       "│ embedding_5 (<span style=\"color: #0087ff; text-decoration-color: #0087ff\">Embedding</span>)         │ (<span style=\"color: #00d7ff; text-decoration-color: #00d7ff\">None</span>, <span style=\"color: #00af00; text-decoration-color: #00af00\">500</span>, <span style=\"color: #00af00; text-decoration-color: #00af00\">128</span>)       │     <span style=\"color: #00af00; text-decoration-color: #00af00\">1,280,000</span> │\n",
       "├─────────────────────────────────┼────────────────────────┼───────────────┤\n",
       "│ sinusoidal_positional_encoding… │ (<span style=\"color: #00d7ff; text-decoration-color: #00d7ff\">None</span>, <span style=\"color: #00af00; text-decoration-color: #00af00\">500</span>, <span style=\"color: #00af00; text-decoration-color: #00af00\">128</span>)       │             <span style=\"color: #00af00; text-decoration-color: #00af00\">0</span> │\n",
       "│ (<span style=\"color: #0087ff; text-decoration-color: #0087ff\">SinusoidalPositionalEncoding</span>)  │                        │               │\n",
       "├─────────────────────────────────┼────────────────────────┼───────────────┤\n",
       "│ encoder_layer_5 (<span style=\"color: #0087ff; text-decoration-color: #0087ff\">EncoderLayer</span>)  │ (<span style=\"color: #00d7ff; text-decoration-color: #00d7ff\">None</span>, <span style=\"color: #00af00; text-decoration-color: #00af00\">500</span>, <span style=\"color: #00af00; text-decoration-color: #00af00\">128</span>)       │       <span style=\"color: #00af00; text-decoration-color: #00af00\">198,272</span> │\n",
       "├─────────────────────────────────┼────────────────────────┼───────────────┤\n",
       "│ encoder_layer_6 (<span style=\"color: #0087ff; text-decoration-color: #0087ff\">EncoderLayer</span>)  │ (<span style=\"color: #00d7ff; text-decoration-color: #00d7ff\">None</span>, <span style=\"color: #00af00; text-decoration-color: #00af00\">500</span>, <span style=\"color: #00af00; text-decoration-color: #00af00\">128</span>)       │       <span style=\"color: #00af00; text-decoration-color: #00af00\">198,272</span> │\n",
       "├─────────────────────────────────┼────────────────────────┼───────────────┤\n",
       "│ lambda_1 (<span style=\"color: #0087ff; text-decoration-color: #0087ff\">Lambda</span>)               │ (<span style=\"color: #00d7ff; text-decoration-color: #00d7ff\">None</span>, <span style=\"color: #00af00; text-decoration-color: #00af00\">128</span>)            │             <span style=\"color: #00af00; text-decoration-color: #00af00\">0</span> │\n",
       "├─────────────────────────────────┼────────────────────────┼───────────────┤\n",
       "│ dense_46 (<span style=\"color: #0087ff; text-decoration-color: #0087ff\">Dense</span>)                │ (<span style=\"color: #00d7ff; text-decoration-color: #00d7ff\">None</span>, <span style=\"color: #00af00; text-decoration-color: #00af00\">1</span>)              │           <span style=\"color: #00af00; text-decoration-color: #00af00\">129</span> │\n",
       "└─────────────────────────────────┴────────────────────────┴───────────────┘\n",
       "</pre>\n"
      ]
     },
     "metadata": {},
     "output_type": "display_data"
    },
    {
     "data": {
      "text/plain": [
       "\u001B[1m Total params: \u001B[0m\u001B[38;5;34m1,676,673\u001B[0m (6.40 MB)\n"
      ],
      "text/html": [
       "<pre style=\"white-space:pre;overflow-x:auto;line-height:normal;font-family:Menlo,'DejaVu Sans Mono',consolas,'Courier New',monospace\"><span style=\"font-weight: bold\"> Total params: </span><span style=\"color: #00af00; text-decoration-color: #00af00\">1,676,673</span> (6.40 MB)\n",
       "</pre>\n"
      ]
     },
     "metadata": {},
     "output_type": "display_data"
    },
    {
     "data": {
      "text/plain": [
       "\u001B[1m Trainable params: \u001B[0m\u001B[38;5;34m1,676,673\u001B[0m (6.40 MB)\n"
      ],
      "text/html": [
       "<pre style=\"white-space:pre;overflow-x:auto;line-height:normal;font-family:Menlo,'DejaVu Sans Mono',consolas,'Courier New',monospace\"><span style=\"font-weight: bold\"> Trainable params: </span><span style=\"color: #00af00; text-decoration-color: #00af00\">1,676,673</span> (6.40 MB)\n",
       "</pre>\n"
      ]
     },
     "metadata": {},
     "output_type": "display_data"
    },
    {
     "data": {
      "text/plain": [
       "\u001B[1m Non-trainable params: \u001B[0m\u001B[38;5;34m0\u001B[0m (0.00 B)\n"
      ],
      "text/html": [
       "<pre style=\"white-space:pre;overflow-x:auto;line-height:normal;font-family:Menlo,'DejaVu Sans Mono',consolas,'Courier New',monospace\"><span style=\"font-weight: bold\"> Non-trainable params: </span><span style=\"color: #00af00; text-decoration-color: #00af00\">0</span> (0.00 B)\n",
       "</pre>\n"
      ]
     },
     "metadata": {},
     "output_type": "display_data"
    }
   ],
   "execution_count": 197
  },
  {
   "metadata": {},
   "cell_type": "markdown",
   "source": "### 데이터 준비!",
   "id": "e1979c3bbe590fbf"
  },
  {
   "metadata": {},
   "cell_type": "markdown",
   "source": "이제 IMDB 데이터를 준비하자. 일단 데이터셋을 좀 살펴보고, [CLS]토큰을 추가하는 등의 가공을 해야함. <- 이건 따로 모델에 추가시킴.",
   "id": "21c02c311858df85"
  },
  {
   "metadata": {
    "ExecuteTime": {
     "end_time": "2025-02-22T14:55:31.500523Z",
     "start_time": "2025-02-22T14:55:31.385243Z"
    }
   },
   "cell_type": "code",
   "source": [
    "import tensorflow_datasets as tfds\n",
    "\n",
    "raw_train_set, raw_valid_set, raw_test_set = tfds.load(\n",
    "    name=\"imdb_reviews\",\n",
    "    split=[\"train[:90%]\", \"train[90%:]\", \"test\"],\n",
    "    as_supervised=True\n",
    ")\n",
    "tf.random.set_seed(42)\n",
    "train_set = raw_train_set.shuffle(5000, seed=42).batch(32).prefetch(1)\n",
    "valid_set = raw_valid_set.batch(32).prefetch(1)\n",
    "test_set = raw_test_set.batch(32).prefetch(1)"
   ],
   "id": "a8921b1801f189a0",
   "outputs": [],
   "execution_count": 186
  },
  {
   "metadata": {
    "ExecuteTime": {
     "end_time": "2025-02-22T14:55:32.959624Z",
     "start_time": "2025-02-22T14:55:32.957483Z"
    }
   },
   "cell_type": "code",
   "source": "print(len(raw_train_set))",
   "id": "2371963dd0d56c55",
   "outputs": [
    {
     "name": "stdout",
     "output_type": "stream",
     "text": [
      "22500\n"
     ]
    }
   ],
   "execution_count": 187
  },
  {
   "metadata": {
    "ExecuteTime": {
     "end_time": "2025-02-22T14:55:34.310895Z",
     "start_time": "2025-02-22T14:55:34.167923Z"
    }
   },
   "cell_type": "code",
   "source": [
    "for review, label in train_set.take(1):\n",
    "    print(f\"Review: {review}\")\n",
    "    print(f\"Label: {label}\")"
   ],
   "id": "c611d83b54734b8a",
   "outputs": [
    {
     "name": "stdout",
     "output_type": "stream",
     "text": [
      "Review: [b'This is a documentary that came out of the splendid work of a Canadian landscape photographer whose interest has long been in the ravages left on earth by the excavations or buildings of man. It begins with a vast factory complex crammed with people making a great variety of little things, parts of high-tech equipment presumably; it isn\\'t really made very clear. The emphasis is on how big the place is and how many people are there and how they\\'re herded around outside in little yellow jackets. The film also shows the photographer working on a tall structure to do a still of the array of these people outside the factory, and talking with his crew as he does so. This is a world of relentless industrialization. It\\'s a relief at least to know these soulless images aren\\'t going to be presented without a human voice, as is the case in Nikolaus Geyrhalter\\'s gleefully cold documentary about the food industry, \\'Our Daily Bread.\\' \\'Manufactured Landscapes\\' contains images of people scavenging e-waste and a town (many towns, really) being wiped out by the biggest dam ever, with a single plangent trademark shot of a little girl in the rubble of her own neighborhood eating out of a bowl using a pair of chopsticks almost bigger than she is. Some of these scenes, the ones with miserably underpaid workers slaving in dangerous and toxic places, might have been shot memorably by the premier engag\\xc3\\xa9 photographer Sebasti\\xc3\\xa3o Salgado. But this photographer isn\\'t as interested in seeing people up close. His orientation places him somewhere in between Salgado and the cold, neutral modern landscape photographs of Lewis Baltz.<br /><br />All this happens in China, of course, though there is earlier footage in black and white of the photographer working around a large shipbuilding site in Bangladesh. It is backed up by music in a New Age industrial style that is alternately soothing and oppressive. There are a good many stills of the photographer\\'s work--or were some of them made by the film crew? It isn\\'t made clear.<br /><br />Edward Burtynsky is the name of the photographer. We see people wandering through exhibitions of his beautiful work-- big dramatic prints of carefully composed view camera color images with a handsome glow. The irony is that Burtynsky makes such unique and glorious pictures of places that are essentially blighted, and to the ordinary eye are dispiriting and boring. He admits himself that he takes no political stand. When we are able to compare his images with those caught by the roaming eye of the film\\'s cinematographer Peter Mettler, Burtynsky\\'s work almost amounts to a kind of glorification, and hence falsification. But he is showing us places that, if we look closely, reveal their full dark story of ravage and neglect no matter how finely crafted the photographs of them may be.<br /><br />Logically, but not entirely fortunately, it is Burtynsky whose voice-overs narrate most of the film as it ranges over various sites. Burtynsky\\'s \"epiphanies\" may have inspired his decades of fine work, but they amount to nothing but truisms about how we\\'re changing the planet irreparably; are dependent on oil, which will run out; that China has come into the game of massive industrialization late, and so may burn out early with the depletion of fossil fuel. The interest of \\'Manufactured Landscapes\\' would be much greater if there were perceptive new ideas to accompany it. The reasons for watching it are two: to see glimpses of Burtynsky\\'s work and the raw materials, the spaces he visits and chronicles so beautifully; and to observe scenes from the vast, awesome, daunting, and rather horrifying industrialization of modern China.<br /><br />Because of the limitations of the narration, the idea of the title \\'Manufactured Landscapes\\' feels insufficiently developed. It even seems a misnomer. New landscapes they are, but they are the byproduct of manufacturing rather than \"manufactured.\" \\'Landscapes of Waste\\' or \\'Wasted Landscapes\\' might be better titles. There is much room left by this documentary for more intellectually searching work on film about this intriguing subject; and those who want to know more about Edward Burtynsky might do better to peruse his books or exhibitions.'\n",
      " b'One question: Why? First off, the premise is not funny or engaging at all. They use taped interviews, and take the audio to animate ite with animals speaking the parts. First off, the interviews aren\\'t funny or entertaining to begin with, and even if they were, I am sure they would be a lot more entertaining being viewed as they are originally, without being turned into cartoons. How does that add any hilarity to it? I turned on CBS\\'s Monday night sitcom line-up, (which has become a regular way for me to relax after stressful Monday workdays) and found this on. Of course, the sitcom line-up would be reruns anyway, being summer, but seeing those episodes over again would have been more entertaining. I tried to give \"CC\" a chance. I really did. When it started, I figured, well, maybe it will be funny. Nope. And then it kept going. It was a long half hour.<br /><br />And I can almost see if there was a purpose, if the interviews were shown in their entirety, and had points to them. But no, it was just one-line clips, cut and pasted together really quick. It was like a horrible dreadful version of Cartoon Network\\'s \"Robot Chicken.\" I wasn\\'t a fan of CBS\\' now-cancelled sitcom \"The Class.\" WHile that was on, it was one half-hour of the line-up I would struggle through. But if it came down to me deciding a whole season of that or three more episodes of \"Creatures\"....let\\'s just say I\\'d take the \"Class.\" Considering it\\'s been a couple hours since it aired, and I come on here to see I am the first to comment...I guess that\\'s a good sign that nobody watched it, and that it won\\'t last much longer. Cartoon roadkill.'\n",
      " b\"Well I don't know where to begin. Obviously this was a made for TV movie, so my expectations were low. I was pleasantly surprised by the overall direction of the second hour, but anything before or after that seemed to be a paint by the numbers sort of movie.<br /><br />And talk about bad chemistry between the tow lovebird detectives. ..<br /><br />I would go more in depth, but this movie doesn't really deserve it. Grade: D+ (IMDB rating 3/10)\"\n",
      " b'This is a trio of tales, \"Shakti\", \"Devi\", and \"Kali\", about an experimental commune (or some such thing) called the Taylor-Eriksson group, which took people on journeys inside themselves and into the realm of the unknown, and left a bit of damage here and there, I\\'d say. Many years later some of that damage is still lurking and waiting for the right moment to show itself. Shakti tells the tale of a woman whose husband died mysteriously, in fact, he was torn apart, and the suspect was a man that may not have existed. Seems this woman is able to project some inner demon, or so finds out the sister of the man who was killed when she attempts to talk to this woman while posing as a reporter. Devi tells the tale of a young man who wants to \"jump out of his skin\". He\\'s a skinhead, a speed freak, and is sent to see a psychiatrist who just happens to be a former member of this commune, which results in the good doctor helping the young man to realize his desire. This is probably the best of the three segments. Kali tells the tale of a healer, who attempts to \"heal\" this woman who was a part of this commune and lets loose some kind of demon that has lived in this woman, but one wonders if he did it or if SHE loosed it because it could not survive in her any longer. All three of these tales are pretty creepy and suspenseful because you\\'re never really sure what to expect, and the premise and the settings are so unlike those of conventional horror films that it adds to the strangeness. This has a sort of low-budget look and feel to it but it also manages to conjure up a pretty creepy atmosphere throughout, much to its credit. I watched this with my mouth hanging open a good portion of the time and when the real scares (and gore) came it hit pretty hard. I found this to be a very interesting and disturbing film and liked it a lot. A good little find, this one, I\\'d give it 8 out of 10.'\n",
      " b\"This was a top-notch movie with a top-notch cast. Danny Glover, Tony Danza, Joseph Gordon-Levitt, and especially Christopher Lloyed are well-cast in this charming movie about real-life angels helping the Angels baseball team. You never know, it could happen. I loved Lloyd's role in it. He was hilarious. The story is about turning your life around, as the kid's belief in Angels helped turn around angry, hardened, and embittered manager Glover see the best in people. The movie was well made and also about seeing the best in people and reaching your dreams. It was funny, charming, touching, and sad, all very nicely done. You will like (or love) it. I guarantee.<br /><br />*** out of ****\"\n",
      " b\"I really have to say, this was always a favorite of mine when I went to see my grandma. And it still is. It is very, very close to the book. The way it is filmed, and the players were just all excellent! I have to recommend this movie to everyone who hasn't seen it. Almost everyone I talk to hates TV movies, but this was really great! I gave it 10/10.\"\n",
      " b\"Vivacious & irrepressible, ANNE OF GREEN GABLES brings unlooked-for happiness into the lives of a lonely old sister & brother on Prince Edward Island.<br /><br />Lucy Maud Montgomery's well-loved novel comes to life in this wonderful little movie. Excellent production values, a literate script and first class performances gives the story exactly the touch of quality it deserves.<br /><br />Taking her professional name from the character she portrayed, actress Anne Shirley is a joy as the red-headed fourteen-year-old orphan who completely alters the lives of her new guardians. Completely assured in her starring role, Miss Shirley is a delight, entertaining the viewer with Anne's boundless imagination, quick temper and not-so-secret sorrows.<br /><br />Playing the stern spinster who gives the girl a home, Helen Westley also completely commands her role; the viewer will enjoy seeing this sharp-tongued woman slowly unbend to Anne's affection and child-like innocence. Australian character actor O. P. Heggie gives one of his finest performances as Westley's shy, gentle brother who welcomes Anne into his heart from the moment he arrives to fetch her from the railroad station.<br /><br />Tom Brown most agreeably plays the schoolboy who quickly grabs Anne's attention. Sara Haden is appropriately prickly as a nosy neighbor. Charley Grapewin makes the most of his few moments as Avonlea's doctor.\"\n",
      " b\"This movie is one exception of the rule that a sequel is worser than the original. Its comedy at its best. This movie is a fast action slapstick comedy where something seems to happened every second. At more than one occasion the entire audience laughed loudly at a joke.<br /><br />Its a big advantage to have seen the first movie but its not a requirement.<br /><br />G\\xc3\\xb6ta kanal 2 also have the advantage of being a parody on the latest decades reality production TV series such as survivor (expediton: Robinson in Swedish) This is a Swedish movie for the Swedish audience. Thus don't see it if you aren't familiar with Sweden and its language. Otherwise: Have fun! Johan\"\n",
      " b'As a young boy, I always sort of hated \"Cinderella,\" since I was outvoted by my two sisters when my parents were considering what Disney movie to buy. I wanted \"Dumbo,\" but my sisters won out, and we got \"Cinderella.\" They thoroughly enjoyed the movie while I sulked in the back of the room playing with my Star Wars action figures.<br /><br />A lot has changed since then. My love of the Disney theme parks landed me an internship at Walt Disney World, and I now have two young nieces. I like to showcase Disney to them as much as I can, and we recently watched \"Cinderella\" together. With my newfound appreciation for all that is Disney, I watched \"Cinderella\" with a new perspective and was impressed with what I saw.<br /><br />From the beginning of the movie, though, I didn\\'t quite understand why Cinderella was trapped in such a horrible predicament. Why was she such a slave to her stepfamily, and why couldn\\'t she just run away? I wasn\\'t too sympathetic to Cinderella, but as the story progressed, I found myself becoming immersed in the story. Maybe the eye-catching animation or the fun-loving characters drew me in, or maybe it was the timeless songs. Listening to songs like \"Bibbidy-Bobbidy-Boo\" and \"A Dream is a Wish Your Heart Makes\" sort of whisked me back to the theme parks. I can picture myself in that carefree and fun atmosphere while looking at the awe-inspiring Cinderella Castle.<br /><br />Something about this movie just evokes the magic of Disney. That may make many people scoff, but go to the Magic Kingdom and see all the little girls dressed up like Cinderella that are excited to be in this fantasy world, and you\\'ll know what I\\'m talking about. The images of Cinderella and the glass slipper - as well as Mickey Mouse, Winnie the Pooh, and Tinkerbell - embody why Disney is one of the most beloved companies in the entire world.<br /><br />While \"Cinderella\" may not be the strongest story, it is sort of iconic in Disney and movie history. It represents that fun, idealistic, and fantasy-like wonderment we held when we were kids. I imagine this movie holds a lot of meaning to many, many people out there. It may not be my favorite Disney movie, but it does represent all that I love and admire about the Company.<br /><br />My IMDb Rating: 10/10. My Yahoo! Grade: A (Outstanding)'\n",
      " b\"As a Pok\\xc3\\xa9mon fan I enjoyed this movie very much. It introduces new legendary Pok\\xc3\\xa9mon (as each movie does) and adds depth to the relationships between its characters. I however do not expect those who are not Pok\\xc3\\xa9mon fans to enjoy it(This includes MOST adults). Some of the lines were corny, but that can be somewhat unavoidable when dubbing the movie over to English. The animation was beautiful, although there were a couple parts that did not look good. And although the villain is kind of corny, I think that the movies have done a good job of cycling through different types of villains, and I guarantee you that they aren't all like this one. Those who did not like it, I say to each his own, but Pok\\xc3\\xa9mon fans will love it.\"\n",
      " b\"Not that he'd care, but I'm not one of Simon Pegg's friends. If I was, there's a good chance we'd fallout if he continued to make dross like this. The trouble is, he found a successful formula as the bumbling, ordinary guy-next-door type in Shawn of the Dead, Run Fat Boy Run etc, but it's starting to wear thin. Here his character has no discernible qualities, he's rude and obnoxious, and thinks he's funny when he frankly isn't. When transferred to New York from London (and I presume this link is meant to appeal to viewers on both sides of the Atlantic), he proves equally out of place with his new colleagues. Still, is it any wonder when amongst his jolly japes he hires a transvestite stripper to appear at an editorial meeting an act of revenge for his boss. Yet somehow, Kirsten Dunst starts to warm to him, even though he's done nothing nice. Oh, and because he's a superficial male he falls for Megan Fox at first sight, possibly because her character is as shallow as his. It all makes for a predictable film conclusion, although I can't see any viewer expressing how this mirrored their life. The shame is that on paper this is a cast supposedly worth watching. Pegg, though, plays himself, Kirsten Dunst seems to just go though the motions, creating no on screen chemistry, and Megan Fox isn't stretched at all. The one huge plus is Miriam Margolyes, as Pegg's New York landlady - now if she had been on screen longer.....\"\n",
      " b\"This is the best made-for-TV movie of all-time! Am I saying this because I'm a huge Silverstone fan? Partially, but even without her, I'd still see it. I'm a fan of serial killer genre films, and believe this to be a great entry in that category. Also, Mary Giordano easily ranks among Alicia's top five character creations. Totally memorable - like she really exists. I'd have her on my side, too, if there was a mystery to be solved. She plays the character, like she does with her real life, with complete confidence in everything she does. Seems sweet, honest, nice...just like she is in real life. So is that acting? Yes, indeed, she's sort of a rebel once again. This time she's not bad, she's too good and a bit afraid to do things that seem above the law. But she doesn't do things the normal teenager would do. Instead, she spends her time reading detective mags and solves crimes. A cliche abounds: she's sort of avenging her father's death, in a different way than vigilante-style. At the time, Alicia seemed to be playing the same characters: rebellious, seductive, without a parent, a loner. This happens here, too, but she's a bit nerdy this time around. That doesn't matter; she's still cool as a nerd. Check this out soon, or else Giordano will be investigating why you haven't...\"\n",
      " b\"The 1930' were a golden age of Los Angeles with its film industry and great potential of various other possibilities to become rich and famous and happy. People were arriving there hoping to fulfill their dreams. Expecting open arms and welcoming offers there were only a few who managed to succeed and find their way to stardom, majority then condemned to live starving, disillusioned and unwanted, searching for a bit of respect in dirty bars and nasty hotel rooms. <br /><br />Young Italian-American writer Arturo Bandini arrives to LA on a similar quest - to spread his charms around to get one of those beautiful wealthy women and to write an excellent novel that would set him on a career path, having so far written a single short story published in an obscure anthology. Wishing to create a romantic masterpiece he seems to be unable to produce anything without experiencing it himself though, occasionally, he sends pieces of magazine stories to a local editor that helps him survive. He is proud to present himself as an Italian but deep in his heart he truly feels his Italian origin as a burden. The little money and the courage to conquer the world he once had are all long gone and watching his dream turning into a hangover he holds a last single nickel to spend. <br /><br />The coffee she brought him was cold and sour and spitting a curse on her triggers a never-ending relationship of insults, unspoken excuses and a love concealed beneath. Camilla being an uneducated girl trying to receive US citizenship through a marriage also carries her heavy cross of a non-perspective racial heritage. Though she is much of a stronger and life experienced person her situation as a beautiful Mexican woman is much harder to deal with than Arturo is able to realize. <br /><br />Is it obvious that Arturo eventually finds his inspiration to work on the novel? Is it possible that their love finally finds its place in the sun? Is it likely that their romance takes an unlucky turn?<br /><br />It is very surprising to find out that the chemistry between the two main characters, performed by Salma Hayek and Colin Farrell, does not work. The relationship lacks the raw and authentic feelings. Hayek though livelier a character compared to Farrell's forgot to arm Camilla with the passion and strength of her once brilliant character Frida. Also it is hard to have faith in a character which being intelligent but uneducated and illiterate uses quite difficult vocabulary and complicated sentences. A tougher character of a Phil Marlowe sort would definitely suit Farrell better, though he looks stunning in a period costume, he seems very lost trying to find the fragile world of a twenty-year old dreamer balancing between a hidden love and desire to be true to himself. <br /><br />Feeling embarrassed watching the two on the screen is not right. Their relationship might have been wild but it is more likely what a thunder and a lightning are without a storm, far from real passion, feelings just described not felt inside. It is very sad that such a potential of an interesting script and good actors was wasted, turned into a grey average of soon-to-be-forgotten.\"\n",
      " b\"I really tried to like this movie but in the end it just didn't work for me. I have seen most of Kitamura's output and have found it to be very variable. Alive, like all of his films has an interesting plot, some nifty sequences and a fair amount of creativity. However, these qualities are in painfully short supply in Alive. The plot is cool if not all that original and could have made for a pretty ace film. Unfortunately, the pacing is painfully slow and the film takes an age to get going, before reaching fairly predictable places. The action is just about passable, with the final fight pretty cool, and the earlier one about OK. The earlier one is also marred by overspeedy camera-work, making for less coherency. There are some neat visual effects and some interesting ideas floating around in the dialogue but the film still drags badly. The characters are neither well fleshed out nor well acted and the setting and general color scheme is drab and boring. The film is not completely terrible and has some points of interest, perhaps judicious use of the fast forward button could improve it. With about twenty minutes taken off the run time this could be a pretty decent sci fi thriller. But the full length film is dull. Only recommended to very patient and determined Kitumura fans.\"\n",
      " b'During the Civil War, there were many cases of divided loyalties; obviously, many occurred \"In the Border States\", where North met South by happenstance of geography. From the border, young father Owen Moore goes off to join the Union Army. Shortly, Confederate soldier Henry B. Walthall, separated from his regimen, wanders onto the enemy\\'s property, desperate for water; he finds a supply where the Unionist\\'s young daughter Gladys Egan sits. When the Yankee soldiers track him down, Little Gladys innocently helps the Confederate hide. Later, when he returns to kill her father, the little girl\\'s kindness is remembered. A sweet, small story from director D.W. Griffith. Location footage and humanity are lovingly displayed. <br /><br />**** In the Border States (6/13/10) D.W. Griffith ~ Henry B. Walthall, Owen Moore, Gladys Egan'\n",
      " b'A have a female friend who is currently being drawn into a relationship with an SOB who has a long term girlfriend. Of course the SOB is very good-looking, charming, etc and my friend is a very intelligent woman. Watching Jean Pierre Leaud\\'s character at work is exactly like watching what goes on in real life when guys like that destroy the lives of our female friends. It\\'s tragic, and you know she\\'s going to end up very hurt, but there\\'s nothing you can do. Leaud is brilliant. Totally empty. A blank throughout, he pulls the faces and tells the stories he thinks will get the reaction he wants.<br /><br />The scene two hours in when Leaud and Lebrun have made love, and the next morning he puts on a record and, very sweetly and charmingly, sings along to amuse her is brilliant. The \"What the hell am I doing here with this idiot\" expression that flickers back and forth across her face will be in my memory for a long time to come.<br /><br />It\\'s a long film, but see it in one go, preferably in a cinema. Takes a while to get into, but then the time just disappears.'\n",
      " b\"This movie is why I found this website. I couldn't find this movie anywhere else! I am so glad we found it here! We have seen it on TV before and wanted desperately to find it and buy and have several friends interested in buying it. One other poster commented that it is was boring, though I must say that it is NOT. Especially if you are a horse person, you will love this movie. The horses are awesome, well trained and the movie is well done. It is certainly one we will be purchasing for our home DVD library. We will be recommending it to our friends. The bond made between man and horse in this film was so inspiring and made you want to spend more time with your horses. This is certainly a movie that we will watch several times.\"\n",
      " b\"Great drama with all the areas covered EXCEPT for screenlay which was too slow and should have shown more relevant scenes like Pitt's character interviewing the President,or Pitt getting murdered instead of just having it described to us.Scenes like those would have kept the audience awake.Cutting away some useless minutes could have made more room for more heartpounding scenes like those.The dragging of the film kept this one from all time greatness although to see Pitt here makes the film so worth watching.Also,big fans of fising,early 20th century styles and Montana will really like this as well........\"\n",
      " b'This film is a flagrant rip-off of one of the best novels of all time, Silas Marner by George Eliot.<br /><br />The details of the film shown on IMDb do give acknowledgement to the original authoress but I did not see this at the beginning of the film, only a credit at the end of it saying \"suggested by the book Silas Marner\". Suggested? It was nothing but a complete rip- off of all the essential elements of the story:<br /><br />A wronged and sad old man, an artisan, poor and lonely, has all his money stolen. One night a child wanders up to his door as her mother lies dying in the snow outside. The man takes her in and brings her up until one day the local squire (or rich politician here) demands to adopt the child. It is he who has fathered the child during an illicit affair years before. The battle then ensues as to who should have legal custody of the child.<br /><br />In this and every other aspect of the film, the story is exactly the same. In only one can I find a difference. Silas Marner had epilepsy - but perhaps that would have strained the acting abilities of Mr Martin too far. On top of that he has his hair dyed in some carrot juice concoction (presumably to make him look younger, but actually making him look more the clown that he is)! There is also the addition of meaningless jokes, that this offbeat comedian cannot resist bringing into the story which have no part in it and only detract from the profoundness of the story. Like when the child cries in the courthouse declaring she can only be happy with the man who has fathered her all these years. This is conveyed in the film by the girl applying nasal decongestant to the bridge of her nose to make her tearful!<br /><br />I am surprised that legalities and integrity within the film industry permit such a film to be made. If I was a trustee of George Eliot\\'s I would insist on reparation. If I was Steve Martin I would send the profits to that estate, or to the poor. At the very least it should be entitled Silas Marner - adapted by S Martin. Or better still removed from the archives!<br /><br />If you are interested in this story - and I hope you are - dismiss this completely and watch Silas Marner. Or read the book! The BBC made an excellent adaptation of it in the 1980\\'s.'\n",
      " b'Warning! Spoilers!<br /><br />This is your typical disney film.<br /><br />1.Policticly correct what with the foster home that has an even divison of races.<br /><br />2.Insults the viewers intellect with its simplistic lines.<br /><br />3.The boy\\'s slezy father is almost directly taken from the Never Ending Story 2.<br /><br />4.In a world full of crime,disase,corruption,starvation and other proplems that need to be taken care of,only a losing team is worthy of divine intervention.UGHHHH!!!<br /><br />5.Did you know that angels don\\'t like swearing?! Where the heck did that come from!<br /><br />6.In helping the team,the angel cause pain and humilation on the opposing team.Very angelic indeed!<br /><br />7.The team the angels are helping are called...can you guess...THE ANGELS! Disney at its worst!<br /><br />8.\"Just got his training wings.\" Brillent line!<br /><br />My conculsion:I did not like it at all.'\n",
      " b'Hollywood\\'s misguided obsession with sequels has resulted in more misfires than hits. For every \"Godfather II,\" there are dozens of \"More American Graffiti\\'s,\" \"Stayin\\' Alives,\" and \"Grease 2\\'s.\" While the original \"Grease\" is not a great film, the 1977 adaptation of the long-running Broadway hit does have songs evocative of the 1960\\'s, energetic choreography, and an appealing cast. When Paramount began work on a follow-up, the producers came up nearly empty on every aspect that made the original a blockbuster.<br /><br />Fortunately for moviegoers, Michelle Pfeiffer survived this experience and evidently learned to read scripts before signing contracts. Her talent and beauty were already evident herein, and Pfeiffer does seem to express embarrassment at the humiliating dance routines and tuneless songs that she is forced to perform. Maxwell Caulfield, however, lacks even the skill to express embarrassment, and his emotions run the gamut from numb to catatonic. What romantic interest, beyond hormones, could the cool sassy Pfeiffer have in the deadpan Caulfield? That dull mystery will linger long after the ludicrous luau finale fades into a bad memory. Only cameos by veterans such as Eve Arden, Connie Stevens, and Sid Caesar have any wit, although Lorna Luft does rise slightly above the lame material.<br /><br />Reviewers have complained that, because \"Grease 2\" is always compared to the original, the movie comes up lacking. However, even taken on its own terms, the film is a clunker. After a frenetic opening number, which evidently exhausted the entire cast, the energy dissipates. With few exceptions, the original songs bear little resemblance to the early 1960\\'s, and the only nostalgia evoked is for \"Our Miss Brooks\" and \"Sid Caesar\\'s Comedy Hour.\" The jokes fall flat, and the choreography in a film directed by choreographer Patricia Birch is clumsy to be polite. However, worse films have been inflicted on audiences, and inept sequels will be made as long as producers seek to milk a quick buck from rehashing blockbusters. Unfortunately, \"Grease 2\" is not even unintentionally funny. Instead, the film holds the viewer\\'s attention like a bad train wreck. Just when all the bodies seem to have been recovered, the next scene plunges into even worse carnage.'\n",
      " b'To those who say that this movie deserves anything below the unflaunting grace that it showed, I disagree. This is an amazing documentary about a shocking day.<br /><br />IMDB asks us to rate this movie. I beg you to consider the fact that the documentary was made. The courage that it took to shoot this film is most notable. We find that the two brothers are split up when that moment happened. They continue to document the bravest of the brave without knowing about their own and eachother\\'s safety. To judge whether it\\'s nobler to shoot a video of that tragedy or to save the lives as those amazing, amazing firefighters did is not mine to answer. I just know that in 30 years, a class full of children will not know one without the other.<br /><br />I submit a wholehearted 10. This is why the art of filming was created! To capture the natural emotion that real life offers. You can keep your kung-fu junk. Romance is cute. Action will never reach this level. This movie, 9/11, will be timeless in that it did not glorify itself. It didn\\'t have a sneak-peek. It didn\\'t have all of the blatant vanities that a lion\\'s share of the many movies on the many screens blare. It had class, composure, substance, and it had a record of the day that changed the modern face of America and even the world. It spoke of things inescapable to the eye of the camera. Please consider this movie, as it itself proclaims, a stirring tribute to all of those who fell because of the free, beautiful name of America.<br /><br />How can you give anything less to a movie that shows, not embellishes, the natural bravery of real people acting in unreal times. I love \"The Godfather\" but \"9/11\" is forever a different kind of movie as this is now a different kind of world. It is art without question or questions.<br /><br />jf'\n",
      " b'I don\\'t understand how \"2 of us\" receive such a high rating... I thought that the first half dragged on and the second half didnt make sense, followed by an unresolved climax which was not worth the trouble. However, I did like Jared Harris\\' performance of John Lennon which was worth the wasted 2 hours.'\n",
      " b'This is probably the best documentary I have seen in a very long time. Jonny Kennedy was and is still is a tragically beautiful inspiration. Not only was he a survivor of one of the most painful diseases out there, but he used his beauty to show the world that there is life after death and never to give up reaching people and spreading his love. Watching minutes of his life long struggle was heart-wrenching. Listening to his smart ass remarks and seeing his adorable gestures was heartwarming. And seeing him smile was indescribable. I feel blessed to have been able to be touched by this tiny giant. Please, if you ever have a chance to watch this film - consider yourself lucky to have met Jonny Kennedy.'\n",
      " b\"Don't get me wrong - I love David Suchet as Poirot. I love the series as well as the movies but enough already re: Death On The Nile. Everyone has done this one! We know who dies. We know why they die. We know who the killer is. We know how it was done. So I say enough already! Mr. Suchet could have used that awesome talent in another one of Agatha Christie's novels. I will say that the acting by all the actors was superb. The sets were terrific and very realistic. I especially liked David Soul but I was surprised at how 'awful' he looked. I hope he doesn't look that way in 'real' life! I honestly can't remember from other movies whether the very end was the same. Somehow I don't think so. I thought that was a rather brilliant touch whether or not Ms. Christie wrote it that way. I would much rather have that ending then wasting away in prison!\"\n",
      " b'Having just watched this movie, I almost feel like having wasted 2 hours of my life, but I guess there is some good in everything:<br /><br />If I was to rate this as any other movie, it can only receive 1 or 2 tops, but if I grade it like a low budget ind. movie, it may get 3 or 4. That is a movie is supposed to be \\'complete\\' and without too long passages of boredom or waste of time. This movie isn\\'t. But I guess a lot of independent movies are about showing movie skills, and considering this, this movie has a few highlights. If I am to comment on what the directors should take with them to their next project, I guess the distorted sound effects had some quality. They also manage to build some characters, this however takes me to what they should leave out in their next project, because the character building takes too long, since it is mostly irrelevant for the movie plot. Neither should the long spaces of time dedicated to walking around be continued in the next project - whats the point? I guess this movie tries to be a little bit of everything (building characters, suspense and a plot), and ends up being nothing (not a lot)<br /><br />This movie tries too much and too hard, and I guess it should have been cut to a short film. I could easily manage to find one hour of walking around or pointless dialogue to cut from the movie.<br /><br />There is too much irrelevant things going on in this movie. The story should have been more streamlined. I know there is supposed to be some mystery in this movie, but a slight surprise to who the killer is, doesn\\'t make a mystery. The story behind the \"mystery\" receives almost no attention during the film, which leaves the final \"point\" as a quick an unsatisfying wrap-up. <br /><br />Therefore I would like to say this movie was a nice try, but I cant. I hope the directors learn from their mistakes, and produce a better product next time.<br /><br />If you don\\'t have an interest in bench learning from producing low budget movies, there is no need to watch this - not even too see why everyone thinks its bad.<br /><br />As others have stated I am pretty sure the many 10\\'s given to this movie are from people somehow involved in the movie. This movie could not receive a \"10\" judging from any remotely objective standpoint.'\n",
      " b'When DEATHTRAP was first released, the poster--reproduced on the cover of this DVD--offered a graphic akin to a Rubik\\'s Cube. It is an appropriate image: originally written for the stage by Ira Levin, who authored such memorable works as ROSEMARY\\'S BABY and THE STEPFORD WIVES, the play was one of Broadway\\'s most famous twisters, and under Sidney Lumet\\'s direction it translates to the screen extremely well.<br /><br />DEATHTRAP is one of those films that it is very difficult to discuss, for to do so in any detail gives away the very plot for which it is famous. But the opening premise is extremely clever: Sidney Bruhl (Michael Caine) is the famous author of mystery plays, but these days he seems to have lost his touch. After a particularly brutal opening night, an old student named Clifford Anderson (Christopher Reeve) sends him a script for a play he has written. It is called \"Deathtrap,\" and Sidney recognizes it as a surefire hit. Just the sort of hit that would revive his career... indeed, a hit to die for. And when Clifford visits to discuss the play, events suddenly begin to twist in the most unexpected manner possible.<br /><br />Like Anthony Shaffer\\'s equally twisty SLEUTH, DEATHTRAP is really a story more at home on the stage than the screen--to reach full power it needs the immediacy that a live performance offers. Still, under the expert guidance of director Sidney Lumet, it makes a more-than-respectable showing on the screen. Much of this is due to the cast, which is remarkably fine. Michael Caine gives a truly brilliant performance, Dyan Cannon is funny and endearing as Sidney\\'s relentlessly anxious wife, and Christopher Reeve gives what might be the single finest performance in his regrettably short acting career. If you can\\'t see it in a first-rate theatrical production, this will more than do until one comes along.<br /><br />Gary F. Taylor, aka GFT, Amazon Reviewer'\n",
      " b\"I went to see Hamlet because I was in between jobs. I figured 4 hours would be great, I've been a fan of Branagh; Dead Again, Henry V. I was completely overwhelmed by the direction, acting, cinematography that this film captured. Like other reviews the 4 hours passes swiftly. Branagh doesn't play Hamlet, he is Hamlet, he was born for this. When I watch this film I'm constantly trying to find faults, I've looked at the goofs and haven't noticed them. How he was able to move the camera in and out of the Hall with all the mirrors is a mystery to me. This movie was shot in 70 mil. It's a shame that Columbia hasn't released a Widescreen version of this on VHS. I own a DVD player, and I'd take this over Titanic any day. So Columbia if you're listening put this film out the way it should be watched! And I don't know what happened at the Oscars. This should have swept Best Picture, Best Actor, Best Direction, best cinematography. What films were they watching? I felt sorry for Branagh at the Oscars when he did a tribute to Shakespeare on the screen. They should have been giving a tribute to Branagh for bringing us one of the greatest films of all time.\"\n",
      " b'Well, on the endless quest for horror, we will come across this film, apparently re-released on DVD recently for some ungodly reason. The transfer is awful and the quality just sucks. I don\\'t think this is due to a bad remaster or anything, I just think the film is poorly done.<br /><br />Obviously filmed at an abandoned school with a budget that was no doubt wasted on cheap beer and no talent hacks, \"Slaughter High\" starts out slow and doesn\\'t pick up pace until about an hour in. First, we get to see a \\'nerd\\' as he is picked on by a group of...I actually don\\'t even know what they were supposed to be...jocks? The ringleader, with his ultra hooknose is so ugly he should have definitely been cast as the nerd. Then, there is a \\'big guy\\' and a couple of dumb losers and chicks who are supposed to be \\'hot\\' but aren\\'t. It\\'s a mystery why this group of rejects is picking on one of their own, but I guess the viewer is to assume these are \\'cool kids\\' picking on a dweeb. The casting choices are horrendous as most of the high schoolers are played by thirty-somethings. As other reviewers on here have pointed out, the actors (if you can call them that,) are a bunch of Brits whose accents slip out numerous times throughout this piece of crap. We are left to assume that this group of \\'children\\' were the only students at this school, as their \\'reunion\\' is only them at the school, which is now shown to be abandoned, is just them.<br /><br />The kills are lame, the gore is not great and the script is like Scooby Doo with real people; lines like: \\'This place gives me the creeps...\\' and \\'Someone gimme a beer\\' are highlights...It\\'s just not good. Skip this one unless you are getting wasted with some friends and wanna laugh at a real lame attempt at a slasher. If you wanna see good, get Bava\\'s \"Bay Of Blood,\" done 14 years earlier and a heck of a lot better. If you wanna see a good BAD slasher, see \"Just Before Dawn\" or \"The Burning.\" 2 out of 10, kids.'\n",
      " b\"wow this is the worst movie ever. the only reason i signed up for IMDb was so i could complain about this movie. i have never walked out of a theater or stoped a DVD but i almost stopped this one (and i should have). but i watched it all the way to the end just to get let down again with an absolutely terrible ending. wow if this is all that wes craven can produce his time is long up. I've never seen the first one and will never after watching this. its terrible acting with a terrible plot. hey looks someone is shinning a mirror at us lets go check it out. and the sad part is that when this movie came to DVD it was completely checked out at blockbuster forever. so i feel bad for all the people that saw this junk.\"\n",
      " b'It all started with True Heart Bear & Noble Heart Horse get the club to safety. Noble Heart Horse meet Dawn & John & took them to see True Heart Bear. Later, The care meter went down more & True Heart Bear & Noble Heart Horse check to see if it Dark Heart but they can\\'t go unless the club at care for so they ask Dawn & John to care for the club. After True Heart Bear & Noble Heart Horse Come back, They send Dawn & John back to camp. Than the club & cousin bears have grown up to get ready to fight Dark Heart. At the end, Dark Heart kidnap all the care bear & the kids (Dawn & John) have to tell Christy that Dark Heart is evil. Than they work to together to save the Care Bears. Later, True Heart Bear & Noble Heart Horse found out it Dark Heart shadow & return to care land to find that their gone. The Kids (Dawn, John, & Christy) come but they was not powerful to stop Dark Heart. True Heart Bear & Noble Heart Horse come to help Dawn, John, & Christy to free the other care bears but Christy got in the way & was hit by Dark Heart magic. Than Dark Heart saw Christy got hit & stop fighting the care bear in order to help her but he can\\'t because Dark Heart (himself) don\\'t have the power of caring to save Christy. The care bears & the kids help Dark Heart save Christy. Now Dark Heart starting to care & became a real boy to fall in love with Christy. Dark Heart is now a real boy & help out Christy to work out in camp.<br /><br />This is a great move ever & the best Care Bears Movie I ever seeing.<br /><br />I like all the care bears movies & I can\\'t wait to see \"Care Bears: Big Wish Movie (2005)\".<br /><br />Who like this movie?'\n",
      " b\"Ahh this film had so much potential! A good cast of quality B actors, the thighs of Jessica Simpson and... that is about it!<br /><br />I believe some guy in some unnamed marketing department had an idea. Basically, lets do a kind of Legally Blond film, but do it in New York. That big bright city of chances, power and money and where everyone is a heartless, power/money hungry person. Let's add to this Jessica Simpson, small town bimbo, that brother of Owen Wilson and for some no apparent reason Andy Dick (only because of him you should ignore this film).<br /><br />Basic story line:<br /><br />Boy leaves girl for NY, girl follows, boy cheats, girl stays in NY with cousin, gets a job under false pretenses, mucks up, is courted by other boy (Brother Wilson) and together save the day and kiss.<br /><br />a few words come to mind when reflecting upon this film, i.e. dire, awful, unbearable, intolerable and xenophobic<br /><br />Just don't watch this film, you will be happier. One reviewer referred to Guantanamo and i definitely agree with him. This film induces shock. And I know what you are thinking... at least at some point will I see Simpson naked or close too. It's not gonna happen, spare yourself the time and YouTube her. You will have better sexy time!<br /><br />The films editing is flimsy, the acting is unbearable, and why do they use blue screens?<br /><br />In conclusion; this is cinematic treason which should be punished to the maximum<br /><br />Another question why does Willie Nelson always play a kind of father figure in almost every Jessica Simpson flick and why are there no black, Latin, Asian or European people in this movie?\"]\n",
      "Label: [1 0 0 1 1 1 1 1 1 1 0 1 0 0 0 1 1 1 0 0 0 1 0 1 0 0 1 1 0 0 1 0]\n"
     ]
    },
    {
     "name": "stderr",
     "output_type": "stream",
     "text": [
      "2025-02-22 23:55:34.297155: W tensorflow/core/kernels/data/cache_dataset_ops.cc:914] The calling iterator did not fully read the dataset being cached. In order to avoid unexpected truncation of the dataset, the partially cached contents of the dataset  will be discarded. This can happen if you have an input pipeline similar to `dataset.cache().take(k).repeat()`. You should use `dataset.take(k).cache().repeat()` instead.\n"
     ]
    }
   ],
   "execution_count": 188
  },
  {
   "metadata": {},
   "cell_type": "markdown",
   "source": "TextVectorization층을 훈련 데이터에 적응시킨다.",
   "id": "bd99753bb9d4e861"
  },
  {
   "metadata": {},
   "cell_type": "markdown",
   "source": "TextVectorization층 테스트",
   "id": "514009439a35ab7e"
  },
  {
   "metadata": {
    "ExecuteTime": {
     "end_time": "2025-02-22T12:39:23.954353Z",
     "start_time": "2025-02-22T12:39:23.952604Z"
    }
   },
   "cell_type": "code",
   "source": [
    "# vocab_size = 10000  # 어휘 사전 크기를 늘림\n",
    "# max_seq_len = 500 # 최대 시퀀스 길이\n",
    "#\n",
    "# # 사용자 정의 전처리 함수: 문자를 모두 소문자로 바꾸고, 구두점을 제거, [CLS]토큰을 추가\n",
    "# def custom_standardize(text):\n",
    "#     text = tf.strings.lower(text)  # Lowercase\n",
    "#     text = tf.strings.regex_replace(text, r\"[^\\w\\s]\", \"\")  # Remove punctuation\n",
    "#     return tf.strings.join([\"[CLS]\", text], separator=\" \")\n",
    "#\n",
    "# text_vec_layer = tf.keras.layers.TextVectorization(\n",
    "#     max_tokens=vocab_size,\n",
    "#     output_mode=\"int\",\n",
    "#     output_sequence_length=max_seq_len,\n",
    "#     standardize=custom_standardize  # 또는 별도로 [CLS] 토큰 추가 후 표준화를 진행\n",
    "# )"
   ],
   "id": "f7fa55d932508383",
   "outputs": [],
   "execution_count": 101
  },
  {
   "metadata": {
    "ExecuteTime": {
     "end_time": "2025-02-22T15:04:49.552099Z",
     "start_time": "2025-02-22T15:04:45.732124Z"
    }
   },
   "cell_type": "code",
   "source": [
    "# training dataset에서 텍스트만 추출하여 adapt 수행\n",
    "train_text = train_set.map(lambda text, label: text)\n",
    "text_vec_layer.adapt(train_text)"
   ],
   "id": "133c494f4abac2a8",
   "outputs": [],
   "execution_count": 198
  },
  {
   "metadata": {
    "ExecuteTime": {
     "end_time": "2025-02-22T12:39:25.087543Z",
     "start_time": "2025-02-22T12:39:25.086311Z"
    }
   },
   "cell_type": "code",
   "source": [
    "# for text, label in raw_train_set.take(2):\n",
    "#     print(text_vec_layer(text))"
   ],
   "id": "d4d747f678239f57",
   "outputs": [],
   "execution_count": 103
  },
  {
   "metadata": {},
   "cell_type": "markdown",
   "source": "### 모델 훈련",
   "id": "e9adae695357463a"
  },
  {
   "metadata": {
    "ExecuteTime": {
     "end_time": "2025-02-22T14:35:36.305435Z",
     "start_time": "2025-02-22T14:35:36.280796Z"
    }
   },
   "cell_type": "code",
   "source": [
    "%load_ext tensorboard\n",
    "%tensorboard --logdir=logs"
   ],
   "id": "cce08a8f3ea1482d",
   "outputs": [
    {
     "data": {
      "text/plain": [
       "Reusing TensorBoard on port 6006 (pid 4955), started 1:56:08 ago. (Use '!kill 4955' to kill it.)"
      ]
     },
     "metadata": {},
     "output_type": "display_data"
    },
    {
     "data": {
      "text/plain": [
       "<IPython.core.display.HTML object>"
      ],
      "text/html": [
       "\n",
       "      <iframe id=\"tensorboard-frame-a86acd6287bd1fc4\" width=\"100%\" height=\"800\" frameborder=\"0\">\n",
       "      </iframe>\n",
       "      <script>\n",
       "        (function() {\n",
       "          const frame = document.getElementById(\"tensorboard-frame-a86acd6287bd1fc4\");\n",
       "          const url = new URL(\"/\", window.location);\n",
       "          const port = 6006;\n",
       "          if (port) {\n",
       "            url.port = port;\n",
       "          }\n",
       "          frame.src = url;\n",
       "        })();\n",
       "      </script>\n",
       "    "
      ]
     },
     "metadata": {},
     "output_type": "display_data"
    }
   ],
   "execution_count": 159
  },
  {
   "metadata": {
    "ExecuteTime": {
     "end_time": "2025-02-22T12:39:39.886843Z",
     "start_time": "2025-02-22T12:39:39.867311Z"
    }
   },
   "cell_type": "code",
   "source": [
    "import datetime\n",
    "\n",
    "# 커스텀 TensorBoard 콜백: on_epoch_end에서 \"lr\" 키 제거\n",
    "class CustomTensorBoard(tf.keras.callbacks.TensorBoard):\n",
    "    def on_epoch_end(self, epoch, logs=None):\n",
    "        if logs is not None and \"lr\" in logs:\n",
    "            logs.pop(\"lr\")\n",
    "        super().on_epoch_end(epoch, logs)\n",
    "\n",
    "model.compile(optimizer=\"adam\",\n",
    "              loss=\"binary_crossentropy\",\n",
    "              metrics=[\"accuracy\"])\n",
    "\n",
    "# 콜백 설정: EarlyStopping, ReduceLROnPlateau, CustomTensorBoard\n",
    "callbacks = [\n",
    "    tf.keras.callbacks.EarlyStopping(monitor=\"val_loss\", patience=5, restore_best_weights=True),\n",
    "    #tf.keras.callbacks.ReduceLROnPlateau(monitor=\"val_loss\", factor=0.5, patience=2, verbose=1),\n",
    "    CustomTensorBoard(log_dir=f\"logs/fit/{datetime.datetime.now().strftime('%Y%m%d-%H%M%S')}\",\n",
    "                      update_freq='epoch')\n",
    "]\n"
   ],
   "id": "5c79094f8b50cb24",
   "outputs": [],
   "execution_count": 105
  },
  {
   "metadata": {
    "ExecuteTime": {
     "end_time": "2025-02-22T13:00:25.430064Z",
     "start_time": "2025-02-22T12:39:42.133065Z"
    }
   },
   "cell_type": "code",
   "source": [
    "history = model.fit(\n",
    "    train_set,\n",
    "    validation_data=valid_set,\n",
    "    epochs=30,\n",
    "    callbacks=callbacks,\n",
    "    verbose=1\n",
    ")"
   ],
   "id": "47d4bcd3efc15140",
   "outputs": [
    {
     "name": "stdout",
     "output_type": "stream",
     "text": [
      "Epoch 1/30\n",
      "  6/704 [..............................] - ETA: 2:34 - loss: 1.6379 - accuracy: 0.4792WARNING:tensorflow:Callback method `on_train_batch_end` is slow compared to the batch time (batch time: 0.1028s vs `on_train_batch_end` time: 0.1347s). Check your callbacks.\n"
     ]
    },
    {
     "name": "stderr",
     "output_type": "stream",
     "text": [
      "WARNING:tensorflow:Callback method `on_train_batch_end` is slow compared to the batch time (batch time: 0.1028s vs `on_train_batch_end` time: 0.1347s). Check your callbacks.\n"
     ]
    },
    {
     "name": "stdout",
     "output_type": "stream",
     "text": [
      "704/704 [==============================] - 163s 227ms/step - loss: 0.7123 - accuracy: 0.4975 - val_loss: 0.7034 - val_accuracy: 0.5024\n",
      "Epoch 2/30\n",
      "704/704 [==============================] - 154s 219ms/step - loss: 0.6066 - accuracy: 0.6255 - val_loss: 0.3937 - val_accuracy: 0.8264\n",
      "Epoch 3/30\n",
      "704/704 [==============================] - 155s 220ms/step - loss: 0.3085 - accuracy: 0.8710 - val_loss: 0.2857 - val_accuracy: 0.8812\n",
      "Epoch 4/30\n",
      "704/704 [==============================] - 154s 218ms/step - loss: 0.1945 - accuracy: 0.9275 - val_loss: 0.3376 - val_accuracy: 0.8740\n",
      "Epoch 5/30\n",
      "704/704 [==============================] - 154s 219ms/step - loss: 0.1349 - accuracy: 0.9524 - val_loss: 0.3985 - val_accuracy: 0.8816\n",
      "Epoch 6/30\n",
      "704/704 [==============================] - 154s 219ms/step - loss: 0.0919 - accuracy: 0.9693 - val_loss: 0.4595 - val_accuracy: 0.8636\n",
      "Epoch 7/30\n",
      "704/704 [==============================] - 154s 219ms/step - loss: 0.0794 - accuracy: 0.9726 - val_loss: 0.4249 - val_accuracy: 0.8644\n",
      "Epoch 8/30\n",
      "704/704 [==============================] - 154s 219ms/step - loss: 0.0450 - accuracy: 0.9855 - val_loss: 0.6384 - val_accuracy: 0.8584\n"
     ]
    }
   ],
   "execution_count": 106
  },
  {
   "metadata": {
    "ExecuteTime": {
     "end_time": "2025-02-22T13:01:29.067079Z",
     "start_time": "2025-02-22T13:00:31.999794Z"
    }
   },
   "cell_type": "code",
   "source": [
    "# --- 테스트셋 평가 ---\n",
    "test_loss, test_acc = model.evaluate(test_set)\n",
    "print(f\"Test Loss: {test_loss:.4f}, Test Accuracy: {test_acc:.4f}\")"
   ],
   "id": "4026dafb7ae43206",
   "outputs": [
    {
     "name": "stdout",
     "output_type": "stream",
     "text": [
      "782/782 [==============================] - 57s 73ms/step - loss: 0.3034 - accuracy: 0.8738\n",
      "Test Loss: 0.3034, Test Accuracy: 0.8738\n"
     ]
    }
   ],
   "execution_count": 107
  },
  {
   "metadata": {},
   "cell_type": "code",
   "outputs": [],
   "execution_count": null,
   "source": "# model.save(\"encoder_model2.keras\")",
   "id": "76ba83b384213de7"
  },
  {
   "metadata": {},
   "cell_type": "markdown",
   "source": "### 훈련, 검증 손실 및 정확도 시각화",
   "id": "e28a94a902b57116"
  },
  {
   "metadata": {
    "ExecuteTime": {
     "end_time": "2025-02-22T13:02:06.546636Z",
     "start_time": "2025-02-22T13:02:06.175959Z"
    }
   },
   "cell_type": "code",
   "source": [
    "import matplotlib.pyplot as plt\n",
    "\n",
    "# Loss 그래프 그리기\n",
    "plt.figure(figsize=(8, 6))\n",
    "plt.plot(history.history['loss'], color='red', label='Training Loss')\n",
    "plt.plot(history.history['val_loss'], color='blue', label='Validation Loss')\n",
    "plt.xlabel('Epoch')\n",
    "plt.ylabel('Loss')\n",
    "plt.title('Loss per Epoch')\n",
    "plt.legend()\n",
    "plt.show()\n",
    "\n",
    "# Accuracy 그래프 그리기\n",
    "plt.figure(figsize=(8, 6))\n",
    "plt.plot(history.history['accuracy'], color='red', label='Training Accuracy')\n",
    "plt.plot(history.history['val_accuracy'], color='blue', label='Validation Accuracy')\n",
    "plt.xlabel('Epoch')\n",
    "plt.ylabel('Accuracy')\n",
    "plt.title('Accuracy per Epoch')\n",
    "plt.legend()\n",
    "plt.show()\n"
   ],
   "id": "5d1ac91d13725398",
   "outputs": [
    {
     "data": {
      "text/plain": [
       "<Figure size 800x600 with 1 Axes>"
      ],
      "image/png": "[encoded data removed]"
     },
     "metadata": {},
     "output_type": "display_data"
    },
    {
     "data": {
      "text/plain": [
       "<Figure size 800x600 with 1 Axes>"
      ],
      "image/png": "[encoded data removed]"
     },
     "metadata": {},
     "output_type": "display_data"
    }
   ],
   "execution_count": 109
  },
  {
   "metadata": {},
   "cell_type": "markdown",
   "source": "이진 분류니까 PR곡선과 ROC곡선을 그려보자.",
   "id": "465bb0a277650a6b"
  },
  {
   "metadata": {},
   "cell_type": "markdown",
   "source": "### PR, ROC 곡선",
   "id": "66722e733af30a85"
  },
  {
   "metadata": {
    "ExecuteTime": {
     "end_time": "2025-02-22T13:03:32.418469Z",
     "start_time": "2025-02-22T13:02:19.866557Z"
    }
   },
   "cell_type": "code",
   "source": [
    "import numpy as np\n",
    "import matplotlib.pyplot as plt\n",
    "from sklearn.metrics import precision_recall_curve, average_precision_score, roc_curve, roc_auc_score\n",
    "\n",
    "# 테스트 셋에서 실제 레이블과 예측 확률 수집하기\n",
    "y_true = []\n",
    "y_scores = []\n",
    "for batch_x, batch_y in test_set:\n",
    "    preds = model.predict(batch_x)\n",
    "    # preds가 (batch_size, 1) 형태라면 ravel()로 1차원으로 변환\n",
    "    y_scores.extend(preds.ravel())\n",
    "    y_true.extend(batch_y.numpy())\n",
    "y_true = np.array(y_true)\n",
    "y_scores = np.array(y_scores)\n",
    "\n",
    "# 랜덤 분류기의 기준: 테스트셋 내 양성 샘플 비율\n",
    "baseline = np.mean(y_true)\n",
    "\n",
    "# =============================\n",
    "# Precision-Recall Curve 그리기\n",
    "# =============================\n",
    "precision, recall, _ = precision_recall_curve(y_true, y_scores)\n",
    "average_precision = average_precision_score(y_true, y_scores)\n",
    "\n",
    "plt.figure(figsize=(8, 6))\n",
    "plt.plot(recall, precision, color='blue', label=f'PR Curve (AP = {average_precision:.2f})')\n",
    "# 랜덤 분류기의 정밀도는 baseline 값 (수평선)\n",
    "plt.hlines(baseline, 0, 1, colors='red', linestyles='--', label='Random Classifier')\n",
    "plt.xlabel('Recall')\n",
    "plt.ylabel('Precision')\n",
    "plt.title('Precision-Recall Curve')\n",
    "plt.legend(loc='upper right')\n",
    "plt.grid(True)\n",
    "plt.show()\n",
    "\n",
    "# =============================\n",
    "# ROC Curve 그리기\n",
    "# =============================\n",
    "fpr, tpr, _ = roc_curve(y_true, y_scores)\n",
    "roc_auc = roc_auc_score(y_true, y_scores)\n",
    "\n",
    "plt.figure(figsize=(8, 6))\n",
    "plt.plot(fpr, tpr, color='blue', label=f'ROC Curve (AUC = {roc_auc:.2f})')\n",
    "# 랜덤 분류기의 ROC는 (0,0)에서 (1,1)을 잇는 대각선\n",
    "plt.plot([0, 1], [0, 1], color='red', linestyle='--', label='Random Classifier')\n",
    "plt.xlabel('False Positive Rate')\n",
    "plt.ylabel('True Positive Rate')\n",
    "plt.title('ROC Curve')\n",
    "plt.legend(loc='lower right')\n",
    "plt.grid(True)\n",
    "plt.show()"
   ],
   "id": "ade8859e12e5767d",
   "outputs": [
    {
     "name": "stdout",
     "output_type": "stream",
     "text": [
      "1/1 [==============================] - 1s 844ms/step\n",
      "1/1 [==============================] - 0s 106ms/step\n",
      "1/1 [==============================] - 0s 86ms/step\n",
      "1/1 [==============================] - 0s 80ms/step\n",
      "1/1 [==============================] - 0s 82ms/step\n",
      "1/1 [==============================] - 0s 70ms/step\n",
      "1/1 [==============================] - 0s 72ms/step\n",
      "1/1 [==============================] - 0s 70ms/step\n",
      "1/1 [==============================] - 0s 81ms/step\n",
      "1/1 [==============================] - 0s 71ms/step\n",
      "1/1 [==============================] - 0s 71ms/step\n",
      "1/1 [==============================] - 0s 76ms/step\n",
      "1/1 [==============================] - 0s 76ms/step\n",
      "1/1 [==============================] - 0s 77ms/step\n",
      "1/1 [==============================] - 0s 104ms/step\n",
      "1/1 [==============================] - 0s 76ms/step\n",
      "1/1 [==============================] - 0s 72ms/step\n",
      "1/1 [==============================] - 0s 71ms/step\n",
      "1/1 [==============================] - 0s 73ms/step\n",
      "1/1 [==============================] - 0s 70ms/step\n",
      "1/1 [==============================] - 0s 71ms/step\n",
      "1/1 [==============================] - 0s 71ms/step\n",
      "1/1 [==============================] - 0s 69ms/step\n",
      "1/1 [==============================] - 0s 75ms/step\n",
      "1/1 [==============================] - 0s 75ms/step\n",
      "1/1 [==============================] - 0s 75ms/step\n",
      "1/1 [==============================] - 0s 72ms/step\n",
      "1/1 [==============================] - 0s 78ms/step\n",
      "1/1 [==============================] - 0s 75ms/step\n",
      "1/1 [==============================] - 0s 71ms/step\n",
      "1/1 [==============================] - 0s 72ms/step\n",
      "1/1 [==============================] - 0s 71ms/step\n",
      "1/1 [==============================] - 0s 75ms/step\n",
      "1/1 [==============================] - 0s 77ms/step\n",
      "1/1 [==============================] - 0s 72ms/step\n",
      "1/1 [==============================] - 0s 69ms/step\n",
      "1/1 [==============================] - 0s 71ms/step\n",
      "1/1 [==============================] - 0s 69ms/step\n",
      "1/1 [==============================] - 0s 70ms/step\n",
      "1/1 [==============================] - 0s 73ms/step\n",
      "1/1 [==============================] - 0s 73ms/step\n",
      "1/1 [==============================] - 0s 71ms/step\n",
      "1/1 [==============================] - 0s 70ms/step\n",
      "1/1 [==============================] - 0s 70ms/step\n",
      "1/1 [==============================] - 0s 70ms/step\n",
      "1/1 [==============================] - 0s 71ms/step\n",
      "1/1 [==============================] - 0s 77ms/step\n",
      "1/1 [==============================] - 0s 77ms/step\n",
      "1/1 [==============================] - 0s 69ms/step\n",
      "1/1 [==============================] - 0s 70ms/step\n",
      "1/1 [==============================] - 0s 69ms/step\n",
      "1/1 [==============================] - 0s 69ms/step\n",
      "1/1 [==============================] - 0s 69ms/step\n",
      "1/1 [==============================] - 0s 72ms/step\n",
      "1/1 [==============================] - 0s 73ms/step\n",
      "1/1 [==============================] - 0s 70ms/step\n",
      "1/1 [==============================] - 0s 75ms/step\n",
      "1/1 [==============================] - 0s 72ms/step\n",
      "1/1 [==============================] - 0s 69ms/step\n",
      "1/1 [==============================] - 0s 75ms/step\n",
      "1/1 [==============================] - 0s 72ms/step\n",
      "1/1 [==============================] - 0s 74ms/step\n",
      "1/1 [==============================] - 0s 69ms/step\n",
      "1/1 [==============================] - 0s 70ms/step\n",
      "1/1 [==============================] - 0s 73ms/step\n",
      "1/1 [==============================] - 0s 69ms/step\n",
      "1/1 [==============================] - 0s 69ms/step\n",
      "1/1 [==============================] - 0s 78ms/step\n",
      "1/1 [==============================] - 0s 69ms/step\n",
      "1/1 [==============================] - 0s 69ms/step\n",
      "1/1 [==============================] - 0s 71ms/step\n",
      "1/1 [==============================] - 0s 71ms/step\n",
      "1/1 [==============================] - 0s 71ms/step\n",
      "1/1 [==============================] - 0s 75ms/step\n",
      "1/1 [==============================] - 0s 75ms/step\n",
      "1/1 [==============================] - 0s 68ms/step\n",
      "1/1 [==============================] - 0s 69ms/step\n",
      "1/1 [==============================] - 0s 72ms/step\n",
      "1/1 [==============================] - 0s 76ms/step\n",
      "1/1 [==============================] - 0s 70ms/step\n",
      "1/1 [==============================] - 0s 71ms/step\n",
      "1/1 [==============================] - 0s 74ms/step\n",
      "1/1 [==============================] - 0s 68ms/step\n",
      "1/1 [==============================] - 0s 67ms/step\n",
      "1/1 [==============================] - 0s 73ms/step\n",
      "1/1 [==============================] - 0s 72ms/step\n",
      "1/1 [==============================] - 0s 75ms/step\n",
      "1/1 [==============================] - 0s 78ms/step\n",
      "1/1 [==============================] - 0s 71ms/step\n",
      "1/1 [==============================] - 0s 69ms/step\n",
      "1/1 [==============================] - 0s 68ms/step\n",
      "1/1 [==============================] - 0s 70ms/step\n",
      "1/1 [==============================] - 0s 69ms/step\n",
      "1/1 [==============================] - 0s 71ms/step\n",
      "1/1 [==============================] - 0s 75ms/step\n",
      "1/1 [==============================] - 0s 73ms/step\n",
      "1/1 [==============================] - 0s 69ms/step\n",
      "1/1 [==============================] - 0s 72ms/step\n",
      "1/1 [==============================] - 0s 73ms/step\n",
      "1/1 [==============================] - 0s 74ms/step\n",
      "1/1 [==============================] - 0s 72ms/step\n",
      "1/1 [==============================] - 0s 76ms/step\n",
      "1/1 [==============================] - 0s 71ms/step\n",
      "1/1 [==============================] - 0s 70ms/step\n",
      "1/1 [==============================] - 0s 72ms/step\n",
      "1/1 [==============================] - 0s 71ms/step\n",
      "1/1 [==============================] - 0s 79ms/step\n",
      "1/1 [==============================] - 0s 69ms/step\n",
      "1/1 [==============================] - 0s 69ms/step\n",
      "1/1 [==============================] - 0s 70ms/step\n",
      "1/1 [==============================] - 0s 69ms/step\n",
      "1/1 [==============================] - 0s 70ms/step\n",
      "1/1 [==============================] - 0s 86ms/step\n",
      "1/1 [==============================] - 0s 73ms/step\n",
      "1/1 [==============================] - 0s 77ms/step\n",
      "1/1 [==============================] - 0s 71ms/step\n",
      "1/1 [==============================] - 0s 71ms/step\n",
      "1/1 [==============================] - 0s 68ms/step\n",
      "1/1 [==============================] - 0s 69ms/step\n",
      "1/1 [==============================] - 0s 73ms/step\n",
      "1/1 [==============================] - 0s 71ms/step\n",
      "1/1 [==============================] - 0s 73ms/step\n",
      "1/1 [==============================] - 0s 76ms/step\n",
      "1/1 [==============================] - 0s 71ms/step\n",
      "1/1 [==============================] - 0s 70ms/step\n",
      "1/1 [==============================] - 0s 71ms/step\n",
      "1/1 [==============================] - 0s 73ms/step\n",
      "1/1 [==============================] - 0s 71ms/step\n",
      "1/1 [==============================] - 0s 71ms/step\n",
      "1/1 [==============================] - 0s 73ms/step\n",
      "1/1 [==============================] - 0s 73ms/step\n",
      "1/1 [==============================] - 0s 77ms/step\n",
      "1/1 [==============================] - 0s 72ms/step\n",
      "1/1 [==============================] - 0s 70ms/step\n",
      "1/1 [==============================] - 0s 73ms/step\n",
      "1/1 [==============================] - 0s 70ms/step\n",
      "1/1 [==============================] - 0s 71ms/step\n",
      "1/1 [==============================] - 0s 72ms/step\n",
      "1/1 [==============================] - 0s 74ms/step\n",
      "1/1 [==============================] - 0s 71ms/step\n",
      "1/1 [==============================] - 0s 76ms/step\n",
      "1/1 [==============================] - 0s 72ms/step\n",
      "1/1 [==============================] - 0s 71ms/step\n",
      "1/1 [==============================] - 0s 70ms/step\n",
      "1/1 [==============================] - 0s 70ms/step\n",
      "1/1 [==============================] - 0s 70ms/step\n",
      "1/1 [==============================] - 0s 71ms/step\n",
      "1/1 [==============================] - 0s 71ms/step\n",
      "1/1 [==============================] - 0s 71ms/step\n",
      "1/1 [==============================] - 0s 69ms/step\n",
      "1/1 [==============================] - 0s 69ms/step\n",
      "1/1 [==============================] - 0s 71ms/step\n",
      "1/1 [==============================] - 0s 75ms/step\n",
      "1/1 [==============================] - 0s 73ms/step\n",
      "1/1 [==============================] - 0s 71ms/step\n",
      "1/1 [==============================] - 0s 73ms/step\n",
      "1/1 [==============================] - 0s 69ms/step\n",
      "1/1 [==============================] - 0s 76ms/step\n",
      "1/1 [==============================] - 0s 70ms/step\n",
      "1/1 [==============================] - 0s 69ms/step\n",
      "1/1 [==============================] - 0s 69ms/step\n",
      "1/1 [==============================] - 0s 75ms/step\n",
      "1/1 [==============================] - 0s 70ms/step\n",
      "1/1 [==============================] - 0s 72ms/step\n",
      "1/1 [==============================] - 0s 71ms/step\n",
      "1/1 [==============================] - 0s 80ms/step\n",
      "1/1 [==============================] - 0s 74ms/step\n",
      "1/1 [==============================] - 0s 70ms/step\n",
      "1/1 [==============================] - 0s 73ms/step\n",
      "1/1 [==============================] - 0s 73ms/step\n",
      "1/1 [==============================] - 0s 76ms/step\n",
      "1/1 [==============================] - 0s 75ms/step\n",
      "1/1 [==============================] - 0s 70ms/step\n",
      "1/1 [==============================] - 0s 71ms/step\n",
      "1/1 [==============================] - 0s 68ms/step\n",
      "1/1 [==============================] - 0s 70ms/step\n",
      "1/1 [==============================] - 0s 72ms/step\n",
      "1/1 [==============================] - 0s 69ms/step\n",
      "1/1 [==============================] - 0s 75ms/step\n",
      "1/1 [==============================] - 0s 78ms/step\n",
      "1/1 [==============================] - 0s 73ms/step\n",
      "1/1 [==============================] - 0s 70ms/step\n",
      "1/1 [==============================] - 0s 71ms/step\n",
      "1/1 [==============================] - 0s 70ms/step\n",
      "1/1 [==============================] - 0s 68ms/step\n",
      "1/1 [==============================] - 0s 69ms/step\n",
      "1/1 [==============================] - 0s 77ms/step\n",
      "1/1 [==============================] - 0s 71ms/step\n",
      "1/1 [==============================] - 0s 72ms/step\n",
      "1/1 [==============================] - 0s 73ms/step\n",
      "1/1 [==============================] - 0s 73ms/step\n",
      "1/1 [==============================] - 0s 72ms/step\n",
      "1/1 [==============================] - 0s 71ms/step\n",
      "1/1 [==============================] - 0s 72ms/step\n",
      "1/1 [==============================] - 0s 69ms/step\n",
      "1/1 [==============================] - 0s 69ms/step\n",
      "1/1 [==============================] - 0s 73ms/step\n",
      "1/1 [==============================] - 0s 71ms/step\n",
      "1/1 [==============================] - 0s 69ms/step\n",
      "1/1 [==============================] - 0s 69ms/step\n",
      "1/1 [==============================] - 0s 72ms/step\n",
      "1/1 [==============================] - 0s 74ms/step\n",
      "1/1 [==============================] - 0s 74ms/step\n",
      "1/1 [==============================] - 0s 70ms/step\n",
      "1/1 [==============================] - 0s 75ms/step\n",
      "1/1 [==============================] - 0s 71ms/step\n",
      "1/1 [==============================] - 0s 71ms/step\n",
      "1/1 [==============================] - 0s 72ms/step\n",
      "1/1 [==============================] - 0s 71ms/step\n",
      "1/1 [==============================] - 0s 69ms/step\n",
      "1/1 [==============================] - 0s 70ms/step\n",
      "1/1 [==============================] - 0s 72ms/step\n",
      "1/1 [==============================] - 0s 67ms/step\n",
      "1/1 [==============================] - 0s 74ms/step\n",
      "1/1 [==============================] - 0s 71ms/step\n",
      "1/1 [==============================] - 0s 72ms/step\n",
      "1/1 [==============================] - 0s 69ms/step\n",
      "1/1 [==============================] - 0s 70ms/step\n",
      "1/1 [==============================] - 0s 75ms/step\n",
      "1/1 [==============================] - 0s 75ms/step\n",
      "1/1 [==============================] - 0s 72ms/step\n",
      "1/1 [==============================] - 0s 71ms/step\n",
      "1/1 [==============================] - 0s 69ms/step\n",
      "1/1 [==============================] - 0s 69ms/step\n",
      "1/1 [==============================] - 0s 71ms/step\n",
      "1/1 [==============================] - 0s 70ms/step\n",
      "1/1 [==============================] - 0s 69ms/step\n",
      "1/1 [==============================] - 0s 69ms/step\n",
      "1/1 [==============================] - 0s 68ms/step\n",
      "1/1 [==============================] - 0s 69ms/step\n",
      "1/1 [==============================] - 0s 72ms/step\n",
      "1/1 [==============================] - 0s 73ms/step\n",
      "1/1 [==============================] - 0s 71ms/step\n",
      "1/1 [==============================] - 0s 72ms/step\n",
      "1/1 [==============================] - 0s 73ms/step\n",
      "1/1 [==============================] - 0s 74ms/step\n",
      "1/1 [==============================] - 0s 69ms/step\n",
      "1/1 [==============================] - 0s 72ms/step\n",
      "1/1 [==============================] - 0s 69ms/step\n",
      "1/1 [==============================] - 0s 67ms/step\n",
      "1/1 [==============================] - 0s 71ms/step\n",
      "1/1 [==============================] - 0s 74ms/step\n",
      "1/1 [==============================] - 0s 72ms/step\n",
      "1/1 [==============================] - 0s 70ms/step\n",
      "1/1 [==============================] - 0s 76ms/step\n",
      "1/1 [==============================] - 0s 72ms/step\n",
      "1/1 [==============================] - 0s 70ms/step\n",
      "1/1 [==============================] - 0s 73ms/step\n",
      "1/1 [==============================] - 0s 71ms/step\n",
      "1/1 [==============================] - 0s 71ms/step\n",
      "1/1 [==============================] - 0s 70ms/step\n",
      "1/1 [==============================] - 0s 72ms/step\n",
      "1/1 [==============================] - 0s 75ms/step\n",
      "1/1 [==============================] - 0s 81ms/step\n",
      "1/1 [==============================] - 0s 71ms/step\n",
      "1/1 [==============================] - 0s 70ms/step\n",
      "1/1 [==============================] - 0s 68ms/step\n",
      "1/1 [==============================] - 0s 71ms/step\n",
      "1/1 [==============================] - 0s 83ms/step\n",
      "1/1 [==============================] - 0s 77ms/step\n",
      "1/1 [==============================] - 0s 70ms/step\n",
      "1/1 [==============================] - 0s 70ms/step\n",
      "1/1 [==============================] - 0s 72ms/step\n",
      "1/1 [==============================] - 0s 67ms/step\n",
      "1/1 [==============================] - 0s 70ms/step\n",
      "1/1 [==============================] - 0s 70ms/step\n",
      "1/1 [==============================] - 0s 71ms/step\n",
      "1/1 [==============================] - 0s 71ms/step\n",
      "1/1 [==============================] - 0s 72ms/step\n",
      "1/1 [==============================] - 0s 74ms/step\n",
      "1/1 [==============================] - 0s 71ms/step\n",
      "1/1 [==============================] - 0s 76ms/step\n",
      "1/1 [==============================] - 0s 72ms/step\n",
      "1/1 [==============================] - 0s 68ms/step\n",
      "1/1 [==============================] - 0s 70ms/step\n",
      "1/1 [==============================] - 0s 76ms/step\n",
      "1/1 [==============================] - 0s 72ms/step\n",
      "1/1 [==============================] - 0s 76ms/step\n",
      "1/1 [==============================] - 0s 71ms/step\n",
      "1/1 [==============================] - 0s 72ms/step\n",
      "1/1 [==============================] - 0s 71ms/step\n",
      "1/1 [==============================] - 0s 70ms/step\n",
      "1/1 [==============================] - 0s 71ms/step\n",
      "1/1 [==============================] - 0s 70ms/step\n",
      "1/1 [==============================] - 0s 79ms/step\n",
      "1/1 [==============================] - 0s 74ms/step\n",
      "1/1 [==============================] - 0s 75ms/step\n",
      "1/1 [==============================] - 0s 73ms/step\n",
      "1/1 [==============================] - 0s 70ms/step\n",
      "1/1 [==============================] - 0s 75ms/step\n",
      "1/1 [==============================] - 0s 69ms/step\n",
      "1/1 [==============================] - 0s 70ms/step\n",
      "1/1 [==============================] - 0s 71ms/step\n",
      "1/1 [==============================] - 0s 70ms/step\n",
      "1/1 [==============================] - 0s 72ms/step\n",
      "1/1 [==============================] - 0s 69ms/step\n",
      "1/1 [==============================] - 0s 74ms/step\n",
      "1/1 [==============================] - 0s 73ms/step\n",
      "1/1 [==============================] - 0s 75ms/step\n",
      "1/1 [==============================] - 0s 70ms/step\n",
      "1/1 [==============================] - 0s 70ms/step\n",
      "1/1 [==============================] - 0s 72ms/step\n",
      "1/1 [==============================] - 0s 71ms/step\n",
      "1/1 [==============================] - 0s 74ms/step\n",
      "1/1 [==============================] - 0s 70ms/step\n",
      "1/1 [==============================] - 0s 70ms/step\n",
      "1/1 [==============================] - 0s 68ms/step\n",
      "1/1 [==============================] - 0s 70ms/step\n",
      "1/1 [==============================] - 0s 70ms/step\n",
      "1/1 [==============================] - 0s 73ms/step\n",
      "1/1 [==============================] - 0s 72ms/step\n",
      "1/1 [==============================] - 0s 78ms/step\n",
      "1/1 [==============================] - 0s 72ms/step\n",
      "1/1 [==============================] - 0s 71ms/step\n",
      "1/1 [==============================] - 0s 73ms/step\n",
      "1/1 [==============================] - 0s 70ms/step\n",
      "1/1 [==============================] - 0s 73ms/step\n",
      "1/1 [==============================] - 0s 70ms/step\n",
      "1/1 [==============================] - 0s 73ms/step\n",
      "1/1 [==============================] - 0s 70ms/step\n",
      "1/1 [==============================] - 0s 71ms/step\n",
      "1/1 [==============================] - 0s 73ms/step\n",
      "1/1 [==============================] - 0s 71ms/step\n",
      "1/1 [==============================] - 0s 70ms/step\n",
      "1/1 [==============================] - 0s 77ms/step\n",
      "1/1 [==============================] - 0s 77ms/step\n",
      "1/1 [==============================] - 0s 71ms/step\n",
      "1/1 [==============================] - 0s 72ms/step\n",
      "1/1 [==============================] - 0s 70ms/step\n",
      "1/1 [==============================] - 0s 73ms/step\n",
      "1/1 [==============================] - 0s 68ms/step\n",
      "1/1 [==============================] - 0s 73ms/step\n",
      "1/1 [==============================] - 0s 70ms/step\n",
      "1/1 [==============================] - 0s 73ms/step\n",
      "1/1 [==============================] - 0s 70ms/step\n",
      "1/1 [==============================] - 0s 73ms/step\n",
      "1/1 [==============================] - 0s 74ms/step\n",
      "1/1 [==============================] - 0s 77ms/step\n",
      "1/1 [==============================] - 0s 84ms/step\n",
      "1/1 [==============================] - 0s 74ms/step\n",
      "1/1 [==============================] - 0s 70ms/step\n",
      "1/1 [==============================] - 0s 68ms/step\n",
      "1/1 [==============================] - 0s 72ms/step\n",
      "1/1 [==============================] - 0s 69ms/step\n",
      "1/1 [==============================] - 0s 69ms/step\n",
      "1/1 [==============================] - 0s 69ms/step\n",
      "1/1 [==============================] - 0s 71ms/step\n",
      "1/1 [==============================] - 0s 69ms/step\n",
      "1/1 [==============================] - 0s 74ms/step\n",
      "1/1 [==============================] - 0s 72ms/step\n",
      "1/1 [==============================] - 0s 71ms/step\n",
      "1/1 [==============================] - 0s 77ms/step\n",
      "1/1 [==============================] - 0s 72ms/step\n",
      "1/1 [==============================] - 0s 71ms/step\n",
      "1/1 [==============================] - 0s 71ms/step\n",
      "1/1 [==============================] - 0s 71ms/step\n",
      "1/1 [==============================] - 0s 75ms/step\n",
      "1/1 [==============================] - 0s 69ms/step\n",
      "1/1 [==============================] - 0s 69ms/step\n",
      "1/1 [==============================] - 0s 74ms/step\n",
      "1/1 [==============================] - 0s 69ms/step\n",
      "1/1 [==============================] - 0s 69ms/step\n",
      "1/1 [==============================] - 0s 71ms/step\n",
      "1/1 [==============================] - 0s 77ms/step\n",
      "1/1 [==============================] - 0s 74ms/step\n",
      "1/1 [==============================] - 0s 71ms/step\n",
      "1/1 [==============================] - 0s 74ms/step\n",
      "1/1 [==============================] - 0s 69ms/step\n",
      "1/1 [==============================] - 0s 68ms/step\n",
      "1/1 [==============================] - 0s 71ms/step\n",
      "1/1 [==============================] - 0s 74ms/step\n",
      "1/1 [==============================] - 0s 69ms/step\n",
      "1/1 [==============================] - 0s 71ms/step\n",
      "1/1 [==============================] - 0s 74ms/step\n",
      "1/1 [==============================] - 0s 69ms/step\n",
      "1/1 [==============================] - 0s 69ms/step\n",
      "1/1 [==============================] - 0s 77ms/step\n",
      "1/1 [==============================] - 0s 75ms/step\n",
      "1/1 [==============================] - 0s 71ms/step\n",
      "1/1 [==============================] - 0s 71ms/step\n",
      "1/1 [==============================] - 0s 72ms/step\n",
      "1/1 [==============================] - 0s 72ms/step\n",
      "1/1 [==============================] - 0s 70ms/step\n",
      "1/1 [==============================] - 0s 73ms/step\n",
      "1/1 [==============================] - 0s 69ms/step\n",
      "1/1 [==============================] - 0s 68ms/step\n",
      "1/1 [==============================] - 0s 70ms/step\n",
      "1/1 [==============================] - 0s 71ms/step\n",
      "1/1 [==============================] - 0s 71ms/step\n",
      "1/1 [==============================] - 0s 72ms/step\n",
      "1/1 [==============================] - 0s 79ms/step\n",
      "1/1 [==============================] - 0s 73ms/step\n",
      "1/1 [==============================] - 0s 76ms/step\n",
      "1/1 [==============================] - 0s 71ms/step\n",
      "1/1 [==============================] - 0s 73ms/step\n",
      "1/1 [==============================] - 0s 69ms/step\n",
      "1/1 [==============================] - 0s 74ms/step\n",
      "1/1 [==============================] - 0s 71ms/step\n",
      "1/1 [==============================] - 0s 72ms/step\n",
      "1/1 [==============================] - 0s 69ms/step\n",
      "1/1 [==============================] - 0s 69ms/step\n",
      "1/1 [==============================] - 0s 72ms/step\n",
      "1/1 [==============================] - 0s 73ms/step\n",
      "1/1 [==============================] - 0s 85ms/step\n",
      "1/1 [==============================] - 0s 75ms/step\n",
      "1/1 [==============================] - 0s 72ms/step\n",
      "1/1 [==============================] - 0s 71ms/step\n",
      "1/1 [==============================] - 0s 72ms/step\n",
      "1/1 [==============================] - 0s 70ms/step\n",
      "1/1 [==============================] - 0s 71ms/step\n",
      "1/1 [==============================] - 0s 71ms/step\n",
      "1/1 [==============================] - 0s 71ms/step\n",
      "1/1 [==============================] - 0s 71ms/step\n",
      "1/1 [==============================] - 0s 71ms/step\n",
      "1/1 [==============================] - 0s 69ms/step\n",
      "1/1 [==============================] - 0s 74ms/step\n",
      "1/1 [==============================] - 0s 80ms/step\n",
      "1/1 [==============================] - 0s 73ms/step\n",
      "1/1 [==============================] - 0s 71ms/step\n",
      "1/1 [==============================] - 0s 69ms/step\n",
      "1/1 [==============================] - 0s 73ms/step\n",
      "1/1 [==============================] - 0s 76ms/step\n",
      "1/1 [==============================] - 0s 78ms/step\n",
      "1/1 [==============================] - 0s 87ms/step\n",
      "1/1 [==============================] - 0s 90ms/step\n",
      "1/1 [==============================] - 0s 79ms/step\n",
      "1/1 [==============================] - 0s 73ms/step\n",
      "1/1 [==============================] - 0s 76ms/step\n",
      "1/1 [==============================] - 0s 87ms/step\n",
      "1/1 [==============================] - 0s 78ms/step\n",
      "1/1 [==============================] - 0s 76ms/step\n",
      "1/1 [==============================] - 0s 72ms/step\n",
      "1/1 [==============================] - 0s 71ms/step\n",
      "1/1 [==============================] - 0s 74ms/step\n",
      "1/1 [==============================] - 0s 71ms/step\n",
      "1/1 [==============================] - 0s 74ms/step\n",
      "1/1 [==============================] - 0s 73ms/step\n",
      "1/1 [==============================] - 0s 72ms/step\n",
      "1/1 [==============================] - 0s 68ms/step\n",
      "1/1 [==============================] - 0s 70ms/step\n",
      "1/1 [==============================] - 0s 74ms/step\n",
      "1/1 [==============================] - 0s 82ms/step\n",
      "1/1 [==============================] - 0s 78ms/step\n",
      "1/1 [==============================] - 0s 72ms/step\n",
      "1/1 [==============================] - 0s 75ms/step\n",
      "1/1 [==============================] - 0s 72ms/step\n",
      "1/1 [==============================] - 0s 70ms/step\n",
      "1/1 [==============================] - 0s 71ms/step\n",
      "1/1 [==============================] - 0s 71ms/step\n",
      "1/1 [==============================] - 0s 69ms/step\n",
      "1/1 [==============================] - 0s 69ms/step\n",
      "1/1 [==============================] - 0s 69ms/step\n",
      "1/1 [==============================] - 0s 71ms/step\n",
      "1/1 [==============================] - 0s 70ms/step\n",
      "1/1 [==============================] - 0s 71ms/step\n",
      "1/1 [==============================] - 0s 80ms/step\n",
      "1/1 [==============================] - 0s 70ms/step\n",
      "1/1 [==============================] - 0s 70ms/step\n",
      "1/1 [==============================] - 0s 75ms/step\n",
      "1/1 [==============================] - 0s 69ms/step\n",
      "1/1 [==============================] - 0s 70ms/step\n",
      "1/1 [==============================] - 0s 73ms/step\n",
      "1/1 [==============================] - 0s 71ms/step\n",
      "1/1 [==============================] - 0s 68ms/step\n",
      "1/1 [==============================] - 0s 72ms/step\n",
      "1/1 [==============================] - 0s 72ms/step\n",
      "1/1 [==============================] - 0s 71ms/step\n",
      "1/1 [==============================] - 0s 71ms/step\n",
      "1/1 [==============================] - 0s 82ms/step\n",
      "1/1 [==============================] - 0s 75ms/step\n",
      "1/1 [==============================] - 0s 70ms/step\n",
      "1/1 [==============================] - 0s 71ms/step\n",
      "1/1 [==============================] - 0s 70ms/step\n",
      "1/1 [==============================] - 0s 69ms/step\n",
      "1/1 [==============================] - 0s 69ms/step\n",
      "1/1 [==============================] - 0s 75ms/step\n",
      "1/1 [==============================] - 0s 73ms/step\n",
      "1/1 [==============================] - 0s 69ms/step\n",
      "1/1 [==============================] - 0s 74ms/step\n",
      "1/1 [==============================] - 0s 76ms/step\n",
      "1/1 [==============================] - 0s 69ms/step\n",
      "1/1 [==============================] - 0s 76ms/step\n",
      "1/1 [==============================] - 0s 73ms/step\n",
      "1/1 [==============================] - 0s 71ms/step\n",
      "1/1 [==============================] - 0s 69ms/step\n",
      "1/1 [==============================] - 0s 71ms/step\n",
      "1/1 [==============================] - 0s 74ms/step\n",
      "1/1 [==============================] - 0s 70ms/step\n",
      "1/1 [==============================] - 0s 72ms/step\n",
      "1/1 [==============================] - 0s 72ms/step\n",
      "1/1 [==============================] - 0s 77ms/step\n",
      "1/1 [==============================] - 0s 68ms/step\n",
      "1/1 [==============================] - 0s 71ms/step\n",
      "1/1 [==============================] - 0s 71ms/step\n",
      "1/1 [==============================] - 0s 76ms/step\n",
      "1/1 [==============================] - 0s 78ms/step\n",
      "1/1 [==============================] - 0s 74ms/step\n",
      "1/1 [==============================] - 0s 73ms/step\n",
      "1/1 [==============================] - 0s 70ms/step\n",
      "1/1 [==============================] - 0s 70ms/step\n",
      "1/1 [==============================] - 0s 80ms/step\n",
      "1/1 [==============================] - 0s 70ms/step\n",
      "1/1 [==============================] - 0s 68ms/step\n",
      "1/1 [==============================] - 0s 70ms/step\n",
      "1/1 [==============================] - 0s 70ms/step\n",
      "1/1 [==============================] - 0s 70ms/step\n",
      "1/1 [==============================] - 0s 71ms/step\n",
      "1/1 [==============================] - 0s 71ms/step\n",
      "1/1 [==============================] - 0s 83ms/step\n",
      "1/1 [==============================] - 0s 73ms/step\n",
      "1/1 [==============================] - 0s 70ms/step\n",
      "1/1 [==============================] - 0s 71ms/step\n",
      "1/1 [==============================] - 0s 69ms/step\n",
      "1/1 [==============================] - 0s 72ms/step\n",
      "1/1 [==============================] - 0s 73ms/step\n",
      "1/1 [==============================] - 0s 73ms/step\n",
      "1/1 [==============================] - 0s 71ms/step\n",
      "1/1 [==============================] - 0s 69ms/step\n",
      "1/1 [==============================] - 0s 69ms/step\n",
      "1/1 [==============================] - 0s 72ms/step\n",
      "1/1 [==============================] - 0s 71ms/step\n",
      "1/1 [==============================] - 0s 76ms/step\n",
      "1/1 [==============================] - 0s 77ms/step\n",
      "1/1 [==============================] - 0s 75ms/step\n",
      "1/1 [==============================] - 0s 70ms/step\n",
      "1/1 [==============================] - 0s 72ms/step\n",
      "1/1 [==============================] - 0s 71ms/step\n",
      "1/1 [==============================] - 0s 69ms/step\n",
      "1/1 [==============================] - 0s 71ms/step\n",
      "1/1 [==============================] - 0s 70ms/step\n",
      "1/1 [==============================] - 0s 72ms/step\n",
      "1/1 [==============================] - 0s 70ms/step\n",
      "1/1 [==============================] - 0s 71ms/step\n",
      "1/1 [==============================] - 0s 72ms/step\n",
      "1/1 [==============================] - 0s 71ms/step\n",
      "1/1 [==============================] - 0s 77ms/step\n",
      "1/1 [==============================] - 0s 73ms/step\n",
      "1/1 [==============================] - 0s 70ms/step\n",
      "1/1 [==============================] - 0s 69ms/step\n",
      "1/1 [==============================] - 0s 71ms/step\n",
      "1/1 [==============================] - 0s 69ms/step\n",
      "1/1 [==============================] - 0s 69ms/step\n",
      "1/1 [==============================] - 0s 77ms/step\n",
      "1/1 [==============================] - 0s 71ms/step\n",
      "1/1 [==============================] - 0s 72ms/step\n",
      "1/1 [==============================] - 0s 68ms/step\n",
      "1/1 [==============================] - 0s 71ms/step\n",
      "1/1 [==============================] - 0s 73ms/step\n",
      "1/1 [==============================] - 0s 74ms/step\n",
      "1/1 [==============================] - 0s 72ms/step\n",
      "1/1 [==============================] - 0s 73ms/step\n",
      "1/1 [==============================] - 0s 70ms/step\n",
      "1/1 [==============================] - 0s 69ms/step\n",
      "1/1 [==============================] - 0s 72ms/step\n",
      "1/1 [==============================] - 0s 71ms/step\n",
      "1/1 [==============================] - 0s 74ms/step\n",
      "1/1 [==============================] - 0s 71ms/step\n",
      "1/1 [==============================] - 0s 71ms/step\n",
      "1/1 [==============================] - 0s 70ms/step\n",
      "1/1 [==============================] - 0s 70ms/step\n",
      "1/1 [==============================] - 0s 71ms/step\n",
      "1/1 [==============================] - 0s 78ms/step\n",
      "1/1 [==============================] - 0s 87ms/step\n",
      "1/1 [==============================] - 0s 70ms/step\n",
      "1/1 [==============================] - 0s 70ms/step\n",
      "1/1 [==============================] - 0s 69ms/step\n",
      "1/1 [==============================] - 0s 70ms/step\n",
      "1/1 [==============================] - 0s 69ms/step\n",
      "1/1 [==============================] - 0s 73ms/step\n",
      "1/1 [==============================] - 0s 70ms/step\n",
      "1/1 [==============================] - 0s 70ms/step\n",
      "1/1 [==============================] - 0s 70ms/step\n",
      "1/1 [==============================] - 0s 72ms/step\n",
      "1/1 [==============================] - 0s 68ms/step\n",
      "1/1 [==============================] - 0s 72ms/step\n",
      "1/1 [==============================] - 0s 81ms/step\n",
      "1/1 [==============================] - 0s 73ms/step\n",
      "1/1 [==============================] - 0s 69ms/step\n",
      "1/1 [==============================] - 0s 72ms/step\n",
      "1/1 [==============================] - 0s 70ms/step\n",
      "1/1 [==============================] - 0s 68ms/step\n",
      "1/1 [==============================] - 0s 69ms/step\n",
      "1/1 [==============================] - 0s 73ms/step\n",
      "1/1 [==============================] - 0s 70ms/step\n",
      "1/1 [==============================] - 0s 70ms/step\n",
      "1/1 [==============================] - 0s 72ms/step\n",
      "1/1 [==============================] - 0s 69ms/step\n",
      "1/1 [==============================] - 0s 69ms/step\n",
      "1/1 [==============================] - 0s 78ms/step\n",
      "1/1 [==============================] - 0s 75ms/step\n",
      "1/1 [==============================] - 0s 70ms/step\n",
      "1/1 [==============================] - 0s 69ms/step\n",
      "1/1 [==============================] - 0s 73ms/step\n",
      "1/1 [==============================] - 0s 69ms/step\n",
      "1/1 [==============================] - 0s 68ms/step\n",
      "1/1 [==============================] - 0s 72ms/step\n",
      "1/1 [==============================] - 0s 71ms/step\n",
      "1/1 [==============================] - 0s 70ms/step\n",
      "1/1 [==============================] - 0s 74ms/step\n",
      "1/1 [==============================] - 0s 71ms/step\n",
      "1/1 [==============================] - 0s 69ms/step\n",
      "1/1 [==============================] - 0s 76ms/step\n",
      "1/1 [==============================] - 0s 80ms/step\n",
      "1/1 [==============================] - 0s 72ms/step\n",
      "1/1 [==============================] - 0s 69ms/step\n",
      "1/1 [==============================] - 0s 71ms/step\n",
      "1/1 [==============================] - 0s 73ms/step\n",
      "1/1 [==============================] - 0s 69ms/step\n",
      "1/1 [==============================] - 0s 71ms/step\n",
      "1/1 [==============================] - 0s 80ms/step\n",
      "1/1 [==============================] - 0s 69ms/step\n",
      "1/1 [==============================] - 0s 69ms/step\n",
      "1/1 [==============================] - 0s 71ms/step\n",
      "1/1 [==============================] - 0s 71ms/step\n",
      "1/1 [==============================] - 0s 76ms/step\n",
      "1/1 [==============================] - 0s 77ms/step\n",
      "1/1 [==============================] - 0s 80ms/step\n",
      "1/1 [==============================] - 0s 74ms/step\n",
      "1/1 [==============================] - 0s 70ms/step\n",
      "1/1 [==============================] - 0s 73ms/step\n",
      "1/1 [==============================] - 0s 73ms/step\n",
      "1/1 [==============================] - 0s 71ms/step\n",
      "1/1 [==============================] - 0s 72ms/step\n",
      "1/1 [==============================] - 0s 69ms/step\n",
      "1/1 [==============================] - 0s 70ms/step\n",
      "1/1 [==============================] - 0s 71ms/step\n",
      "1/1 [==============================] - 0s 70ms/step\n",
      "1/1 [==============================] - 0s 77ms/step\n",
      "1/1 [==============================] - 0s 75ms/step\n",
      "1/1 [==============================] - 0s 70ms/step\n",
      "1/1 [==============================] - 0s 71ms/step\n",
      "1/1 [==============================] - 0s 72ms/step\n",
      "1/1 [==============================] - 0s 70ms/step\n",
      "1/1 [==============================] - 0s 69ms/step\n",
      "1/1 [==============================] - 0s 72ms/step\n",
      "1/1 [==============================] - 0s 74ms/step\n",
      "1/1 [==============================] - 0s 72ms/step\n",
      "1/1 [==============================] - 0s 72ms/step\n",
      "1/1 [==============================] - 0s 71ms/step\n",
      "1/1 [==============================] - 0s 69ms/step\n",
      "1/1 [==============================] - 0s 74ms/step\n",
      "1/1 [==============================] - 0s 72ms/step\n",
      "1/1 [==============================] - 0s 81ms/step\n",
      "1/1 [==============================] - 0s 71ms/step\n",
      "1/1 [==============================] - 0s 72ms/step\n",
      "1/1 [==============================] - 0s 72ms/step\n",
      "1/1 [==============================] - 0s 72ms/step\n",
      "1/1 [==============================] - 0s 70ms/step\n",
      "1/1 [==============================] - 0s 72ms/step\n",
      "1/1 [==============================] - 0s 69ms/step\n",
      "1/1 [==============================] - 0s 70ms/step\n",
      "1/1 [==============================] - 0s 68ms/step\n",
      "1/1 [==============================] - 0s 70ms/step\n",
      "1/1 [==============================] - 0s 79ms/step\n",
      "1/1 [==============================] - 0s 74ms/step\n",
      "1/1 [==============================] - 0s 74ms/step\n",
      "1/1 [==============================] - 0s 70ms/step\n",
      "1/1 [==============================] - 0s 71ms/step\n",
      "1/1 [==============================] - 0s 71ms/step\n",
      "1/1 [==============================] - 0s 68ms/step\n",
      "1/1 [==============================] - 0s 70ms/step\n",
      "1/1 [==============================] - 0s 70ms/step\n",
      "1/1 [==============================] - 0s 71ms/step\n",
      "1/1 [==============================] - 0s 69ms/step\n",
      "1/1 [==============================] - 0s 71ms/step\n",
      "1/1 [==============================] - 0s 68ms/step\n",
      "1/1 [==============================] - 0s 71ms/step\n",
      "1/1 [==============================] - 0s 80ms/step\n",
      "1/1 [==============================] - 0s 74ms/step\n",
      "1/1 [==============================] - 0s 68ms/step\n",
      "1/1 [==============================] - 0s 73ms/step\n",
      "1/1 [==============================] - 0s 69ms/step\n",
      "1/1 [==============================] - 0s 67ms/step\n",
      "1/1 [==============================] - 0s 71ms/step\n",
      "1/1 [==============================] - 0s 70ms/step\n",
      "1/1 [==============================] - 0s 70ms/step\n",
      "1/1 [==============================] - 0s 73ms/step\n",
      "1/1 [==============================] - 0s 70ms/step\n",
      "1/1 [==============================] - 0s 68ms/step\n",
      "1/1 [==============================] - 0s 69ms/step\n",
      "1/1 [==============================] - 0s 75ms/step\n",
      "1/1 [==============================] - 0s 74ms/step\n",
      "1/1 [==============================] - 0s 71ms/step\n",
      "1/1 [==============================] - 0s 72ms/step\n",
      "1/1 [==============================] - 0s 73ms/step\n",
      "1/1 [==============================] - 0s 69ms/step\n",
      "1/1 [==============================] - 0s 70ms/step\n",
      "1/1 [==============================] - 0s 75ms/step\n",
      "1/1 [==============================] - 0s 69ms/step\n",
      "1/1 [==============================] - 0s 74ms/step\n",
      "1/1 [==============================] - 0s 71ms/step\n",
      "1/1 [==============================] - 0s 70ms/step\n",
      "1/1 [==============================] - 0s 69ms/step\n",
      "1/1 [==============================] - 0s 78ms/step\n",
      "1/1 [==============================] - 0s 81ms/step\n",
      "1/1 [==============================] - 0s 73ms/step\n",
      "1/1 [==============================] - 0s 68ms/step\n",
      "1/1 [==============================] - 0s 74ms/step\n",
      "1/1 [==============================] - 0s 70ms/step\n",
      "1/1 [==============================] - 0s 69ms/step\n",
      "1/1 [==============================] - 0s 72ms/step\n",
      "1/1 [==============================] - 0s 69ms/step\n",
      "1/1 [==============================] - 0s 69ms/step\n",
      "1/1 [==============================] - 0s 71ms/step\n",
      "1/1 [==============================] - 0s 74ms/step\n",
      "1/1 [==============================] - 0s 70ms/step\n",
      "1/1 [==============================] - 0s 68ms/step\n",
      "1/1 [==============================] - 0s 77ms/step\n",
      "1/1 [==============================] - 0s 72ms/step\n",
      "1/1 [==============================] - 0s 73ms/step\n",
      "1/1 [==============================] - 0s 71ms/step\n",
      "1/1 [==============================] - 0s 72ms/step\n",
      "1/1 [==============================] - 0s 68ms/step\n",
      "1/1 [==============================] - 0s 71ms/step\n",
      "1/1 [==============================] - 0s 73ms/step\n",
      "1/1 [==============================] - 0s 72ms/step\n",
      "1/1 [==============================] - 0s 73ms/step\n",
      "1/1 [==============================] - 0s 69ms/step\n",
      "1/1 [==============================] - 0s 69ms/step\n",
      "1/1 [==============================] - 0s 70ms/step\n",
      "1/1 [==============================] - 0s 74ms/step\n",
      "1/1 [==============================] - 0s 80ms/step\n",
      "1/1 [==============================] - 0s 73ms/step\n",
      "1/1 [==============================] - 0s 70ms/step\n",
      "1/1 [==============================] - 0s 69ms/step\n",
      "1/1 [==============================] - 0s 70ms/step\n",
      "1/1 [==============================] - 0s 73ms/step\n",
      "1/1 [==============================] - 0s 69ms/step\n",
      "1/1 [==============================] - 0s 72ms/step\n",
      "1/1 [==============================] - 0s 73ms/step\n",
      "1/1 [==============================] - 0s 70ms/step\n",
      "1/1 [==============================] - 0s 72ms/step\n",
      "1/1 [==============================] - 0s 71ms/step\n",
      "1/1 [==============================] - 0s 71ms/step\n",
      "1/1 [==============================] - 0s 74ms/step\n",
      "1/1 [==============================] - 0s 72ms/step\n",
      "1/1 [==============================] - 0s 73ms/step\n",
      "1/1 [==============================] - 0s 70ms/step\n",
      "1/1 [==============================] - 0s 71ms/step\n",
      "1/1 [==============================] - 0s 70ms/step\n",
      "1/1 [==============================] - 0s 70ms/step\n",
      "1/1 [==============================] - 0s 69ms/step\n",
      "1/1 [==============================] - 0s 70ms/step\n",
      "1/1 [==============================] - 0s 72ms/step\n",
      "1/1 [==============================] - 0s 70ms/step\n",
      "1/1 [==============================] - 0s 70ms/step\n",
      "1/1 [==============================] - 0s 70ms/step\n",
      "1/1 [==============================] - 0s 75ms/step\n",
      "1/1 [==============================] - 0s 73ms/step\n",
      "1/1 [==============================] - 0s 71ms/step\n",
      "1/1 [==============================] - 0s 73ms/step\n",
      "1/1 [==============================] - 0s 68ms/step\n",
      "1/1 [==============================] - 0s 72ms/step\n",
      "1/1 [==============================] - 0s 70ms/step\n",
      "1/1 [==============================] - 0s 68ms/step\n",
      "1/1 [==============================] - 0s 71ms/step\n",
      "1/1 [==============================] - 0s 73ms/step\n",
      "1/1 [==============================] - 0s 69ms/step\n",
      "1/1 [==============================] - 0s 69ms/step\n",
      "1/1 [==============================] - 0s 74ms/step\n",
      "1/1 [==============================] - 0s 77ms/step\n",
      "1/1 [==============================] - 0s 70ms/step\n",
      "1/1 [==============================] - 0s 73ms/step\n",
      "1/1 [==============================] - 0s 73ms/step\n",
      "1/1 [==============================] - 0s 70ms/step\n",
      "1/1 [==============================] - 0s 70ms/step\n",
      "1/1 [==============================] - 0s 72ms/step\n",
      "1/1 [==============================] - 0s 69ms/step\n",
      "1/1 [==============================] - 0s 69ms/step\n",
      "1/1 [==============================] - 0s 72ms/step\n",
      "1/1 [==============================] - 0s 76ms/step\n",
      "1/1 [==============================] - 0s 69ms/step\n",
      "1/1 [==============================] - 0s 71ms/step\n",
      "1/1 [==============================] - 0s 70ms/step\n",
      "1/1 [==============================] - 0s 82ms/step\n",
      "1/1 [==============================] - 0s 72ms/step\n",
      "1/1 [==============================] - 0s 71ms/step\n",
      "1/1 [==============================] - 0s 70ms/step\n",
      "1/1 [==============================] - 0s 70ms/step\n",
      "1/1 [==============================] - 0s 71ms/step\n",
      "1/1 [==============================] - 0s 70ms/step\n",
      "1/1 [==============================] - 0s 451ms/step\n"
     ]
    },
    {
     "data": {
      "text/plain": [
       "<Figure size 800x600 with 1 Axes>"
      ],
      "image/png": "[encoded data removed]"
     },
     "metadata": {},
     "output_type": "display_data"
    },
    {
     "data": {
      "text/plain": [
       "<Figure size 800x600 with 1 Axes>"
      ],
      "image/png": "[encoded data removed]"
     },
     "metadata": {},
     "output_type": "display_data"
    }
   ],
   "execution_count": 110
  },
  {
   "metadata": {},
   "cell_type": "markdown",
   "source": "### 임베딩 공간 시각화",
   "id": "f6c54b5cc17f67e"
  },
  {
   "metadata": {
    "ExecuteTime": {
     "end_time": "2025-02-22T15:05:19.844452Z",
     "start_time": "2025-02-22T15:05:19.718651Z"
    }
   },
   "cell_type": "code",
   "source": "model.load_weights(\"encoder_model2.keras\") # 저장된 모델의 가중치만 불러와서 덮어 씌운다. TextVectorization층에 넣은 사용자 정의 전처리 함수에 @tf.keras.utils.register_keras_serializable(package='Custom') 데코레이터를 붙이지 않아서 모델이 불러와지지 않는 것 때문에 곤란하던 참인데 이런 방법이 생김.",
   "id": "7fe41445ceec78b0",
   "outputs": [],
   "execution_count": 199
  },
  {
   "metadata": {
    "ExecuteTime": {
     "end_time": "2025-02-22T15:05:20.963590Z",
     "start_time": "2025-02-22T15:05:20.950307Z"
    }
   },
   "cell_type": "code",
   "source": [
    "vocab = text_vec_layer.get_vocabulary()\n",
    "print(vocab[:10])\n"
   ],
   "id": "b8c109cef0f7861c",
   "outputs": [
    {
     "name": "stdout",
     "output_type": "stream",
     "text": [
      "['', '[UNK]', 'the', 'and', 'a', 'of', 'to', 'is', 'in', 'it']\n"
     ]
    }
   ],
   "execution_count": 200
  },
  {
   "metadata": {
    "ExecuteTime": {
     "end_time": "2025-02-22T15:05:42.721689Z",
     "start_time": "2025-02-22T15:05:42.682223Z"
    }
   },
   "cell_type": "code",
   "source": [
    "import os\n",
    "import tensorflow as tf\n",
    "from tensorboard.plugins import projector\n",
    "\n",
    "# 로그 디렉토리 설정\n",
    "log_dir = \"logs/embedding\"\n",
    "if not os.path.exists(log_dir):\n",
    "    os.makedirs(log_dir)\n",
    "\n",
    "# 어휘 사전 생성 (예시)\n",
    "vocab = text_vec_layer.get_vocabulary()\n",
    "\n",
    "# metadata 파일 생성\n",
    "metadata_file = os.path.join(log_dir, \"metadata.tsv\")\n",
    "with open(metadata_file, \"w\", encoding=\"utf-8\") as f:\n",
    "    for word in vocab:\n",
    "        f.write(word + \"\\n\")\n",
    "\n",
    "# 임베딩 레이어 생성 (이름이 'token_embedding'으로 지정됨)\n",
    "embedding_layer = model.get_layer('embedding_5')\n",
    "\n",
    "# 임베딩 레이어 가중치 체크포인트 저장\n",
    "checkpoint = tf.train.Checkpoint(embedding=embedding_layer)\n",
    "checkpoint_path = os.path.join(log_dir, \"embedding.ckpt\")\n",
    "checkpoint.save(checkpoint_path)\n",
    "\n",
    "# TensorBoard Projector 설정\n",
    "config = projector.ProjectorConfig()\n",
    "embedding_config = config.embeddings.add()\n",
    "embedding_config.tensor_name = \"token_embedding/embeddings:0\"\n",
    "embedding_config.metadata_path = \"metadata.tsv\"  # 로그 디렉토리 기준 상대 경로\n",
    "\n",
    "projector.visualize_embeddings(log_dir, config)\n",
    "\n",
    "print(\"TensorBoard Projector 설정 완료. 'logs/embedding' 경로를 확인하세요.\")"
   ],
   "id": "326447861d1047de",
   "outputs": [
    {
     "name": "stdout",
     "output_type": "stream",
     "text": [
      "TensorBoard Projector 설정 완료. 'logs/embedding' 경로를 확인하세요.\n"
     ]
    }
   ],
   "execution_count": 202
  },
  {
   "metadata": {},
   "cell_type": "markdown",
   "source": [
    "Projections 탭으로 가서 시각화 결과를 확인할 수 있다.\n",
    "\n",
    "주피터 노트북 상에서 텐서보드가 실행이 안되면 그냥 터미널에 `tensorboard --logdir=logs/embedding`를 입력 하면 된다. 로컬 호스트 6006포트로 접속하면 됨."
   ],
   "id": "9c253f2b7532ec1d"
  },
  {
   "metadata": {},
   "cell_type": "markdown",
   "source": [
    "모델이.... 잘 훈련되지 않음... 테스트 정확도가 0.5정도로 나오는데, binary cross entrophy의 경우 아래와 같은 방식으로 작동한다.\n",
    "\n",
    "<img src=\"image/Screenshot 2025-02-22 at 4.17.53 PM.png\" width=\"400\"/>\n",
    "\n",
    "모델은 지금 무작위 선택보다 조금 나은 수준이다. 훈련을 진행할 수록 훈련 손실은 감소하고, 정확도는 증가하고 있는데, 검증은 제자리이거나 오히려 나빠지고 있다. 모델이 심하게 과적합되었음.\n",
    "\n",
    "그리고 훈련을 진행하는 과정 자체에도 어려움이 많았음. 처음에는 지수기반 스케줄링과 성능기반 스케줄링을 같이 사용했는데, 학습률을 너무 빨리 줄여버리는게 문제였음.\n",
    "그래서 지금 코드의 학습률 웜업과 지수기반 스케줄링을 같이 사용하는 방식을 씀.\n",
    "\n",
    "그리고 배치 수도 문제였다. 배치 크기를 늘리면 훈련이 빨리 될거라고 생각해서 배치 크기를 무식하게 512까지 늘렸더니 램이 꽉차면서 맥이 뻗어버림ㅋㅋ\n",
    "그래서 다시 128로 줄이고 모델 훈련을 돌렸으나, 모델이 제대로 훈련되지 않음. 다시 원래의 32로 줄여서 훈련시키니까 제대로 훈련되기 시작함.\n",
    "RNN때는 배치 크기를 늘리는 것이 훈련 시간을 단축하는데 꽤 큰 효과를 보였으나, 트랜스포머에서는 별로 그렇지 않은 것처럼 보임. 이에 대한 탐구가 필요해보임.\n",
    "\n",
    "그래서 과적합 문제를 해결해야 하는데, 고려해 볼 수 있는 옵션으로는 멀티 헤드 어텐션 층의 헤드 수를 줄이고, FFN층의 뉴런수를 감소시키고, 드롭 아웃 비율을 증가시키는 것 등이 있다.\n",
    "일단 세가지 옵션을 다 사용해서 모델의 파라미터 수를 줄여보자.\n",
    "\n",
    "그리고 현재 모델이 제대로 작동하고 있는지에 대한 의구심도 좀 들기 시작한다. CLS토큰을 사용하는 방식이 정말 제대로 작동하고 있는 것인지, 패딩 토큰 마스킹이 제대로 작동되고 있는지 등등의 검증이 필요해보인다."
   ],
   "id": "82dee792c63a984f"
  },
  {
   "metadata": {},
   "cell_type": "markdown",
   "source": "### 예측",
   "id": "fd42b79cfee1af43"
  },
  {
   "metadata": {
    "ExecuteTime": {
     "end_time": "2025-02-22T13:19:56.538361Z",
     "start_time": "2025-02-22T13:19:56.378536Z"
    }
   },
   "cell_type": "code",
   "source": "model.predict([\"I don't know\"])",
   "id": "527a0a10eb0d8a5c",
   "outputs": [
    {
     "name": "stdout",
     "output_type": "stream",
     "text": [
      "1/1 [==============================] - 0s 91ms/step\n"
     ]
    },
    {
     "data": {
      "text/plain": [
       "array([[0.27697182]], dtype=float32)"
      ]
     },
     "execution_count": 139,
     "metadata": {},
     "output_type": "execute_result"
    }
   ],
   "execution_count": 139
  }
 ],
 "metadata": {
  "kernelspec": {
   "display_name": "Python 3",
   "language": "python",
   "name": "python3"
  },
  "language_info": {
   "codemirror_mode": {
    "name": "ipython",
    "version": 2
   },
   "file_extension": ".py",
   "mimetype": "text/x-python",
   "name": "python",
   "nbconvert_exporter": "python",
   "pygments_lexer": "ipython2",
   "version": "2.7.6"
  }
 },
 "nbformat": 4,
 "nbformat_minor": 5
}
