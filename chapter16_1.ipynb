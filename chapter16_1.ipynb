{
 "cells": [
  {
   "metadata": {},
   "cell_type": "markdown",
   "source": "# 허깅페이스 트랜스포머스 라이브러리",
   "id": "2e719320c5757fe8"
  },
  {
   "cell_type": "code",
   "id": "initial_id",
   "metadata": {
    "collapsed": true,
    "ExecuteTime": {
     "end_time": "2025-02-21T21:23:39.092958Z",
     "start_time": "2025-02-21T21:23:32.603327Z"
    }
   },
   "source": [
    "from transformers import pipeline\n",
    "\n",
    "# 사전훈련된 모델을 가져와서 감성 분석\n",
    "classifier = pipeline(\"sentiment-analysis\")"
   ],
   "outputs": [
    {
     "name": "stderr",
     "output_type": "stream",
     "text": [
      "/Users/barrett11357/coding/pycharm/handson_ml_--/.venv/lib/python3.9/site-packages/urllib3/__init__.py:35: NotOpenSSLWarning: urllib3 v2 only supports OpenSSL 1.1.1+, currently the 'ssl' module is compiled with 'LibreSSL 2.8.3'. See: https://github.com/urllib3/urllib3/issues/3020\n",
      "  warnings.warn(\n",
      "No model was supplied, defaulted to distilbert/distilbert-base-uncased-finetuned-sst-2-english and revision 714eb0f (https://huggingface.co/distilbert/distilbert-base-uncased-finetuned-sst-2-english).\n",
      "Using a pipeline without specifying a model name and revision in production is not recommended.\n",
      "Device set to use mps:0\n"
     ]
    }
   ],
   "execution_count": 1
  },
  {
   "metadata": {
    "ExecuteTime": {
     "end_time": "2025-02-21T21:23:43.257422Z",
     "start_time": "2025-02-21T21:23:43.116179Z"
    }
   },
   "cell_type": "code",
   "source": [
    "result = classifier(\"I love you\")\n",
    "result"
   ],
   "id": "c2544fcfaef1b000",
   "outputs": [
    {
     "data": {
      "text/plain": [
       "[{'label': 'POSITIVE', 'score': 0.9998656511306763}]"
      ]
     },
     "execution_count": 2,
     "metadata": {},
     "output_type": "execute_result"
    }
   ],
   "execution_count": 2
  },
  {
   "metadata": {},
   "cell_type": "markdown",
   "source": "# 트랜스포머 구현",
   "id": "d7d4e4518526dde3"
  },
  {
   "metadata": {},
   "cell_type": "markdown",
   "source": "그냥 씩씩하게 트랜스포머 한 번 구현하고 훈련시켜 보자. 그냥 내가 코드 짤 수 있는 대로 투박하게 작성해보자.",
   "id": "9fe2645d1cef0590"
  },
  {
   "metadata": {
    "ExecuteTime": {
     "end_time": "2025-02-21T21:23:49.750409Z",
     "start_time": "2025-02-21T21:23:49.747226Z"
    }
   },
   "cell_type": "code",
   "source": [
    "import tensorflow as tf\n",
    "import numpy as np"
   ],
   "id": "b0809f8c409a952",
   "outputs": [],
   "execution_count": 3
  },
  {
   "metadata": {},
   "cell_type": "markdown",
   "source": "## Positional Encoding",
   "id": "a7d8f55256f4849"
  },
  {
   "metadata": {},
   "cell_type": "markdown",
   "source": [
    "어텐션 메커니즘은 그 특성상 RNN과 달리 시퀀스의 순서를 고려하지 않는다. 그래서 단어 임베딩에 시퀀스의 순서에 대한 정보를 넣어줘야 한다.\n",
    "\n",
    "단어 임베딩과 같은 크기의 위치 인코딩 층을 만들어서 간단하게 더해주기만 하면 된다.\n",
    "\n",
    "학습 가능한 위치 임베딩 층을 사용하는 경우도 있고, 사인, 코사인 주기함수를 이용한 위치 임베딩 층을 사용하는 경우도 있는데, 일단 둘 다 구현해보자.\n",
    "\n",
    "파라미터 수를 줄이려면 주기함수를 이용한 위치 임베딩 층을 쓰는게 좋을 듯. 지금은 내 m4맥에서 훈련해야 해서..."
   ],
   "id": "4e8a2cfd0e50517"
  },
  {
   "metadata": {},
   "cell_type": "markdown",
   "source": [
    "1. Sinusoidal Positional Encoding\n",
    "\n",
    "원래 \"Attention is All You Need\" 논문에서는 고정된 sinusoidal 함수를 사용하여 각 위치를 인코딩했습니다.\n",
    "\n",
    "각 위치 pos와 임베딩 차원 i에 대해 다음과 같은 식을 사용합니다:\n",
    "\n",
    " <img src=\"image/Screenshot 2025-02-20 at 7.34.51 PM.png\" width=\"300\"/>\n",
    "\n",
    "이 방식의 장점은 다음과 같습니다:\n",
    "- 주기성 및 다양성: 서로 다른 주파수의 사인과 코사인 함수 조합으로 각 위치마다 고유의 패턴을 생성합니다.\n",
    "- 상대적 위치 정보: 사인과 코사인 함수의 선형적 성질 덕분에, 모델은 두 위치 간의 상대적 거리를 어느 정도 추론할 수 있습니다. 예를 들어,\n",
    "pos+k와 pos 사이의 차이는 주기적인 성질을 유지하므로, 모델이 문맥 내에서 단어 간의 관계를 파악하는 데 도움을 줍니다.\n",
    "- 일반화: 고정된 함수를 사용하기 때문에 학습 과정에서 별도의 순서 정보를 위한 파라미터를 학습할 필요가 없으며, 입력 길이가 학습 시 사용된 최대 길이를 초과해도 일반화할 수 있습니다.\n",
    "\n",
    "2. 학습 가능한 Positional Embedding\n",
    "\n",
    "또 다른 방법으로, 위치마다 고유의 임베딩 벡터를 학습 가능한 파라미터로 두어 단어 임베딩과 더합니다. 이 경우:\n",
    "- 직접적인 순서 부여: 각 위치에 대해 독립적인 벡터를 학습함으로써, 모델은 입력 시퀀스 내에서 각 단어의 위치 정보를 인위적으로 부여받습니다.\n",
    "- 유연성: 데이터에 맞춰 순서 정보를 더 최적화할 수 있지만, 고정된 방법에 비해 일반화 능력이 떨어질 수 있습니다.\n",
    "\n",
    "이 방식의 경우 보통 모델 설계 시 정해진 최대 시퀀스 길이에 맞춰 임베딩 벡터를 미리 정의합니다. 예를 들어, 최대 시퀀스 길이를 512로 설정했다면, 512개의 위치마다 각각의 학습 가능한 벡터가 존재하게 됩니다\n",
    "따라서, 입력 시퀀스가 이 최대 길이를 초과하면, 추가적인 위치에 대한 임베딩이 없기 때문에 에러가 발생하거나 모델이 기대하는 동작을 하지 않게 됩니다.\n",
    "\n",
    "결합 방식\n",
    "\n",
    "두 방식 모두 단어 임베딩과 위치 임베딩을 단순히 요소별 덧셈(element-wise addition)으로 결합합니다. 이렇게 함으로써, 임베딩 벡터는 단어의 의미 정보와 위치 정보를 동시에 포함하게 되고, 이후의 self-attention 계산에서 순서 정보를 반영할 수 있게 됩니다. 특히 self-attention 메커니즘은 입력 토큰 간의 내적(dot-product)을 통해 상관관계를 파악하는데, 여기에 위치 정보가 더해짐으로써 단어 간의 상대적 순서나 거리를 고려할 수 있게 됩니다."
   ],
   "id": "b6f4c1703ca1b140"
  },
  {
   "metadata": {},
   "cell_type": "markdown",
   "source": "### Sinusoidal Positional Encoding",
   "id": "63551c35c308fb5d"
  },
  {
   "metadata": {},
   "cell_type": "markdown",
   "source": "학습되는 위치 임베딩과 동일한 성능을 내면서 모델에 파라미터를 추가하지 않고, 임의의 긴 문장으로 확장할 수 있다.",
   "id": "47ed513d3abadb02"
  },
  {
   "metadata": {
    "ExecuteTime": {
     "end_time": "2025-02-21T21:23:49.785072Z",
     "start_time": "2025-02-21T21:23:49.767860Z"
    }
   },
   "cell_type": "code",
   "source": [
    "import math\n",
    "\n",
    "class SinusoidalPositionalEncoding(tf.keras.layers.Layer):\n",
    "    '''\n",
    "    생성자 함수에서 `모델의 최대 입력 시퀀스` X `임베딩 차원` 크기의 위치 인코딩 행렬을 미리 계산한다.\n",
    "    이러면 훈련 가능한 위치 인코딩 처럼 최대 시퀀스 길이가 미리 딱 정해져 있는 꼴이긴 한데, 효율성을 위해서 생성자에서 딱 한 번만 계산하는게 좋음.\n",
    "    '''\n",
    "    def __init__(self, max_seq_len, embed_size, **kwargs):\n",
    "        super().__init__(**kwargs)\n",
    "        \n",
    "        # 임베딩 차원히 홀수면 예외를 발생시킴. 왜지?\n",
    "        if embed_size % 2 != 0:\n",
    "            raise ValueError(\"embed_size must be even.\")\n",
    "\n",
    "        # 이제 행렬을 만들고, 위 식대로 값을 채워넣으면 됨.\n",
    "        pos_emb = np.empty((1, max_seq_len, embed_size)) # 생각해보니까 3차원 배치가 입력으로 들어오기 때문에 이렇게 3차원 행렬로 만들어줘야 해야함.\n",
    "\n",
    "        for pos in range(max_seq_len):\n",
    "            for i in range(0, embed_size, 2): # 짝수\n",
    "                pos_emb[0][pos][i] = math.sin(pos / (10000 ** (i / embed_size)))\n",
    "\n",
    "        for pos in range(max_seq_len):\n",
    "            for i in range(1, embed_size, 2): # 홀수\n",
    "                pos_emb[0][pos][i] = math.cos(pos / (10000 ** (i / embed_size)))\n",
    "\n",
    "        self.pos_emb = tf.constant(pos_emb) # 텐서로 변환\n",
    "        self.pos_emb = tf.cast(self.pos_emb, dtype=tf.float32) # 명시적으로 float32로 변환. 입력 텐서는 float32인데, 이 층에서는 pos_emb를 float_64로 만들고 있었다.\n",
    "\n",
    "        self.support_masking = True # 입력 마스크를 다음 층으로 전파하게 함.\n",
    "        # print(pos_emb)\n",
    "\n",
    "    def call(self, inputs):\n",
    "        batch_max_seq_len = tf.shape(inputs)[1] # 인코더로 입력된 시퀀스의 길이를 동적으로 계산한다. [batch_size, sequence_length, embed_size]\n",
    "        return inputs + self.pos_emb[:, :batch_max_seq_len]"
   ],
   "id": "7e7ab2f84a13af0d",
   "outputs": [],
   "execution_count": 4
  },
  {
   "metadata": {
    "ExecuteTime": {
     "end_time": "2025-02-21T21:23:49.827356Z",
     "start_time": "2025-02-21T21:23:49.794149Z"
    }
   },
   "cell_type": "code",
   "source": "layer = SinusoidalPositionalEncoding(5,10)",
   "id": "4b69238d13cf9265",
   "outputs": [
    {
     "name": "stderr",
     "output_type": "stream",
     "text": [
      "2025-02-22 06:23:49.801625: I metal_plugin/src/device/metal_device.cc:1154] Metal device set to: Apple M4\n",
      "2025-02-22 06:23:49.801775: I metal_plugin/src/device/metal_device.cc:296] systemMemory: 16.00 GB\n",
      "2025-02-22 06:23:49.801778: I metal_plugin/src/device/metal_device.cc:313] maxCacheSize: 5.33 GB\n",
      "WARNING: All log messages before absl::InitializeLog() is called are written to STDERR\n",
      "I0000 00:00:1740173029.802203   44724 pluggable_device_factory.cc:305] Could not identify NUMA node of platform GPU ID 0, defaulting to 0. Your kernel may not have been built with NUMA support.\n",
      "I0000 00:00:1740173029.802251   44724 pluggable_device_factory.cc:271] Created TensorFlow device (/job:localhost/replica:0/task:0/device:GPU:0 with 0 MB memory) -> physical PluggableDevice (device: 0, name: METAL, pci bus id: <undefined>)\n"
     ]
    }
   ],
   "execution_count": 5
  },
  {
   "metadata": {},
   "cell_type": "markdown",
   "source": "대강 만들었는데 잘 작동하는 것 같다... 아마도...?",
   "id": "b51d6010f21b2dcf"
  },
  {
   "metadata": {},
   "cell_type": "markdown",
   "source": "### 학습 가능한 Positional Embedding",
   "id": "9eabe09b942e6e87"
  },
  {
   "metadata": {},
   "cell_type": "markdown",
   "source": "이건 진짜 별거 없다. 그냥 '최대 시퀀스 길이' X '임베딩 차원' 크기의 Embedding 레이어 하나 생성해서 입력으로 들어온 임베딩에 더해주기만 하면 됨. 알아서 훈련되면서 각 위치에 대한 임베딩 표현을 학습하게 될 것이다.",
   "id": "d9cfde9625f491b5"
  },
  {
   "metadata": {
    "ExecuteTime": {
     "end_time": "2025-02-21T21:23:49.835823Z",
     "start_time": "2025-02-21T21:23:49.832169Z"
    }
   },
   "cell_type": "code",
   "source": [
    "max_seq_len = 50 # 예시\n",
    "embed_size = 128\n",
    "\n",
    "layer = tf.keras.layers.Embedding(max_seq_len, embed_size)"
   ],
   "id": "c4854bb211f6e18b",
   "outputs": [],
   "execution_count": 6
  },
  {
   "metadata": {},
   "cell_type": "markdown",
   "source": "## 마스킹",
   "id": "d97b74581d0ff2ac"
  },
  {
   "metadata": {},
   "cell_type": "markdown",
   "source": [
    "인코더 레이어까지 다 구현해 놓은 상태에서 추가함.\n",
    "\n",
    "패딩 토큰 마스킹에 대한 고려가 필요하다. TextVectorization층이 문장을 토큰ID 시퀀스로 변환할 때 시퀀스의 길이가 서로 다르기 때문에 짧은 시퀀스를 패딩 토큰(ID 0)으로 패딩해서 배치에서 가장 긴 시퀀스만큼 길게 만든다. 트랜스포머에서 패딩 마스크는 매우 중요하다. 패딩 토큰은 실제 정보가 아닌 단순 채움값이기 때문에 어텐션 연산 시에 이들에 대한 영향을 제거해야 한다. 모델이 패팅 토큰을 무시하게 만드는 것은 케라스에서 간단한데 Embedding층을 만들 때 `mask_zero=True`매개변수를 추가하면 된다. 이렇게 하면 이어지는 모든 층에서 패딩 토큰을 무시한다.\n",
    "\n",
    "```\n",
    "구체적으로 Embedding 층이 tf.math.not_equal(inputs, 0)과 같은 \"마스크 텐서\"를 만듭니다. 이 텐서는 입력과 크기가 같은 \"불리언 텐서\"입니다. ID가 0인 위치는 False이고 나머지는 True입니다. 이 마스크 텐서는 모델에 의해 다음 층에 자동으로 전파됩니다. 해당 층의 call() 메서드에 mask 매개변수가 있으면 자동으로 마스크를 받습니다. 이를 통해 층이 적절한 타임 스텝을 무시할 수 있습니다. 층마다 마스크 텐서를 다르게 다룰 수 있지만 일반적으로 마스킹된 타임 스텝을 무시합니다. <- RNN부분에서 설명하는 것을 가져와서 타임 스텝에 대한 얘기가 있음.\n",
    "```\n",
    "\n",
    "`supports_masking=True`이면 마스크가 자동으로 다음 층으로 전파된다.\n",
    "\n",
    "마스킹을 지원하는 사용자 정의 층을 구성하려면 `call()`메서드에 `mask`매개변수를 추가하고, 이 메서드에서 마스크를 사용해야 한다. 또한 마스크를 다음 층으로 전파해야 하는 경우, 생성자에서 `self.supports_masking=True`로 지정하면 된다.\n",
    "\n",
    "그래서 지금 뭘 바꿔줘야 하냐면 어텐션 연산하는 부분을 수정해줘야 한다. 디코더에서 미래에 대한 정보까지 포함해서 어텐션 연산을 하는 것을 막기 위해서 마스크드 셀프 어텐션을 하는 것과 똑같이 점곱 결과에 `극단적인 음수값`을 주는 식으로 구현하면 된다. 그러면 Softmax 함수를 통과했을 때 그 부분의 energy는 0에 수렴하게 된다."
   ],
   "id": "b4ed00fb9ad9d608"
  },
  {
   "metadata": {},
   "cell_type": "markdown",
   "source": "## Scaled Dot-Product Attention",
   "id": "643130da9b9beda2"
  },
  {
   "metadata": {},
   "cell_type": "markdown",
   "source": [
    "<img src=\"https://wikidocs.net/images/page/159310/mha_img_original.png\" width=\"300\"/>\n",
    "\n",
    "셀프 어텐션 층을 구현해보자. 실제로 구현하려니까 좀 막막하네. 일단 실제로는 입력으로 여러 개의 시퀀스들이 묶인 배치 형태의 3차원 텐서가 들어오겠지....? 그런데 내가 이제까지 본 자료들에서는 하나같이 다 하나의 시퀀스만 가지고 연산을 하던데 이건 어떻게 해결해야 하지?\n",
    "\n",
    "```\n",
    "맞습니다. 실제 구현에서는 입력이 (batch_size, seq_len, embedding_dim)과 같이 3차원 텐서로 들어옵니다. 많은 자료들이 단일 시퀀스(예: (seq_len, embedding_dim))로 예제를 보여주는 이유는 개념을 단순화해서 설명하기 위해서인데, 실제로는 벡터 연산 함수(예: tf.matmul, torch.matmul)들이 배치 차원을 자연스럽게 처리해 줍니다.\n",
    "예를 들어, PyTorch의 torch.matmul은 3차원 텐서들을 입력받으면 자동으로 배치 차원을 고려하여 연산합니다. 또한 마스크를 적용할 때도 배치 차원을 포함하여 올바른 shape로 확장(unsqueeze, expand 또는 repeat)해야 합니다.\n",
    "따라서 코드를 작성할 때는 **항상 입력의 첫 번째 차원이 배치 크기임을 염두**에 두고, 모든 연산(FC 레이어, 어텐션 계산 등)이 이 3차원 구조에서 올바르게 작동하도록 구현하면 됩니다.\n",
    "```\n",
    "아하... 알아서 잘 해봐야겠네.\n",
    "\n",
    "<img src=\"image/Screenshot 2025-02-20 at 8.43.14 PM.png\" width=\"500\"/>\n",
    "\n",
    "아무튼 일단 자료들에서 본 것대로 생각을 해보자면 Q,K,V 행렬이 들어오면 각각 편향이 없는 Wq Wk Wv 가중치를 거치면서 선형변환된다. 그렇게 Q와 K의 전치를 행렬곱해서 문맥에 대한 정보를 담은 행렬을 얻고, $\\sqrt{K의 차원}$ 으로 나누고 softmax함수에 통과시킨다. 그리고 V와 행렬곱해서 weighted sum한다. 입력과 출력의 차원이 같아야 한다.\n",
    "\n",
    "```\n",
    "즉, 별도로 각 head마다 독립적인 선형 변환 층을 만드는 대신, 하나의 선형 변환 층으로 전체 Q, K, V를 생성하고, 이를 head 수(num_heads)만큼 나눠서 사용합니다. 이 방법은 구현과 학습 파라미터 측면에서 더 효율적입니다.\n",
    "이런 방식은 Transformer 논문에서도 사용된 방식으로, 하나의 FC 레이어에서 d_model 차원의 출력을 얻은 후, 이를 num_heads로 나눈 d_k 차원의 여러 벡터들로 분할하는 것으로 요약할 수 있습니다.\n",
    "```\n",
    "이렇다고 한다. 각 셀프 어텐션, 그러니까 각 헤드마다 선형 변환 층을 두어야 하는건가 고민했는데, 그렇지는 않네."
   ],
   "id": "1215f3bf9a70a22b"
  },
  {
   "metadata": {
    "ExecuteTime": {
     "end_time": "2025-02-21T21:23:49.846401Z",
     "start_time": "2025-02-21T21:23:49.843270Z"
    }
   },
   "cell_type": "code",
   "source": [
    "class ScaledDotProductAttention(tf.keras.layers.Layer):\n",
    "    def __init__(self, **kwargs):\n",
    "        super().__init__(**kwargs)\n",
    "        self.support_masking = True # 입력 마스크를 다음 층으로 전파하게 함.\n",
    "\n",
    "    def call(self, q, k, v, mask=None):\n",
    "        # 점곱으로 어텐션 스코어 계산\n",
    "        attention_score = tf.matmul(q, tf.transpose(k, perm=[0,1,3,2])) # 중요!!!!! 전치할 때 좀 신경을 써야한다. 처음에는 벡터 시퀀스 간의 연산만을 나타낸 여러 자료들에 익숙해져 있다 보니까 그냥 tf.transpose(k)를 했다. 그런데 이러면 텐서플로우가 모든 차원을 역순으로 뒤집는다. 여기에서는 마지막 2차원만 뒤집어야 한다! 현재 이 레이어가 멀티 헤드 어텐션에서 사용되기 떄문에 입력으로 들어오는 q,k의 shape가 [batch, n_heads, seq_len, depth]다. 여기에서 마지막 2차원만 전치해야 한다. 같은 배치, 같은 헤드의 쿼리와 키끼리 어텐션 연산을 수행하는 것이기 때문. `tf.matmul(q, k, transpose_b=True)` 이렇게 쓸 수도 있따.\n",
    "\n",
    "        # 패딩 토큰 부분에 극단적인 음수값 부여\n",
    "        if mask is not None:\n",
    "            # mask의 shape는 [batch, 1, 1, key_seq_len] 또는 브로드캐스팅 가능한 형태여야 함\n",
    "            # ID가 0인 위치가 False다.\n",
    "            attention_score += ((mask - 1) * 1e9)\n",
    "\n",
    "        # 스케일\n",
    "        dim_k = tf.cast(tf.shape(k)[-1], dtype=tf.float32) # 마지막 차원의 크기로 스케일링, tf.shape(k)[-1]를 하면 정수값이 나오는데, 이걸로 바로 attention_score를 스케일링 하려니까 타입 문제가 발생하고 있었다. 그래서 float32로 캐스팅 함.\n",
    "        attention_score = attention_score / tf.math.sqrt(dim_k)\n",
    "\n",
    "        # 소프트맥스 함수 통과\n",
    "        attention_weight = tf.keras.activations.softmax(attention_score)\n",
    "\n",
    "        # weighted sum\n",
    "        output = tf.matmul(attention_weight, v)\n",
    "\n",
    "        return output"
   ],
   "id": "9fde3067e8af93e3",
   "outputs": [],
   "execution_count": 7
  },
  {
   "metadata": {},
   "cell_type": "markdown",
   "source": "이 정도면 된걸까....?",
   "id": "67113db2959530f4"
  },
  {
   "metadata": {},
   "cell_type": "markdown",
   "source": "## 멀티 헤드 어텐션",
   "id": "9c8d92021b02a5bd"
  },
  {
   "metadata": {},
   "cell_type": "markdown",
   "source": "이제 점곱 어텐션 층을 묶어서 하나의 멀티 헤드 어텐션 층을 만들어야 한다.",
   "id": "e86776ba43b75ea1"
  },
  {
   "metadata": {
    "ExecuteTime": {
     "end_time": "2025-02-21T21:23:49.902517Z",
     "start_time": "2025-02-21T21:23:49.852444Z"
    }
   },
   "cell_type": "code",
   "source": [
    "# 선형 변환하는 부분 테스트, 3d 텐서를 어떻게 Dense층에 통과시키는지 잘 이해가 안됐었음.\n",
    "pos_emb = np.ones((5, 5, 5))\n",
    "tensor = tf.constant(pos_emb)\n",
    "linear_layer = tf.keras.layers.Dense(5)\n",
    "output = linear_layer(tensor)\n",
    "print(tf.shape(output))\n",
    "# print(output)\n",
    "\n",
    "'''\n",
    "Dense 레이어의 작동 방식을 자세히 설명해드리겠습니다.\n",
    "Dense 레이어는 입력의 **마지막 차원에 대해서만** 연산을 수행합니다. 이 경우:\n",
    "1. **입력 텐서 (5, 5, 5)**\n",
    "    - 첫 번째 5: 배치 크기처럼 처리\n",
    "    - 두 번째 5: 시퀀스 길이처럼 처리\n",
    "    - 마지막 5: 실제 특징 차원\n",
    "\n",
    "2. **Dense 레이어의 연산**\n",
    "``` python\n",
    "# 실제로는 이런 식으로 작동합니다\n",
    "# 각각의 (5,5) 위치에 대해 독립적으로 Dense 연산 수행\n",
    "for i in range(5):  # 첫 번째 차원\n",
    "    for j in range(5):  # 두 번째 차원\n",
    "        # (5,) -> Dense(5) -> (5,)\n",
    "        output[i, j, :] = Dense(입력[i, j, :])\n",
    "```\n",
    "3. **결과적으로**:\n",
    "\n",
    "- 5x5개의 위치 각각에 대해 독립적으로 Dense 연산이 적용됨\n",
    "- 각 위치의 5차원 벡터가 새로운 5차원 벡터로 변환됨\n",
    "- 따라서 출력 shape도 (5, 5, 5)를 유지\n",
    "\n",
    "이것은 마치 각 위치에 같은 Dense 레이어를 반복 적용하는 것과 같습니다. 이런 특성을 \"브로드캐스팅(broadcasting)\"이라고 부르며, 딥러닝에서 매우 유용하게 사용됩니다.\n",
    "\n",
    "https://bcho.tistory.com/1153 이 글을 참고하는게 좋을 듯. 텐서플로우 행렬 연산에 대해서 자세하게 설명함.\n",
    "'''"
   ],
   "id": "4a279fe6ad2f97a5",
   "outputs": [
    {
     "name": "stdout",
     "output_type": "stream",
     "text": [
      "tf.Tensor([5 5 5], shape=(3,), dtype=int32)\n"
     ]
    },
    {
     "data": {
      "text/plain": [
       "'\\nDense 레이어의 작동 방식을 자세히 설명해드리겠습니다.\\nDense 레이어는 입력의 **마지막 차원에 대해서만** 연산을 수행합니다. 이 경우:\\n1. **입력 텐서 (5, 5, 5)**\\n    - 첫 번째 5: 배치 크기처럼 처리\\n    - 두 번째 5: 시퀀스 길이처럼 처리\\n    - 마지막 5: 실제 특징 차원\\n\\n2. **Dense 레이어의 연산**\\n``` python\\n# 실제로는 이런 식으로 작동합니다\\n# 각각의 (5,5) 위치에 대해 독립적으로 Dense 연산 수행\\nfor i in range(5):  # 첫 번째 차원\\n    for j in range(5):  # 두 번째 차원\\n        # (5,) -> Dense(5) -> (5,)\\n        output[i, j, :] = Dense(입력[i, j, :])\\n```\\n3. **결과적으로**:\\n\\n- 5x5개의 위치 각각에 대해 독립적으로 Dense 연산이 적용됨\\n- 각 위치의 5차원 벡터가 새로운 5차원 벡터로 변환됨\\n- 따라서 출력 shape도 (5, 5, 5)를 유지\\n\\n이것은 마치 각 위치에 같은 Dense 레이어를 반복 적용하는 것과 같습니다. 이런 특성을 \"브로드캐스팅(broadcasting)\"이라고 부르며, 딥러닝에서 매우 유용하게 사용됩니다.\\n\\nhttps://bcho.tistory.com/1153 이 글을 참고하는게 좋을 듯. 텐서플로우 행렬 연산에 대해서 자세하게 설명함.\\n'"
      ]
     },
     "execution_count": 8,
     "metadata": {},
     "output_type": "execute_result"
    }
   ],
   "execution_count": 8
  },
  {
   "metadata": {},
   "cell_type": "markdown",
   "source": [
    "<p float=\"left\">\n",
    "  <img src=\"https://wikidocs.net/images/page/159310/mha_img_original.png\" width=\"500\"/>\n",
    "  <img src=\"https://wikidocs.net/images/page/159310/mha_visualization-930x1030.png\" width=\"300\"/>\n",
    "</p>\n",
    "멀티 헤드 어텐션 층은 여러개가 연결되기 때문에 입력과 출력의 차원 크기가 똑같아야 할거다. 아마...?"
   ],
   "id": "99add4023be11e17"
  },
  {
   "metadata": {
    "ExecuteTime": {
     "end_time": "2025-02-21T21:23:49.915341Z",
     "start_time": "2025-02-21T21:23:49.909839Z"
    }
   },
   "cell_type": "code",
   "source": [
    "class MultiHeadAttention(tf.keras.layers.Layer):\n",
    "    # n_heads 말고 뭐가 더 필요할까, 아 선형 변환 층을 위해 입력 차원 정보가 필요하다(n_heads로 쪼갤 때 한 헤드의 차원이 어떻게 되는지 계산하기 위해서도 필요). 그리고 몇 개의 헤드로 쪼갤지에 대한 정보를 담은 n_heads가 필요함.\n",
    "    def __init__(self, input_dim ,n_heads, **kwargs):\n",
    "        super().__init__(**kwargs)\n",
    "\n",
    "        # 다음 층으로 자동으로 마스킹 전파, 근데 여기에도 안 붙여도 되는 것 같기도 하고...?\n",
    "        self.supports_masking=True\n",
    "\n",
    "        # 생성자에서 Wq Wk Wv 선형 변환 층을 만들어야 한다.\n",
    "        # 입력 텐서가 이 선형 변환 층을 통과한 다음에 여러개의 헤드로 쪼개져야 한다.\n",
    "        self.Wq = tf.keras.layers.Dense(input_dim)\n",
    "        self.Wk = tf.keras.layers.Dense(input_dim)\n",
    "        self.Wv = tf.keras.layers.Dense(input_dim)\n",
    "\n",
    "        # 선형 변환된 q,k,v를 n_heads개의 헤드로 쪼개려면 하나당 몇 차원이 되어야 하는지 계산한다.\n",
    "        if input_dim % n_heads != 0 : # 딱 나누어 떨어지지 않으면 예외를 발생시킴\n",
    "            raise ValueError(f\"input_dim % n_heads should be 0 input_dim: {input_dim}, n_heads: {n_heads}\")\n",
    "\n",
    "        self.n_heads = n_heads # 밑에서 여러개의 헤드로 쪼갤 때 사용함.\n",
    "        self.input_dim = input_dim\n",
    "        self.depth = input_dim // n_heads # 한 헤드의 차원, 헤드별 차원\n",
    "\n",
    "        # concat layer 이거 여기에서 미리 만들어도 되겠지?\n",
    "        # self.concat_layer = tf.keras.layers.Concatenate() 필요없음. 이유는 아래 헤드를 쪼개는 부분 주석을 보면 앎.\n",
    "\n",
    "        # 마지막으로 concat된 헹렬을 통과시키는 선형변환 층, 입력과 출력의 크기가 똑같아야 한다는 점을 명심하자.\n",
    "        self.Wo = tf.keras.layers.Dense(input_dim)\n",
    "\n",
    "    # 입력으로 당연히 쿼리 키 밸류를 따로 받아야 한다. 처음에 inputs하나로 뭉뚱그려서 코드를 짰음. 디코더의 인코더-디코더 어텐션의 경우 쿼리는 디코더에서, 키와 밸류는 인코더에서 받는다.\n",
    "    def call(self, q, k, v, mask=None):\n",
    "        # 선형 변환\n",
    "        q = self.Wq(q)\n",
    "        k = self.Wk(k)\n",
    "        v = self.Wv(v)\n",
    "\n",
    "        # 그리고 여러개의 헤드로 쪼개야 한다. 나는 처음에 q,k,v를 진짜 완전 별개의 조각을 쪼개서 각각 셀프 어텐션 층에 넣어야 하나 생각을 했었는데,\n",
    "        # 그건 완전 멍청한 생각임. 계산은 반드시 `병렬적`으로 수행해야 한다. 한 번의 행렬곱으로 효율적으로 끝내야 한다.\n",
    "        # 책에서도 이에 대한 내용이 나오는데 어텐션 층은 배치에 있는 모든 문장에 대한 어텐션 점수를 tf.matmul(q,k) 한 번으로 끝내서 매우 효율적이라고 나온다.\n",
    "        # 그러면서 텐서플로우에서 텐서 A와 B의 그키가 [2,3,4,5] [2,3,5,6]같이 2차원 이상의 텐서인 경우 tf.matmul(A,B)는 이 텐서를\n",
    "        # 각 원소에 행렬이 들어있는 2X3 배열처럼 다루어서 해당하는 행렬을 곱한다고 한다. <- 이걸 보니까 이해가 되네.\n",
    "        # A에 있는 i번째 j번째 열의 행렬이 B에 있는 같은 자리의 행렬과 곱해진다. (4X5)X(5X6)=(4X6) 따라서 tf.matmul(A,B) 결과 행렬은 [2,3,4,6]이 됨.\n",
    "\n",
    "        # q,k,v의 shape를 변형 시켜서 쪼개야 한다.\n",
    "        # 현재는 [batch, sequence_length, input_dim]의 3차원 텐서다.\n",
    "        # 이걸  [batch, sequence_length, self.n_heads, self.depth]이런 4차원 텐서로 바꿔야 하는 것 같은데... 맞나? 아 잠깐만 아니지\n",
    "        # 앞에서 [2,3,4,5]이런 텐서는 각 원소에 행렬이 들어있는 2X3크기의 배열처럼 다룬다고 했다. 그렇다면...\n",
    "        # [batch, n_heads, sequence_length, self.depth] 이렇게 되어야 한다. 같은 배치, 같은 헤드의 쿼리와 키 끼리 행렬곱을 하는 것이다.\n",
    "\n",
    "        # batch 사이즈를 얻음.\n",
    "        batch_size = tf.shape(q)[0]\n",
    "\n",
    "        # 일단 reshape를 한다. 마지막 차원 input_dim을 (self.n_heads X self.depth) 형태로 분리함.\n",
    "        q = tf.reshape(q, [batch_size, -1, self.n_heads, self.depth])\n",
    "        k = tf.reshape(k, [batch_size, -1, self.n_heads, self.depth])\n",
    "        v = tf.reshape(v, [batch_size, -1, self.n_heads, self.depth])\n",
    "\n",
    "        # 차원 순서를 바꾼다. 같은 배치, 같은 헤드의 쿼리와 키 끼리 행렬곱 한다.\n",
    "        q = tf.transpose(q, [0,2,1,3])\n",
    "        k = tf.transpose(k, [0,2,1,3])\n",
    "        v = tf.transpose(v, [0,2,1,3])\n",
    "\n",
    "        # scaled dot-product attention층에 집어넣어서 어텐션 연산을 수행한다.\n",
    "        attention_layer = ScaledDotProductAttention()\n",
    "        scaled_attention = attention_layer(q,k,v,mask) # 어텐션 층에 마스크를 넣어줌\n",
    "\n",
    "        # 원래대로 concat, 헤드를 쪼갰던 과정을 반대로 해주면 된다.\n",
    "        scaled_attention = tf.transpose(scaled_attention, [0,2,1,3]) # 다시 [batch, seq_length, n_heads, depth]\n",
    "        scaled_attention = tf.reshape(scaled_attention, [batch_size, -1, self.input_dim]) # 다시 [batch, seq_length, input_dim]\n",
    "\n",
    "        # 마지막 선형 변환\n",
    "        output = self.Wo(scaled_attention)\n",
    "\n",
    "        return output\n",
    "\n"
   ],
   "id": "38a84d8961c8a0d7",
   "outputs": [],
   "execution_count": 9
  },
  {
   "metadata": {},
   "cell_type": "markdown",
   "source": [
    "멀티 헤드 어텐션 층도 만들었으니까 이제 인코더 만들면 되나...?\n",
    "\n",
    "디코더까지 구현해서 전체 트랜스포머를 구현하기 전에, 먼저 인코더부터 별도의 태스크로 훈련시켜보는 것도 좋을 것 같음.\n",
    "\n",
    "```\n",
    "인코더는 원본 텍스트의 문맥과 의미를 풍부하게 표현하는 역할을 하므로, 감성 분석 외에도 여러 NLP 태스크에 활용할 수 있어요. 예를 들어:\n",
    "\n",
    "- 문서/텍스트 분류: 뉴스 기사 분류나 스팸 메일 판별 등, 문서의 전반적인 의미를 파악해 카테고리화하는 데 효과적입니다.\n",
    "- 토픽 모델링 및 문장 임베딩: 인코더에서 생성된 벡터를 이용해 문장 간 유사도를 계산하거나, 검색·추천 시스템의 피처로 활용할 수 있습니다.\n",
    "- 개체명 인식(NER): 문맥 정보를 잘 반영하는 인코더를 사용하면, 문장에서 인물, 장소, 기관명 등 중요한 정보를 추출하는 작업에 도움이 됩니다.\n",
    "- 질의 응답(Question Answering): 인코더가 문서나 문장의 핵심 정보를 압축하므로, 질문에 맞는 답변을 찾는 데도 활용할 수 있어요.\n",
    "- 문서 요약: 긴 텍스트의 중요한 정보를 추출해 요약하는 태스크에서도 인코더의 역할이 매우 중요합니다.\n",
    "실제로 BERT와 같은 모델은 인코더만을 사용해 감성 분석, 문서 분류, 개체명 인식 등 다양한 태스크에서 우수한 성능을 보이고 있답니다.\n",
    "```\n",
    "\n",
    "https://wikidocs.net/103802 이거 참고하면 좋을 듯.\n"
   ],
   "id": "69177ee953702d0c"
  },
  {
   "metadata": {},
   "cell_type": "markdown",
   "source": "## 인코더 레이어 구현",
   "id": "c8761890af5d53cf"
  },
  {
   "metadata": {},
   "cell_type": "markdown",
   "source": [
    "<img src=\"https://wikidocs.net/images/page/159310/img_original_paper-726x1030.png\" width=\"300\"/>\n",
    "\n",
    "인코더는 N개의 레이어로 구성이 되는데,\n",
    "\n",
    "각 레이어의 아랫 부분은 멀티 헤드 어텐션 통과 후 CNN ResNet처럼 skip connection, residual connection을 더하고 layer normalization 층을 거친다.\n",
    "\n",
    "그리고 나서 FFN을 통과하고 다시 skip connection을 더한 다음, 다시 layer normalization층을 거친다.\n",
    "\n",
    "이렇게 어텐션과 정규화 과정을 진행하는 레이어를 N개 쌓아서 인코더를 구축한다. 이렇게 쌓을 수 있다는 것은 입력과 출력의 차원이 같다는 것을 의미한다.\n",
    "\n",
    "각 레이어는 서로 다른 파라미터 값을 가진다.\n",
    "\n",
    "https://moon-walker.medium.com/transformer-%EB%B6%84%EC%84%9D-2-transformer%EC%9D%98-encoder-%EC%9D%B4%ED%95%B4%ED%95%98%EA%B8%B0-1edecc2ad5d4\n",
    "https://nongnongai.tistory.com/67\n",
    "\n",
    "한가지 이걸 처음 접하면서 조금 유의깊게 봤던 점은 RNN과 마찬가지로 정규화하는데 LayerNomalization을 사용했다는 점이다. 그래서 이에 대해서 조금 찾아봤는데\n",
    "\n",
    "https://medium.com/@hugmanskj/mastering-llama-rmsnorm-%EC%9D%B4%ED%95%B4%ED%95%98%EA%B8%B0-701f8281ddbb\n",
    "이 문서에서 아주 자세하게 잘 설명해준다.\n",
    "\n",
    "```\n",
    "Layer Normalization은 2016년에 Jimmy Lei Ba, Jamie Ryan Kiros, 그리고 Geoffrey Hinton이 제안한 논문 “Layer Normalization”에서 처음 소개되었습니다. 이 논문은 Batch Normalization의 한계를 극복하기 위한 대안으로 LayerNorm을 제안하였으며, 특히 시퀀스 데이터나 RNN 모델에 적합하다는 점을 강조하였습니다.\n",
    "\n",
    "Layer Normalization은 각 샘플의 평균(μ)과 표준편차(σ)를 계산하여 데이터를 정규화하는 기법입니다. LayerNorm은 배치 크기와 상관없이 샘플 단위로 적용되기 때문에, 특히 시퀀스 데이터를 처리하는 모델에서 매우 유용합니다. 트랜스포머 모델은 시퀀스 데이터를 다루므로, LayerNorm은 트랜스포머에서 널리 사용됩니다.\n",
    "\n",
    "트랜스포머 모델에서 LayerNorm은 매우 중요한 역할을 합니다. 트랜스포머는 시퀀스 데이터를 다루는 구조로, 입력 데이터가 여러 토큰(token)으로 이루어져 있습니다. 트랜스포머 모델에서 LayerNorm이 다루는 ‘샘플’은 각각의 토큰 위치에서의 임베딩 벡터 또는 잠재변수값(hidden state)입니다.\n",
    "\n",
    "예를 들어, 문장이 “The cat sat on the mat”이라고 할 때, 트랜스포머 모델은 각 단어(토큰)에 대해 고유한 벡터(embedding)를 생성합니다. 이때, LayerNorm은 해당 토큰 위치에서의 임베딩 벡터나 히든 스테이트를 정규화합니다. 즉, 각 토큰 위치에서 계산된 임베딩 벡터가 일정한 범위 내에서 안정적으로 유지되도록 정규화하는 것이 LayerNorm 의 기본 개념입니다.\n",
    "```\n",
    "\n",
    "그리고 또 하나 궁금한 점은 각 레어에서 FFN을 거치는 이유가 뭘까?\n",
    "\n",
    "https://velog.io/@glad415/Transformer-6.-%ED%8F%AC%EC%A7%80%EC%85%98-%EC%99%80%EC%9D%B4%EC%A6%88-%ED%94%BC%EB%93%9C-%ED%8F%AC%EC%9B%8C%EB%93%9C-%EC%8B%A0%EA%B2%BD%EB%A7%9D-by-WikiDocs\n",
    "\n",
    "```\n",
    "1) Transformer에서 FFN(Feed-Forward Network)을 사용하는 이유\n",
    "\n",
    "Transformer는 크게 두 가지 주요 연산 블록으로 구성됩니다:\n",
    "\n",
    "여러 토큰(단어) 간 상호작용을 학습하기 위한 Multi-Head Self-Attention\n",
    "각 토큰(또는 위치)별 표현을 비선형적으로 변환하기 위한 Position-wise Feed-Forward Network(FFN)\n",
    "이 중 FFN을 사용하는 주된 이유는 다음과 같습니다.\n",
    "\n",
    "비선형성(Nonlinearity) 부여\n",
    "어텐션만으로는 선형 변환과 유사한 효과만 얻을 수 있기 때문에, 모델의 표현력을 강화하기 위해서는 중간에 비선형 활성화 함수를 도입해야 합니다. FFN은 이런 비선형성을 추가해 Transformer가 더 복잡한 패턴을 학습할 수 있도록 돕습니다.\n",
    "\n",
    "특징(Feature) 변환 및 확장\n",
    "일반적으로 Transformer에서 FFN은 임베딩 차원(d_model)을 더 큰 차원(d_ff)으로 확장했다가 다시 축소하는 구조(예: 512 → 2048 → 512)를 취합니다. 이렇게 중간 차원을 크게 확장함으로써 각 토큰 표현을 훨씬 풍부하게 재학습하고, 최종적으로 다시 필요한 크기로 줄여서 정보를 압축합니다.\n",
    "\n",
    "결과적으로 FFN 층은 **“단순히 어텐션의 결과로 얻은 각 위치별 벡터를 더욱 풍부하고 복잡한 특성 공간으로 변환해서 모델의 표현력을 높이는 역할”**을 합니다.\n",
    "\n",
    "2) “Position-wide(혹은 Position-wise) 네트워크”가 무슨 의미인가?\n",
    "\n",
    "Transformer의 FFN은 **각 토큰(각 위치)**에 대해 동일한 완전연결 신경망(MLP)을 독립적으로 적용합니다. 이를 가리켜 흔히 “Position-wise” FFN이라고 부릅니다.\n",
    "\n",
    "동일한 가중치 공유\n",
    "모든 위치(토큰)에 대해 같은 FFN 가중치를 사용합니다. 즉, 문장의 첫 번째 토큰이든 두 번째 토큰이든, FFN의 파라미터는 동일하며, 토큰의 임베딩 벡터만 달라질 뿐입니다.\n",
    "토큰 간 상호작용은 Attention에서 담당\n",
    "FFN은 말 그대로 위치 하나하나를 독립적으로 변환하므로, 서로 다른 위치의 정보가 섞이는 과정은 어텐션 메커니즘에서 이미 수행됩니다. 이 단계에서는 “토큰 간 상호작용”이 아니라, “각 토큰을 개별적으로 변환하는 과정”에 집중한다고 볼 수 있습니다.\n",
    "즉, Position-wise FFN이란\n",
    "\n",
    "“모든 시간 스텝/토큰/위치에 동일한 MLP를 독립적으로 적용한다”\n",
    "“토큰 사이의 결합은 어텐션에서 처리하고, FFN에서는 위치별 임베딩을 비선형적으로 풍부화한다”\n",
    "라는 특성을 나타내는 용어입니다.\n",
    "```\n",
    "\n",
    "음... 일단 오케이 구현부터 하자."
   ],
   "id": "89ca256a752e0d"
  },
  {
   "metadata": {
    "ExecuteTime": {
     "end_time": "2025-02-21T21:23:49.935449Z",
     "start_time": "2025-02-21T21:23:49.930884Z"
    }
   },
   "cell_type": "code",
   "source": [
    "class EncoderLayer(tf.keras.layers.Layer) :\n",
    "    def __init__(self, input_dim, n_heads,**kwargs):\n",
    "        super().__init__(**kwargs)\n",
    "\n",
    "        # layer_nomalization층 정의, layer normalization은 훈련 중에 따로 학습하는 건 없는 걸로 알고있는데... 그러면 이렇게 하나만 둬도 되나?\n",
    "        # 아닌 듯\n",
    "        self.attention_norm = tf.keras.layers.LayerNormalization()\n",
    "        self.ffn_norm = tf.keras.layers.LayerNormalization()\n",
    "\n",
    "\n",
    "        # FFN 층 정의, 큰 크기로 키웠다가 다시 원래의 축소할 것이다.\n",
    "        self.ffn_layers = [\n",
    "            tf.keras.layers.Dense(2048),\n",
    "            tf.keras.layers.Activation('relu'),\n",
    "            tf.keras.layers.Dense(512)\n",
    "        ]\n",
    "\n",
    "        # 멀티 헤드 어텐션 층 정의\n",
    "        self.multi_head_attention_layer = MultiHeadAttention(input_dim, n_heads)\n",
    "\n",
    "        # 정규화를 위한 Dropout층 정의\n",
    "        self.dropout1 = tf.keras.layers.Dropout(0.3)\n",
    "        self.dropout2 = tf.keras.layers.Dropout(0.3)\n",
    "\n",
    "        self.input_dim = input_dim\n",
    "        self.n_heads = n_heads\n",
    "\n",
    "    def call(self, inputs, mask=None):\n",
    "        skip = inputs\n",
    "\n",
    "        # 멀티 헤드 어텐션 연산\n",
    "        attention = self.multi_head_attention_layer(inputs, inputs, inputs, mask)\n",
    "\n",
    "        # Dropout\n",
    "        attention = self.dropout1(attention)\n",
    "\n",
    "        # skip connection\n",
    "        attention = attention + skip\n",
    "\n",
    "        # layer normalization\n",
    "        attention = self.attention_norm(attention)\n",
    "\n",
    "        skip = attention\n",
    "\n",
    "        # FFN 통과\n",
    "        ffn_output = self.ffn_layers[2](self.ffn_layers[1](self.ffn_layers[0](attention)))\n",
    "\n",
    "        # Dropout\n",
    "        ffn_output = self.dropout2(ffn_output)\n",
    "\n",
    "        # skip connection\n",
    "        ffn_output = ffn_output + skip\n",
    "\n",
    "        # layer normalization\n",
    "        ffn_output = self.ffn_norm(ffn_output)\n",
    "\n",
    "        return ffn_output"
   ],
   "id": "1dd4f93c25320fb3",
   "outputs": [],
   "execution_count": 10
  },
  {
   "metadata": {},
   "cell_type": "markdown",
   "source": "## 감성 분석을 위한 전체 인코더 구현",
   "id": "c00310ab44a62b3e"
  },
  {
   "metadata": {},
   "cell_type": "markdown",
   "source": [
    "이제 전체 인코더를 구현해보자. 그냥 시퀀셜 API로 구현해도 될 것 같음.\n",
    "\n",
    "잠깐만 문제가 있음. 처음에는 모델 코드를 아래와 같이 구현했다."
   ],
   "id": "151f81a64b0eb47b"
  },
  {
   "metadata": {
    "ExecuteTime": {
     "end_time": "2025-02-21T21:23:49.973327Z",
     "start_time": "2025-02-21T21:23:49.941892Z"
    }
   },
   "cell_type": "code",
   "source": [
    "vocab_size = 10000 # 어휘사전 크기\n",
    "max_seq_len = 300 # 최대 시퀀스 길이\n",
    "text_vec_layer = tf.keras.layers.TextVectorization(max_tokens=vocab_size)\n",
    "\n",
    "model = tf.keras.models.Sequential([\n",
    "    text_vec_layer,\n",
    "    tf.keras.layers.Embedding(vocab_size, 512, mask_zero=True),\n",
    "    SinusoidalPositionalEncoding(50, 512),\n",
    "    EncoderLayer(512, 8),\n",
    "    EncoderLayer(512, 8),\n",
    "    EncoderLayer(512, 8),\n",
    "    tf.keras.layers.Dense(10, activation='relu'),\n",
    "    tf.keras.layers.Dense(1, activation='sigmoid')\n",
    "])"
   ],
   "id": "2533ad97c7648033",
   "outputs": [],
   "execution_count": 11
  },
  {
   "metadata": {},
   "cell_type": "markdown",
   "source": [
    "그런데 인코더 레이어의 최종 출력은 [bathc, seq_len, hidden_dim]의 shape가 된다. 그런데 바로 Dense층으로 넘겨버리면 모델이 시퀀스 차원을 적절히 처리하지 못한다.\n",
    " Dense층이 바로 시퀀스 전체에 적용되어 각 시퀀스의 모든 타임스텝에 대해 출력을 내므로, 원하는 최종 문장 단위의 스칼라 예측(또는 확률 예측)을 얻기 어렵다.\n",
    "\n",
    "그래서 이런 경우 GlobalAveragePooling1D나 GlobalMaxPooling1D 또는, BERT같이 문장의 맨 앞에 [CLS] 토큰을 두고, 이것만 추출해서 전체 문장에 대한 표현으로 사용해야 한다. 이런 부분에 대해서는 제대로 생각을 못해봤음."
   ],
   "id": "f804e2651f08d140"
  },
  {
   "metadata": {
    "ExecuteTime": {
     "end_time": "2025-02-21T21:25:46.255179Z",
     "start_time": "2025-02-21T21:25:46.060790Z"
    }
   },
   "cell_type": "code",
   "source": [
    "# 함수형 API로 구성\n",
    "\n",
    "# 예시: [CLS] 토큰을 입력에 추가하는 전처리 과정은 데이터 전처리 단계에서 처리해야 함\n",
    "# 만약 텍스트에 [CLS] 토큰을 추가하는 로직이 없다면, 텍스트 데이터에 미리 \"[CLS] \"를 붙여주는 방식으로 구현할 수 있습니다.\n",
    "\n",
    "# 사용자 정의 전처리 함수: [CLS] 토큰 추가\n",
    "def add_cls_token(text):\n",
    "    return tf.strings.join([\"[CLS]\", text], separator=\" \")\n",
    "\n",
    "vocab_size = 1000  # 어휘 사전 크기\n",
    "max_seq_len = 300 # 최대 시퀀스 길이\n",
    "\n",
    "text_vec_layer = tf.keras.layers.TextVectorization(\n",
    "    max_tokens=vocab_size,\n",
    "    output_mode=\"int\",\n",
    "    output_sequence_length=max_seq_len,\n",
    "    standardize=add_cls_token  # 또는 별도로 [CLS] 토큰 추가 후 표준화를 진행\n",
    ")\n",
    "\n",
    "# 모델 정의\n",
    "inputs = tf.keras.Input(shape=(1,), dtype=tf.string)  # 입력은 문자열,  Keras의 Input 레이어에서 지정하는 shape 인자는 각 샘플의 shape을 나타내며, 배치 차원은 별도로 자동 추가\n",
    "\n",
    "# 텍스트 벡터화: [batch, seq_len] (정수 인덱스로 변환됨)\n",
    "x = text_vec_layer(inputs)\n",
    "\n",
    "# 임베딩, 패딩 토큰에 대해 마스킹 적용\n",
    "x = tf.keras.layers.Embedding(vocab_size, 512, mask_zero=True)(x)\n",
    "\n",
    "# 위치 인코딩\n",
    "x = SinusoidalPositionalEncoding(max_seq_len, 512)(x)\n",
    "\n",
    "# 여러 EncoderLayer 적용\n",
    "x = EncoderLayer(512, 8)(x)\n",
    "#x = EncoderLayer(512, 8)(x)\n",
    "#x = EncoderLayer(512, 8)(x)\n",
    "\n",
    "# [CLS] 토큰의 벡터만 추출 (시퀀스의 첫 번째 토큰)\n",
    "cls_token = tf.keras.layers.Lambda(lambda t: t[:, 0, :])(x)\n",
    "\n",
    "# 분류를 위한 Dense 층: 필요한 경우 중간 Dense 층과 활성화 함수 추가\n",
    "x = tf.keras.layers.Dense(10, activation='relu')(cls_token)\n",
    "# 최종 출력, 이진 분류라면 Sigmoid 활성화, 다중 클래스 분류라면 Softmax 등을 사용\n",
    "outputs = tf.keras.layers.Dense(1, activation='sigmoid')(x)\n",
    "\n",
    "# 모델 생성\n",
    "model = tf.keras.Model(inputs=inputs, outputs=outputs)\n"
   ],
   "id": "3f40f628c34e878",
   "outputs": [],
   "execution_count": 20
  },
  {
   "metadata": {
    "ExecuteTime": {
     "end_time": "2025-02-21T21:23:50.305424Z",
     "start_time": "2025-02-21T21:23:50.293518Z"
    }
   },
   "cell_type": "code",
   "source": "model.summary()",
   "id": "22e78178bff83227",
   "outputs": [
    {
     "name": "stdout",
     "output_type": "stream",
     "text": [
      "Model: \"model\"\n",
      "_________________________________________________________________\n",
      " Layer (type)                Output Shape              Param #   \n",
      "=================================================================\n",
      " input_1 (InputLayer)        [(None, 1)]               0         \n",
      "                                                                 \n",
      " text_vectorization_1 (Text  (None, 300)               0         \n",
      " Vectorization)                                                  \n",
      "                                                                 \n",
      " embedding_2 (Embedding)     (None, 300, 512)          512000    \n",
      "                                                                 \n",
      " sinusoidal_positional_enco  (None, 300, 512)          0         \n",
      " ding_2 (SinusoidalPosition                                      \n",
      " alEncoding)                                                     \n",
      "                                                                 \n",
      " encoder_layer_3 (EncoderLa  (None, 300, 512)          3152384   \n",
      " yer)                                                            \n",
      "                                                                 \n",
      " lambda (Lambda)             (None, 512)               0         \n",
      "                                                                 \n",
      " dense_27 (Dense)            (None, 10)                5130      \n",
      "                                                                 \n",
      " dense_28 (Dense)            (None, 1)                 11        \n",
      "                                                                 \n",
      "=================================================================\n",
      "Total params: 3669525 (14.00 MB)\n",
      "Trainable params: 3669525 (14.00 MB)\n",
      "Non-trainable params: 0 (0.00 Byte)\n",
      "_________________________________________________________________\n"
     ]
    }
   ],
   "execution_count": 13
  },
  {
   "metadata": {},
   "cell_type": "markdown",
   "source": "### 데이터 준비!",
   "id": "e1979c3bbe590fbf"
  },
  {
   "metadata": {},
   "cell_type": "markdown",
   "source": "이제 IMDB 데이터를 준비하자. 일단 데이터셋을 좀 살펴보고, [CLS]토큰을 추가하는 등의 가공을 해야함. <- 이건 따로 모델에 추가시킴.",
   "id": "21c02c311858df85"
  },
  {
   "metadata": {
    "ExecuteTime": {
     "end_time": "2025-02-21T21:23:50.696301Z",
     "start_time": "2025-02-21T21:23:50.319604Z"
    }
   },
   "cell_type": "code",
   "source": [
    "import tensorflow_datasets as tfds\n",
    "\n",
    "raw_train_set, raw_valid_set, raw_test_set = tfds.load(\n",
    "    name=\"imdb_reviews\",\n",
    "    split=[\"train[:90%]\", \"train[90%:]\", \"test\"],\n",
    "    as_supervised=True\n",
    ")\n",
    "tf.random.set_seed(42)\n",
    "train_set = raw_train_set.shuffle(5000, seed=42).batch(128).prefetch(1)\n",
    "valid_set = raw_valid_set.batch(128).prefetch(1)\n",
    "test_set = raw_test_set.batch(128).prefetch(1)"
   ],
   "id": "a8921b1801f189a0",
   "outputs": [],
   "execution_count": 14
  },
  {
   "metadata": {
    "ExecuteTime": {
     "end_time": "2025-02-21T21:23:50.706007Z",
     "start_time": "2025-02-21T21:23:50.702745Z"
    }
   },
   "cell_type": "code",
   "source": "print(len(raw_train_set))",
   "id": "2371963dd0d56c55",
   "outputs": [
    {
     "name": "stdout",
     "output_type": "stream",
     "text": [
      "22500\n"
     ]
    }
   ],
   "execution_count": 15
  },
  {
   "metadata": {
    "ExecuteTime": {
     "end_time": "2025-02-21T21:23:50.824435Z",
     "start_time": "2025-02-21T21:23:50.715320Z"
    }
   },
   "cell_type": "code",
   "source": [
    "for review, label in train_set.take(1):\n",
    "    print(f\"Review: {review}\")\n",
    "    print(f\"Label: {label}\")"
   ],
   "id": "c611d83b54734b8a",
   "outputs": [
    {
     "name": "stdout",
     "output_type": "stream",
     "text": [
      "Review: [b'This is a documentary that came out of the splendid work of a Canadian landscape photographer whose interest has long been in the ravages left on earth by the excavations or buildings of man. It begins with a vast factory complex crammed with people making a great variety of little things, parts of high-tech equipment presumably; it isn\\'t really made very clear. The emphasis is on how big the place is and how many people are there and how they\\'re herded around outside in little yellow jackets. The film also shows the photographer working on a tall structure to do a still of the array of these people outside the factory, and talking with his crew as he does so. This is a world of relentless industrialization. It\\'s a relief at least to know these soulless images aren\\'t going to be presented without a human voice, as is the case in Nikolaus Geyrhalter\\'s gleefully cold documentary about the food industry, \\'Our Daily Bread.\\' \\'Manufactured Landscapes\\' contains images of people scavenging e-waste and a town (many towns, really) being wiped out by the biggest dam ever, with a single plangent trademark shot of a little girl in the rubble of her own neighborhood eating out of a bowl using a pair of chopsticks almost bigger than she is. Some of these scenes, the ones with miserably underpaid workers slaving in dangerous and toxic places, might have been shot memorably by the premier engag\\xc3\\xa9 photographer Sebasti\\xc3\\xa3o Salgado. But this photographer isn\\'t as interested in seeing people up close. His orientation places him somewhere in between Salgado and the cold, neutral modern landscape photographs of Lewis Baltz.<br /><br />All this happens in China, of course, though there is earlier footage in black and white of the photographer working around a large shipbuilding site in Bangladesh. It is backed up by music in a New Age industrial style that is alternately soothing and oppressive. There are a good many stills of the photographer\\'s work--or were some of them made by the film crew? It isn\\'t made clear.<br /><br />Edward Burtynsky is the name of the photographer. We see people wandering through exhibitions of his beautiful work-- big dramatic prints of carefully composed view camera color images with a handsome glow. The irony is that Burtynsky makes such unique and glorious pictures of places that are essentially blighted, and to the ordinary eye are dispiriting and boring. He admits himself that he takes no political stand. When we are able to compare his images with those caught by the roaming eye of the film\\'s cinematographer Peter Mettler, Burtynsky\\'s work almost amounts to a kind of glorification, and hence falsification. But he is showing us places that, if we look closely, reveal their full dark story of ravage and neglect no matter how finely crafted the photographs of them may be.<br /><br />Logically, but not entirely fortunately, it is Burtynsky whose voice-overs narrate most of the film as it ranges over various sites. Burtynsky\\'s \"epiphanies\" may have inspired his decades of fine work, but they amount to nothing but truisms about how we\\'re changing the planet irreparably; are dependent on oil, which will run out; that China has come into the game of massive industrialization late, and so may burn out early with the depletion of fossil fuel. The interest of \\'Manufactured Landscapes\\' would be much greater if there were perceptive new ideas to accompany it. The reasons for watching it are two: to see glimpses of Burtynsky\\'s work and the raw materials, the spaces he visits and chronicles so beautifully; and to observe scenes from the vast, awesome, daunting, and rather horrifying industrialization of modern China.<br /><br />Because of the limitations of the narration, the idea of the title \\'Manufactured Landscapes\\' feels insufficiently developed. It even seems a misnomer. New landscapes they are, but they are the byproduct of manufacturing rather than \"manufactured.\" \\'Landscapes of Waste\\' or \\'Wasted Landscapes\\' might be better titles. There is much room left by this documentary for more intellectually searching work on film about this intriguing subject; and those who want to know more about Edward Burtynsky might do better to peruse his books or exhibitions.'\n",
      " b'One question: Why? First off, the premise is not funny or engaging at all. They use taped interviews, and take the audio to animate ite with animals speaking the parts. First off, the interviews aren\\'t funny or entertaining to begin with, and even if they were, I am sure they would be a lot more entertaining being viewed as they are originally, without being turned into cartoons. How does that add any hilarity to it? I turned on CBS\\'s Monday night sitcom line-up, (which has become a regular way for me to relax after stressful Monday workdays) and found this on. Of course, the sitcom line-up would be reruns anyway, being summer, but seeing those episodes over again would have been more entertaining. I tried to give \"CC\" a chance. I really did. When it started, I figured, well, maybe it will be funny. Nope. And then it kept going. It was a long half hour.<br /><br />And I can almost see if there was a purpose, if the interviews were shown in their entirety, and had points to them. But no, it was just one-line clips, cut and pasted together really quick. It was like a horrible dreadful version of Cartoon Network\\'s \"Robot Chicken.\" I wasn\\'t a fan of CBS\\' now-cancelled sitcom \"The Class.\" WHile that was on, it was one half-hour of the line-up I would struggle through. But if it came down to me deciding a whole season of that or three more episodes of \"Creatures\"....let\\'s just say I\\'d take the \"Class.\" Considering it\\'s been a couple hours since it aired, and I come on here to see I am the first to comment...I guess that\\'s a good sign that nobody watched it, and that it won\\'t last much longer. Cartoon roadkill.'\n",
      " b\"Well I don't know where to begin. Obviously this was a made for TV movie, so my expectations were low. I was pleasantly surprised by the overall direction of the second hour, but anything before or after that seemed to be a paint by the numbers sort of movie.<br /><br />And talk about bad chemistry between the tow lovebird detectives. ..<br /><br />I would go more in depth, but this movie doesn't really deserve it. Grade: D+ (IMDB rating 3/10)\"\n",
      " b'This is a trio of tales, \"Shakti\", \"Devi\", and \"Kali\", about an experimental commune (or some such thing) called the Taylor-Eriksson group, which took people on journeys inside themselves and into the realm of the unknown, and left a bit of damage here and there, I\\'d say. Many years later some of that damage is still lurking and waiting for the right moment to show itself. Shakti tells the tale of a woman whose husband died mysteriously, in fact, he was torn apart, and the suspect was a man that may not have existed. Seems this woman is able to project some inner demon, or so finds out the sister of the man who was killed when she attempts to talk to this woman while posing as a reporter. Devi tells the tale of a young man who wants to \"jump out of his skin\". He\\'s a skinhead, a speed freak, and is sent to see a psychiatrist who just happens to be a former member of this commune, which results in the good doctor helping the young man to realize his desire. This is probably the best of the three segments. Kali tells the tale of a healer, who attempts to \"heal\" this woman who was a part of this commune and lets loose some kind of demon that has lived in this woman, but one wonders if he did it or if SHE loosed it because it could not survive in her any longer. All three of these tales are pretty creepy and suspenseful because you\\'re never really sure what to expect, and the premise and the settings are so unlike those of conventional horror films that it adds to the strangeness. This has a sort of low-budget look and feel to it but it also manages to conjure up a pretty creepy atmosphere throughout, much to its credit. I watched this with my mouth hanging open a good portion of the time and when the real scares (and gore) came it hit pretty hard. I found this to be a very interesting and disturbing film and liked it a lot. A good little find, this one, I\\'d give it 8 out of 10.'\n",
      " b\"This was a top-notch movie with a top-notch cast. Danny Glover, Tony Danza, Joseph Gordon-Levitt, and especially Christopher Lloyed are well-cast in this charming movie about real-life angels helping the Angels baseball team. You never know, it could happen. I loved Lloyd's role in it. He was hilarious. The story is about turning your life around, as the kid's belief in Angels helped turn around angry, hardened, and embittered manager Glover see the best in people. The movie was well made and also about seeing the best in people and reaching your dreams. It was funny, charming, touching, and sad, all very nicely done. You will like (or love) it. I guarantee.<br /><br />*** out of ****\"\n",
      " b\"I really have to say, this was always a favorite of mine when I went to see my grandma. And it still is. It is very, very close to the book. The way it is filmed, and the players were just all excellent! I have to recommend this movie to everyone who hasn't seen it. Almost everyone I talk to hates TV movies, but this was really great! I gave it 10/10.\"\n",
      " b\"Vivacious & irrepressible, ANNE OF GREEN GABLES brings unlooked-for happiness into the lives of a lonely old sister & brother on Prince Edward Island.<br /><br />Lucy Maud Montgomery's well-loved novel comes to life in this wonderful little movie. Excellent production values, a literate script and first class performances gives the story exactly the touch of quality it deserves.<br /><br />Taking her professional name from the character she portrayed, actress Anne Shirley is a joy as the red-headed fourteen-year-old orphan who completely alters the lives of her new guardians. Completely assured in her starring role, Miss Shirley is a delight, entertaining the viewer with Anne's boundless imagination, quick temper and not-so-secret sorrows.<br /><br />Playing the stern spinster who gives the girl a home, Helen Westley also completely commands her role; the viewer will enjoy seeing this sharp-tongued woman slowly unbend to Anne's affection and child-like innocence. Australian character actor O. P. Heggie gives one of his finest performances as Westley's shy, gentle brother who welcomes Anne into his heart from the moment he arrives to fetch her from the railroad station.<br /><br />Tom Brown most agreeably plays the schoolboy who quickly grabs Anne's attention. Sara Haden is appropriately prickly as a nosy neighbor. Charley Grapewin makes the most of his few moments as Avonlea's doctor.\"\n",
      " b\"This movie is one exception of the rule that a sequel is worser than the original. Its comedy at its best. This movie is a fast action slapstick comedy where something seems to happened every second. At more than one occasion the entire audience laughed loudly at a joke.<br /><br />Its a big advantage to have seen the first movie but its not a requirement.<br /><br />G\\xc3\\xb6ta kanal 2 also have the advantage of being a parody on the latest decades reality production TV series such as survivor (expediton: Robinson in Swedish) This is a Swedish movie for the Swedish audience. Thus don't see it if you aren't familiar with Sweden and its language. Otherwise: Have fun! Johan\"\n",
      " b'As a young boy, I always sort of hated \"Cinderella,\" since I was outvoted by my two sisters when my parents were considering what Disney movie to buy. I wanted \"Dumbo,\" but my sisters won out, and we got \"Cinderella.\" They thoroughly enjoyed the movie while I sulked in the back of the room playing with my Star Wars action figures.<br /><br />A lot has changed since then. My love of the Disney theme parks landed me an internship at Walt Disney World, and I now have two young nieces. I like to showcase Disney to them as much as I can, and we recently watched \"Cinderella\" together. With my newfound appreciation for all that is Disney, I watched \"Cinderella\" with a new perspective and was impressed with what I saw.<br /><br />From the beginning of the movie, though, I didn\\'t quite understand why Cinderella was trapped in such a horrible predicament. Why was she such a slave to her stepfamily, and why couldn\\'t she just run away? I wasn\\'t too sympathetic to Cinderella, but as the story progressed, I found myself becoming immersed in the story. Maybe the eye-catching animation or the fun-loving characters drew me in, or maybe it was the timeless songs. Listening to songs like \"Bibbidy-Bobbidy-Boo\" and \"A Dream is a Wish Your Heart Makes\" sort of whisked me back to the theme parks. I can picture myself in that carefree and fun atmosphere while looking at the awe-inspiring Cinderella Castle.<br /><br />Something about this movie just evokes the magic of Disney. That may make many people scoff, but go to the Magic Kingdom and see all the little girls dressed up like Cinderella that are excited to be in this fantasy world, and you\\'ll know what I\\'m talking about. The images of Cinderella and the glass slipper - as well as Mickey Mouse, Winnie the Pooh, and Tinkerbell - embody why Disney is one of the most beloved companies in the entire world.<br /><br />While \"Cinderella\" may not be the strongest story, it is sort of iconic in Disney and movie history. It represents that fun, idealistic, and fantasy-like wonderment we held when we were kids. I imagine this movie holds a lot of meaning to many, many people out there. It may not be my favorite Disney movie, but it does represent all that I love and admire about the Company.<br /><br />My IMDb Rating: 10/10. My Yahoo! Grade: A (Outstanding)'\n",
      " b\"As a Pok\\xc3\\xa9mon fan I enjoyed this movie very much. It introduces new legendary Pok\\xc3\\xa9mon (as each movie does) and adds depth to the relationships between its characters. I however do not expect those who are not Pok\\xc3\\xa9mon fans to enjoy it(This includes MOST adults). Some of the lines were corny, but that can be somewhat unavoidable when dubbing the movie over to English. The animation was beautiful, although there were a couple parts that did not look good. And although the villain is kind of corny, I think that the movies have done a good job of cycling through different types of villains, and I guarantee you that they aren't all like this one. Those who did not like it, I say to each his own, but Pok\\xc3\\xa9mon fans will love it.\"\n",
      " b\"Not that he'd care, but I'm not one of Simon Pegg's friends. If I was, there's a good chance we'd fallout if he continued to make dross like this. The trouble is, he found a successful formula as the bumbling, ordinary guy-next-door type in Shawn of the Dead, Run Fat Boy Run etc, but it's starting to wear thin. Here his character has no discernible qualities, he's rude and obnoxious, and thinks he's funny when he frankly isn't. When transferred to New York from London (and I presume this link is meant to appeal to viewers on both sides of the Atlantic), he proves equally out of place with his new colleagues. Still, is it any wonder when amongst his jolly japes he hires a transvestite stripper to appear at an editorial meeting an act of revenge for his boss. Yet somehow, Kirsten Dunst starts to warm to him, even though he's done nothing nice. Oh, and because he's a superficial male he falls for Megan Fox at first sight, possibly because her character is as shallow as his. It all makes for a predictable film conclusion, although I can't see any viewer expressing how this mirrored their life. The shame is that on paper this is a cast supposedly worth watching. Pegg, though, plays himself, Kirsten Dunst seems to just go though the motions, creating no on screen chemistry, and Megan Fox isn't stretched at all. The one huge plus is Miriam Margolyes, as Pegg's New York landlady - now if she had been on screen longer.....\"\n",
      " b\"This is the best made-for-TV movie of all-time! Am I saying this because I'm a huge Silverstone fan? Partially, but even without her, I'd still see it. I'm a fan of serial killer genre films, and believe this to be a great entry in that category. Also, Mary Giordano easily ranks among Alicia's top five character creations. Totally memorable - like she really exists. I'd have her on my side, too, if there was a mystery to be solved. She plays the character, like she does with her real life, with complete confidence in everything she does. Seems sweet, honest, nice...just like she is in real life. So is that acting? Yes, indeed, she's sort of a rebel once again. This time she's not bad, she's too good and a bit afraid to do things that seem above the law. But she doesn't do things the normal teenager would do. Instead, she spends her time reading detective mags and solves crimes. A cliche abounds: she's sort of avenging her father's death, in a different way than vigilante-style. At the time, Alicia seemed to be playing the same characters: rebellious, seductive, without a parent, a loner. This happens here, too, but she's a bit nerdy this time around. That doesn't matter; she's still cool as a nerd. Check this out soon, or else Giordano will be investigating why you haven't...\"\n",
      " b\"The 1930' were a golden age of Los Angeles with its film industry and great potential of various other possibilities to become rich and famous and happy. People were arriving there hoping to fulfill their dreams. Expecting open arms and welcoming offers there were only a few who managed to succeed and find their way to stardom, majority then condemned to live starving, disillusioned and unwanted, searching for a bit of respect in dirty bars and nasty hotel rooms. <br /><br />Young Italian-American writer Arturo Bandini arrives to LA on a similar quest - to spread his charms around to get one of those beautiful wealthy women and to write an excellent novel that would set him on a career path, having so far written a single short story published in an obscure anthology. Wishing to create a romantic masterpiece he seems to be unable to produce anything without experiencing it himself though, occasionally, he sends pieces of magazine stories to a local editor that helps him survive. He is proud to present himself as an Italian but deep in his heart he truly feels his Italian origin as a burden. The little money and the courage to conquer the world he once had are all long gone and watching his dream turning into a hangover he holds a last single nickel to spend. <br /><br />The coffee she brought him was cold and sour and spitting a curse on her triggers a never-ending relationship of insults, unspoken excuses and a love concealed beneath. Camilla being an uneducated girl trying to receive US citizenship through a marriage also carries her heavy cross of a non-perspective racial heritage. Though she is much of a stronger and life experienced person her situation as a beautiful Mexican woman is much harder to deal with than Arturo is able to realize. <br /><br />Is it obvious that Arturo eventually finds his inspiration to work on the novel? Is it possible that their love finally finds its place in the sun? Is it likely that their romance takes an unlucky turn?<br /><br />It is very surprising to find out that the chemistry between the two main characters, performed by Salma Hayek and Colin Farrell, does not work. The relationship lacks the raw and authentic feelings. Hayek though livelier a character compared to Farrell's forgot to arm Camilla with the passion and strength of her once brilliant character Frida. Also it is hard to have faith in a character which being intelligent but uneducated and illiterate uses quite difficult vocabulary and complicated sentences. A tougher character of a Phil Marlowe sort would definitely suit Farrell better, though he looks stunning in a period costume, he seems very lost trying to find the fragile world of a twenty-year old dreamer balancing between a hidden love and desire to be true to himself. <br /><br />Feeling embarrassed watching the two on the screen is not right. Their relationship might have been wild but it is more likely what a thunder and a lightning are without a storm, far from real passion, feelings just described not felt inside. It is very sad that such a potential of an interesting script and good actors was wasted, turned into a grey average of soon-to-be-forgotten.\"\n",
      " b\"I really tried to like this movie but in the end it just didn't work for me. I have seen most of Kitamura's output and have found it to be very variable. Alive, like all of his films has an interesting plot, some nifty sequences and a fair amount of creativity. However, these qualities are in painfully short supply in Alive. The plot is cool if not all that original and could have made for a pretty ace film. Unfortunately, the pacing is painfully slow and the film takes an age to get going, before reaching fairly predictable places. The action is just about passable, with the final fight pretty cool, and the earlier one about OK. The earlier one is also marred by overspeedy camera-work, making for less coherency. There are some neat visual effects and some interesting ideas floating around in the dialogue but the film still drags badly. The characters are neither well fleshed out nor well acted and the setting and general color scheme is drab and boring. The film is not completely terrible and has some points of interest, perhaps judicious use of the fast forward button could improve it. With about twenty minutes taken off the run time this could be a pretty decent sci fi thriller. But the full length film is dull. Only recommended to very patient and determined Kitumura fans.\"\n",
      " b'During the Civil War, there were many cases of divided loyalties; obviously, many occurred \"In the Border States\", where North met South by happenstance of geography. From the border, young father Owen Moore goes off to join the Union Army. Shortly, Confederate soldier Henry B. Walthall, separated from his regimen, wanders onto the enemy\\'s property, desperate for water; he finds a supply where the Unionist\\'s young daughter Gladys Egan sits. When the Yankee soldiers track him down, Little Gladys innocently helps the Confederate hide. Later, when he returns to kill her father, the little girl\\'s kindness is remembered. A sweet, small story from director D.W. Griffith. Location footage and humanity are lovingly displayed. <br /><br />**** In the Border States (6/13/10) D.W. Griffith ~ Henry B. Walthall, Owen Moore, Gladys Egan'\n",
      " b'A have a female friend who is currently being drawn into a relationship with an SOB who has a long term girlfriend. Of course the SOB is very good-looking, charming, etc and my friend is a very intelligent woman. Watching Jean Pierre Leaud\\'s character at work is exactly like watching what goes on in real life when guys like that destroy the lives of our female friends. It\\'s tragic, and you know she\\'s going to end up very hurt, but there\\'s nothing you can do. Leaud is brilliant. Totally empty. A blank throughout, he pulls the faces and tells the stories he thinks will get the reaction he wants.<br /><br />The scene two hours in when Leaud and Lebrun have made love, and the next morning he puts on a record and, very sweetly and charmingly, sings along to amuse her is brilliant. The \"What the hell am I doing here with this idiot\" expression that flickers back and forth across her face will be in my memory for a long time to come.<br /><br />It\\'s a long film, but see it in one go, preferably in a cinema. Takes a while to get into, but then the time just disappears.'\n",
      " b\"This movie is why I found this website. I couldn't find this movie anywhere else! I am so glad we found it here! We have seen it on TV before and wanted desperately to find it and buy and have several friends interested in buying it. One other poster commented that it is was boring, though I must say that it is NOT. Especially if you are a horse person, you will love this movie. The horses are awesome, well trained and the movie is well done. It is certainly one we will be purchasing for our home DVD library. We will be recommending it to our friends. The bond made between man and horse in this film was so inspiring and made you want to spend more time with your horses. This is certainly a movie that we will watch several times.\"\n",
      " b\"Great drama with all the areas covered EXCEPT for screenlay which was too slow and should have shown more relevant scenes like Pitt's character interviewing the President,or Pitt getting murdered instead of just having it described to us.Scenes like those would have kept the audience awake.Cutting away some useless minutes could have made more room for more heartpounding scenes like those.The dragging of the film kept this one from all time greatness although to see Pitt here makes the film so worth watching.Also,big fans of fising,early 20th century styles and Montana will really like this as well........\"\n",
      " b'This film is a flagrant rip-off of one of the best novels of all time, Silas Marner by George Eliot.<br /><br />The details of the film shown on IMDb do give acknowledgement to the original authoress but I did not see this at the beginning of the film, only a credit at the end of it saying \"suggested by the book Silas Marner\". Suggested? It was nothing but a complete rip- off of all the essential elements of the story:<br /><br />A wronged and sad old man, an artisan, poor and lonely, has all his money stolen. One night a child wanders up to his door as her mother lies dying in the snow outside. The man takes her in and brings her up until one day the local squire (or rich politician here) demands to adopt the child. It is he who has fathered the child during an illicit affair years before. The battle then ensues as to who should have legal custody of the child.<br /><br />In this and every other aspect of the film, the story is exactly the same. In only one can I find a difference. Silas Marner had epilepsy - but perhaps that would have strained the acting abilities of Mr Martin too far. On top of that he has his hair dyed in some carrot juice concoction (presumably to make him look younger, but actually making him look more the clown that he is)! There is also the addition of meaningless jokes, that this offbeat comedian cannot resist bringing into the story which have no part in it and only detract from the profoundness of the story. Like when the child cries in the courthouse declaring she can only be happy with the man who has fathered her all these years. This is conveyed in the film by the girl applying nasal decongestant to the bridge of her nose to make her tearful!<br /><br />I am surprised that legalities and integrity within the film industry permit such a film to be made. If I was a trustee of George Eliot\\'s I would insist on reparation. If I was Steve Martin I would send the profits to that estate, or to the poor. At the very least it should be entitled Silas Marner - adapted by S Martin. Or better still removed from the archives!<br /><br />If you are interested in this story - and I hope you are - dismiss this completely and watch Silas Marner. Or read the book! The BBC made an excellent adaptation of it in the 1980\\'s.'\n",
      " b'Warning! Spoilers!<br /><br />This is your typical disney film.<br /><br />1.Policticly correct what with the foster home that has an even divison of races.<br /><br />2.Insults the viewers intellect with its simplistic lines.<br /><br />3.The boy\\'s slezy father is almost directly taken from the Never Ending Story 2.<br /><br />4.In a world full of crime,disase,corruption,starvation and other proplems that need to be taken care of,only a losing team is worthy of divine intervention.UGHHHH!!!<br /><br />5.Did you know that angels don\\'t like swearing?! Where the heck did that come from!<br /><br />6.In helping the team,the angel cause pain and humilation on the opposing team.Very angelic indeed!<br /><br />7.The team the angels are helping are called...can you guess...THE ANGELS! Disney at its worst!<br /><br />8.\"Just got his training wings.\" Brillent line!<br /><br />My conculsion:I did not like it at all.'\n",
      " b'Hollywood\\'s misguided obsession with sequels has resulted in more misfires than hits. For every \"Godfather II,\" there are dozens of \"More American Graffiti\\'s,\" \"Stayin\\' Alives,\" and \"Grease 2\\'s.\" While the original \"Grease\" is not a great film, the 1977 adaptation of the long-running Broadway hit does have songs evocative of the 1960\\'s, energetic choreography, and an appealing cast. When Paramount began work on a follow-up, the producers came up nearly empty on every aspect that made the original a blockbuster.<br /><br />Fortunately for moviegoers, Michelle Pfeiffer survived this experience and evidently learned to read scripts before signing contracts. Her talent and beauty were already evident herein, and Pfeiffer does seem to express embarrassment at the humiliating dance routines and tuneless songs that she is forced to perform. Maxwell Caulfield, however, lacks even the skill to express embarrassment, and his emotions run the gamut from numb to catatonic. What romantic interest, beyond hormones, could the cool sassy Pfeiffer have in the deadpan Caulfield? That dull mystery will linger long after the ludicrous luau finale fades into a bad memory. Only cameos by veterans such as Eve Arden, Connie Stevens, and Sid Caesar have any wit, although Lorna Luft does rise slightly above the lame material.<br /><br />Reviewers have complained that, because \"Grease 2\" is always compared to the original, the movie comes up lacking. However, even taken on its own terms, the film is a clunker. After a frenetic opening number, which evidently exhausted the entire cast, the energy dissipates. With few exceptions, the original songs bear little resemblance to the early 1960\\'s, and the only nostalgia evoked is for \"Our Miss Brooks\" and \"Sid Caesar\\'s Comedy Hour.\" The jokes fall flat, and the choreography in a film directed by choreographer Patricia Birch is clumsy to be polite. However, worse films have been inflicted on audiences, and inept sequels will be made as long as producers seek to milk a quick buck from rehashing blockbusters. Unfortunately, \"Grease 2\" is not even unintentionally funny. Instead, the film holds the viewer\\'s attention like a bad train wreck. Just when all the bodies seem to have been recovered, the next scene plunges into even worse carnage.'\n",
      " b'To those who say that this movie deserves anything below the unflaunting grace that it showed, I disagree. This is an amazing documentary about a shocking day.<br /><br />IMDB asks us to rate this movie. I beg you to consider the fact that the documentary was made. The courage that it took to shoot this film is most notable. We find that the two brothers are split up when that moment happened. They continue to document the bravest of the brave without knowing about their own and eachother\\'s safety. To judge whether it\\'s nobler to shoot a video of that tragedy or to save the lives as those amazing, amazing firefighters did is not mine to answer. I just know that in 30 years, a class full of children will not know one without the other.<br /><br />I submit a wholehearted 10. This is why the art of filming was created! To capture the natural emotion that real life offers. You can keep your kung-fu junk. Romance is cute. Action will never reach this level. This movie, 9/11, will be timeless in that it did not glorify itself. It didn\\'t have a sneak-peek. It didn\\'t have all of the blatant vanities that a lion\\'s share of the many movies on the many screens blare. It had class, composure, substance, and it had a record of the day that changed the modern face of America and even the world. It spoke of things inescapable to the eye of the camera. Please consider this movie, as it itself proclaims, a stirring tribute to all of those who fell because of the free, beautiful name of America.<br /><br />How can you give anything less to a movie that shows, not embellishes, the natural bravery of real people acting in unreal times. I love \"The Godfather\" but \"9/11\" is forever a different kind of movie as this is now a different kind of world. It is art without question or questions.<br /><br />jf'\n",
      " b'I don\\'t understand how \"2 of us\" receive such a high rating... I thought that the first half dragged on and the second half didnt make sense, followed by an unresolved climax which was not worth the trouble. However, I did like Jared Harris\\' performance of John Lennon which was worth the wasted 2 hours.'\n",
      " b'This is probably the best documentary I have seen in a very long time. Jonny Kennedy was and is still is a tragically beautiful inspiration. Not only was he a survivor of one of the most painful diseases out there, but he used his beauty to show the world that there is life after death and never to give up reaching people and spreading his love. Watching minutes of his life long struggle was heart-wrenching. Listening to his smart ass remarks and seeing his adorable gestures was heartwarming. And seeing him smile was indescribable. I feel blessed to have been able to be touched by this tiny giant. Please, if you ever have a chance to watch this film - consider yourself lucky to have met Jonny Kennedy.'\n",
      " b\"Don't get me wrong - I love David Suchet as Poirot. I love the series as well as the movies but enough already re: Death On The Nile. Everyone has done this one! We know who dies. We know why they die. We know who the killer is. We know how it was done. So I say enough already! Mr. Suchet could have used that awesome talent in another one of Agatha Christie's novels. I will say that the acting by all the actors was superb. The sets were terrific and very realistic. I especially liked David Soul but I was surprised at how 'awful' he looked. I hope he doesn't look that way in 'real' life! I honestly can't remember from other movies whether the very end was the same. Somehow I don't think so. I thought that was a rather brilliant touch whether or not Ms. Christie wrote it that way. I would much rather have that ending then wasting away in prison!\"\n",
      " b'Having just watched this movie, I almost feel like having wasted 2 hours of my life, but I guess there is some good in everything:<br /><br />If I was to rate this as any other movie, it can only receive 1 or 2 tops, but if I grade it like a low budget ind. movie, it may get 3 or 4. That is a movie is supposed to be \\'complete\\' and without too long passages of boredom or waste of time. This movie isn\\'t. But I guess a lot of independent movies are about showing movie skills, and considering this, this movie has a few highlights. If I am to comment on what the directors should take with them to their next project, I guess the distorted sound effects had some quality. They also manage to build some characters, this however takes me to what they should leave out in their next project, because the character building takes too long, since it is mostly irrelevant for the movie plot. Neither should the long spaces of time dedicated to walking around be continued in the next project - whats the point? I guess this movie tries to be a little bit of everything (building characters, suspense and a plot), and ends up being nothing (not a lot)<br /><br />This movie tries too much and too hard, and I guess it should have been cut to a short film. I could easily manage to find one hour of walking around or pointless dialogue to cut from the movie.<br /><br />There is too much irrelevant things going on in this movie. The story should have been more streamlined. I know there is supposed to be some mystery in this movie, but a slight surprise to who the killer is, doesn\\'t make a mystery. The story behind the \"mystery\" receives almost no attention during the film, which leaves the final \"point\" as a quick an unsatisfying wrap-up. <br /><br />Therefore I would like to say this movie was a nice try, but I cant. I hope the directors learn from their mistakes, and produce a better product next time.<br /><br />If you don\\'t have an interest in bench learning from producing low budget movies, there is no need to watch this - not even too see why everyone thinks its bad.<br /><br />As others have stated I am pretty sure the many 10\\'s given to this movie are from people somehow involved in the movie. This movie could not receive a \"10\" judging from any remotely objective standpoint.'\n",
      " b'When DEATHTRAP was first released, the poster--reproduced on the cover of this DVD--offered a graphic akin to a Rubik\\'s Cube. It is an appropriate image: originally written for the stage by Ira Levin, who authored such memorable works as ROSEMARY\\'S BABY and THE STEPFORD WIVES, the play was one of Broadway\\'s most famous twisters, and under Sidney Lumet\\'s direction it translates to the screen extremely well.<br /><br />DEATHTRAP is one of those films that it is very difficult to discuss, for to do so in any detail gives away the very plot for which it is famous. But the opening premise is extremely clever: Sidney Bruhl (Michael Caine) is the famous author of mystery plays, but these days he seems to have lost his touch. After a particularly brutal opening night, an old student named Clifford Anderson (Christopher Reeve) sends him a script for a play he has written. It is called \"Deathtrap,\" and Sidney recognizes it as a surefire hit. Just the sort of hit that would revive his career... indeed, a hit to die for. And when Clifford visits to discuss the play, events suddenly begin to twist in the most unexpected manner possible.<br /><br />Like Anthony Shaffer\\'s equally twisty SLEUTH, DEATHTRAP is really a story more at home on the stage than the screen--to reach full power it needs the immediacy that a live performance offers. Still, under the expert guidance of director Sidney Lumet, it makes a more-than-respectable showing on the screen. Much of this is due to the cast, which is remarkably fine. Michael Caine gives a truly brilliant performance, Dyan Cannon is funny and endearing as Sidney\\'s relentlessly anxious wife, and Christopher Reeve gives what might be the single finest performance in his regrettably short acting career. If you can\\'t see it in a first-rate theatrical production, this will more than do until one comes along.<br /><br />Gary F. Taylor, aka GFT, Amazon Reviewer'\n",
      " b\"I went to see Hamlet because I was in between jobs. I figured 4 hours would be great, I've been a fan of Branagh; Dead Again, Henry V. I was completely overwhelmed by the direction, acting, cinematography that this film captured. Like other reviews the 4 hours passes swiftly. Branagh doesn't play Hamlet, he is Hamlet, he was born for this. When I watch this film I'm constantly trying to find faults, I've looked at the goofs and haven't noticed them. How he was able to move the camera in and out of the Hall with all the mirrors is a mystery to me. This movie was shot in 70 mil. It's a shame that Columbia hasn't released a Widescreen version of this on VHS. I own a DVD player, and I'd take this over Titanic any day. So Columbia if you're listening put this film out the way it should be watched! And I don't know what happened at the Oscars. This should have swept Best Picture, Best Actor, Best Direction, best cinematography. What films were they watching? I felt sorry for Branagh at the Oscars when he did a tribute to Shakespeare on the screen. They should have been giving a tribute to Branagh for bringing us one of the greatest films of all time.\"\n",
      " b'Well, on the endless quest for horror, we will come across this film, apparently re-released on DVD recently for some ungodly reason. The transfer is awful and the quality just sucks. I don\\'t think this is due to a bad remaster or anything, I just think the film is poorly done.<br /><br />Obviously filmed at an abandoned school with a budget that was no doubt wasted on cheap beer and no talent hacks, \"Slaughter High\" starts out slow and doesn\\'t pick up pace until about an hour in. First, we get to see a \\'nerd\\' as he is picked on by a group of...I actually don\\'t even know what they were supposed to be...jocks? The ringleader, with his ultra hooknose is so ugly he should have definitely been cast as the nerd. Then, there is a \\'big guy\\' and a couple of dumb losers and chicks who are supposed to be \\'hot\\' but aren\\'t. It\\'s a mystery why this group of rejects is picking on one of their own, but I guess the viewer is to assume these are \\'cool kids\\' picking on a dweeb. The casting choices are horrendous as most of the high schoolers are played by thirty-somethings. As other reviewers on here have pointed out, the actors (if you can call them that,) are a bunch of Brits whose accents slip out numerous times throughout this piece of crap. We are left to assume that this group of \\'children\\' were the only students at this school, as their \\'reunion\\' is only them at the school, which is now shown to be abandoned, is just them.<br /><br />The kills are lame, the gore is not great and the script is like Scooby Doo with real people; lines like: \\'This place gives me the creeps...\\' and \\'Someone gimme a beer\\' are highlights...It\\'s just not good. Skip this one unless you are getting wasted with some friends and wanna laugh at a real lame attempt at a slasher. If you wanna see good, get Bava\\'s \"Bay Of Blood,\" done 14 years earlier and a heck of a lot better. If you wanna see a good BAD slasher, see \"Just Before Dawn\" or \"The Burning.\" 2 out of 10, kids.'\n",
      " b\"wow this is the worst movie ever. the only reason i signed up for IMDb was so i could complain about this movie. i have never walked out of a theater or stoped a DVD but i almost stopped this one (and i should have). but i watched it all the way to the end just to get let down again with an absolutely terrible ending. wow if this is all that wes craven can produce his time is long up. I've never seen the first one and will never after watching this. its terrible acting with a terrible plot. hey looks someone is shinning a mirror at us lets go check it out. and the sad part is that when this movie came to DVD it was completely checked out at blockbuster forever. so i feel bad for all the people that saw this junk.\"\n",
      " b'It all started with True Heart Bear & Noble Heart Horse get the club to safety. Noble Heart Horse meet Dawn & John & took them to see True Heart Bear. Later, The care meter went down more & True Heart Bear & Noble Heart Horse check to see if it Dark Heart but they can\\'t go unless the club at care for so they ask Dawn & John to care for the club. After True Heart Bear & Noble Heart Horse Come back, They send Dawn & John back to camp. Than the club & cousin bears have grown up to get ready to fight Dark Heart. At the end, Dark Heart kidnap all the care bear & the kids (Dawn & John) have to tell Christy that Dark Heart is evil. Than they work to together to save the Care Bears. Later, True Heart Bear & Noble Heart Horse found out it Dark Heart shadow & return to care land to find that their gone. The Kids (Dawn, John, & Christy) come but they was not powerful to stop Dark Heart. True Heart Bear & Noble Heart Horse come to help Dawn, John, & Christy to free the other care bears but Christy got in the way & was hit by Dark Heart magic. Than Dark Heart saw Christy got hit & stop fighting the care bear in order to help her but he can\\'t because Dark Heart (himself) don\\'t have the power of caring to save Christy. The care bears & the kids help Dark Heart save Christy. Now Dark Heart starting to care & became a real boy to fall in love with Christy. Dark Heart is now a real boy & help out Christy to work out in camp.<br /><br />This is a great move ever & the best Care Bears Movie I ever seeing.<br /><br />I like all the care bears movies & I can\\'t wait to see \"Care Bears: Big Wish Movie (2005)\".<br /><br />Who like this movie?'\n",
      " b\"Ahh this film had so much potential! A good cast of quality B actors, the thighs of Jessica Simpson and... that is about it!<br /><br />I believe some guy in some unnamed marketing department had an idea. Basically, lets do a kind of Legally Blond film, but do it in New York. That big bright city of chances, power and money and where everyone is a heartless, power/money hungry person. Let's add to this Jessica Simpson, small town bimbo, that brother of Owen Wilson and for some no apparent reason Andy Dick (only because of him you should ignore this film).<br /><br />Basic story line:<br /><br />Boy leaves girl for NY, girl follows, boy cheats, girl stays in NY with cousin, gets a job under false pretenses, mucks up, is courted by other boy (Brother Wilson) and together save the day and kiss.<br /><br />a few words come to mind when reflecting upon this film, i.e. dire, awful, unbearable, intolerable and xenophobic<br /><br />Just don't watch this film, you will be happier. One reviewer referred to Guantanamo and i definitely agree with him. This film induces shock. And I know what you are thinking... at least at some point will I see Simpson naked or close too. It's not gonna happen, spare yourself the time and YouTube her. You will have better sexy time!<br /><br />The films editing is flimsy, the acting is unbearable, and why do they use blue screens?<br /><br />In conclusion; this is cinematic treason which should be punished to the maximum<br /><br />Another question why does Willie Nelson always play a kind of father figure in almost every Jessica Simpson flick and why are there no black, Latin, Asian or European people in this movie?\"\n",
      " b'In this first episode of Friends, we are introduced to the 6 main characters of the series: Monica Geller,Phoebe Buffay,Chandler Bing,Ross Geller, Joey Tribbiani and eventually Rachel Green .<br /><br />We discover that Rachel, a rich girl that is Monica\\'s friend from high school times, left her fianc\\xc3\\xa9, Barry, at the altar, since she discovered she didn\\'t love him. She also decides to live with Monica and become independent from her father,getting a new job as a waitress in Central Perk.<br /><br />Ross, for the other hand,discovered his wife is a lesbian and lost her for Susan, her partner. (We see him moving to a new apartment during the episode)<br /><br />Monica, in this episode, makes out (and eventually sleeps) with Paul \"the wine guy\", who gave her the excuse of being impotent since he divorced his wife. But in reality, he was just deceiving her.<br /><br />Ps: I just loooove Joey\\'s and Chandler\\'s haircuts in this first season! =)'\n",
      " b\"This one features all the (bad) effect of Prior's cheap-o movies, but is so overtly racist, nasty and unpleasant that it is difficult to give this piece of dreck any redeeming feature. Unless you plan to enlist in the Marines, skip this one. Oh, and even if you do, avoid it at all costs.\"\n",
      " b'I had a really hard time making it through this move. It was extermly slow and at times wondered when the plot of the movie would actually come to life.<br /><br />This movie seemed to flow to slow and I kept on wondering when it was going to end. I am normally a person who likes a good indie file every once in a while but this did not satisfy what I was looking for.<br /><br />It seemed they tried to make to much out of this movie. At one point it seemed to turn political which I am not a big fan of in movies. If you are looking for a slow moving movie with little to no plot then this is the right movie for you. As for me I felt I wasted 2 hours when I could of been doing something else.'\n",
      " b'Tom the cat, Jerry the mouse, and Spike the Dog (here called Butch, his third name, his second being \\'Killer\\') decide to sign a peace treaty to all love each other. It\\'s weird and a bit unnatural seeing them all buddy buddy like this and their friend\\'s seem to think so too. But by the end thanks to a disagreement over a steak, everything is back to normal and all is how it should be. This short is the second one of three on the new Spotlight DVD to be edited and I have no clue why this one was. This cartoon can be found on disc one of the Spotlight collection DVD of \"Tom & Jerry\" <br /><br />My Grade: B'\n",
      " b\"Franco proves, once again, that he is the prince of surreal & erotic cinema. True, much of his work can be viewed as entertaining sleaze but with Succubus (Necronomicon) he shows what he is truly capable of when he lets his warped creativity run riot and gives us a film that is both hypnotic and enigmatic whilst still maintaining the delirious eroticism intrinsic in his work. Jerry Van Rooyen's splendid score pulsates as the viewer is thrown from one bizarre scenario to another as we follow the trials of a striptease artist (Reynaud) who may be schizophrenic, or may indeed (as one mysterious character states) be a devil, attempt to come to terms with the world she inhabits. A beautiful and enigmatic piece of cinema highly recommended to anybody with even a passing interest in alternative cinema.\"\n",
      " b'HOLLOW MAN is one of the better horror films of the past decade. The sub-plot is original and the main plot is even better. The special effects are brilliant and possibly the best I have ever seen in a horror film. Kevin Bacon proves again that he can handle any role that comes his way.<br /><br />Claude Rains shocked the world with THE INVISIBLE MAN in 1933, well now, Kevin Bacon has shocked *us* with HOLLOW MAN. One of the most thrilling horror films ever. The action is intense and the chills are true. You may actually find yourself jumping if you are watching it in the dark on a stormy night. The supporting cast includes Elizabeth Shue, Josh Brolin, Kim Dickens, Joey Slotnick, Greg Grunberg, and Mary Randle. All of whom do an exceptional job. <br /><br />---SPOILERS---<br /><br />Dr. Sebastian Caine (Kevin Bacon) and his team have discovered the secret to making someone invisible. After animal testings, they move on to human testing. But someone has to be the subject. Volenteering, Caine is turned invisible. But when his team is unable to bring back into visibility, Caine is driven mad by his condition as he seeks his revenge...*end spoilers*<br /><br />The film has created memorable shock sequences and is destined to become a classic well into the next century. Becoming the basis for a spoof joke in SCARY MOVIE 2, this film grabs you by the throat and never lets go. The first 45 minutes or so are slow, developing the characters and showing how their experiments work. The second half is exciting and appealing to most action and horror fans. Think of DEEP BLUE SEA. Then change the sharks into an crazy invisible man. And then change the water into fire and explosions. A rehashing of a killer shark movie. Interesting... HOLLOW MAN gets 5/5.'\n",
      " b'I have recently seen this production on DVD. It is the first time I have seen it since it was originally broadcast in 1983 and it was just as good as I remembered. At first as was worried it would seem old fashioned and I suppose it is a little dated and very wordy as the BBC serials were back then. (I miss those wonderful costume dramas that seemed to be always on Sunday afternoons back then) But that aside it is as near perfect as it could have been. I am a bit of a \"Jane Eyre\" purist as it is my favourite book and have never seen another production that is a faithful to the book as this one. I have recently re-read the book as well and some of the dialogue is just spot on. Reading the scene near the end where Rochester questions Jane about what St John was like I noticed their words were exactly reproduced on screen by Dalton and Clarke and done perfectly. <br /><br />All the other productions that have been done all seem lacking in some way, some even leave out the \"Rivers\" family and their connection to Jane altogether. I also think this is the only production to include the \"Gypsy\" scene done correctly.<br /><br />The casting is perfect, Zelah Clarke is like Jane is described in the book \"small plain and dark\" and I disagree that she looked too old. Timothy Dalton may be a little too handsome but he is absolutely perfect as Rochester, portraying every aspect of his character just right and acting his socks off! I agree with other comment that he even appears quite scary at time, like in the scene when he turns around slowly at the church when the wedding is interrupted, his expression is fantastically frightening. But then in another favourite scene his joy is wonderful to see when Jane runs down the stairs and into his arms the morning after they declare their love for one another. A love that is wonderfully portrayed and totally believable. Oh to be loved by a man like that! There were a couple of scenes that were strangely missing however, like when Jane climbs in to bed with the dying Helen and also when Rochester takes Jane shopping for her wedding things (I thought that one was in it but maybe my memory is playing tricks).<br /><br />Finally if you never see another production of Jane Eyre - you simply most see this one it is simply perfection!'\n",
      " b'If Todd Sheets were to come out and admit that this movie was intended to spoof the zombie genre, I would change my rating to an eight. Try to imagine a movie where every scene, line, and even every acting nuance was designed to be a parody. I could probably crap out alphabet soup, rearrange what was left of the letters, and still have a better script. Two scenes in particular come to mind when I think of this movie. SPOILER ALERT! One is when Mike\\'s dad and the other dad walk, I repeat walk down a staircase jam packed with zombies. This is a small staircase and even though they brush up against the flailing undead, nothing happens to them. When they reach the end, the ex-marine turns around, says \"God you\\'re a horny bastard\", and shoots only one. The other is in the military complex. The girl stabs a zombie with a machete and is immediately surrounded. The camera moves around her for roughly forty seconds, while she is surrounded by zombies at an arm\\'s length away. She then almost casually runs out from the crowd and joins the other humans. SPOILER ALERT OVER! These scenes must be seen to be believed. Still, I enjoy this movie as much as almost any comedy just because it\\'s so damn funny. Kudos to Todd Sheets for getting so many people in his movie and having the drive to make it but not really for anything else.'\n",
      " b\"At first I wasn't sure if I wanted to watch this movie when it came up on my guide so I looked it up on IMDb and thought the cover looked pretty cool so I thought I would give it a try expecting a movie like Elephant.<br /><br />Once I got past the fact that I am supposed to dislike the Alicia character played excellently by Busy Phillips, I realized what a good job this movie was doing toward setting up the relationship between Alicia and Deanna. Alicia is so mean to Deanna played by Erika Christensen almost throughout the entire movie but we eventually find out that they despite being polar opposites they have one thing in common besides being present at the shooting. They share loneliness and to what extent is revealed as the film progresses.<br /><br />I've just got to say how much I loved this movie and was glad to see all of the positive comments about it. I couldn't even get through Elephant because it just seemed to be exploiting the Columbine tragedy. This movie on the other hand was compelling and realistic. Busy Phillips acting is OFF the CHAIN!!! That is a good thing and I would love to see her progress into some more mature roles.\"\n",
      " b'do not be suckered into renting this movie. It has nothing to do with an escape from death row, despite the (english) title. I can\\'t think of a single good thing to say about the movie. Poor acting, poor editing, poor directing... laughable \"plot\", and the sound/music was so irritating, it\\'s a wonder this movie doesn\\'t come with a warning label. The only possible way to sit through this movie and enjoy it is for it\\'s historical cheesiness quality. They just don\\'t make films this bad anymore.'\n",
      " b'as an actor I really like independent films but this one is amateur at best.<br /><br />The boys go to Vermont for a civil service yet when the plane lands it flies over a palm tree - were the directors aware that palm trees are not in Vermont? Pines yes - palms no. And the same for the wedding service - again nice grove of palm trees.<br /><br />When the boys are leaving VT they apparently could not get a ticket on any major airline since the plane that is filmed is Federal Express. Did they ship themselves Overnight in a crate? Come on guys little details like this separate an indi film from totally amateur.<br /><br />The Christian brother is far gayer than Arthur with his bleached hair and tribal band tattoo. The two should have switched roles.<br /><br />The minor characters are laughable and overact something terrible.<br /><br />Applause to the directors for making a gay film but pay some attention to your locations and casting next time'\n",
      " b'Despite some negative comments this film has garnered in the IMDb pages, it\\'s still worth a look as this is a story about survival and camaraderie between two different men with different mentalities while in a difficult mission in the Panamanian jungle.<br /><br />Peruvian director Luis Llosa takes us along to watch this thriller set in Panama. The film has some good moments as Beckett, the veteran marine, takes a newly arrived man, recently sent to try to eliminate a notorious drug cartel head and the corrupt army general who might be the next president of the country. The only problem, Miller, has no experience in what he has been entrusted to achieve.<br /><br />Miller, the arrogant newly arrived man to the jungle and to the guerrilla warfare between the military and drug lords against the infiltrated American intelligence men, learns a valuable lesson from Beckett. What looks good in theory, is irrelevant in the jungle.<br /><br />Tom Berenger, is an actor who doesn\\'t register much, as he proves in this movie, but in the context of the movie, he is right as a man of a few words. Billy Zane playing Miller does what he can with a role that doesn\\'t afford him any glory until the crucial end.<br /><br />For lovers of action film, \"Sniper\" offers an 112 minutes of action that with a bit of trimming would have made a more satisfying movie.'\n",
      " b'I just got through watching this DVD at home. We love Westerns, so my husband rented it. He started apologizing to me half way through. The saddles, costumes, accents--everything was off. The part that made me so mad is where the guy didn\\'t shoot the \"collector\" with his bow and arrow as he was taking the fat guy\\'s soul. His only excuse was \"he only had 2 arrows left.\" We watched it all the way through, and, as someone else said...too many bad things to single out any one reason why it sucked. I mean, the fact that the boy happened to snatch the evil stone from the collector on the same month and day it was found, what\\'s the point of that? And why were there a grave yard where everyone died on April 25 but the people whose souls were taken by the collector were still up walking around? If you want a movie to make fun of after a few beers, this may be your movie. However, if you want a real Western, you will hate this movie.'\n",
      " b\"After just watching FIVE ACROSS THE EYES, I gotta be honest...I just didn't like it. I had read so many good reviews on this movie, but I just did'nt get where these reviews have came from,<br /><br />I have got a lot of time for newcomers into film-making, and I'm sure the directors will do well for themselves, but the budget they had was the main problem, there was two cameras used in the entire film (which was OK) but they seemed like really cheap cameras. Another problem was the sound, you get all these girls screaming and shouting all at the same time, all talking on top of each other - it's just impossible to hear what they're saying.<br /><br />It had a good idea going for it, in a nutshell, they hit a parked car then drive off, a short while later they are getting chased by the car they hit, driven by a mad woman, who wants to kill them, and has plenty of chances to do so!...and on the other hand the girls have plenty of chances to escape, but don't! <br /><br />Very frustrating...I only just scraped through this one!\"\n",
      " b'October Sky is a highly lauded movie, and it\\xc2\\xa1\\xc2\\xa6s easy to see why. The story is easy to comprehend and many turning points are gripping, the actors and actresses do fairly good jobs, especially Jake Gyllenhaal and Chris Cooper, the hero finally gets what he wants, and it\\xc2\\xa1\\xc2\\xa6s a true story. Frankly I think the director\\xc2\\xa1\\xc2\\xa6s achievement is not comparable to the sparks and heat the original story generates. We don\\xc2\\xa1\\xc2\\xa6t see any special narrative or cinematography; the power of the movie relies much on the riveting plot and tough situation the young hero is trapped in that most audience will find themselves identify with the characters. We feel Homer\\xc2\\xa1\\xc2\\xa6s desire to earn his father\\xc2\\xa1\\xc2\\xa6s recognition and create his own future, and his resilience wins our respect. \\xc2\\xa1\\xc2\\xa7October Sky\\xc2\\xa1\\xc2\\xa8 reminds me of a later 2001 Japanese production of mini series \\xc2\\xa1\\xc2\\xa7Rocket Boy,\\xc2\\xa1\\xc2\\xa8 which might owe some of the inspiration from this movie. Actually these two works shot from two different cultures provide interesting comparison. When October Sky unfolds a story of a young man crying out loud to claim his right over his own destiny, \\xc2\\xa1\\xc2\\xa7Rocket Boy\\xc2\\xa1\\xc2\\xa8 offers a more compromised description that could sometimes constitute an acrid criticism of modern society. Starring the outstanding actor Yuji Oda, \\xc2\\xa1\\xc2\\xa7Rocket Boy\\xc2\\xa1\\xc2\\xa8 focuses on three men as ordinary as can be: a travel agent who has a dream of becoming an astronaut, a boastful advertising agent who is on the brink of being torn apart by his inferiority complex resulted from the extreme success of his father and older brother (like what Homer feels in his family), and a food company employee who is about to getting married but scared of this idea. The collected social consciousness superimposes its definition of success on its constituents and steps further to force them suffocate their dreams by claiming them \\xc2\\xa1\\xc2\\xa7impossible.\\xc2\\xa1\\xc2\\xa8 To compensate for his lost ideal, Kobayashi (Yuji) works in the tour operator because it\\xc2\\xa1\\xc2\\xa6s called \\xc2\\xa1\\xc2\\xa7Galaxy.\\xc2\\xa1\\xc2\\xa8 When his client fails him and his girlfriend decides to leave him, he finally finds strength from his father\\xc2\\xa1\\xc2\\xa6s words, who had determined to be a sailor but later found life on the sea less attractive as he had presumed. \\xc2\\xa1\\xc2\\xa7But I don\\xc2\\xa1\\xc2\\xa6t regret it,\\xc2\\xa1\\xc2\\xa8 his father told Kobayashi, \\xc2\\xa1\\xc2\\xa7at least I tried.\\xc2\\xa1\\xc2\\xa8 It is his father\\xc2\\xa1\\xc2\\xa6s confession that encourages him to resign his job and apply for astronautships despite the fact that he hurts his legs and needs to move around on a wheelchair. Kobayashi\\xc2\\xa1\\xc2\\xa6s effort finally fails, and he goes back to the travel agency. But his \\xc2\\xa1\\xc2\\xa7crazy\\xc2\\xa1\\xc2\\xa8 courage inspires his friends, and everyone loves him more. Just before the end of the series, Kobayashi is on the job as a guide of a space camp meant to let children learn more about astronauts. After the tour is over we see him leaning against a tree, unfolding a sheet of poster he tears from the bulletin board that says: \\xc2\\xa1\\xc2\\xa7Astronauts Wanted for 2004.\\xc2\\xa1\\xc2\\xa8 Kobayashi looks at the piece of paper and laughs and laughs, just like a kid looking at his ticket to Disneyland. Kobayashi may never get what he wants, but he dares his destiny and \\xc2\\xa1\\xc2\\xa7just does it.\\xc2\\xa1\\xc2\\xa8 This series is so heart-gripping not because the hero exhibits any heroic deeds, but his ordinariness and unstoppable urge to realize his dream which make us wonder and envy. Unlike Dilbert or other sarcastic writings, this show enlightens us and teaches us something. Homer and Kobayashi both have the dream, and they do what they can despite other people\\xc2\\xa1\\xc2\\xa6s opinions. I recommend other IMDB users to see the Japanese TV series. If you are a nine-to-fiver, you will feel more touched. I feel sorry that IMDB doesn\\xc2\\xa1\\xc2\\xa6t have its data, maybe you can ask somebody from Japan to help you.'\n",
      " b'This series had potential, but I suppose the budget wouldn\\'t allow it to see that potential. An interesting setup, not dissimilar to \"lost\" it falls flat after the 1st episode. The whole series, 6 episodes, could have made a compelling 90 minute film, but the makers chose to drag it on and on. Many of the scenes were unbearably slow and long without moving the action forward. The music was very annoying and did not work overall. There were few characters we cared about as their characters did not grow during the time frame--- well, one grew a bit. The ending was as terrible as the rest of series. The only kudos here is to the art dept and set dressers, they created an interesting look, too bad the writer and director lacked the foresight to do something interesting with that element'\n",
      " b'De Sica is becoming one of my favorite directors, but this one was a hit-and-miss for me. A grinning idiot youth becomes the leader of a community of illegal settlers in a deserted area outside Milano. It is a detailed and sparkling story of the innocent poor masses, complete with evil capitalists and trigger-happy police forces, but slowly it evolves into a magic fantasy tale, as the boy wonder Toto develops unlimited superhero powers. I had it up to here with the ever-smiling Toto after 10 minutes, and when the magic took over, I was left in the dust. There were so many wonderfully orchestrated shots, so many good characters among the settlers, that I kept thinking it was a waste the movie wasn\\'t more serious with its material. The coupling of neorealism and fantasy comes out more as an experiment of the \"look-what-we-can-also-do-mum\" sort than as a fully developed piece of work/art.'\n",
      " b'<br /><br />Back in his youth, the old man had wanted to marry his first cousin, but his family forbid it. Many decades later, the old man has raised three children (two boys and one girl), and allows his son and daughter to marry and have children. Soon, the sister is bored with brother #1, and jumps in the bed of brother #2.<br /><br />One might think that the three siblings are stuck somewhere on a remote island. But no -- they are upper class Europeans going to college and busy in the social world.<br /><br />Never do we see a flirtatious moment between any non-related female and the two brothers. Never do we see any flirtatious moment between any non-related male and the one sister. All flirtatious moments are shared between only between the brothers and sister.<br /><br />The weakest part of GLADIATOR was the incest thing. The young emperor Commodus would have hundreds of slave girls and a city full of marriage-minded girls all over him, but no -- he only wanted his sister? If movie incest is your cup of tea, then SUNSHINE will (slowly) thrill you to no end.'\n",
      " b'Since I first saw Anchors Aweigh in 1945, viewing it on videotape holds a lot of nostalgia for me. At age 15, it was easy for me to be drawn into the first of the great MGM Technicolor musicals. Now I am perhaps most interested in thinking about the future careers of the leading players. Though Sinatra had done a couple of negligible films soon after his emergence after his Dorsey days, as a solo singer, this was his first major film appearance. As another viewer noted, this seems almost to be a warm-up for On the Town. Sinatra may have had to work hard at it, but his dance with Kelly is credible, and he would do better in their next pairings. However, observing his physique, it\\'s easy to see why he was caricatured as a string bean. Who would have imagined that within a decade he would win an academy award for acting, and go on to play many roles as a tough detective or leader in combat. Though Gene Kelly\\'s personality and dancing dominated this film, his winsome performance did not suggest that he would become a major creative force, almost the iconic figure, for MGM musicals, where he developed a style of dance complementary to that of Fred Astaire. Finally, it was strange to see the fresh-faced Dean Stockwell and remember that he would later play a \"thrill\" killer in Compulsion, based on the Leopold-Loeb murder from the 1920s. An additional note: One reviewer praised the performance of Betty Garrett as Sinatra\\'s love interest. She later played opposite him in On the Town, but Pamela Britton was featured in this film.'\n",
      " b\"Yes, I am just going to tell you about this one so don't read if you want surprises. I got this one with the title Christmas Evil. There was also another Christmas horror on the DVD called Silent Night, Bloody Night. Whereas Silent Night, Bloody Night (not to be confused with Silent Night, Deadly Night) had lots of potential and was very close to being good, this one wasn't quite as good. It started out interesting enough watching the villain (if you can call him that) watching the neighborhood kids and writing in books about who is naughty and nice, but after awhile you are looking for some action and this movie doesn't deliver. You need character development, but this goes overboard and you are still never sure why the heck the guy snaps. About an hour in he kills three of four people while a whole crowd watches in terror, and the guys he kills aren't even his targets they are just making fun of him. This is one of many unsuccessful attempts by the killer to knock of the naughty. He then proceeds to try and kill this other guy, and he tries to break into his house by squeezing himself into the fireplace. He promptly gets stuck and barely manages to get out. He then enters through the basement and then tries to kill the guy by smothering him in his bedroom. He can't seem to kill the guy this way so he grabs a star off the tree and slits the guys throat. What the heck was a tree even doing in the bedroom in the first place? Oh yeah, the killer before this kill stopped off at a party and had some fun too. Well that is about it except for the town people chasing him with torches and the unresolved part with his brother and that tune he wants to play. What was that even about? He kept talking about something that was never really explained. How does it end you ask, well since I have spoilers I will tell you. He runs off the road in his van and proceeds to, well lets just say it was lame!!!!!!!!!!!!\"\n",
      " b'Nicholas Walker is Paul, the local town Reverand who\\'s married to Martha (Ally Sheedy), but also is a habitual womanizer and decides to fake his own death to run away with his current affair, Veronica (Dara Tomanovich). However in so doing, he gets a bout of amnesia (hence the name of the film). Sally Kirkland is also on hand as a crazy old coot who pines for the good Reverand in a shades of \"Misery\" type of way. It\\'s sad to see a pretty good cast wasted like this. Not the least bit John Savage in a horridly forgettable role as a shoddy private investigator. In a film billed as a \\'black comedy\\', one has to bring BOTH elements into said movie. While this does bring the former in spades, it sadly contains none of the latter. Furthermore you can\\'t emphasize with any of the characters and as thus, have absolutely no vested interest in them. Technically not an all-together bad movie just an extremely forgettable one.<br /><br />Eye Candy: Dara Tomanovich gets topless; Sally Kirkland also shows some skin <br /><br />My Grade: C- <br /><br />Where I saw it: Showtime Showcase'\n",
      " b\"I suppose if you like pure action... you'll find it here. I suppose if you find a gorgeous blonde designed to be screwed... find it here. I suppose if you want to find a couple of extra baddies, headed by 1-2 extra, EXTRA baddy bosses who meat a nasty end... you'll find it here.<br /><br />Overall, routine stuff, and the good guys come out on top big time under extra-ordinary circumstances.<br /><br />What I marvel most at... How the good guys armed only with pistols, can kill dozens of bad guys with machine guns who are shooting at them at point blank range... and missing. The goodies even get time to reload their pistols amid the hail of machine guns bullets.<br /><br />Ho-hum!!!\"\n",
      " b\"I went to see Vanilla Sky with a huge, huge, huge!!..Tom Cruise fan, my extremely cynical brother and my girlfriend ... what can I say .. I was totally blown away by the movie and especially TC's performance, I thought it was a very moving film and it was not at all what I was expecting.<br /><br />I had read the reviews and had decided not to go and see it, I am so pleased that I was 'coerced 'into seeing it. The strange thing is I cannot say why, all I can say is that I found it totally involving and could not stop thinking about it the next day. As to what I felt about the film, all I can say about is, ITS NOT THE STORYLINE (fantasy, psychodrama, whatever) its about the people and the events that shape their life and how small events, like getting into a car can change everything......<br /><br />As to what the critics wrote, yes maybe the original was a stunning 2nd film for Alejandro Amen\\xc3\\xa1bar , but this was a totally different interpretation of the subject, and by no means a narcissistic remake for the benefit of Tom Cruise and Penelope Cruz.<br /><br />I cannot even consider writing a couple of trite, glib sentences to describe the film just go and see it!!!!<br /><br />Yes I know this isn't a balanced thoughtful review but so what .It's not that kind of film.\"\n",
      " b\"I feel like I've just watched a snuff film....a beautifully acted, taut, engrossing and horrible thing! A two hour litany of perversion in the most basic and all inclusive sense of the word, sexual violence and torture, rape, decapitation, incest, corruption, live burial, and abuse, abuse, abuse. No redemption whatsoever. And I WAS entertained. I couldn't stop watching. What does this say about me, about the people who make and act in this sort of thing, and a world that has become so desensitized that eventually real snuff films will be the norm. And I'm neither puritanical nor humorless, I don't try to hide from the existence of darkness, and I definitely have not led a sheltered life, but I am ashamed of myself. AND I'm sorry to see my British cousins dragging the subject-matter sewers the way my own tribe does. It doesn't have to be cozy, but does it have to wallow in vicarious sadism?\"\n",
      " b'A slasher flick, made in the early 80\\'s, has a curse on it which has anyone who tries to finish it turning up dead. Years later, a group of film students attempted to complete the movie - also resurrecting the films deadly curse. Great idea for a film, but sadly \\'Cut\\' is just another wasted opportunity.<br /><br />Unfortunately Australia hasn\\'t had the world\\'s best track record when it comes to horror. \\'Razorback\\' (1984) was an out and out dud as was \\'Holwing III\\' (1987), which was half an American film anyway. As for our foray into comedy-horror, \\'Body Melt\\' (1993) is best left forgotten. The problem with \\'Cut\\' is that the makers trying to create a clever horror satire a la \\'Scream\\' (1996) but have no insight into the genre or what makes it work. And although this sounds weird me saying this about a slasher film but what \\'Cut\\' really lacks is any \"heart\". Sure it follows the basic \"rules\" established by \\'Scream\\', but it doesn\\'t want to play with the formula, instead it goes for a cardboard copy of the earlier.<br /><br />The killer, Scarman, is probably one of the most boring and uncharismatic villains in horror movie history. His endless barrage awkwardly, lame one-liners would make the dialogue of a porno seem like Shakespeare. The cast never seem like their fully involved and look like their just waiting for a shoot to be over so they can collect their pay checks. And the feel of the film is like it\\'s deliberately trying not to be creepy; looking more like an episode of \\'Neighbors\\' or \\'Heartbreak High\\'. By the way, those attempts at MTV style, hyper-cinema during the \"research\" sequence just look lame, dated and out of place.<br /><br />If Australia ever gets a chance to do horror again (Which I hope we still do) maybe we should take a leaf from the \\'Mad Max\\' (1979) book. Instead of trying to copy the U.S. we should be trying our own take on the genre.'\n",
      " b'This is a good adaptation of Austen\\'s novel. Good, but not brilliant.<br /><br />The cinematography is inventive, crossing at times the border to gimmickry, but it certainly avoids the trap of making this look like a boring TV soap in costumes, given that the entire story is dialogue-driven.<br /><br />The acting is competent. Ms Paltrow is aloof, as her character requires, but the required distance from the other characters is accompanied by a much less appropriate detachment from her own actions. In other words, she does not seem to care enough of the results of her match-making endeavours. Some of the supporting cast is guilty of over-acting - very much in the style that is appreciated on stage but out of place in motion pictures. Personally, I had problems accepting Alan Cumming as Mr Elton - to no fault of his own, except for having left such an impression as a gay trolley-dolly in \"The High Life\" that it is now difficult to accept him playing any serious part. Acting honours go to Toni Collette who manages to radiate warmth, and Jeremy Northam who pitches his character at just the right level.'\n",
      " b\"This movie start quite gruesomely with a female being bound and psychologically tortured. There's male full frontal nudity, dead animal parts, dogs licking nipples, the female loosing control of her bladder. All shot in a gray cold color. Effective, but a little too much. We then move on to seeing the BTK killer's youth as well as the present and his history of crimes. The tension is entirely psychological and the scenes of the killer entering the homes of his victims and talking to them lasts for quite a long time and it's creepy. Here we don't see fancy or good imagery, it looks as if shot with your home camera. It doesn't look horrifying, but in a way seeing a criminal engage his victims for quite some time before killing them is quite unusual and chilling. What this movie doesn't have is any drama, really. There are some cop scenes every once in a while, but there's no excitement in terms of them finding the killer. There isn't much of an arc to this story. This could have been an effective psychological thriller, a study of madness. Unfortunately, the movie is filled with real slaughterhouse footage. It's dispersed throughout the movie and comes on suddenly again and again. Sometimes you don't know it's coming and don't have enough time to look away. And that I have to reject. I'm all for low budget horror movies but I don't tolerate animal suffering. It was unnecessary, excessive, and comes without warning. I'm glad that Lionsgate releases stuff that no one else does, but they should have passed on this movie or edited out the animal gore. Stay away from this garbage.\"\n",
      " b'Despite, or perhaps in part because of the clever use of music to underscore the motivations and ideologies of each of the major characters, stereotypes are in, and verisimilitude and characterization are out in this not-too-subtle cinematic screed.<br /><br />One gets the sense that John Singleton was dabbling in post-structuralist literary theory because it was the flavor of the day, and \"Higher Learning\" was the tendentious result. The low point of the movie is the \"peace\" rally, in which the symbols of the 1960s \"free love\" movement are reappropriated for what much more closely resembles a \"Take Back The Night\" rally with live, stridently identity-conscious musical acts in tow. Perhaps in his prim revisionism the director was trying to assert that identity politics is the new Vietnam? Ooh, how Adrienne Rich of him\\xc2\\x97and Remy\\'s firing into the crowd is a nice touch, if you\\'re into Rich\\'s sort of political posturing.<br /><br />I wish I could give this movie negative stars. I can recommend it only to those interested in the 1990s as history, a time when radical feminists brought the academic trinity of race, class, and gender to popular culture and declared man-hating \"a viable and honorable POLITICAL option\". Where\\'s Camille Paglia when you need her?'\n",
      " b'Having borrowed this movie from the local library a couple of weeks ago intending to originally see this on or a few days after Memorial Day, I finally got to seeing Sayonara just this morning. In this one Marlon Brando plays Major Lloyd \"Ace\" Gruver, a General\\'s son who\\'s been raised a certain way, being transfered from Korea to Japan where his girlfriend Eileen Webster (Patricia Owens) conveniently happens to be. Before leaving, he tries to persuade one of his men, a Joe Kelly (Red Buttons), out of marrying Japanese woman Katsumi (Miyoshi Umeki) since that\\'s a violation of military fraternization laws. With the romance of him and Eileen on the outs, however, Ace not only becomes the best man at Joe and Katsumi\\'s wedding, he falls for an Asian himself after he and Captain Mike Bailey (James Garner) go out on the town and watch headlining entertainer Hana-ogi (Miiko Taka) on stage. Bailey himself is dating one of the dancers, Fumiko-San (Reiko Kuba). Eileen herself seems to have a fancy for one of the Kabuki performers, Nakamura (Ricardo Montalban). I\\'ll stop right there and say that this was a mostly compelling drama about the prejudices concerning American-Asian relations of romance that was very touching from beginning to end. Even seeing Hispanic Montalban playing an Oriental isn\\'t too embarrassing (though it\\'s a good thing his part is short). And there\\'s some nice touches of humor like that of Brando\\'s head hitting the top of Button\\'s and Umeki\\'s inside doorway more than once. Red and Miyoshi themselves deserve their Oscars especially Red with his defiant and proud emotions throughout. Rookie Garner, before being cast in his legendary role on TV\\'s \"Marverick\", is fine in his scenes with Brando and Miiko Taka shows great restraint in her initial characterization as an anti-American. While I\\'ve read there were some changes from James Michener\\'s novel, I can\\'t imagine director Josha Logan, who had previously adopted another Michener work into the Broadway musical \"South Pacific\" and would eventually make that into a movie as well, not staying true to the original source. He certainly provided some inspiration with the ending scenes that made the heartbreaking earlier tragedy in the film a somewhat necessary plot twist. Some of the production numbers may have made the movie a little longish but otherwise, Sayonara was wonderful educational experience about the \\'50s mores that permeated America and Japan at the time.'\n",
      " b'We have a lake. We have an animated meteor crashing. We have a killer stop-motion dinosaur with flippers. Okay, so let\\'s call this movie THE CRATER LAKE MONSTER. What else can we add? Hmm, two idiots called Arnie & Mitch to define the ultimate definition of \"comic relief\". We also got to have a sheriff who doesn\\'t really do a damn thing in this film and whom nobody listens to. Aw crap, we\\'re over halfway through the movie and we forgot to insert a bad guy! No worries, let\\'s introduce some guy with a moustache, have him rob a store to indicate he\\'s a bad guy, then have him pop up somewhere near the lake, have him chased through the woods and all this for the sole purpose of him ending up as dinosaur snack food. That should work.<br /><br />A complete, clumsy mess, this film. Its logic will twist your mind to force laughter out of you. The first film to feature Dave Allen as a \"stop motion supervisor\". After this one, he joined forces with Charles Band for several years until the the mid-nineties, when Band ran out of money to pay him, I guess. The dinosaur effects are charming and the whole film is pretty damn unintentionally funny. Unfortunately, that\\'s about the only good thing that can be said for it.<br /><br />Good Badness? Yes. The mind-bending logic in the narrative should be enough reason to put it on the list. If not, Arnie & Mitch will do the trick. 3/10 and 8/10'\n",
      " b'\"This story is dedicated to women,\" according to the introduction, \"who have been fighting for their rights ever since Adam and Eve started the loose-leaf system.\" When \"Politics\" was filmed, the Nineteenth Amendment, guaranteeing women the right to vote, was only a decade old. And, the film deals with the wielding of political power by women as a voting group. Advocating prohibition, and shutting down speakeasies, was a main concern for women at the time.<br /><br />Good-natured Marie Dressler (as Hattie Burns) becomes politically active, after a young woman is shot and killed coming out of a speakeasy. She wants the liquor-selling joints closed; and, is drafted into a Mayoral run, after delivering a powerful speech at a women\\'s rally. Ms. Dressler is supported by her tenants, best friend Polly Moran (as Ivy Higgins) and her stuttering husband Roscoe Ates (as Peter Higgins). Dressler\\'s run for Mayor of Lake City draws opposition from men in town; so, Dressler orders the women to go on strike, denying them, \"everything\" in the \"parlor, bedroom, and bath.\" <br /><br />The film sounds much better than it turned out. The humor, frankly, isn\\'t too good; and, it features some unfunny and moderately offensive situations (\"You look like Madame Queen\" refers to an Amos and Andy character). And, the mixing of shootings and slapstick doesn\\'t mix well, this time. Producers might have considered making the film more dramatic, focusing exclusively on Dressler and the characters played by William Bakewell (as Benny Emerson) and Karen Morley (as Myrtle Burns).<br /><br />**** Politics (7/25/31) Charles Reisner ~ Marie Dressler, Polly Moran, Roscoe Ates'\n",
      " b'I will say that at least the movie makes sense, but it\\'s bad. The acting for the most part is not good (I think only Sky showed any promise) and you feel awkward watching it. All of the scenes that should be meaningful are really shallow, like when Ng comes out to her parents. There are a lot of corny details, like the kanji tattoo on the Sky\\'s shoulder, the magnets on the girls\\' refrigerator and the god awful decor at the sets...and the music...and clothes..and everything. Real life has never been like this movie. The boy says at one point \"I\\'m gay, not corny.\" And not aware. Even the commentary is awful, I turned it off after Ng talks about how she was weirded out playing a lesbian.'\n",
      " b'\"The Shooter\" was a different type of film for Michael Dudikoff. Although normally associated with action flicks that incorporate martial arts, this film , because it was a western, enabled him to display that he is a far more capable actor than certain formula story lines have allowed.<br /><br />The major problem, of course, is that the film does not allow any solid character development. The fleshing in is really left to the viewer . We can only guess at the sadness that has made the Shooter, whose real name is Michael Atherton, the killer that he is- a killer, mind you, that a little town, terrorized by a local bully, welcomes as a hero who can release it from its misery.'\n",
      " b'A Scanner Darkly, Minority Report, Blade Runner, Sin City and Sky Captain and the World of Tomorrow \\xc2\\x96 if you are a fan of any of these then this will be well worth checking out.<br /><br />French animation project \\'Renaissance\\' took seven years to make on a shoestring budget and tonight I finally got to see it at a private screening for the International Film Festival in Stockholm. My spontaneous reaction is awe; my further reflection is \\'huh, neat\\' and closer analysis regrettably gets a resounding \\'meh\\'. It is a gorgeous science fiction triumph on the surface, but scratch it or even poke it a little and its unnecessarily complex plot becomes glaringly apparent, as do the flat characters. <br /><br />Nevertheless it is clear that the people at Onyx films have done something spectacular with the aforementioned surface. The visuals are staggering. They have used live action motion capture fitted into key-frame animation, with stark jet black and bright white contrasts and a heavily shadowed rotoscoped background. For those of you who are not down with the \\'technical lingo\\', the film looks like a fully-animated Sin City. Its fluid, transparent, dark and stylized template is complemented by great lurid lightning. It\\'s a vision. Yet much credit is also due to the crisp sound effects that take the form of humming futuristic weapons, suspenseful music, heavy raindrops and glass shards breaking. It\\'s every tech-nerd\\'s wet dream...<br /><br />The film zooms in on an eerily-lit, bleak, futurescape Paris in which a major corporation called \\'Avalon\\' has begun to interweave in the lives of the citizens with surveillance (think the fluid transparent screens from Minority Report) and genetic engineering. The latter leads to a mysterious kidnapping of young researcher Ilona (voiced by the lovely Romola Garai). Cut to our hard-boiled cop-on-suspension and protagonist Karas (Daniel Craig) \\xc2\\x96 a man who takes the law into his own hands \\xc2\\x96 who is assigned the case of finding and retrieving Ilona. During this case, he is being aided by Illona\\'s sister with whom he also begins a love affair. A very half-assed love affair, if I may say so.<br /><br />The world of Renaissance is remarkable. Director Christian Volckman takes a fair jab at melting the noir themes and the result is an urban jungle filled with cads, rats, femme fatales and lonely detectives that hide in the shadows of the seedy slum. The problem is that the creators undoubtedly felt the need to have extremely clear and spelled-out archetypes in the story, or the film would have been \"too surreal\" for mainstream audiences, owing to its lurid animation format. It follows then that we have a multitude of clich\\xc3\\xa9d characters such as evil-laughing villains, sleazy crime bosses and butch tough-chicks who blow smoke every chance they get. It shoves noir in our faces, and it isn\\'t necessary.<br /><br />What is worse is that the dialogue is a little contrived. It seems as though every line exists for the sole reason of propelling the plot. This is nothing fatal because the plot is so complex once it gets going that it needs some clear direction. Daniel Craig helps here too by bringing a no-nonsense attitude to his hard-edged cop character. At one point in Renaissance, he is seen in a vivid car-chase that surely is one of the most adrenaline-pumping and top notch sequences of the film. Unfortunately, the novelty of the sci-fi visuals have worn off post this car chase and \\'Renassaince\\' could benefit from being slightly shorter. In summary, a very interesting but flawed futuristic comic book experience.<br /><br />7 out of 10'\n",
      " b'For me this movie was powerful. I don\\'t want to be a spoiler, but I had a friend years ago; we were like brothers. This movie brought back some vivid memories.<br /><br />For some reason, I couldn\\'t place my vote for this movie which would have been a 10. I kept getting a message like \"No votes have been placed....\" And yet I saw in the stats that there were. Will try again tomorrow (Monday).<br /><br />Minor flaws I overlooked. It was the relationships between the characters that got me. Beautifully acted and real situations. I\\'ve been in a couple of them.<br /><br />A small gem of a movie. Just like \"Spring Forward\" is another overlooked gem. I\\'m very glad movies like these are still being made; about relationships between people, well written, sensitively unfolded with first-class acting and direction. After all, isn\\'t that what it\\'s all about?'\n",
      " b'Okay, the film festival crowd probably loved it. But your average, popcorn munching movie goer who has scraped to-gether the ten or fifteen bucks it costs to see a movie these days will probably wonder why he or she made this choice. If it\\'s stamped \"Copolla\" it\\'s automatically great stuff, right? Wrong! It\\'s a neat spoof of filmdom\\'s pretensions. But it\\'s terribly \"in.\" I worry when film makers are more concerned about entertaining themselves rather than the public. It\\'s interesting as a cinematic curio and it does have a chuckle or two in it. But once it\\'s run its course in the movies and on TV, the dust will grow thick on the film cans and tape boxes holding it. Hardly either epochal or an epic!'\n",
      " b'This is not Bela Lagosi\\'s best movie, but it\\'s got a good old style approach for some 40\\'s horror entertainment.<br /><br />Brides are dropping dead at the altar like flies. I think I\\'d postpone the wedding until after the fiend is caught, but it\\'s a horror movie, so I guess people ignore the danger for some reason. Anyway, Lagosi is a mad doctor, who needs young female blood to keep his aging, sickly wife healthy and happy. He always eludes the Keystone Cops by hiding the bodies in a hearse (who would think of looking for a corpse in a hearse?), and the brides just keep on getting zapped.<br /><br />No movie like this would be complete without a Lois Lane type female reporter who wants to catch the criminal on her own. Good at solving crime, bad at keeping her mouth shut at all the wrong times, guess who Lagosi picks for his next intended victim. I love the \"haunted house\" bit where Lois Lane gets stranded by a thunderstorm as a guest at Lagosi\\'s sinister mansion. Hidden passageways, a vampire-like wife, an evil dwarf Igor assistant, and so on. Good stuff.<br /><br />Fairly well done pacing keeps the film moving, and the story resolves itself in a typical but satisfying manner. If you like old horror movies, this one is worth a watch.'\n",
      " b'How anyone can say this is bad is beyond me. I loved this show before I even saw it. For 3 reasons, 1. The Story intrigued me, 2. Jessica Alba and 3. James Cameron! Please ignore the bad comments and Please watch the whole first Season before you decide that it\\'s bad because I know that if you watch the first Season you will LOVE it and go out and Buy Season 1 as well as Season 2 on DVD and then Join the campaign to get Season 3 Made!<br /><br />I Hate Fox and I\\'m sure a lot of you \"Dark Angel\" fans hate them too. They have a thing for Canning Good Shows! Don\\'t you all agree?'\n",
      " b\"As the film begins a narrator warns us THE SCREAMING SKULL is so terrifying you might die of fright--and if such happens a free burial is guaranteed. Well, I don't think any one has died of fright from seeing this film, but a few may have died of boredom. THE SCREAMING SKULL is the sort of movie that makes Ed Wood look good.<br /><br />Very loosely based on the famous Francis Marion Crawford story, SKULL is about a wealthy but nervous woman who marries a sinister man whose first wife died under mysterious circumstances. Once installed in his home, she is tormented by a half-wit gardener, a badly executed portrait, peacocks, and ultimately a skull that rolls around the room and causes her to scream a lot. And to her credit, actress Peggy Webber screams rather well.<br /><br />Unfortunately, her ability to do so is the high point of the film. The plot is pretty transparent, to say the least, and while the cast is actually okay, the script is dreadful and the movie so uninspired you'll be ready to run screaming yourself. True, the thing only runs about sixty-eight minutes, but it all feels a lot longer. Add to this a truly terrible print quality and there you are.<br /><br />There are films that are so bad they are fun to watch. It is true that THE SCREAMING SKULL has a few howlers--but the film drags so much I couldn't work up more than an occasional giggle, and by the time the whole thing is over your head will roll from ennui. If it weren't for Peggy Webber's way with a scream, this would be the surefire cure for insomnia. Give it a miss.<br /><br />GFT, Amazon Reviewer\"\n",
      " b'\"My Left Foot\" is a pretty impressive film that tells the story of Christy Brown, an artist who was crippled with cerebral palsy and learned to paint with his left foot, the only limb in his body he had control over. Daniel Day-Lewis won his first Oscar as Best Actor for this film, which I\\'m not absolutely certain was deserved, but is still noteworthy. Day-Lewis give Brown a realistic and occasionally almost humorous touch. Brenda Fricker, as Brown\\'s devoted mother, also won an Oscar for a believable and touching role. My problem with this film is that it is a bit too real at times. When Brown is in desperation and must help someone and do it all with his left foot, the film can be difficult to watch. This gives it an often depressing feel that may turn off some viewers for a time. However, if you look beyond that, you will see a sense of hope and inspiration for those who have handicaps and other difficulties to overcome. Those of us who are not crippled and still consider ourselves to have problems are inspired by this film, because if somewhat with a much worse condition than us can overcome their difficulties, we can certainly do the same thing. Well made, occasionally enjoyable, but difficult to watch. May not be for everyone, but not bad at all.<br /><br />*** out of ****'\n",
      " b\"Why on earth is Colin Firth in this pointless film? Has he really been that strapped for cash?<br /><br />The film isn't clear on what it wants to be about, grief?, exotic places?, ghosts?, a vehicle for Mr Darcy? It's a muddled, muddy mess.<br /><br />There seems to be some sort of idea that Italy must be good, in itself, and that Italian has something to offer as a language - but in the end the girls just want to go back to yankland.<br /><br />There are pointless episodes on the beach, in churches, on busy roads - but what it is all about, or why anybody should care simply isn't clear.<br /><br />There was also a yank woman in the film. It wasn't clear what here job was, but she seemed only to be there to make vapid, inappropriate and maudlin comments to the girl. Was it supposed to be about paedophillia??<br /><br />A pretty dreadful mess, all in all. I gave it 2 rather than 1 because it doesn't have the charm of an utterly ghastly film.\"\n",
      " b'Although a tear jerker it is definitely a \"feel good\" movie. All the actors were excellent and Will Smith as always, does the job and does it well. I could go on but pick any ten of the \"10\" ratings and they\\'ve said it as well and likely better than I could. <br /><br />BUT, since I must include at least 10 lines to post a comment I will say that Rosario Dawson was largely unknown to me as a viewer. Her performance was most enjoyable and I look forward to seeing her perform in many films to come.<br /><br />AND, this film demonstrates that Will Smith has nothing further to prove in terms of his ability as an actor.'\n",
      " b'My thoughts on the movie, 9<br /><br />It was not good, not good at all. Visually, it was great. I was pleased with the pacing, the camera angles, etc. However, the characters? eh, kinda bland. Plot? It sucked.<br /><br />This movie seemed more new age crap than anything else. Organized religion is presented as cowardly and fearful. Science isn\\'t portrayed any better. It creates a monster weapon that kills everything... but \"souls\" have the power to destroy monsters and bring life? Really?<br /><br />That\\'s something that bites my ass a bit too. Here we have a CGI movie... created with science... and they\\'re using it to give us the message that science will destroy the world while promoting the idea that spirituality will save us? At least they had the decency to have one of the characters ask,<br /><br />\"Okay, so now what?\" (or something similar). I couldn\\'t hear it too well because of the crowd immediately getting up and making a break for the exit. It was a \"okay... it was just barely entertaining enough to sit here for the entire movie but now let\\'s get out of here as fast as possible!\" type of exit.<br /><br />This is one of those movies where you can\\'t think if you want to enjoy it. Just look at the visuals and nod your head prettily. Any thought as to, \"what\\'s the point of that?\" will suck you out of disbelief and make you eye the exit sign with longing.<br /><br />Okay... SPOILERS follow.<br /><br />So, basically, a scientist creates \"the Machine\" that is capable of creating other, intelligent, robotic life. Evil humans use it as a weapon. However, the scientist realizes that he is also at fault. He gave the Machine his intellect, but didn\\'t give it his heart. <br /><br />The Machine goes Skynet on humanity\\'s collective ass and wipes out all life on earth, finally slowly powering down. However, the scientist manages to survive and create walking sock-puppets. Each one, containing a piece of the scientist\\'s soul.<br /><br />The last one, #9 wakes up not knowing anything about the world. He sees a strange device nearby and picks it up. He meets up with another like himself, #2. <br /><br />Well, #2 gets captured by a last surviving robot of the Machine. #9 finds more like himself ands sets off to rescue #2. <br /><br />They succeed.<br /><br />#9 notices that there is a matching hole that fits the device perfectly. He inserts it and the Machine comes back to life... pulling out #2\\'s soul in the process.<br /><br />The movie then continues with action scenes with #9 trying to rescue his soul-yanked compatriots. <br /><br />They eventually succeed and destroy the Machine. They release the souls of their fallen friends, who go up into the clouds. It then rains and we see life returning back to the planet.<br /><br />Hunh?!?<br /><br />That makes no sense. None at all. Why the heck did the scientist want to split his soul into 9 homunculi? What did it accomplish? Were they created to stop the machine? Everything is dead! The machine was dead! Why bother?!?<br /><br />Why did he expect nine little critters to succeed when nothing else had? Why not create a second intellectual machine, but with a \"soul\" to fight the first.. at least that would have seemed like it would have had a reasonable chance at success.<br /><br />Why did they have to have their souls sucked into the device by the Machine and then destroy the Machine and then release the souls in order to bring life back to earth? Why not just wait for the machine to power down and bring life back without all the rest of the insane steps?'\n",
      " b'This was a pretty good movie, I liked it. I thought it was a pretty accurate look at bulimia and how it\\'s not about dieting, it\\'s about having a pain so deep that they have to find a way to deal with it and they choose this. Beth was a very accurately drawn character and in the scene where she confronts her mom about the eating disorder you can see the pain inside her and hear it in her voice and you know how deep the pain is that she is feeling. I also think one of the best lines in the movie is where Beth yells the words, \"It\\'s not about you.\" to her mother. Those words were so true and added so much to that scene in the movie. I think that that scene was definitely the most important scene in that movie.'\n",
      " b\"(spoilers)<br /><br />I was blown away by this movie. I've been renting on movielink for a bit, and decided to check this movie out. Alot of boxing movies seem to overblow the blood. In this movie, it shows it at the amature level. Though I do wish that perhaps more attention would have been brought to perhaps her improving her grades. The movie points out the problems some families face with gender.<br /><br />I was a bit concerned with the ending. But the ending wasn't a disappointment either.<br /><br />I think it was pretty clear by the title that she'd win. What was unexpected was that the two of them got back together sort of at the end.<br /><br />Loved the score for some of the scenes. Highly recommended.<br /><br />10/10<br /><br />Quality: 9/10<br /><br />Entertainment: 10/10<br /><br />Replayable: 10/10\"\n",
      " b'Story about four teenage girls growing up in California. Jeanie (Jodie Foster) is the most level-headed of the bunch--but wants to move out of her house where she lives with her divorced mother (Sally Kellerman). Annie (Cherie Currie) is addicted to drugs, alcohol and bad boys and is beaten up by her father. Madge (Marilyn Kagan) has overprotective parents. Deirde (Kandice Stroh) thinks she\\'s more mature than the rest of them.<br /><br />This is nothing new from what we\\'ve seen plenty of times before--but this one has one big difference--it\\'s accurate. I graduated from high school in 1980 (when I first saw the film) and I was surprised at how realistic it was. They got the dialogue, clothes and attitudes down completely right. Even the main song of the movie (\"On the Radio\" by Donna Summer) was a big hit before this came out. This film hit me harder than any other teen film of the time because I could understand and relate to the characters. I knew girls in high school who were just like this! The film is (of course) dated but it captures a time we will never see again.<br /><br />The acting is good on all counts with Foster giving the best performance. The relationship between her and Kellerman (who was excellent) was realistic and well-done. Even Scott Baio (who has a small role as a friend of the girls) more or less realistically played a teen boy.<br /><br />A very good movie--essential viewing if you came of age in 1980. The film has a deserved R rating (plenty of drug use and swearing) but should be seen by all teens. I give it a 8.'\n",
      " b'\"Xizao\", is the tale about the clash of modern life and ancient traditions, and its effects on a family in China. Da Ming (Quanxiu Pu), is a businessman who returns home when a letter sent by his brother Er Ming (Wu Jiang) makes him believe that his father Liu (Xu Zhu), has died. He founds that his father is still alive, as well as his old neighborhood and his father old business, the public bathroom.<br /><br />The movie centers around Da Ming\\'s family, and how he has to learn the importance of his father\\'s job, something he always had considered an old tradition that had to die soon. Also, the movie explores his relationship with Er Ming, who is mentally challenged, and the problems of the small community and how the bathroom is a place that purifies not only their bodies, but also their souls.<br /><br />The two main themes of the movie, the family and the problems of progress, are incredibly well handled, and the movie never loses the point it is trying to make, both themes are very good developed and we get a glimpse of Chinese society and customs.<br /><br />The director, Yang Zhang, tells his tale in a simple way, letting the characters characters do the job. It is a very simple approach, but it fits the movie perfectly, and I highly doubt that another style would fit the movie this good. Zhang has enormous potential, as he can tell a story without the aid of visual flare or camera tricks.<br /><br />The acting is outstanding in its naturalistic approach, everyone acts in a very natural way and it almost looks as if they were real persons being filmed. The three lead characters give remarkable performances, and Wu Jiang as Er Ming surely steals the show.<br /><br />Even when the movie could had sticked to a patronizing \"old days were much better\" message, instead it takes an attitude of equilibrium, like saying that progress is good, and we must move on, but we must not forget where we came from, and keep an equilibrium between modern life and the traditions of old.<br /><br />An awesome, and touching film. 8/10'\n",
      " b'What begins as a fairly clever farce about a somewhat shady security monitoring company turns, almost instantaneously, into an uninteresting and completely inane murder mystery. David Arquette and the great Stanley Tucci try mightily to make this train wreck watchable, but some things are just not humanly possible.<br /><br />What, for instance, causes Gale to turn suddenly from a sweet motherly figure into a drunken shrew at Tommy\\'s parents house? Why would Heinrich, although admittedly a sleezebag, want to destroy the business to which he devotes his life, by robbing and possibly murdering his customers? Why does the seemingly sensible Tommy believe that Heinrich could be a murderer (based almost entirely on a dream), and even if that were believable, why wouldn\\'t he go to the police? And why didn\\'t Gale activate the alarm when she got home, especially after scolding Howie about it being off? Of course, all of these events are necessary for the plot (and I use the term very, very loosely) to unfold. And it might be forgivable if it resulted in even the slightest bit of comedy. But everything, from Howie\\'s description of his date rape, to the coroner\\'s misidentification of Gale, to the final \"joke\" about Gale and Howie still being dead, is more tasteless and pathetic than anything else.<br /><br />I checked the box indicating that my comments contained \"spoilers\", but there\\'s nothing more I or anyone else could do to spoil this thing that already stinks to high heaven.'\n",
      " b\"I bought this game on eBay having heard that it was a similar game to Elite. The gameplay is indeed very similar, and is very addictive. Once I'd played it a couple of times, I immediately went back on eBay and bought copies for all my kids so they could join in the fun too.... I have played this game right through and the storyline makes it feel as if you are actually in a movie, it's brilliant. If you have trouble feeling free to explore because of the restrictive nature of the storyline in the single-player game, simply set up a Freelancer server on your own PC (easy to do and the software is included) and play to your heart's content. There are still a huge number of Freelancer servers on the Internet, so multiplayer is no problem and is not all that threatening, because you don't often meant other players unless you want to. So go get a copy of this game, learn it by playing the single-player campaign, then set up an online presence and enjoy yourself. The depth of this game is staggering, with huge systems to explore and wrecks to find, as well as all sorts of other things to discover - hidden planets, wormholes, secret bases, the list is nearly endless. Fantastic game and especially as you can get it for a couple of quid on eBay. Get one with the full written manual if you can (blue box, not Xplosiv red box), it's loads better!\"\n",
      " b\"I read nothing but good things about this movie and finally had a chance to watch it late last night and it was everything I expected it to be and more.This is the way a proper horror movie should be.I think the reason it was so scary was because it was so realistic. The spooky sounding score was perfect for setting a dark mood.I liked the dramatic opening scene and enjoyed how the rest of the movie played out.It was very easy to follow and understand unlike some movies which are way too complicated.The special effects were very good.I would love to see more horror movies like this one.This is easily one of my favorite's.A realistic thunder and lightning storm would have set a nice atmosphere for this movie.Other then that it had all the elements a good horror movie needs.I highly recommend this movie to anyone who can appreciate a good scary movie that pulls no punches.I will be adding it to my collection.The DVD has some interesting special features.\"\n",
      " b\"Salva and his pal Bigardo have been at the margin of the law during most of their lives. We see them panhandling in a car of the underground, where their pitch to get donations is so lame, no one gives them anything! Salva, who is a hardened petty criminal doesn't even have any redeeming qualities, that is, until he discovers a reality show on television that gives him the idea of what to do next. Religion and show business prove to be a winning combination, something that Salva capitalizes on.<br /><br />He and Bigardo have been in jail after the accidental death of a priest that was critical of the duo. Salva shows he is a natural for the reality show. He transforms himself into a Christ-like figure who is an instant success in the program. Espe, who is a no-nonsense woman who is show's producer, can't escape from the way Salva pays her unusual attention. Ultimately, Salva is the victim of his own success in the end.<br /><br />Jordi Molla, whose first directorial job this movie is, had some success in the way the film satirizes the role of television. Spain, which was vulnerable to these types of programs, has seen its share of the bizarre, which is what the director felt is an assault on the viewing public and wanted to set his story from the point of view of the people that are making a fortune out of the naive audience.<br /><br />The ensemble cast has some good moments in the film. Mr. Molla, like any actor who decides to direct his first feature, would have been more effective concentrating on the picture in front of the camera. Candela Pena, a good actress, is one of the best reasons for watching the movie. Juan Carlos Villedo, David Gimenez Cacho, Franco Francescoantonio, Florinda Chico and the rest responded well to the new director.\"\n",
      " b\"Even with a cast that boasts such generally reliable names as Val Kilmer and Lisa Kudrow, Wonderland fails to yield any sense of depth to this film. It barely brushes the surface of the incidents that happened on that July night in 1981. Kilmer just goes through the motions as John Holmes and Kudrow and Kate Bosworth are both hopefully miscast in the other two lead roles; as Holmes's wife and underage girlfriend, respectively. The rest of the cast has such small roles that it's impossible to get any dimensions from them. The film also stars Carrie Fisher, Ted Levine, Franky G, MC Gainey, Dylan McDermott and a cameo from Paris Hilton.\"\n",
      " b'Not the most successful television project John Cleese ever did, \"Strange Case\" has the feel of a first draft that was rushed into production before any revisions could be made. There are some silly ideas throughout and even a few clever ones, but the story as a whole unfortunately doesn\\'t add up to much.<br /><br />Arthur Lowe is a hoot, though, as Dr. Watson, bionic bits and all. \"Good Lord.\"'\n",
      " b'No ,I\\'m not kidding. If they ever propose a movie idea, they should be kicked out of the studio. I\\'m serious. Their movies are exactly the same in every one, and they only consist of traveling to foreign locations, having a problem which they easily resolve, hoping to be popular, and getting new boyfriends. Think about it. If you have ever seen a movie starring them with a different plot, contact me and tell me its name. These \"movies\" are poor excuses to be on TV and go to other countries. There is a reason that the movies never go to theaters. I\\'m sure that when they were really young and made some O.K. movies, some studio boss bought all their rights for 15 years, or something, so that now that they\\'re, what, 17, they can make movies in other countries whenever they want using the studio\\'s money. Let me advise you, STAY AWAY FROM MARY-KATE AND ASHLEY! IT\\'S FOR YOUR OWN GOOD!'\n",
      " b'Any movie with \"National Lampoon\" in the title is absolutely guaranteed to die a death in London,England,Paris,France,Rome,Italy,and anywhere in Germany.It may be an institution in the U.S. but it is practically unknown in Europe to the larger audience.\"National Lampoon\\'s European Vacation\" is unlikely to rectify that situation. The appalling Griswalds are just that - appalling.They are not funny. Clearly Mr Chevy Chase thinks he\\'s funny, after all Miss B.di Angelo laughs a lot at his jokes,but she\\'s getting paid for it and didn\\'t have to fork out \\xc2\\xa32.50 for the privilege. The section set in England is typical.The same old same old TV performers, Messrs Idle,Smith,Coltrane,Miss M.Lippman trot out the same old same old tired clich\\xc3\\xa9s,Mr Chase gets lost in the hotel corridor....yawn,yawn,yawn.. Bucking - ham Palace,Big Ben......I feel cheated that we never saw bobbies on bicycles two-by-two.........rosie red cheeks on the little chil - dren,need I go on? The English are buffoons,the French vicious - tongued Yank-haters.The Germans pompous and puffed up,(don\\'t mention the war,Clark),and the Italians lecherous bottom-pinchers.Have I forgotten anything? Every possible \"comic\" situation is worked to death,Mr Chase gurns desperately,Miss di Angelo dimples sweetly,the children are embarrassingly bad. The fact that this franchise ran as long as it did must bring comfort to those who propound that you never lose money by underestimating public taste.'\n",
      " b\"I want to add to the praise for the production of this film, especially the luminous cinematography. Firelight glistening off of smooth and muscled skin creates stunningly beautiful imagery. The film was nominated for (and won) a single Oscar - the first given for editing. Mala's performance is moody, penetrating and powerful.\"\n",
      " b\"Darkly comic serendipity about a cosmetics saleswoman, with odd ties to Elvis Presley, running into a sea of Elvis impersonators while speaking at conventions in Nevada...and accidentally killing each one of them through little fault of her own. Kim Basinger, a still-attractive actress of considerable merit, likes to pick quirky movies to play in, but this dreadful screenplay (by Mitchell Ganem and Adam-Michael Garber) hasn't an iota of good humor. The stereotypes and low-ball gags are not meant to be the stuff of classic comedy, but even on a shambling, shameful level, the picture is crude and sloppy. If you do watch, see if you can count how much extraneous shots there are of Basinger behind the wheel of her pink Cadillac, hands always in the same position and a non-plussed look on her face. Hopefully both she and Elvis were well paid. NO STARS from ****\"\n",
      " b'This was such a waste of time. Danger: If you watch it you will be tempted to tear your DVD out of the wall and heave it thru the window.<br /><br />An amateur production: terrible, repetitive, vacuous dialog; paper-thin plot line; wooden performances; Lucy Lawless was pathetically hackneyed.<br /><br />Seriously flawed story, completely unbelievable characters. The two worst concepts in film and t.v. are: (1) the evil twin, (2) amnesia. There are no twins.<br /><br />The plot \"twist\"? Outrageously simplistic and obvious - like watching a train coming down the track in the middle of the day on the prairies. It doesn\\'t even resolve properly. The evil is not punished for the original crime.<br /><br />Please, please, please - don\\'t watch this even if its free and your only other choice is to go to a synagogue.'\n",
      " b\"Oh My God! Please, for the love of all that is holy, Do Not Watch This Movie! It it 82 minutes of my life I will never get back. Sure, I could have stopped watching half way through. But I thought it might get better. It Didn't. Anyone who actually enjoyed this movie is one seriously sick and twisted individual. No wonder us Australians/New Zealanders have a terrible reputation when it comes to making movies. Everything about this movie is horrible, from the acting to the editing. I don't even normally write reviews on here, but in this case I'll make an exception. I only wish someone had of warned me before I hired this catastrophe\"\n",
      " b'A female vampire kills young women and paints with their blood. She has an assistant who doesn\\'t want to be a vampire, so he has to do what she orders or be turned into a blood sucker. After a few kills, the assistant gets remorse and falls in love with a homeless girl.<br /><br />What can I say about this movie ? That its pacing is over-slow, that it has some strange sound effects (never a bite sounded so strange) and ambiance (new jazz here I come) and that lights don\\'t seem to be included on the set. It looks like an \"auteur\" horror movie with all the self-sufficiency inside.<br /><br />The plot is completely stupid and as you can guess, it\\'s the female vampire who explains how to kill her even if she doesn\\'t have to do it; of course, crosses, light, garlic and sticks don\\'t work.<br /><br />It\\'s not even a funny lousy movie. Perhaps with some friends and a lot of beers, it can\\'t have its funny sides (to be honest, it\\'s funny during 10 - 15 minutes near the end of the movie). Don\\'t be fooled by the Troma sticker, it\\'s one the bad movie they present.'\n",
      " b'Okay. So there aren\\'t really that many great movies around. Recent gems like American Dream, The Straight Story and even Toy Story 2 don\\'t normally come so close together. But boy (!) does this film counter-balance the quality.<br /><br />I have NO idea what these people thought they were doing. Are the financiers in this world so easily convinced to fund such a crock of ****? I can just see it now...<br /><br />Producer - \"So we\\'ve got Joe Fiennes. He\\'s cute as a button and was pretty good in Shakespeare in Love. And we\\'ve got Rhys Ifans, who isn\\'t cute but was cool in Notting Hill. We\\'ll mix in a really mediocre score, a few forgettable post-Britpop tunes, hemlock root and lizard brains and hey presto you\\'ve got the worst film of the new millennium.And believe me, it\\'s gonna be a hard job to make anything as bad as this in the next thousand years.\"<br /><br />The Bank - \"I like it! Any unnecessary sex? Bad camera movements? And what about the worst accents this side of Devil\\'s Own?\"<br /><br />Producer - \"Yeah, we got plenty of those.\"<br /><br />The Bank - \"Sounds great, where do we sign?\"<br /><br />Please.'\n",
      " b'I sit through movies like \"Tiempo de valientes\" and I want to talk about cinema for hours. The admiration this movie caused me is beyond my own limits of explanation, because I\\'m watching the scenes of the film and I search inside my thoughts for film-making ideas and dialogue innovations that could emerge from something bigger than Damian Szifron\\'s mind.<br /><br />Looking the environment, so uncompromised, so simple, I\\'m thinking; this man is a genius. No wonder he created what is probably the best television show Argentina ever witnessed, and then a first movie full of elements some contemporary directors haven\\'t still achieved. \"El fondo del mar\" is the name and, it awakened (a few years ago), my enthusiasm for our everyday cinema.<br /><br />Starting his journey from people\\'s daily real lives, Szifron goes where Pablo Trapero never could in \"El Bonaerense\"; the Federal Police Department\\'s life. Trapero\\'s film was a journey into a man\\'s mind and experiences, not into the places he saw. Yes, there was a detailed training and lots of crime situations, but Szifron in \"in there\", his is more of a detective story, like the ones we know and love, with the mysteries and the thrilling music.<br /><br />But there\\'s a lot of humanity in his writing, and he shows us his investigation through the eyes of his main characters, Alfredo D\\xc3\\xadaz and Mariano Silverstein. There are a lot of actors of great caliber in the film, but these two actors are the ones the film can\\'t do without. The first character (Luis Luque) is a detective that has just found out his wife cheats on him; and has to work on a case.<br /><br />The second one is a psychiatrist that is assigned the treatment of the detective. He wants to deal with him in regular sessions but the sheriff takes advantage of the time disposition and suggests he joins D\\xc3\\xadaz in his routines: \"It\\'s nothing, the usual stuff; no problem\". But it is bigger than that, and it will unfold a part of the doctor\\'s personality he didn\\'t know.<br /><br />The relationship developed between the two leads can\\'t be explained unless it is observed, because it regards such a complexity that demonstrates how talented are some men like Szifron that are trying, today, to leave a signature in our history. Reaching points of unbelievable spontaneity, during a high pressure situation, D\\xc3\\xadaz tells Silverstein: \"How do we continue our treatment?\", and Silverstein answers: \"No, I\\'m not your doctor. You call me to have dinner; I\\'m your friend\": we laugh because we can\\'t help it.<br /><br />And we can\\'t help laughing when D\\xc3\\xadaz crashes a car in the street and doesn\\'t gives importance to it, or when he trespasses all the red lights in the street, or when he smokes pot in his police patrol and Silverstein can\\'t believe it (but then smokes it too because he\\'s screwed up); or when Silverstein tries to be friendly with D\\xc3\\xadaz\\'s robber friends. Magic from Diego Peretti is what we receive there. He, a psychiatrist himself, gives a performance in plan \"Locas de amor\", but impresses with all his range. Luis Luque on the other hand, is back on track with a top-notch portrayal that reminds us the great actor he is.<br /><br />There\\'s a passion I have for this, and as I said, I could write about it for hours, but unfortunately that\\'s not the way it works and I have to be precise and summarize. Although I have to watch a lot of the old movies and study them, I could assure that \"Tiempo de valientes\" is the comedy Argentina had been waiting for and never got\\xc2\\x85Until now.'\n",
      " b\"`The United States of Kiss My Ass'<br /><br />House of Games is the directional debut from playwright David Mamet and it is an effective and at times surprising psychological thriller. It stars Lindsay Crouse as best-selling psychiatrist, Margaret Ford, who decides to confront the gambler who has driven one of her patients to contemplate suicide. In doing so she leaves the safety and comfort of her somewhat ordinary life behind and travels `downtown' to visit the lowlife place, House of Games.<br /><br />The gambler Mike (played excellently by Joe Mantegna) turns out to be somewhat sharp and shifty. He offers Crouse's character a deal, if she is willing to sit with him at a game, a big money game in the backroom, he'll cancel the patients debts. The card game ensues and soon the psychiatrist and the gambler are seen to be in a familiar line of work (gaining the trust of others) and a fascinating relationship begins. What makes House of Games interesting and an essential view for any film fan is the constant guessing of who is in control, is it the psychiatrist or the con-man or is it the well-known man of great bluffs David Mamet.<br /><br />In House of Games the direction is dull and most of the times flat and uninspiring, however in every David Mamet film it is the story which is central to the whole proceedings, not the direction. In House of Games this shines through in part thanks to the superb performances from the two leads (showy and distracting) but mainly as is the case with much of Mamet's work, it is the dialogue, which grips you and slowly draws you into the film. No one in the House of Games says what they mean and conversations become battlegrounds and war of words. Everyone bluffs and double bluffs, which is reminiscent of a poker games natural order. This is a running theme throughout the film and is used to great effect at the right moments to create vast amounts of tension. House of Games can also be viewed as a `class-war' division movie. With Lindsay Crouse we have the middle-class, well-to-do educated psychiatrist and Joe Mantegna is the complete opposite, the working class of America earning a living by `honest' crime.<br /><br />The film seduces the viewer much like Crouse is seduced by Mantegna and the end result is ultimately a very satisfying piece of American cinema. And the final of the film is definitely something for all to see and watch out for, it's stunning.<br /><br />An extremely enjoyable film experience that is worth repeated viewings. 9/10\"\n",
      " b\"Watched on Hulu (far too many commercials!) so it broke the pacing but even still, it was like watching a really bad buddy movie from the early sixties. Dean Martin and Jerry Lewis where both parts are played by Jerry Lewis. If I were Indian, I'd protest the portrayal of all males as venal and all women as shrews. They cheated for the music videos for western sales and used a lot of western models so the males could touch them I usually enjoy Indian films a lot but this was a major disappointment, especially for a modern Indian film. The story doesn't take place in India (the uncle keeps referring to when Mac will return to India) but I can't find out where it is supposed to be happening.\"\n",
      " b\"This is complete and absolute garbage, a fine example of what a BAD movie is like, this can't be appealing to anyone, not even b-movie fans. Do not, I repeat, DO NOT waste precious time of your life on this piece of trash. Bad acting, bad directing, horrible (but I mean really horrible) script, and complete lack of an idea as to what entertainment (of any form) is. I bought the DVD for 3 dollars, I swear I could almost pay someone to take it. Burning it would not be enough for what this movie did to me. I like b-movies, the killer toys, the weird lagoon monsters, but this is nowhere near. You know those movies that are so bad they are funny? Not even. Just plain old pathetic.\"\n",
      " b'\"Panic In The Streets\" is an exciting and atmospheric thriller in which director Elia Kazan achieved a great sense of realism by shooting the movie in New Orleans, using a number of local people to fill various roles and making intelligent use of improvisation. As a result, the characters and dialogue both seem very natural and believable. An important deadline which has to be met in order to avoid a disaster, provides the story with its great sense of urgency and pace and the problems which delay the necessary action from being taken, then increase the tension to a high level.<br /><br />Following a dispute between the participants in a card game, a man called Kochak (Lewis Charles) is shot and his body is dumped in the dock area. When the body is found and the coroner identifies the presence of a virus, U.S. Public Health official Dr Clinton Reed (Richard Widmark) is called in and his examination confirms the presence of pneumonic plague. Reed insists that all known contacts of the dead man must be inoculated without delay because the very infectious nature of the disease means that without such action, anyone infected could be expected to die within days.<br /><br />As the identity of the dead man is unknown, the task of finding his contacts is expected to be difficult and this situation is not helped when city officials and the Police Commissioner are not fully convinced by Reed\\'s briefing. They doubt that the threat to the public is potentially as serious as he claims it is and their initial lack of commitment is just the first of a series of obstacles which prevent action from being taken urgently. The investigation that follows is hampered by a lack of cooperation from the immigrant community, a group of seamen, the proprietor of a restaurant and also some illegal immigrants before the man\\'s identity and his contacts are eventually found.<br /><br />Kochak, an illegal immigrant, had been in a gang with Blackie (Jack Palance), Raymond Fitch (Zero Mostel) and Vince Poldi (Tommy Cook) and when gang leader Blackie becomes aware of the ongoing police investigation, he presumes that Kochak must\\'ve smuggled something very valuable into the country. As Kochak and Poldi were related, Blackie assumes that Poldi must know something about this and goes to find out more. Poldi, however, is very ill and unable to provide any information. Blackie brings in his own doctor and together with Fitch starts to move Poldi out of his room and down some stairs and this is when they meet up with Reed and an exciting chase follows.<br /><br />Richard Widmark gives a strong performance as an underpaid public official who copes efficiently with the onerous responsibilities of his job whilst also dealing with his domestic preoccupations as a family man. In an unusual type of role for him, he also portrays the determined and serious minded nature of Dr Reed very convincingly. Jack Palance\\'s film debut sees him giving an impressive performance as a ruthless thug who misjudges Kochak\\'s reason for leaving the card game and also the reason for the intense police investigation. His distinctive looks also help to make his on-screen presence even more compelling.<br /><br />In typical docu-noir style, expressionist cinematography and neo-realist influences are utilized in tandem to effectively capture the atmosphere of the locations in which the action takes place. Elia Kazan directs with precision throughout but also excels in the memorable chase sequence in the warehouse and on the dockside.'\n",
      " b'I read comments about this being the best Chinese movie ever. Perhaps if the only Chinese movies you\\'ve seen contained no dialogue, long drawn-out far-away stares and silences, and hack editing, then you\\'re spot on.<br /><br />Complicated story-line? Hardly. Try juvenile and amateurish. Exquisite moods and haunting memories? Hardly. Try flat-out boring and trite.<br /><br />This was awful. I could not wait for it to be over. Particularly when the best lines in the movie consist of \"How are you? I\\'m fine. Are you sure? Yes.\" Wow! What depth of character. I guess the incessant cigarette smoking was supposed to speak for them.<br /><br />As a huge fan of many Chinese, Japanese and Korean films, I was totally disappointed in this. Even Zhang\\'s sentimentally sappy \"The Road Home\" was better than this.'\n",
      " b'Farewell Friend aka Adieu L\\'Ami/Honour Among Thieves isn\\'t perfect but it is a neat and entertaining thriller that sees mismatched demobbed French Algerian War veterans Alain Delon and Charles Bronson trapped in the same basement vault, one to return stolen bonds, the other to clean out the two million in wages sitting there over the Christmas weekend. Naturally things aren\\'t quite that simple even after they open the vault, leading to some neat twists and turns. On the debit side, there\\'s a very bizarre striptease scene in a car park, Bronson has a very irritating Fonzie-like catchphrase he uses at the most inopportune moments, Brigitte Fossey, sporting perhaps the most hideously misconceived hairstyle of the 60s (it makes her look like a bald woman whose wig is blown back off the top of her head by a high wind), is something of a liability \\xc2\\x96 her \"I\\'ll cook spaghetti! I\\'ll learn to make love well! I\\'ll read Shakespeare!\" speech is hysterical in all the wrong ways \\xc2\\x96 and it\\'s a shame about the horrible last line/shot, but otherwise this is a surprisingly entertaining and unpretentious number that\\'s worth checking out if you can find a decent print.<br /><br />Cinema Club\\'s UK DVD only offers the English soundtrack, but since Delon voices himself and the rest of the cast are fairly well dubbed that\\'s no great problem, especially since the widescreen transfer is pretty good quality.'\n",
      " b'I saw this many years after the television series and, initially, I didn\\'t care for it. Then, as my memory of the series receded with the passage of time, I watched again, and found it absolutely hilarious. Based on the stage play by Neil Simon, it has not been \\'opened out\\' much for the big screen, and that\\'s one of its strengths. Walter Matthau and Jack Lemmon are brilliant as Oscar and Felix, and the supporting cast are wonderful, particularly John Fielder as \\'Vinnie\\'. Even now, certain moments can reduce me to tears of laughter - Felix interrupting Oscar in the middle of a ball game with a dinner request, Oscar cracking up and chasing Felix around the apartment, the giggling \\'Pigeon Sisters\\' brought low by Felix\\'s sob stories, and of course, the legendary cafeteria scene ( later ripped off by Nora Ephron\\'s \\'When Harry Met Sally\\' ). Razor-sharp dialogue too. When the boys think Felix has taken an overdose, Oscar says: \"They could be vitamins! He could be the healthiest one in the room!\". Fantastic!'\n",
      " b'Once in a while, a movie will sweep along that stuns you, draws you in, awes you, and, in the end, leaves you with a renewed belief in the human race from the artistry form. This is not it. This is an action movie that lacks convincing action. It stinks. Rent something else.'\n",
      " b'OK, I love bad horror. I especially love horror bad enough to make fun of. Demonicus, or House of the Dead - those were bad enough to make fun of. Severed was not.<br /><br />It was worse.<br /><br />(spoilers - who cares?)<br /><br />My friend and I sat through the entire film, and I have a number of comments, both in the \"this sucks\" style and in the realm of actual critiques.<br /><br />Plot (sort of) - There\\'s a guy in this city (which is possibly Seattle, see comment below) who is running around and cutting off heads. He\\'s been doing this for over a year (I\\'m not going back to get exact numbers - thank you VERY much), possibly two or three years. One head a week. And the police are JUST NOW calling in a \"specialist\" (who ONCE refers to himself as a psychic, but that never comes up again).<br /><br />Schya right! Feds take over after, what, THREE connected homicides? After NEARLY A HUNDRED SIMILAR KILLINGS we\\'d be under freaking martial law!!!!!<br /><br />Anyway, this \"specialist\" consults the voodoo chick who the police have been ignoring the entire time, and the two of them come to the conclusion that it\\'s Baron Samedi, a voodoo spirit, who is cutting off heads to gain enough power to make himself a body (and then presumably take over the world - or possibly just go to Disneyland).<br /><br />Um.<br /><br />Setting - where IS this happening? Well, if you\\'re not from Seattle, you might not realize that at the bar/rave (occupied by about ten of the movie staff and their family members), there\\'s a poster for a local radio station, and that in the highly-entertaining, \"Pulp Fiction\"esqe dialog (as IF) between the two cops (yes, the ones who get their heads cut off about 15 minutes into the flick) they discuss \"the new stadium\" which may still have been an issue when this movie was made.<br /><br />Being from Seattle, I apologize on the movie\\'s behalf and hang my head in shame.<br /><br />OK, here\\'s where it gets really critical - being a horror movie writer (not published, don\\'t go looking for my name in the IMDb), I do research. Lots of research. And unlike the writers of this movie, I know that Baron Samedi - while a Voudon Loa (spirit) who guards the graveyards and has traditionally been associated (by various Christian oppressors) with \"Satan\" - is actually a \"Loki\"-like trickster god. <br /><br />In other words, he doesn\\'t cut off heads.<br /><br />Besides, a major part of the Voudoun religion is that Baron Samedi can have a body whenever he wants. Their religious ceremonies center around the possession of various members of the congregation by the loa.<br /><br />Not to mention, if he\\'s already possessed someone, why make a NEW body?<br /><br />Also, if Baron Samedi GOT a body, he wouldn\\'t go around cutting off heads, he\\'d get some good rum and cigars and par-TAY!!!<br /><br />In summary, the only thing they did get (surprisingly) right is that in the completely unnecessary Tarot card reading (used only to show that the voodoo chick is \"spooky\") they didn\\'t screw up the interpretations of the cards the way most movies do. Again, I\\'ve done research. (Anyone remember the old late-night ad for phone-in tarot readings - \"The lovers - you will soon fall madly in love...\" and all that nonsense?)<br /><br />If you made it this far through my comments, I congratulate you. And I\\'m sorry again. I\\'ll be more sorry if you feel the need to watch the film on account of me, so please don\\'t.'\n",
      " b'Baldwin has really stooped low to make such movies. The script, the music, just about everything in this movie is a waste of time.<br /><br />The sound FX do not sound real, they stick out way too much (technical gadgets etc.) If they are trying to make a movie about things like this, at least try to get real with it and drop those extra bleeps and beeps, because those gadgets don\\'t really make loud sounds like that. Natural sounds like footsteps and such are non-existent, which gives it a void-like atmosphere.<br /><br />Directing seems to be OK for such a low budget film (I sure hope it was a low budget production), although it does seem fairly amateurish at times.<br /><br />Most characters seem empty and false, they simply haven\\'t casted this movie very well. I\\'d imagine it would\\'ve been a better idea to make Baldwin speak some Spanish than to make Spanish actors speak English, when we all know that theirs is the language which is more vibrant and alive, that is why the actors performance can suffer greatly if an odd language is used. I mean, could finally someone realise how stupid it sounds to make international actors speak English with a bad accent? It\\'s should\\'ve a long ago buried corpse in movie production. The production team ever heard of subtitles? This movie again manages to depict European police as lazy and corrupt, the societies as vulnerable and helpless. I mean if the plot again goes like \"The Interpol can\\'t do jack, so let\\'s call one American to bring down this international syndicate\" or whatever.<br /><br />Sony Pictures treads on the same path as Columbia before it, just producing movies for the hell of it. I\\'d imagine them to have some self respect also. Are buyers supposed to buy every dirty title just because Sony puts out something good a few times a year?! Maybe they should\\'ve used the same team as who were making Di Que Si - Say I Do. It\\'s spoken in Spanish and Paz Vega and Santi Millan do a decent job keeping the movie afloat. Looks and sounds much better! Come on Sony, wake up, produce less, sell more.'\n",
      " b'Spoilers Following: I picked up the book \"Evil Angels\" when it first came out knowing nothing of the case. Just to give the press and the Austrialian people a break here, I was quite far into it before I began to question the Chamberlain\\'s guilt. The author obviously intended the reader to understand why the public jumped to the conclusions they did. John Bryson told the story just as it was presented to the jurors (and picked up by the press) of the arterial spray, the actelone (??) plates, Dr. James Cameron\\'s certainty that the collar was cut with scissors, that a baby could not be taken whole from her clothes with the buttons still done up, bloody hand print, etc. all quite convincingly. After all, these were experts in their fields who were testifying with no apparent reason to lie, and the fact that the evidence was completely wrong wasn\\'t apparent to me at all. It was also highly technical evidence, difficult for a layman to understand. To this point, beyond some hearsay testimony in the trials, hardly anyone had ever heard of a dingo attacking a human; people didn\\'t believe it was possible. The public was suspicious of the Seventh Day Adventists, whose origins made them appear to be a cult, and all sorts of wild beliefs about them contributed to the appearance of guilt. Were it not for dedicated, selfless lawyers who worked relentlessly to investigate and counter the trial testimony, finding Azaria\\'s clothes later would not have been enough to get Lindy out of jail. The book shook me for that reason, and I\\'ve been reluctant to come to a conclusion about anyone\\'s guilt ever since (excepting OJ of course). I was thrilled that a movie was going to be made about the case and don\\'t think it could have been done better. I\\'ve always liked Sam, who I could identify with completely, and Meryl was perfect as always. Beautiful photography, haunting music. I think it\\'s not only a very good, but a very important, movie. Too bad it didn\\'t receive more publicity at the time it was released.'\n",
      " b'Having low expectations going in, the opening new footage (clocked at over five minutes) of \\'Husbands\\' came as a pleasant surprise. I won\\'t say the new footage was grade A material, but it provided a very solid foundation for what \"could have been\" a good all-original film.<br /><br />Unfortunately, this was put together in 1955, during a time of one day shooting schedules. After the new footage, Jules White decided to just thumbtack stock footage from \\'Brideless Groom\\' into this short, making for a not-so-smooth story transition, which Jules and Felix Adler try to remedy with a quickie bit of new footage at the end, giving us the old, worn-out ending of the boys (Moe & Larry in this case) getting shot in the butt.<br /><br />3/10'\n",
      " b\"Against All Hope is a very poorly made, sometimes painfully so, movie. This is Michael Madsen's first movie, and it shows, he isn't that good in it. Some people might find the story laughable; an alcoholic realizes his life and family are falling apart so he calls a preacher as a last resort for help. After telling the preacher his story, he accepts Jesus Christ into his heart. <br /><br />I actually found many of the religious scenes, as when Cecil Moe (Madsen) goes to a church but walks away from it, pretty realistic. I also liked how Cecil knows his life is breaking apart and tries to get help, but realizes only God can help him. At the end he realizes with the help of God he can go through life without drinking again.<br /><br />This movie is not well made at all. The acting is bad, the script could use some work, and looks worse than my home videos, but it has a good message. Now, just because you become a Christian doesn't mean you will automatically be able to stop an addiction or heal your broken family, and Cecil realizes this and works hard to stay on track. Overall, if your a Christian you will appreciate how this movie portrays Christianity and if you aren't, you may find yourself being called to find out more about the faith.\"\n",
      " b'This is one of the worst-written movies I\\'ve ever had to sit through.<br /><br />The story\\'s nothing new -- but it\\'s a cartoon, so who cares, as long as it\\'s pretty and fun? <br /><br />I\\'m not going to go as deep as the characterisations, or I\\'ll be here all day (except to say that there aren\\'t any; the characters change personality whenever it\\'s convenient to the plot), but whoever wrote the script and visual direction should be forbidden access to so much as pencil and paper. Thumbs down? I\\'d vote to cut their thumbs off.<br /><br />\"Narrow in on an object/prop. Cut back to character close-up. Character gives a knowing look, which the audience will not even remotely understand. Repeat that several times, with different objects/props.\"<br /><br />\"Make the characters pay no attention at all the huge lumps of rock are floating around, crashing into each other, generally raining destruction all over, and which could kill them all at any moment -- but make them stop and gasp in fear when they see a harmless-looking, almost pastoral green rock in the distance.\" <br /><br />The whole thing is a long succession of events, actions, and behaviour that are only there for the convenience of the writer, to save him having to think or make any effort at all to write the story properly.<br /><br />This is the Plan 9 of CG cartoons, except that it doesn\\'t have Ed Wood groan factor to make it fun to watch.<br /><br />Do yourselves a favour: spend your cartoon budget on Pixar movies.'\n",
      " b'BASEketball is one of the funniest movies I have ever seen. It is an off-the-wall movie starring South park creators Matt Stone and Trey Parker.They play two slacker friends who create a sport in their driveway which goes on to become a national sensation. Most of the gags are indeed hilarious but the funniest parts of the movie is when players attempt to \"psyche-out\" other members of the opposing team. There is no rule about what is not allowed, so naturally they do the craziest things possible. One flaw of this movie is that the pace is way too fast, and after watching for about half an hour I found myself asking \"Wow this this over already?\" Another hilarious part of the movie was how Joe and Doug continuously harass Squeak, who is a hyped-up little guy. BASEketball is a comedic classic with some very quotable lines, and it is very fun to watch!'\n",
      " b\"Camera work - Why is the camera work in this movie so jumpy? This is annoying and distracting. Editing - the Flashes of the still pictures were way too short. Many of the other scenes were too short also. Just flashes. Sound - the background music was way too loud and covered up the voices. One should not have to rewind and replay to catch what was said. Doesn't anybody check these things and make them do it over again. Please reduce the volume of the background music in future. Is adjustment of the relative sound levels the job of the editor, Julia Wong? The plot had way too many loose ends. The basic story line had potential. I think the film needed more work. Was it rushed? Perhaps they ran out of money. Like a lot of movies, it started out great but just petered out toward the end. I really don't understand this, you know you have the story board before it goes into production so why doesn't all the loose ends get taken care of in the storyboard.<br /><br />Sorry to be so critical.\"\n",
      " b'When I first saw a small scene of it in some announcements, I thought the show would be entertaining to watch. The little robot guy does look kinda cute. The style of animation does look sort of familiar to some classic shows. Before the show aired, I studied it through some sources. There, I did became slightly dismayed. The three children (Tommy, Gus and Lola) are voiced appropriately but Robotboy is an exception. It would have been a lot nicer if he were to be portrayed by a young lad. One good example is Robot Jones, a robot character from \"Whatever Happened To Robot Jones?\" The show isn\\'t bad really. But the way Robotboy is inappropriately portrayed is my only criticism. Thus, I don\\'t watch it much.'\n",
      " b'G\\xc3\\xb3mez Pereira is the responsible for some of the most despicable comedies of latest Spanish cinema (just take a look at his curriculum vitae), so I didn\\'t expect that much of \"Cosas Que Hacen...\"... In fact I don\\'t know why in the world did I decide to watch it. Anyway, I just did... And what a surprise. It looks that G\\xc3\\xb3mez Pereira has finally matured and now he\\'s capable of making a good movie. He\\'s last work deals with the midlife crisis, the disappointing, and the seeking for a second chance after you\\'ve ruined it all. The last half hour of the movie (the more dramatic) is the best part, and it just makes worth watching the film. Also we have Eduard Fernandez playing the main role, and I keep on thinking he\\'s the best actor of his generation (by far).<br /><br />*My rate: 7/10'\n",
      " b'This movie goes beyond just being bad, it is definitively the worst movie I have ever seen in my entire life. Unless you yourself have a problem with necrophilia than you will not enjoy will not enjoy the scenes depicting it in this film, (if you can call it that).'\n",
      " b'I\\'d love to give Kolchak a higher rating but the show quickly went from scary/suspenseful to silly. ABC\\'s fault. They moved the show to Friday nights at 8:00 p.m., then known as the \"family hour\". Never should have been on Fridays in the first place. I was a sophomore in high school and loved the early episodes! It was first up against Police Woman on NBC. ABC had huge problems with Friday nights. Bad season for them overall until Barney Miller, Baretta, and SWAT debuted in January of \\'75. Kolchak should have been a hit. Darren McGavin begged to get out of his contract to end the show. Too bad the writing wasn\\'t up to Richard Matheson\\'s in the original TV movies. Still, McGavin made Kolchak his own, as actors can do. Jackie Gleason as Ralph Kramden and Caroll O\\'Connor as Archie Bunker come to mind. That INS set with the manual typewriters and clacking teletypes seems quaint and ancient today, yet that was part of the appeal. They were very lucky to have Simon Oakland reprise \"Vincenzo\" from the TV films.'\n",
      " b'Saw this piece of work at a film fest in CA. My god, what was the director thinking? Film professors should use this film as a case study on what NOT to do when making a short film. First off, this project makes absolutely no sense whatsoever. The film takes place partially in \"The Waystation\", some stupid vapid bar in the middle of nowhere, where nothing really takes place.<br /><br />THe acting is beyond bad. So bad in fact that I almost thought it was a comedy. The lead actress Julia Reading is a step below the acting in most amateur porn films. There is one or two decent performances, including the guys who played Jacob and Fenner but it\\'s like the director had no clue on how to work or use his thespians. The only thing worse than the acting was the dialogue, which bordered on absurd. The writer (whom I assume is also the director) writes each character like they are auditioning for a comic book villain.<br /><br />The overall production value is pretty good, but to be honest, with a film this bad it\\'s easy to overlook it. The production design is pretty good, although the Waystation looks like any ordinary bar. The costumes and make-up are okay, and I understand the production was working with a low budget. It\\'s just when the characters speak, or they try and push the plot forward, the film unravels into a muck of crap.<br /><br />As I\\'ve said, this film is god awful. It\\'s like the director/writer watched a lot of sci-fi films and threw all the parts he liked into a blender and came up with this. My only hope is that he used other people\\'s money on this, because if he used his own, he\\'s a total sucker.'\n",
      " b'Every Sunday, a trio of buds get together at a NYC diner to boast about their sexual conquests of the night before. Sometimes they\\'re joined by a newlywed ex-comrade and hoochie hunter who hangs on them like a puling barnacle. They\\'re unabashed horn dogs/corn dogs and Mia, who witnesses them on the prowl, decides that they need to be taught a lesson, dammit. Ergo, she\\'ll date and dump - why not? All three of them! <br /><br />Gasp. What a wild idea. What a radical, naughty gal. Women now have the right to date and sleep around as much as they want to. As much as men do, even! <br /><br />There is one solitary laughable element in \"Whipped\" - namely the fact that not once, during the amigo\\'s detailed discussions of their bodily functions and the tantric talents of the bed partners they trash, do the other customers in the diner turn around and say, \"Dude, we\\'re trying to EAT here.\" Indeed, a heh-heh gag has an older lady eagerly weigh in on the useful sexual properties of certain beverages. A big fat Kermit the Frog \"Sheesh\" to that.<br /><br />It\\'s truly unfortunate that a buddy movie with a great setting, a smart, cute heroine and three possible pairings had to have such a cop-out ending.<br /><br />P.S. - 30 \"whip-oosh\" sound effects to the screenwriter for use of the phrase \"You go, girl\". It was tired in 2000, and it\\'s tired now.<br /><br />Save your time and watch some \"Sex and the City\" reruns...'\n",
      " b'Well, What can I say, other than these people are Super in every way. I quite like Sharon Mcreedy, I enjoy this pure Nostalgic Series And I have the boxed set of 9 discs 30 episodes, I did not realise that they had made so many, I also think that it is a great shame, that they have not made any more. I wish that I got given these powers, Imagine me, being knocked off my cycle, somewhere and being knocked out cold, then waking up in a special hospital. Later on, I discover that my body has been enhanced. Just like Richard Barrat. These stories are 50 Minutes of pure action and suspense all the way, You cannot fight these 3 people, as they would defeat you in all forms of weaponry. The music is well written, and to me, puts a wonderful picture of 3 super beings in my mind, The sort of powers that the champions have are the same as our domestic dog or cats, Improved sight, Improved hearing and touch. and the strength of 10 men for Richard and Craig and the strength of 3 women for Sharon. Who I thought was beautiful and intelligent. When I was a boy, I had a huge crush on her!!!! Now I can see why, on my DVD set. The box is very nice and it comes with a free booklet all about the series. I also thought that Trymane was a good boss, firm but he got things done!'\n",
      " b'The people who are praising this film are the real disappointments -- I am hoping at least that Leonard will see some good $$ out of this, as his life savings were embezzled away by a manager a couple of years ago and he\\'s over 70 now. But this film is simply terrible. At the beginning Leonard himself says he is not sentimental about his past, and then for the next hour and a half the film emphasizes all the worst sentimental elements of Leonard\\'s songs. It is so bloody PRECIOUS with its endless close-ups of over emoting singers. Cohen\\'s interview is all done in lo-fi video closeups and I so wanted to see a medium or a long shot of his whole body! I couldn\\'t care less about the comments of the performers, especially those overblown ego boys Edge and Bono. None of the performers in this film have done even one song as good as Leonard\\'s own music and if you are thinking about seeing this and you have any doubts at all, heed them. This would be an acceptable PBS special, maybe, for a one time showing. But I will even hesitate at getting a DVD of this. When the film finally shows Leonard semi-performing \"Tower of Song\" it\\'s ruined by Bono taking a verse. Even the occasional good performances (Antony, Rufus\\' first number, Martha\\'s The Traitor) are spoiled by the context of the rest of this turgid blabla. Forget this one, and go buy Leonard\\'s most recent album if you want to pay tribute to him.'\n",
      " b\"Zentropa is the most original movie I've seen in years. If you like unique thrillers that are influenced by film noir, then this is just the right cure for all of those Hollywood summer blockbusters clogging the theaters these days. Von Trier's follow-ups like Breaking the Waves have gotten more acclaim, but this is really his best work. It is flashy without being distracting and offers the perfect combination of suspense and dark humor. It's too bad he decided handheld cameras were the wave of the future. It's hard to say who talked him away from the style he exhibits here, but it's everyone's loss that he went into his heavily theoretical dogma direction instead.\"\n",
      " b'Soon after watching this film you will realize why it didn\\'t even make it to the theaters! This movie does not deserve the \"prequel\" tag. Instead this is a common theme in Hollywood, rip off previously good movies with disastrous prequels, sequels, etc.<br /><br />This film\\'s plot was bouncing all over the place like a ping pong ball, and the character development was non-existent. I seriously felt like I was watching a comedy at some points in the movie because the acting was so bad. P Diddy needs to stop tainting movies with his horrible acting, he actually made me laugh every time.<br /><br />The only good thing that comes out of this movie is Jaclyn DeSantis, who looks excellent in this movie and actually brought some enjoyment from watching this film.<br /><br />If you are a big Carlito\\'s Way fan, I recommend you not watch this. If you decide to watch it anyway then treat this movie as if it ripped off the original, because that is exactly what it did.'\n",
      " b'\" Now in India\\'s sunny \\'clime, where I use to spend my time as a soldier in the service of her Majesty the queen . . . \" so goes the famous poem penned by Rudyard Kipling. This is the literal foundation upon which the movie \"Gunga Din\" is based. If you are fortunate enough to watch this legendary Classic, you will enjoy films the way they use to make them; for the sheer pleasure. Taken from the script of the established novelist and poet, this is a story of a humble Indian native named Gunga Din (Sam Jaffe) who works as \\'a regimental beasty\\' during the British occupation of India during the 18th century. His greatest wish is to become a soldier. The water boy is part of a British Calvary contingent threatened with death by a notorious blood cult of Kali called the \\'Thuggee.\\' Three particular soldiers stand out in this company who are noted for their bravery and comradeship. First is handsome and debonair, Cary Grant playing Sgt. Archibald Cutter. Next is Victor McLaglen as courageous Sgt. MacChesney and finally there\\'s flamboyant Douglas Fairbanks Jr. as Sgt. Thomas Ballantine. All three and their fellow soldiers are surrounded by a hoard of mountain stranglers led by their fanatical leader called the \\'Guru\\' (Eduardo Ciannelli). Amid the Chaos of war, is the brave water-boy who hopes to earn a place in the army by playing a bugle he found. A solid story for an old black and white film which needs little fanfare for anyone looking to enjoy a classic. ****'\n",
      " b\"After watching the trailer I was surprised this movie never made it into theaters, so I ordered the BluRay. I had a great time watching it and have to say that this movie is better than some major animation movies out there. Of course, it has its flaws but I can still really recommend it. The animation is well done, very entertaining and unique and the story kept me watching it all the way to the end. Some of the backdrops are just drop-dead gorgeous and you can see the French talent behind it. I thought that Forest Whitaker's performance feels a bit lifeless but that is how the character Lian-Chu is depicted in this movie. So overall, thumbs up, I liked it a lot and I hope it is successful enough for all the studios involved to continue making great movies like this. I would recommend to give it a chance and be surprised how great a movie can be with such a small budget. Hektor alone is worth watching the movie since some of his moments are Stitch-like hilarious.\"\n",
      " b'*WARNING* Possible spoilers below<br /><br />The film is more boring then anything else. There seems to be some attempt to build tension through badly lit shots of empty rooms and empty lawns, but none of it works.<br /><br />MST3K did a fairly good job with it, but on its own the movie is mostly tedious.<br /><br />Funny moments:<br /><br />When the fake skull rolls out of a pile of ashes, the wife becomes hysterical and woozy while the husband (who is trying to drive the wife crazy) says in a deadpan voice \"There is no skull there, there\\'s no skull.\"<br /><br />When the real ghost-skulls have the husband caught in a pickle, as if trapped between first and second base.'\n",
      " b\"Okay, I'll admit it--I am a goof-ball and I occasionally love a really silly comedy. While I have seen more films by Kurosawa, Bergman and Truffaut than practically anyone on the planet, I still have a soft spot for a dopey comedy that doesn't try to be sophisticated but is simply funny. A few such films that immediately come to mind are MONTY PYTHON AND THE HOLY GRAIL, UHF, START THE REVOLUTION WITHOUT ME, STRANGE BREW and the Bill and Ted movies. They all lack snob appeal but only a zombie or professional film critic could dislike them.<br /><br />While BILL & TED'S BOGUS JOURNEY isn't as wonderful as the original Bill and Ted film, it still is great fun. Also, unlike the original, it actually seems to improve with repeated viewing. I remember not loving the film the first time I saw it--possibly because the other movie set such a high standard for laughs. But, every time I see it again I am amazed at all the great moments--particularly those involving the Grim Reaper. And, by the way, this reaper is about as different from Bergman's in THE SEVENTH SEAL as you can get!! In addition to a lot of laughs, this film features some excellent music--one way that it's actually better than the first film. The Kiss anthem at the end is great but so are the rest of the hard rock tunes--provided you aren't an old killjoy like De Nomolos. Great viewing for kids and adults alike.\"\n",
      " b\"Beast Wars is a show that is over-hyped, overpraised and overrated. Let's meet the characters of this obnoxious show whose creators must have been on acid to try and make a show like this.<br /><br />Cheetor- Seriously, they need to have censor bars on this guy. How come he dosen't creep out the viewers having the same voice as baby Taz? (at least Razzoff from Rayman 3: Hoodlum Havoc is voiced by Slip & Slide) Action Blast- If you want a line of show that suck, get G4 Tranceformers Cybertron- A show that should go down in a toilet. Good Job Creators (Sarcasm) Show it self-Retarded & boring (at least the Super Mario games are better) This show had a lot of followers sayin' bring it back, but I believe that it was cancelled for its own good.\"\n",
      " b'If asked how I would define the word \" Shallow \" I would reply \" Watch a Jerry Bruckheimer production \" . If asked how I would define the phrase \" Wasted potential \" I would reply \" Watch a Jerry Bruckheimer production \" . Bruckheimer productions are nearly always sure fire hits at the box office but nearly always receive critical pannings from the critics . Off the top of my head I can only think of AN OFFICER AND A GENTLEMAN and BLACK HAWK DOWN getting a lot of critical acclaim . <br /><br />CRIMSON TIDE too received some begrudging acclaim from critics , it`s certainly one of Bruckheimer`s better films which alas isn`t saying much . The problem I had is the scenario that sets up the story : The Russians are fighting the Chechens and the conflict spreads through the whole of Russia leading to an ultra nationalist Russian to take over a nuclear missile base and threaten the West if they interfere . Maybe the ending of the cold war had everything to do with it but I found this set up very unconvincing . It`s not helped by some errors in geography like the French carrier Foch being in the Med ( Wouldn`t the Foch be better positioned in the black sea ? ) or that the expositional newsreel consists of familar footage featuring conflicts from the Balkans , the first gulf war and even Vietnam . Once again the adjective \" Very unconvincing \" crept into my mind . The story does improve somewhat when the story proper - A battle of wills concerning orders between a nuclear submarine commander and his number two - gets underway . Director Tony Scott does his best as do the cast , but the problem still lies in an unconvincing scenario . The worst thing is that if this had been made in the mid 1980s when WW3 was a real possibility - Nay probability - this film would have terrified me , but after the cold war ended so had the dangers of nuclear war which means CRIMSON TIDE has little impact .'\n",
      " b'I\\'m not going to comb over TLPS\\'s obvious peterbogdanovichian flaws. Instead, I shall take a look at the positive aspects of this overrated celluloid pygmy of a film.<br /><br />1. Peter Bogdanovich managed to make a movie that can be endured in its entirety. This fact alone places the movie high up above and all the way up to the top of his lame filmography.<br /><br />2. Bogdanovich had shown how amazingly generous some lucky boyfriends can be, by sharing Cybill Shepherd\\'s (his then-gal) fabulous body and breasts with his male audience - and not just on one but on two occasions. Brava! The unquestionable highlights of this cinematic festa del siesta.<br /><br />3. TLPS has barely a scene without stereotypical country music doodling in the background. (Peter tried to make the obvious point that the movie is set in America\\'s Deep South (as if it weren\\'t bleedin\\' obvious) so he hammered that point on and on and on...) How is this an advantage, you might ask? Well, when the movie finally ends and the monotonous country music finally ceases massaging your tired ear-drums, you start experiencing a strange exhilaration: \"The movie\\'s finally over!\" It\\'s pure joy.<br /><br />4. The movie gives all women who look like Cloris Leachman hope. Hope that they, too, may one day snatch a much younger and maybe even good-looking boyfriend.<br /><br />5. Cloris Leachman\\'s biography (which I realize isn\\'t technically a part of TLPS) gives hope to all women that look like that, that they too may one day win a Miss Chicago beauty pageant. (Provided they have enough money to bribe the jury with.)<br /><br />(You think I\\'m joking abut Cloris having won a beauty pageant, huh? Well, check out her bio and then we\\'ll see who laughs last...) <br /><br />6. The movie was shot in black and white which spared us the sight of Cloris Leachman\\'s face in its original, natural non-glory.'\n",
      " b'\"All the world\\'s a stage and its people actors in it\"--or something like that. Who the hell said that theatre stopped at the orchestra pit--or even at the theatre door? Why is not the audience participants in the theatrical experience, including the story itself?<br /><br />This film was a grand experiment that said: \"Hey! the story is you and it needs more than your attention, it needs your active participation\". \"Sometimes we bring the story to you, sometimes you have to go to the story.\"<br /><br />Alas no one listened, but that does not mean it should not have been said.']\n",
      "Label: [1 0 0 1 1 1 1 1 1 1 0 1 0 0 0 1 1 1 0 0 0 1 0 1 0 0 1 1 0 0 1 0 1 0 0 1 1\n",
      " 1 1 0 1 0 0 1 0 0 1 0 1 0 1 0 0 0 1 0 0 1 0 0 1 0 0 0 1 1 1 0 1 1 0 1 0 1\n",
      " 0 1 1 1 1 0 1 1 1 0 1 0 0 1 0 0 0 0 0 1 1 0 0 1 0 1 1 0 0 0 1 0 0 0 1 0 0\n",
      " 1 0 1 0 0 1 0 1 0 1 1 0 1 0 0 0 1]\n"
     ]
    },
    {
     "name": "stderr",
     "output_type": "stream",
     "text": [
      "2025-02-22 06:23:50.759741: I tensorflow/core/kernels/data/tf_record_dataset_op.cc:376] The default buffer size is 262144, which is overridden by the user specified `buffer_size` of 8388608\n",
      "2025-02-22 06:23:50.818363: W tensorflow/core/kernels/data/cache_dataset_ops.cc:914] The calling iterator did not fully read the dataset being cached. In order to avoid unexpected truncation of the dataset, the partially cached contents of the dataset  will be discarded. This can happen if you have an input pipeline similar to `dataset.cache().take(k).repeat()`. You should use `dataset.take(k).cache().repeat()` instead.\n",
      "2025-02-22 06:23:50.820886: I tensorflow/core/framework/local_rendezvous.cc:405] Local rendezvous is aborting with status: OUT_OF_RANGE: End of sequence\n"
     ]
    }
   ],
   "execution_count": 16
  },
  {
   "metadata": {},
   "cell_type": "markdown",
   "source": "TextVectorization층을 훈련 데이터에 적응시킨다.",
   "id": "bd99753bb9d4e861"
  },
  {
   "metadata": {
    "ExecuteTime": {
     "end_time": "2025-02-21T21:26:20.698593Z",
     "start_time": "2025-02-21T21:26:19.884968Z"
    }
   },
   "cell_type": "code",
   "source": [
    "# training dataset에서 텍스트만 추출하여 adapt 수행\n",
    "train_text = train_set.map(lambda text, label: text)\n",
    "text_vec_layer.adapt(train_text)"
   ],
   "id": "133c494f4abac2a8",
   "outputs": [],
   "execution_count": 22
  },
  {
   "metadata": {},
   "cell_type": "markdown",
   "source": "### 모델 훈련",
   "id": "e9adae695357463a"
  },
  {
   "metadata": {
    "ExecuteTime": {
     "end_time": "2025-02-21T21:23:54.802493Z",
     "start_time": "2025-02-21T21:23:51.734841Z"
    }
   },
   "cell_type": "code",
   "source": [
    "%load_ext tensorboard\n",
    "%tensorboard --logdir=my_logs"
   ],
   "id": "cce08a8f3ea1482d",
   "outputs": [
    {
     "data": {
      "text/plain": [
       "<IPython.core.display.HTML object>"
      ],
      "text/html": [
       "\n",
       "      <iframe id=\"tensorboard-frame-4ce2be7b2f81e441\" width=\"100%\" height=\"800\" frameborder=\"0\">\n",
       "      </iframe>\n",
       "      <script>\n",
       "        (function() {\n",
       "          const frame = document.getElementById(\"tensorboard-frame-4ce2be7b2f81e441\");\n",
       "          const url = new URL(\"/\", window.location);\n",
       "          const port = 6006;\n",
       "          if (port) {\n",
       "            url.port = port;\n",
       "          }\n",
       "          frame.src = url;\n",
       "        })();\n",
       "      </script>\n",
       "    "
      ]
     },
     "metadata": {},
     "output_type": "display_data"
    },
    {
     "name": "stderr",
     "output_type": "stream",
     "text": [
      "huggingface/tokenizers: The current process just got forked, after parallelism has already been used. Disabling parallelism to avoid deadlocks...\n",
      "To disable this warning, you can either:\n",
      "\t- Avoid using `tokenizers` before the fork if possible\n",
      "\t- Explicitly set the environment variable TOKENIZERS_PARALLELISM=(true | false)\n"
     ]
    }
   ],
   "execution_count": 18
  },
  {
   "metadata": {
    "ExecuteTime": {
     "end_time": "2025-02-21T22:00:52.100193Z",
     "start_time": "2025-02-21T21:26:25.826748Z"
    }
   },
   "cell_type": "code",
   "source": [
    "import datetime\n",
    "\n",
    "# 커스텀 TensorBoard 콜백: on_epoch_end에서 \"lr\" 키 제거\n",
    "class CustomTensorBoard(tf.keras.callbacks.TensorBoard):\n",
    "    def on_epoch_end(self, epoch, logs=None):\n",
    "        if logs is not None and \"lr\" in logs:\n",
    "            logs.pop(\"lr\")\n",
    "        super().on_epoch_end(epoch, logs)\n",
    "\n",
    "# 기존 옵티마이저 및 학습률 스케줄러\n",
    "initial_lr = 1e-3\n",
    "lr_schedule = tf.keras.optimizers.schedules.ExponentialDecay(\n",
    "    initial_lr,\n",
    "    decay_steps=1000,\n",
    "    decay_rate=0.96,\n",
    "    staircase=True\n",
    ")\n",
    "optimizer = tf.keras.optimizers.Adam(learning_rate=lr_schedule)\n",
    "\n",
    "model.compile(optimizer=optimizer,\n",
    "              loss=\"binary_crossentropy\",\n",
    "              metrics=[\"accuracy\"])\n",
    "\n",
    "# 콜백 설정: EarlyStopping, ReduceLROnPlateau, CustomTensorBoard\n",
    "callbacks = [\n",
    "    tf.keras.callbacks.EarlyStopping(monitor=\"val_loss\", patience=20, restore_best_weights=True),\n",
    "    tf.keras.callbacks.ReduceLROnPlateau(monitor=\"val_loss\", factor=0.5, patience=2, verbose=1),\n",
    "    CustomTensorBoard(log_dir=f\"logs/fit/{datetime.datetime.now().strftime('%Y%m%d-%H%M%S')}\",\n",
    "                      update_freq='epoch')\n",
    "]\n",
    "\n",
    "history = model.fit(\n",
    "    train_set,\n",
    "    validation_data=valid_set,\n",
    "    epochs=200,\n",
    "    callbacks=callbacks,\n",
    "    verbose=1\n",
    ")\n"
   ],
   "id": "5c79094f8b50cb24",
   "outputs": [
    {
     "name": "stderr",
     "output_type": "stream",
     "text": [
      "WARNING:absl:At this time, the v2.11+ optimizer `tf.keras.optimizers.Adam` runs slowly on M1/M2 Macs, please use the legacy TF-Keras optimizer instead, located at `tf.keras.optimizers.legacy.Adam`.\n"
     ]
    },
    {
     "name": "stdout",
     "output_type": "stream",
     "text": [
      "Epoch 1/200\n",
      "  6/176 [>.............................] - ETA: 1:38 - loss: 5.6552 - accuracy: 0.5117WARNING:tensorflow:Callback method `on_train_batch_end` is slow compared to the batch time (batch time: 0.2256s vs `on_train_batch_end` time: 0.3438s). Check your callbacks.\n"
     ]
    },
    {
     "name": "stderr",
     "output_type": "stream",
     "text": [
      "WARNING:tensorflow:Callback method `on_train_batch_end` is slow compared to the batch time (batch time: 0.2256s vs `on_train_batch_end` time: 0.3438s). Check your callbacks.\n"
     ]
    },
    {
     "name": "stdout",
     "output_type": "stream",
     "text": [
      "176/176 [==============================] - 109s 610ms/step - loss: 0.9651 - accuracy: 0.5028 - val_loss: 0.7020 - val_accuracy: 0.5024\n",
      "Epoch 2/200\n",
      "176/176 [==============================] - 106s 600ms/step - loss: 0.7425 - accuracy: 0.5049 - val_loss: 0.6961 - val_accuracy: 0.5024\n",
      "Epoch 3/200\n",
      "176/176 [==============================] - 105s 597ms/step - loss: 0.7412 - accuracy: 0.5019 - val_loss: 0.6950 - val_accuracy: 0.5024\n",
      "Epoch 4/200\n",
      "176/176 [==============================] - 104s 590ms/step - loss: 0.7395 - accuracy: 0.5003 - val_loss: 0.6983 - val_accuracy: 0.5024\n",
      "Epoch 5/200\n",
      "176/176 [==============================] - ETA: 0s - loss: 0.7363 - accuracy: 0.4991\n",
      "Epoch 5: ReduceLROnPlateau reducing learning rate to 0.0005000000237487257.\n",
      "176/176 [==============================] - 104s 589ms/step - loss: 0.7363 - accuracy: 0.4991 - val_loss: 0.7001 - val_accuracy: 0.5024\n",
      "Epoch 6/200\n",
      "176/176 [==============================] - 106s 600ms/step - loss: 0.7318 - accuracy: 0.5030 - val_loss: 0.7029 - val_accuracy: 0.5024\n",
      "Epoch 7/200\n",
      "176/176 [==============================] - ETA: 0s - loss: 0.7304 - accuracy: 0.5000\n",
      "Epoch 7: ReduceLROnPlateau reducing learning rate to 0.00048000001697801054.\n",
      "176/176 [==============================] - 106s 601ms/step - loss: 0.7304 - accuracy: 0.5000 - val_loss: 0.7001 - val_accuracy: 0.5024\n",
      "Epoch 8/200\n",
      "176/176 [==============================] - 104s 593ms/step - loss: 0.7276 - accuracy: 0.4985 - val_loss: 0.7044 - val_accuracy: 0.5024\n",
      "Epoch 9/200\n",
      "176/176 [==============================] - ETA: 0s - loss: 0.7233 - accuracy: 0.5011\n",
      "Epoch 9: ReduceLROnPlateau reducing learning rate to 0.00048000001697801054.\n",
      "176/176 [==============================] - 105s 596ms/step - loss: 0.7233 - accuracy: 0.5011 - val_loss: 0.6989 - val_accuracy: 0.5024\n",
      "Epoch 10/200\n",
      "176/176 [==============================] - 106s 602ms/step - loss: 0.7212 - accuracy: 0.5040 - val_loss: 0.6940 - val_accuracy: 0.5024\n",
      "Epoch 11/200\n",
      "176/176 [==============================] - 104s 592ms/step - loss: 0.7183 - accuracy: 0.5024 - val_loss: 0.6968 - val_accuracy: 0.5024\n",
      "Epoch 12/200\n",
      "176/176 [==============================] - ETA: 0s - loss: 0.7195 - accuracy: 0.5025\n",
      "Epoch 12: ReduceLROnPlateau reducing learning rate to 0.0004608000162988901.\n",
      "176/176 [==============================] - 104s 591ms/step - loss: 0.7195 - accuracy: 0.5025 - val_loss: 0.7015 - val_accuracy: 0.5024\n",
      "Epoch 13/200\n",
      "176/176 [==============================] - 104s 590ms/step - loss: 0.7159 - accuracy: 0.5047 - val_loss: 0.6973 - val_accuracy: 0.5024\n",
      "Epoch 14/200\n",
      "176/176 [==============================] - ETA: 0s - loss: 0.7179 - accuracy: 0.4971\n",
      "Epoch 14: ReduceLROnPlateau reducing learning rate to 0.0004608000162988901.\n",
      "176/176 [==============================] - 104s 590ms/step - loss: 0.7179 - accuracy: 0.4971 - val_loss: 0.6982 - val_accuracy: 0.5024\n",
      "Epoch 15/200\n",
      "176/176 [==============================] - 105s 596ms/step - loss: 0.7141 - accuracy: 0.5001 - val_loss: 0.6975 - val_accuracy: 0.5024\n",
      "Epoch 16/200\n",
      "176/176 [==============================] - ETA: 0s - loss: 0.7126 - accuracy: 0.5019\n",
      "Epoch 16: ReduceLROnPlateau reducing learning rate to 0.0004608000162988901.\n",
      "176/176 [==============================] - 105s 593ms/step - loss: 0.7126 - accuracy: 0.5019 - val_loss: 0.6950 - val_accuracy: 0.5024\n",
      "Epoch 17/200\n",
      "176/176 [==============================] - 104s 591ms/step - loss: 0.7142 - accuracy: 0.4954 - val_loss: 0.6979 - val_accuracy: 0.5024\n",
      "Epoch 18/200\n",
      "176/176 [==============================] - ETA: 0s - loss: 0.7098 - accuracy: 0.5006\n",
      "Epoch 18: ReduceLROnPlateau reducing learning rate to 0.0004423679783940315.\n",
      "176/176 [==============================] - 104s 592ms/step - loss: 0.7098 - accuracy: 0.5006 - val_loss: 0.7105 - val_accuracy: 0.5024\n",
      "Epoch 19/200\n",
      "176/176 [==============================] - 104s 591ms/step - loss: 0.7110 - accuracy: 0.4979 - val_loss: 0.6953 - val_accuracy: 0.5024\n",
      "Epoch 20/200\n",
      "127/176 [====================>.........] - ETA: 28s - loss: 0.7102 - accuracy: 0.4953"
     ]
    },
    {
     "ename": "KeyboardInterrupt",
     "evalue": "",
     "output_type": "error",
     "traceback": [
      "\u001B[0;31m---------------------------------------------------------------------------\u001B[0m",
      "\u001B[0;31mKeyboardInterrupt\u001B[0m                         Traceback (most recent call last)",
      "Cell \u001B[0;32mIn[23], line 32\u001B[0m\n\u001B[1;32m     24\u001B[0m \u001B[38;5;66;03m# 콜백 설정: EarlyStopping, ReduceLROnPlateau, CustomTensorBoard\u001B[39;00m\n\u001B[1;32m     25\u001B[0m callbacks \u001B[38;5;241m=\u001B[39m [\n\u001B[1;32m     26\u001B[0m     tf\u001B[38;5;241m.\u001B[39mkeras\u001B[38;5;241m.\u001B[39mcallbacks\u001B[38;5;241m.\u001B[39mEarlyStopping(monitor\u001B[38;5;241m=\u001B[39m\u001B[38;5;124m\"\u001B[39m\u001B[38;5;124mval_loss\u001B[39m\u001B[38;5;124m\"\u001B[39m, patience\u001B[38;5;241m=\u001B[39m\u001B[38;5;241m20\u001B[39m, restore_best_weights\u001B[38;5;241m=\u001B[39m\u001B[38;5;28;01mTrue\u001B[39;00m),\n\u001B[1;32m     27\u001B[0m     tf\u001B[38;5;241m.\u001B[39mkeras\u001B[38;5;241m.\u001B[39mcallbacks\u001B[38;5;241m.\u001B[39mReduceLROnPlateau(monitor\u001B[38;5;241m=\u001B[39m\u001B[38;5;124m\"\u001B[39m\u001B[38;5;124mval_loss\u001B[39m\u001B[38;5;124m\"\u001B[39m, factor\u001B[38;5;241m=\u001B[39m\u001B[38;5;241m0.5\u001B[39m, patience\u001B[38;5;241m=\u001B[39m\u001B[38;5;241m2\u001B[39m, verbose\u001B[38;5;241m=\u001B[39m\u001B[38;5;241m1\u001B[39m),\n\u001B[1;32m     28\u001B[0m     CustomTensorBoard(log_dir\u001B[38;5;241m=\u001B[39m\u001B[38;5;124mf\u001B[39m\u001B[38;5;124m\"\u001B[39m\u001B[38;5;124mlogs/fit/\u001B[39m\u001B[38;5;132;01m{\u001B[39;00mdatetime\u001B[38;5;241m.\u001B[39mdatetime\u001B[38;5;241m.\u001B[39mnow()\u001B[38;5;241m.\u001B[39mstrftime(\u001B[38;5;124m'\u001B[39m\u001B[38;5;124m%\u001B[39m\u001B[38;5;124mY\u001B[39m\u001B[38;5;124m%\u001B[39m\u001B[38;5;124mm\u001B[39m\u001B[38;5;132;01m%d\u001B[39;00m\u001B[38;5;124m-\u001B[39m\u001B[38;5;124m%\u001B[39m\u001B[38;5;124mH\u001B[39m\u001B[38;5;124m%\u001B[39m\u001B[38;5;124mM\u001B[39m\u001B[38;5;124m%\u001B[39m\u001B[38;5;124mS\u001B[39m\u001B[38;5;124m'\u001B[39m)\u001B[38;5;132;01m}\u001B[39;00m\u001B[38;5;124m\"\u001B[39m,\n\u001B[1;32m     29\u001B[0m                       update_freq\u001B[38;5;241m=\u001B[39m\u001B[38;5;124m'\u001B[39m\u001B[38;5;124mepoch\u001B[39m\u001B[38;5;124m'\u001B[39m)\n\u001B[1;32m     30\u001B[0m ]\n\u001B[0;32m---> 32\u001B[0m history \u001B[38;5;241m=\u001B[39m \u001B[43mmodel\u001B[49m\u001B[38;5;241;43m.\u001B[39;49m\u001B[43mfit\u001B[49m\u001B[43m(\u001B[49m\n\u001B[1;32m     33\u001B[0m \u001B[43m    \u001B[49m\u001B[43mtrain_set\u001B[49m\u001B[43m,\u001B[49m\n\u001B[1;32m     34\u001B[0m \u001B[43m    \u001B[49m\u001B[43mvalidation_data\u001B[49m\u001B[38;5;241;43m=\u001B[39;49m\u001B[43mvalid_set\u001B[49m\u001B[43m,\u001B[49m\n\u001B[1;32m     35\u001B[0m \u001B[43m    \u001B[49m\u001B[43mepochs\u001B[49m\u001B[38;5;241;43m=\u001B[39;49m\u001B[38;5;241;43m200\u001B[39;49m\u001B[43m,\u001B[49m\n\u001B[1;32m     36\u001B[0m \u001B[43m    \u001B[49m\u001B[43mcallbacks\u001B[49m\u001B[38;5;241;43m=\u001B[39;49m\u001B[43mcallbacks\u001B[49m\u001B[43m,\u001B[49m\n\u001B[1;32m     37\u001B[0m \u001B[43m    \u001B[49m\u001B[43mverbose\u001B[49m\u001B[38;5;241;43m=\u001B[39;49m\u001B[38;5;241;43m1\u001B[39;49m\n\u001B[1;32m     38\u001B[0m \u001B[43m)\u001B[49m\n",
      "File \u001B[0;32m~/coding/pycharm/handson_ml_--/.venv/lib/python3.9/site-packages/tf_keras/src/utils/traceback_utils.py:65\u001B[0m, in \u001B[0;36mfilter_traceback.<locals>.error_handler\u001B[0;34m(*args, **kwargs)\u001B[0m\n\u001B[1;32m     63\u001B[0m filtered_tb \u001B[38;5;241m=\u001B[39m \u001B[38;5;28;01mNone\u001B[39;00m\n\u001B[1;32m     64\u001B[0m \u001B[38;5;28;01mtry\u001B[39;00m:\n\u001B[0;32m---> 65\u001B[0m     \u001B[38;5;28;01mreturn\u001B[39;00m \u001B[43mfn\u001B[49m\u001B[43m(\u001B[49m\u001B[38;5;241;43m*\u001B[39;49m\u001B[43margs\u001B[49m\u001B[43m,\u001B[49m\u001B[43m \u001B[49m\u001B[38;5;241;43m*\u001B[39;49m\u001B[38;5;241;43m*\u001B[39;49m\u001B[43mkwargs\u001B[49m\u001B[43m)\u001B[49m\n\u001B[1;32m     66\u001B[0m \u001B[38;5;28;01mexcept\u001B[39;00m \u001B[38;5;167;01mException\u001B[39;00m \u001B[38;5;28;01mas\u001B[39;00m e:\n\u001B[1;32m     67\u001B[0m     filtered_tb \u001B[38;5;241m=\u001B[39m _process_traceback_frames(e\u001B[38;5;241m.\u001B[39m__traceback__)\n",
      "File \u001B[0;32m~/coding/pycharm/handson_ml_--/.venv/lib/python3.9/site-packages/tf_keras/src/engine/training.py:1804\u001B[0m, in \u001B[0;36mModel.fit\u001B[0;34m(self, x, y, batch_size, epochs, verbose, callbacks, validation_split, validation_data, shuffle, class_weight, sample_weight, initial_epoch, steps_per_epoch, validation_steps, validation_batch_size, validation_freq, max_queue_size, workers, use_multiprocessing)\u001B[0m\n\u001B[1;32m   1796\u001B[0m \u001B[38;5;28;01mwith\u001B[39;00m tf\u001B[38;5;241m.\u001B[39mprofiler\u001B[38;5;241m.\u001B[39mexperimental\u001B[38;5;241m.\u001B[39mTrace(\n\u001B[1;32m   1797\u001B[0m     \u001B[38;5;124m\"\u001B[39m\u001B[38;5;124mtrain\u001B[39m\u001B[38;5;124m\"\u001B[39m,\n\u001B[1;32m   1798\u001B[0m     epoch_num\u001B[38;5;241m=\u001B[39mepoch,\n\u001B[0;32m   (...)\u001B[0m\n\u001B[1;32m   1801\u001B[0m     _r\u001B[38;5;241m=\u001B[39m\u001B[38;5;241m1\u001B[39m,\n\u001B[1;32m   1802\u001B[0m ):\n\u001B[1;32m   1803\u001B[0m     callbacks\u001B[38;5;241m.\u001B[39mon_train_batch_begin(step)\n\u001B[0;32m-> 1804\u001B[0m     tmp_logs \u001B[38;5;241m=\u001B[39m \u001B[38;5;28;43mself\u001B[39;49m\u001B[38;5;241;43m.\u001B[39;49m\u001B[43mtrain_function\u001B[49m\u001B[43m(\u001B[49m\u001B[43miterator\u001B[49m\u001B[43m)\u001B[49m\n\u001B[1;32m   1805\u001B[0m     \u001B[38;5;28;01mif\u001B[39;00m data_handler\u001B[38;5;241m.\u001B[39mshould_sync:\n\u001B[1;32m   1806\u001B[0m         context\u001B[38;5;241m.\u001B[39masync_wait()\n",
      "File \u001B[0;32m~/coding/pycharm/handson_ml_--/.venv/lib/python3.9/site-packages/tensorflow/python/util/traceback_utils.py:150\u001B[0m, in \u001B[0;36mfilter_traceback.<locals>.error_handler\u001B[0;34m(*args, **kwargs)\u001B[0m\n\u001B[1;32m    148\u001B[0m filtered_tb \u001B[38;5;241m=\u001B[39m \u001B[38;5;28;01mNone\u001B[39;00m\n\u001B[1;32m    149\u001B[0m \u001B[38;5;28;01mtry\u001B[39;00m:\n\u001B[0;32m--> 150\u001B[0m   \u001B[38;5;28;01mreturn\u001B[39;00m \u001B[43mfn\u001B[49m\u001B[43m(\u001B[49m\u001B[38;5;241;43m*\u001B[39;49m\u001B[43margs\u001B[49m\u001B[43m,\u001B[49m\u001B[43m \u001B[49m\u001B[38;5;241;43m*\u001B[39;49m\u001B[38;5;241;43m*\u001B[39;49m\u001B[43mkwargs\u001B[49m\u001B[43m)\u001B[49m\n\u001B[1;32m    151\u001B[0m \u001B[38;5;28;01mexcept\u001B[39;00m \u001B[38;5;167;01mException\u001B[39;00m \u001B[38;5;28;01mas\u001B[39;00m e:\n\u001B[1;32m    152\u001B[0m   filtered_tb \u001B[38;5;241m=\u001B[39m _process_traceback_frames(e\u001B[38;5;241m.\u001B[39m__traceback__)\n",
      "File \u001B[0;32m~/coding/pycharm/handson_ml_--/.venv/lib/python3.9/site-packages/tensorflow/python/eager/polymorphic_function/polymorphic_function.py:833\u001B[0m, in \u001B[0;36mFunction.__call__\u001B[0;34m(self, *args, **kwds)\u001B[0m\n\u001B[1;32m    830\u001B[0m compiler \u001B[38;5;241m=\u001B[39m \u001B[38;5;124m\"\u001B[39m\u001B[38;5;124mxla\u001B[39m\u001B[38;5;124m\"\u001B[39m \u001B[38;5;28;01mif\u001B[39;00m \u001B[38;5;28mself\u001B[39m\u001B[38;5;241m.\u001B[39m_jit_compile \u001B[38;5;28;01melse\u001B[39;00m \u001B[38;5;124m\"\u001B[39m\u001B[38;5;124mnonXla\u001B[39m\u001B[38;5;124m\"\u001B[39m\n\u001B[1;32m    832\u001B[0m \u001B[38;5;28;01mwith\u001B[39;00m OptionalXlaContext(\u001B[38;5;28mself\u001B[39m\u001B[38;5;241m.\u001B[39m_jit_compile):\n\u001B[0;32m--> 833\u001B[0m   result \u001B[38;5;241m=\u001B[39m \u001B[38;5;28;43mself\u001B[39;49m\u001B[38;5;241;43m.\u001B[39;49m\u001B[43m_call\u001B[49m\u001B[43m(\u001B[49m\u001B[38;5;241;43m*\u001B[39;49m\u001B[43margs\u001B[49m\u001B[43m,\u001B[49m\u001B[43m \u001B[49m\u001B[38;5;241;43m*\u001B[39;49m\u001B[38;5;241;43m*\u001B[39;49m\u001B[43mkwds\u001B[49m\u001B[43m)\u001B[49m\n\u001B[1;32m    835\u001B[0m new_tracing_count \u001B[38;5;241m=\u001B[39m \u001B[38;5;28mself\u001B[39m\u001B[38;5;241m.\u001B[39mexperimental_get_tracing_count()\n\u001B[1;32m    836\u001B[0m without_tracing \u001B[38;5;241m=\u001B[39m (tracing_count \u001B[38;5;241m==\u001B[39m new_tracing_count)\n",
      "File \u001B[0;32m~/coding/pycharm/handson_ml_--/.venv/lib/python3.9/site-packages/tensorflow/python/eager/polymorphic_function/polymorphic_function.py:869\u001B[0m, in \u001B[0;36mFunction._call\u001B[0;34m(self, *args, **kwds)\u001B[0m\n\u001B[1;32m    866\u001B[0m   \u001B[38;5;28mself\u001B[39m\u001B[38;5;241m.\u001B[39m_lock\u001B[38;5;241m.\u001B[39mrelease()\n\u001B[1;32m    867\u001B[0m   \u001B[38;5;66;03m# In this case we have created variables on the first call, so we run the\u001B[39;00m\n\u001B[1;32m    868\u001B[0m   \u001B[38;5;66;03m# defunned version which is guaranteed to never create variables.\u001B[39;00m\n\u001B[0;32m--> 869\u001B[0m   \u001B[38;5;28;01mreturn\u001B[39;00m \u001B[43mtracing_compilation\u001B[49m\u001B[38;5;241;43m.\u001B[39;49m\u001B[43mcall_function\u001B[49m\u001B[43m(\u001B[49m\n\u001B[1;32m    870\u001B[0m \u001B[43m      \u001B[49m\u001B[43margs\u001B[49m\u001B[43m,\u001B[49m\u001B[43m \u001B[49m\u001B[43mkwds\u001B[49m\u001B[43m,\u001B[49m\u001B[43m \u001B[49m\u001B[38;5;28;43mself\u001B[39;49m\u001B[38;5;241;43m.\u001B[39;49m\u001B[43m_no_variable_creation_config\u001B[49m\n\u001B[1;32m    871\u001B[0m \u001B[43m  \u001B[49m\u001B[43m)\u001B[49m\n\u001B[1;32m    872\u001B[0m \u001B[38;5;28;01melif\u001B[39;00m \u001B[38;5;28mself\u001B[39m\u001B[38;5;241m.\u001B[39m_variable_creation_config \u001B[38;5;129;01mis\u001B[39;00m \u001B[38;5;129;01mnot\u001B[39;00m \u001B[38;5;28;01mNone\u001B[39;00m:\n\u001B[1;32m    873\u001B[0m   \u001B[38;5;66;03m# Release the lock early so that multiple threads can perform the call\u001B[39;00m\n\u001B[1;32m    874\u001B[0m   \u001B[38;5;66;03m# in parallel.\u001B[39;00m\n\u001B[1;32m    875\u001B[0m   \u001B[38;5;28mself\u001B[39m\u001B[38;5;241m.\u001B[39m_lock\u001B[38;5;241m.\u001B[39mrelease()\n",
      "File \u001B[0;32m~/coding/pycharm/handson_ml_--/.venv/lib/python3.9/site-packages/tensorflow/python/eager/polymorphic_function/tracing_compilation.py:139\u001B[0m, in \u001B[0;36mcall_function\u001B[0;34m(args, kwargs, tracing_options)\u001B[0m\n\u001B[1;32m    137\u001B[0m bound_args \u001B[38;5;241m=\u001B[39m function\u001B[38;5;241m.\u001B[39mfunction_type\u001B[38;5;241m.\u001B[39mbind(\u001B[38;5;241m*\u001B[39margs, \u001B[38;5;241m*\u001B[39m\u001B[38;5;241m*\u001B[39mkwargs)\n\u001B[1;32m    138\u001B[0m flat_inputs \u001B[38;5;241m=\u001B[39m function\u001B[38;5;241m.\u001B[39mfunction_type\u001B[38;5;241m.\u001B[39munpack_inputs(bound_args)\n\u001B[0;32m--> 139\u001B[0m \u001B[38;5;28;01mreturn\u001B[39;00m \u001B[43mfunction\u001B[49m\u001B[38;5;241;43m.\u001B[39;49m\u001B[43m_call_flat\u001B[49m\u001B[43m(\u001B[49m\u001B[43m  \u001B[49m\u001B[38;5;66;43;03m# pylint: disable=protected-access\u001B[39;49;00m\n\u001B[1;32m    140\u001B[0m \u001B[43m    \u001B[49m\u001B[43mflat_inputs\u001B[49m\u001B[43m,\u001B[49m\u001B[43m \u001B[49m\u001B[43mcaptured_inputs\u001B[49m\u001B[38;5;241;43m=\u001B[39;49m\u001B[43mfunction\u001B[49m\u001B[38;5;241;43m.\u001B[39;49m\u001B[43mcaptured_inputs\u001B[49m\n\u001B[1;32m    141\u001B[0m \u001B[43m\u001B[49m\u001B[43m)\u001B[49m\n",
      "File \u001B[0;32m~/coding/pycharm/handson_ml_--/.venv/lib/python3.9/site-packages/tensorflow/python/eager/polymorphic_function/concrete_function.py:1322\u001B[0m, in \u001B[0;36mConcreteFunction._call_flat\u001B[0;34m(self, tensor_inputs, captured_inputs)\u001B[0m\n\u001B[1;32m   1318\u001B[0m possible_gradient_type \u001B[38;5;241m=\u001B[39m gradients_util\u001B[38;5;241m.\u001B[39mPossibleTapeGradientTypes(args)\n\u001B[1;32m   1319\u001B[0m \u001B[38;5;28;01mif\u001B[39;00m (possible_gradient_type \u001B[38;5;241m==\u001B[39m gradients_util\u001B[38;5;241m.\u001B[39mPOSSIBLE_GRADIENT_TYPES_NONE\n\u001B[1;32m   1320\u001B[0m     \u001B[38;5;129;01mand\u001B[39;00m executing_eagerly):\n\u001B[1;32m   1321\u001B[0m   \u001B[38;5;66;03m# No tape is watching; skip to running the function.\u001B[39;00m\n\u001B[0;32m-> 1322\u001B[0m   \u001B[38;5;28;01mreturn\u001B[39;00m \u001B[38;5;28;43mself\u001B[39;49m\u001B[38;5;241;43m.\u001B[39;49m\u001B[43m_inference_function\u001B[49m\u001B[38;5;241;43m.\u001B[39;49m\u001B[43mcall_preflattened\u001B[49m\u001B[43m(\u001B[49m\u001B[43margs\u001B[49m\u001B[43m)\u001B[49m\n\u001B[1;32m   1323\u001B[0m forward_backward \u001B[38;5;241m=\u001B[39m \u001B[38;5;28mself\u001B[39m\u001B[38;5;241m.\u001B[39m_select_forward_and_backward_functions(\n\u001B[1;32m   1324\u001B[0m     args,\n\u001B[1;32m   1325\u001B[0m     possible_gradient_type,\n\u001B[1;32m   1326\u001B[0m     executing_eagerly)\n\u001B[1;32m   1327\u001B[0m forward_function, args_with_tangents \u001B[38;5;241m=\u001B[39m forward_backward\u001B[38;5;241m.\u001B[39mforward()\n",
      "File \u001B[0;32m~/coding/pycharm/handson_ml_--/.venv/lib/python3.9/site-packages/tensorflow/python/eager/polymorphic_function/atomic_function.py:216\u001B[0m, in \u001B[0;36mAtomicFunction.call_preflattened\u001B[0;34m(self, args)\u001B[0m\n\u001B[1;32m    214\u001B[0m \u001B[38;5;28;01mdef\u001B[39;00m\u001B[38;5;250m \u001B[39m\u001B[38;5;21mcall_preflattened\u001B[39m(\u001B[38;5;28mself\u001B[39m, args: Sequence[core\u001B[38;5;241m.\u001B[39mTensor]) \u001B[38;5;241m-\u001B[39m\u001B[38;5;241m>\u001B[39m Any:\n\u001B[1;32m    215\u001B[0m \u001B[38;5;250m  \u001B[39m\u001B[38;5;124;03m\"\"\"Calls with flattened tensor inputs and returns the structured output.\"\"\"\u001B[39;00m\n\u001B[0;32m--> 216\u001B[0m   flat_outputs \u001B[38;5;241m=\u001B[39m \u001B[38;5;28;43mself\u001B[39;49m\u001B[38;5;241;43m.\u001B[39;49m\u001B[43mcall_flat\u001B[49m\u001B[43m(\u001B[49m\u001B[38;5;241;43m*\u001B[39;49m\u001B[43margs\u001B[49m\u001B[43m)\u001B[49m\n\u001B[1;32m    217\u001B[0m   \u001B[38;5;28;01mreturn\u001B[39;00m \u001B[38;5;28mself\u001B[39m\u001B[38;5;241m.\u001B[39mfunction_type\u001B[38;5;241m.\u001B[39mpack_output(flat_outputs)\n",
      "File \u001B[0;32m~/coding/pycharm/handson_ml_--/.venv/lib/python3.9/site-packages/tensorflow/python/eager/polymorphic_function/atomic_function.py:251\u001B[0m, in \u001B[0;36mAtomicFunction.call_flat\u001B[0;34m(self, *args)\u001B[0m\n\u001B[1;32m    249\u001B[0m \u001B[38;5;28;01mwith\u001B[39;00m record\u001B[38;5;241m.\u001B[39mstop_recording():\n\u001B[1;32m    250\u001B[0m   \u001B[38;5;28;01mif\u001B[39;00m \u001B[38;5;28mself\u001B[39m\u001B[38;5;241m.\u001B[39m_bound_context\u001B[38;5;241m.\u001B[39mexecuting_eagerly():\n\u001B[0;32m--> 251\u001B[0m     outputs \u001B[38;5;241m=\u001B[39m \u001B[38;5;28;43mself\u001B[39;49m\u001B[38;5;241;43m.\u001B[39;49m\u001B[43m_bound_context\u001B[49m\u001B[38;5;241;43m.\u001B[39;49m\u001B[43mcall_function\u001B[49m\u001B[43m(\u001B[49m\n\u001B[1;32m    252\u001B[0m \u001B[43m        \u001B[49m\u001B[38;5;28;43mself\u001B[39;49m\u001B[38;5;241;43m.\u001B[39;49m\u001B[43mname\u001B[49m\u001B[43m,\u001B[49m\n\u001B[1;32m    253\u001B[0m \u001B[43m        \u001B[49m\u001B[38;5;28;43mlist\u001B[39;49m\u001B[43m(\u001B[49m\u001B[43margs\u001B[49m\u001B[43m)\u001B[49m\u001B[43m,\u001B[49m\n\u001B[1;32m    254\u001B[0m \u001B[43m        \u001B[49m\u001B[38;5;28;43mlen\u001B[39;49m\u001B[43m(\u001B[49m\u001B[38;5;28;43mself\u001B[39;49m\u001B[38;5;241;43m.\u001B[39;49m\u001B[43mfunction_type\u001B[49m\u001B[38;5;241;43m.\u001B[39;49m\u001B[43mflat_outputs\u001B[49m\u001B[43m)\u001B[49m\u001B[43m,\u001B[49m\n\u001B[1;32m    255\u001B[0m \u001B[43m    \u001B[49m\u001B[43m)\u001B[49m\n\u001B[1;32m    256\u001B[0m   \u001B[38;5;28;01melse\u001B[39;00m:\n\u001B[1;32m    257\u001B[0m     outputs \u001B[38;5;241m=\u001B[39m make_call_op_in_graph(\n\u001B[1;32m    258\u001B[0m         \u001B[38;5;28mself\u001B[39m,\n\u001B[1;32m    259\u001B[0m         \u001B[38;5;28mlist\u001B[39m(args),\n\u001B[1;32m    260\u001B[0m         \u001B[38;5;28mself\u001B[39m\u001B[38;5;241m.\u001B[39m_bound_context\u001B[38;5;241m.\u001B[39mfunction_call_options\u001B[38;5;241m.\u001B[39mas_attrs(),\n\u001B[1;32m    261\u001B[0m     )\n",
      "File \u001B[0;32m~/coding/pycharm/handson_ml_--/.venv/lib/python3.9/site-packages/tensorflow/python/eager/context.py:1683\u001B[0m, in \u001B[0;36mContext.call_function\u001B[0;34m(self, name, tensor_inputs, num_outputs)\u001B[0m\n\u001B[1;32m   1681\u001B[0m cancellation_context \u001B[38;5;241m=\u001B[39m cancellation\u001B[38;5;241m.\u001B[39mcontext()\n\u001B[1;32m   1682\u001B[0m \u001B[38;5;28;01mif\u001B[39;00m cancellation_context \u001B[38;5;129;01mis\u001B[39;00m \u001B[38;5;28;01mNone\u001B[39;00m:\n\u001B[0;32m-> 1683\u001B[0m   outputs \u001B[38;5;241m=\u001B[39m \u001B[43mexecute\u001B[49m\u001B[38;5;241;43m.\u001B[39;49m\u001B[43mexecute\u001B[49m\u001B[43m(\u001B[49m\n\u001B[1;32m   1684\u001B[0m \u001B[43m      \u001B[49m\u001B[43mname\u001B[49m\u001B[38;5;241;43m.\u001B[39;49m\u001B[43mdecode\u001B[49m\u001B[43m(\u001B[49m\u001B[38;5;124;43m\"\u001B[39;49m\u001B[38;5;124;43mutf-8\u001B[39;49m\u001B[38;5;124;43m\"\u001B[39;49m\u001B[43m)\u001B[49m\u001B[43m,\u001B[49m\n\u001B[1;32m   1685\u001B[0m \u001B[43m      \u001B[49m\u001B[43mnum_outputs\u001B[49m\u001B[38;5;241;43m=\u001B[39;49m\u001B[43mnum_outputs\u001B[49m\u001B[43m,\u001B[49m\n\u001B[1;32m   1686\u001B[0m \u001B[43m      \u001B[49m\u001B[43minputs\u001B[49m\u001B[38;5;241;43m=\u001B[39;49m\u001B[43mtensor_inputs\u001B[49m\u001B[43m,\u001B[49m\n\u001B[1;32m   1687\u001B[0m \u001B[43m      \u001B[49m\u001B[43mattrs\u001B[49m\u001B[38;5;241;43m=\u001B[39;49m\u001B[43mattrs\u001B[49m\u001B[43m,\u001B[49m\n\u001B[1;32m   1688\u001B[0m \u001B[43m      \u001B[49m\u001B[43mctx\u001B[49m\u001B[38;5;241;43m=\u001B[39;49m\u001B[38;5;28;43mself\u001B[39;49m\u001B[43m,\u001B[49m\n\u001B[1;32m   1689\u001B[0m \u001B[43m  \u001B[49m\u001B[43m)\u001B[49m\n\u001B[1;32m   1690\u001B[0m \u001B[38;5;28;01melse\u001B[39;00m:\n\u001B[1;32m   1691\u001B[0m   outputs \u001B[38;5;241m=\u001B[39m execute\u001B[38;5;241m.\u001B[39mexecute_with_cancellation(\n\u001B[1;32m   1692\u001B[0m       name\u001B[38;5;241m.\u001B[39mdecode(\u001B[38;5;124m\"\u001B[39m\u001B[38;5;124mutf-8\u001B[39m\u001B[38;5;124m\"\u001B[39m),\n\u001B[1;32m   1693\u001B[0m       num_outputs\u001B[38;5;241m=\u001B[39mnum_outputs,\n\u001B[0;32m   (...)\u001B[0m\n\u001B[1;32m   1697\u001B[0m       cancellation_manager\u001B[38;5;241m=\u001B[39mcancellation_context,\n\u001B[1;32m   1698\u001B[0m   )\n",
      "File \u001B[0;32m~/coding/pycharm/handson_ml_--/.venv/lib/python3.9/site-packages/tensorflow/python/eager/execute.py:53\u001B[0m, in \u001B[0;36mquick_execute\u001B[0;34m(op_name, num_outputs, inputs, attrs, ctx, name)\u001B[0m\n\u001B[1;32m     51\u001B[0m \u001B[38;5;28;01mtry\u001B[39;00m:\n\u001B[1;32m     52\u001B[0m   ctx\u001B[38;5;241m.\u001B[39mensure_initialized()\n\u001B[0;32m---> 53\u001B[0m   tensors \u001B[38;5;241m=\u001B[39m \u001B[43mpywrap_tfe\u001B[49m\u001B[38;5;241;43m.\u001B[39;49m\u001B[43mTFE_Py_Execute\u001B[49m\u001B[43m(\u001B[49m\u001B[43mctx\u001B[49m\u001B[38;5;241;43m.\u001B[39;49m\u001B[43m_handle\u001B[49m\u001B[43m,\u001B[49m\u001B[43m \u001B[49m\u001B[43mdevice_name\u001B[49m\u001B[43m,\u001B[49m\u001B[43m \u001B[49m\u001B[43mop_name\u001B[49m\u001B[43m,\u001B[49m\n\u001B[1;32m     54\u001B[0m \u001B[43m                                      \u001B[49m\u001B[43minputs\u001B[49m\u001B[43m,\u001B[49m\u001B[43m \u001B[49m\u001B[43mattrs\u001B[49m\u001B[43m,\u001B[49m\u001B[43m \u001B[49m\u001B[43mnum_outputs\u001B[49m\u001B[43m)\u001B[49m\n\u001B[1;32m     55\u001B[0m \u001B[38;5;28;01mexcept\u001B[39;00m core\u001B[38;5;241m.\u001B[39m_NotOkStatusException \u001B[38;5;28;01mas\u001B[39;00m e:\n\u001B[1;32m     56\u001B[0m   \u001B[38;5;28;01mif\u001B[39;00m name \u001B[38;5;129;01mis\u001B[39;00m \u001B[38;5;129;01mnot\u001B[39;00m \u001B[38;5;28;01mNone\u001B[39;00m:\n",
      "\u001B[0;31mKeyboardInterrupt\u001B[0m: "
     ]
    }
   ],
   "execution_count": 23
  },
  {
   "metadata": {
    "ExecuteTime": {
     "end_time": "2025-02-21T21:25:20.846841Z",
     "start_time": "2025-02-21T20:49:52.852930Z"
    }
   },
   "cell_type": "code",
   "source": [
    "# --- 테스트셋 평가 ---\n",
    "test_loss, test_acc = model.evaluate(test_set)\n",
    "print(f\"Test Loss: {test_loss:.4f}, Test Accuracy: {test_acc:.4f}\")"
   ],
   "id": "4026dafb7ae43206",
   "outputs": [
    {
     "name": "stdout",
     "output_type": "stream",
     "text": [
      "98/98 [==============================] - 41s 417ms/step - loss: 0.5597 - accuracy: 0.7176\n",
      "Test Loss: 0.5597, Test Accuracy: 0.7176\n"
     ]
    }
   ],
   "execution_count": 50
  }
 ],
 "metadata": {
  "kernelspec": {
   "display_name": "Python 3",
   "language": "python",
   "name": "python3"
  },
  "language_info": {
   "codemirror_mode": {
    "name": "ipython",
    "version": 2
   },
   "file_extension": ".py",
   "mimetype": "text/x-python",
   "name": "python",
   "nbconvert_exporter": "python",
   "pygments_lexer": "ipython2",
   "version": "2.7.6"
  }
 },
 "nbformat": 4,
 "nbformat_minor": 5
}
